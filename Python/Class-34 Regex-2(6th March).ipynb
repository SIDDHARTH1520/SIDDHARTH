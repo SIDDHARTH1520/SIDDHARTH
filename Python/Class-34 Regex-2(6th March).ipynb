{
 "cells": [
  {
   "cell_type": "markdown",
   "id": "6dc3abd0",
   "metadata": {},
   "source": [
    "### Quantifiers \n",
    "\n",
    "- Quantifiers in regex specify how many instances or characters, group, or character class shoul be matched \n",
    "- They allow us to specify patterns such as 'zero or more', 'one or more' or 'zero or one' or specific numbers of repetitions.\n",
    "\n",
    "    - {2} - It matches two repetition of a pattern\n",
    "    - {2,3} - it will match the repetition in the range of 2 and 3\n",
    "    - ? - it means 1 or no repetition (at most 1)\n",
    "    - (*) - it means no repetition or n all repetition (all repertitions)\n",
    "    - (+) - it means 1 or more than repetition (at least 1)"
   ]
  },
  {
   "cell_type": "code",
   "execution_count": 2,
   "id": "5f6d8161",
   "metadata": {},
   "outputs": [],
   "source": [
    "import re"
   ]
  },
  {
   "cell_type": "code",
   "execution_count": 3,
   "id": "03f4278e",
   "metadata": {},
   "outputs": [
    {
     "name": "stdout",
     "output_type": "stream",
     "text": [
      "<re.Match object; span=(0, 2), match='Jo'>\n",
      "<re.Match object; span=(4, 6), match='Am'>\n",
      "<re.Match object; span=(6, 8), match='it'>\n",
      "<re.Match object; span=(9, 11), match='go'>\n",
      "<re.Match object; span=(12, 14), match='ha'>\n",
      "<re.Match object; span=(14, 16), match='pp'>\n",
      "<re.Match object; span=(18, 20), match='to'>\n",
      "<re.Match object; span=(21, 23), match='sl'>\n",
      "<re.Match object; span=(23, 25), match='ee'>\n"
     ]
    }
   ],
   "source": [
    "#Match all the words having length 2\n",
    "\n",
    "text = 'Joy Amit go happy to sleep'\n",
    "\n",
    "pat = r'\\w{2}' \n",
    "\n",
    "x = re.finditer(pat, text)\n",
    "\n",
    "for i in x:\n",
    "    print(i)"
   ]
  },
  {
   "cell_type": "code",
   "execution_count": 4,
   "id": "7bd41ccc",
   "metadata": {},
   "outputs": [
    {
     "name": "stdout",
     "output_type": "stream",
     "text": [
      "<re.Match object; span=(0, 2), match='Jo'>\n",
      "<re.Match object; span=(4, 6), match='Am'>\n",
      "<re.Match object; span=(6, 8), match='it'>\n",
      "<re.Match object; span=(9, 11), match='go'>\n",
      "<re.Match object; span=(12, 14), match='ha'>\n",
      "<re.Match object; span=(14, 16), match='pp'>\n",
      "<re.Match object; span=(18, 20), match='to'>\n",
      "<re.Match object; span=(21, 23), match='sl'>\n",
      "<re.Match object; span=(23, 25), match='ee'>\n"
     ]
    }
   ],
   "source": [
    "#Match all the words having length 2\n",
    "\n",
    "text = 'Joy Amit go happy to sleep'\n",
    "\n",
    "pat = r'[A-Za-z]{2}' \n",
    "\n",
    "x = re.finditer(pat, text)\n",
    "\n",
    "for i in x:\n",
    "    print(i)"
   ]
  },
  {
   "cell_type": "code",
   "execution_count": 5,
   "id": "8b6d2f67",
   "metadata": {},
   "outputs": [
    {
     "name": "stdout",
     "output_type": "stream",
     "text": [
      "<re.Match object; span=(9, 11), match='go'>\n",
      "<re.Match object; span=(18, 20), match='to'>\n"
     ]
    }
   ],
   "source": [
    "# Match all the words having length 2\n",
    "\n",
    "text = 'Joy Amit go happy to sleep'\n",
    "\n",
    "pat = r'\\b[A-Za-z]{2}\\b' \n",
    "\n",
    "x = re.finditer(pat, text)\n",
    "\n",
    "for i in x:\n",
    "    print(i)"
   ]
  },
  {
   "cell_type": "code",
   "execution_count": 6,
   "id": "a665eaa0",
   "metadata": {},
   "outputs": [
    {
     "name": "stdout",
     "output_type": "stream",
     "text": [
      "<re.Match object; span=(9, 11), match='go'>\n",
      "<re.Match object; span=(18, 20), match='to'>\n"
     ]
    }
   ],
   "source": [
    "# Match all the words having length 2\n",
    "\n",
    "text = 'Joy Amit go happy to sleep'\n",
    "\n",
    "pat = r'\\b[a-z]{2}\\b' \n",
    "\n",
    "x = re.finditer(pat, text)\n",
    "\n",
    "for i in x:\n",
    "    print(i)"
   ]
  },
  {
   "cell_type": "code",
   "execution_count": 7,
   "id": "bb7d6922",
   "metadata": {},
   "outputs": [
    {
     "name": "stdout",
     "output_type": "stream",
     "text": [
      "<re.Match object; span=(0, 3), match='Joy'>\n"
     ]
    }
   ],
   "source": [
    "text = 'Joy Amit go happy to sleep'\n",
    "\n",
    "pat = r'\\b[A-za-z]{3}\\b' \n",
    "\n",
    "x = re.finditer(pat, text)\n",
    "\n",
    "for i in x:\n",
    "    print(i)"
   ]
  },
  {
   "cell_type": "code",
   "execution_count": 8,
   "id": "343df58a",
   "metadata": {},
   "outputs": [
    {
     "name": "stdout",
     "output_type": "stream",
     "text": [
      "<re.Match object; span=(12, 17), match='happy'>\n",
      "<re.Match object; span=(21, 26), match='sleep'>\n"
     ]
    }
   ],
   "source": [
    "text = 'Joy Amit go happy to sleep'\n",
    "\n",
    "pat = r'\\b[A-za-z]{5}\\b' \n",
    "\n",
    "x = re.finditer(pat, text)\n",
    "\n",
    "for i in x:\n",
    "    print(i)"
   ]
  },
  {
   "cell_type": "code",
   "execution_count": 9,
   "id": "7b9f87a2",
   "metadata": {},
   "outputs": [
    {
     "name": "stdout",
     "output_type": "stream",
     "text": [
      "<callable_iterator object at 0x0000027B58CE00A0>\n"
     ]
    }
   ],
   "source": [
    "text = 'Joy Amit go happy to sleep'\n",
    "\n",
    "pat = r'\\b[0-9]{5}\\b' \n",
    "\n",
    "x = re.finditer(pat, text)\n",
    "print(x)\n",
    "\n",
    "for i in x:\n",
    "    print(i)"
   ]
  },
  {
   "cell_type": "code",
   "execution_count": 11,
   "id": "83667b88",
   "metadata": {},
   "outputs": [
    {
     "name": "stdout",
     "output_type": "stream",
     "text": [
      "<re.Match object; span=(0, 2), match='12'>\n",
      "<re.Match object; span=(3, 7), match='5467'>\n",
      "<re.Match object; span=(8, 12), match='2287'>\n",
      "<re.Match object; span=(15, 18), match='456'>\n",
      "<re.Match object; span=(21, 23), match='32'>\n",
      "<re.Match object; span=(31, 36), match='88997'>\n",
      "<re.Match object; span=(36, 38), match='85'>\n"
     ]
    }
   ],
   "source": [
    "text = '12 5467 2287 Dt456ab 32# a1 9$ 8899785'\n",
    "\n",
    "pat = r'[0-9]{2,5}'\n",
    "\n",
    "x = re.finditer(pat, text)\n",
    "\n",
    "for i in x:\n",
    "    print(i)"
   ]
  },
  {
   "cell_type": "code",
   "execution_count": 14,
   "id": "14010bc3",
   "metadata": {},
   "outputs": [
    {
     "name": "stdout",
     "output_type": "stream",
     "text": [
      "<re.Match object; span=(0, 1), match='1'>\n",
      "<re.Match object; span=(1, 2), match='2'>\n",
      "<re.Match object; span=(2, 2), match=''>\n",
      "<re.Match object; span=(3, 4), match='5'>\n",
      "<re.Match object; span=(4, 5), match='4'>\n",
      "<re.Match object; span=(5, 6), match='6'>\n",
      "<re.Match object; span=(6, 7), match='7'>\n",
      "<re.Match object; span=(7, 7), match=''>\n",
      "<re.Match object; span=(8, 9), match='2'>\n",
      "<re.Match object; span=(9, 10), match='2'>\n",
      "<re.Match object; span=(10, 11), match='8'>\n",
      "<re.Match object; span=(11, 12), match='7'>\n",
      "<re.Match object; span=(12, 12), match=''>\n",
      "<re.Match object; span=(13, 13), match=''>\n",
      "<re.Match object; span=(14, 14), match=''>\n",
      "<re.Match object; span=(15, 16), match='4'>\n",
      "<re.Match object; span=(16, 17), match='5'>\n",
      "<re.Match object; span=(17, 18), match='6'>\n",
      "<re.Match object; span=(18, 18), match=''>\n",
      "<re.Match object; span=(19, 19), match=''>\n",
      "<re.Match object; span=(20, 20), match=''>\n",
      "<re.Match object; span=(21, 22), match='3'>\n",
      "<re.Match object; span=(22, 23), match='2'>\n",
      "<re.Match object; span=(23, 23), match=''>\n",
      "<re.Match object; span=(24, 24), match=''>\n",
      "<re.Match object; span=(25, 25), match=''>\n",
      "<re.Match object; span=(26, 27), match='1'>\n",
      "<re.Match object; span=(27, 27), match=''>\n",
      "<re.Match object; span=(28, 29), match='9'>\n",
      "<re.Match object; span=(29, 29), match=''>\n",
      "<re.Match object; span=(30, 30), match=''>\n",
      "<re.Match object; span=(31, 32), match='8'>\n",
      "<re.Match object; span=(32, 33), match='8'>\n",
      "<re.Match object; span=(33, 34), match='9'>\n",
      "<re.Match object; span=(34, 35), match='9'>\n",
      "<re.Match object; span=(35, 36), match='7'>\n",
      "<re.Match object; span=(36, 37), match='8'>\n",
      "<re.Match object; span=(37, 38), match='5'>\n",
      "<re.Match object; span=(38, 38), match=''>\n"
     ]
    }
   ],
   "source": [
    "text = '12 5467 2287 Dt456ab 32# a1 9$ 8899785'\n",
    "\n",
    "pat = r'[0-9]?'\n",
    "\n",
    "x = re.finditer(pat, text)\n",
    "\n",
    "for i in x:\n",
    "    print(i)"
   ]
  },
  {
   "cell_type": "code",
   "execution_count": 13,
   "id": "90002ea1",
   "metadata": {},
   "outputs": [
    {
     "name": "stdout",
     "output_type": "stream",
     "text": [
      "<re.Match object; span=(0, 2), match='12'>\n",
      "<re.Match object; span=(2, 2), match=''>\n",
      "<re.Match object; span=(3, 7), match='5467'>\n",
      "<re.Match object; span=(7, 7), match=''>\n",
      "<re.Match object; span=(8, 12), match='2287'>\n",
      "<re.Match object; span=(12, 12), match=''>\n",
      "<re.Match object; span=(13, 13), match=''>\n",
      "<re.Match object; span=(14, 14), match=''>\n",
      "<re.Match object; span=(15, 18), match='456'>\n",
      "<re.Match object; span=(18, 18), match=''>\n",
      "<re.Match object; span=(19, 19), match=''>\n",
      "<re.Match object; span=(20, 20), match=''>\n",
      "<re.Match object; span=(21, 23), match='32'>\n",
      "<re.Match object; span=(23, 23), match=''>\n",
      "<re.Match object; span=(24, 24), match=''>\n",
      "<re.Match object; span=(25, 25), match=''>\n",
      "<re.Match object; span=(26, 27), match='1'>\n",
      "<re.Match object; span=(27, 27), match=''>\n",
      "<re.Match object; span=(28, 29), match='9'>\n",
      "<re.Match object; span=(29, 29), match=''>\n",
      "<re.Match object; span=(30, 30), match=''>\n",
      "<re.Match object; span=(31, 38), match='8899785'>\n",
      "<re.Match object; span=(38, 38), match=''>\n"
     ]
    }
   ],
   "source": [
    "text = '12 5467 2287 Dt456ab 32# a1 9$ 8899785'\n",
    "\n",
    "pat = r'[0-9]*'\n",
    "\n",
    "x = re.finditer(pat, text)\n",
    "\n",
    "for i in x:\n",
    "    print(i)"
   ]
  },
  {
   "cell_type": "code",
   "execution_count": 15,
   "id": "b397b49f",
   "metadata": {},
   "outputs": [
    {
     "name": "stdout",
     "output_type": "stream",
     "text": [
      "<re.Match object; span=(0, 0), match=''>\n",
      "<re.Match object; span=(1, 1), match=''>\n",
      "<re.Match object; span=(2, 2), match=''>\n",
      "<re.Match object; span=(3, 3), match=''>\n",
      "<re.Match object; span=(4, 4), match=''>\n",
      "<re.Match object; span=(5, 5), match=''>\n",
      "<re.Match object; span=(6, 6), match=''>\n",
      "<re.Match object; span=(7, 7), match=''>\n",
      "<re.Match object; span=(8, 8), match=''>\n",
      "<re.Match object; span=(9, 9), match=''>\n",
      "<re.Match object; span=(10, 10), match=''>\n",
      "<re.Match object; span=(11, 11), match=''>\n",
      "<re.Match object; span=(12, 12), match=''>\n",
      "<re.Match object; span=(13, 15), match='Dt'>\n",
      "<re.Match object; span=(15, 15), match=''>\n",
      "<re.Match object; span=(16, 16), match=''>\n",
      "<re.Match object; span=(17, 17), match=''>\n",
      "<re.Match object; span=(18, 20), match='ab'>\n",
      "<re.Match object; span=(20, 20), match=''>\n",
      "<re.Match object; span=(21, 21), match=''>\n",
      "<re.Match object; span=(22, 22), match=''>\n",
      "<re.Match object; span=(23, 23), match=''>\n",
      "<re.Match object; span=(24, 24), match=''>\n",
      "<re.Match object; span=(25, 26), match='a'>\n",
      "<re.Match object; span=(26, 26), match=''>\n",
      "<re.Match object; span=(27, 27), match=''>\n",
      "<re.Match object; span=(28, 28), match=''>\n",
      "<re.Match object; span=(29, 29), match=''>\n",
      "<re.Match object; span=(30, 30), match=''>\n",
      "<re.Match object; span=(31, 31), match=''>\n",
      "<re.Match object; span=(32, 32), match=''>\n",
      "<re.Match object; span=(33, 33), match=''>\n",
      "<re.Match object; span=(34, 34), match=''>\n",
      "<re.Match object; span=(35, 35), match=''>\n",
      "<re.Match object; span=(36, 36), match=''>\n",
      "<re.Match object; span=(37, 37), match=''>\n",
      "<re.Match object; span=(38, 38), match=''>\n"
     ]
    }
   ],
   "source": [
    "text = '12 5467 2287 Dt456ab 32# a1 9$ 8899785'\n",
    "\n",
    "pat = r'[A-za-z]*'\n",
    "\n",
    "x = re.finditer(pat, text)\n",
    "\n",
    "for i in x:\n",
    "    print(i)"
   ]
  },
  {
   "cell_type": "code",
   "execution_count": 16,
   "id": "4257faf0",
   "metadata": {},
   "outputs": [
    {
     "name": "stdout",
     "output_type": "stream",
     "text": [
      "<re.Match object; span=(0, 0), match=''>\n",
      "<re.Match object; span=(1, 1), match=''>\n",
      "<re.Match object; span=(2, 2), match=''>\n",
      "<re.Match object; span=(3, 3), match=''>\n",
      "<re.Match object; span=(4, 4), match=''>\n",
      "<re.Match object; span=(5, 5), match=''>\n",
      "<re.Match object; span=(6, 6), match=''>\n",
      "<re.Match object; span=(7, 7), match=''>\n",
      "<re.Match object; span=(8, 8), match=''>\n",
      "<re.Match object; span=(9, 9), match=''>\n",
      "<re.Match object; span=(10, 10), match=''>\n",
      "<re.Match object; span=(11, 11), match=''>\n",
      "<re.Match object; span=(12, 12), match=''>\n",
      "<re.Match object; span=(13, 14), match='D'>\n",
      "<re.Match object; span=(14, 15), match='t'>\n",
      "<re.Match object; span=(15, 15), match=''>\n",
      "<re.Match object; span=(16, 16), match=''>\n",
      "<re.Match object; span=(17, 17), match=''>\n",
      "<re.Match object; span=(18, 19), match='a'>\n",
      "<re.Match object; span=(19, 20), match='b'>\n",
      "<re.Match object; span=(20, 20), match=''>\n",
      "<re.Match object; span=(21, 21), match=''>\n",
      "<re.Match object; span=(22, 22), match=''>\n",
      "<re.Match object; span=(23, 23), match=''>\n",
      "<re.Match object; span=(24, 24), match=''>\n",
      "<re.Match object; span=(25, 26), match='a'>\n",
      "<re.Match object; span=(26, 26), match=''>\n",
      "<re.Match object; span=(27, 27), match=''>\n",
      "<re.Match object; span=(28, 28), match=''>\n",
      "<re.Match object; span=(29, 29), match=''>\n",
      "<re.Match object; span=(30, 30), match=''>\n",
      "<re.Match object; span=(31, 31), match=''>\n",
      "<re.Match object; span=(32, 32), match=''>\n",
      "<re.Match object; span=(33, 33), match=''>\n",
      "<re.Match object; span=(34, 34), match=''>\n",
      "<re.Match object; span=(35, 35), match=''>\n",
      "<re.Match object; span=(36, 36), match=''>\n",
      "<re.Match object; span=(37, 37), match=''>\n",
      "<re.Match object; span=(38, 38), match=''>\n"
     ]
    }
   ],
   "source": [
    "text = '12 5467 2287 Dt456ab 32# a1 9$ 8899785'\n",
    "\n",
    "pat = r'[A-za-z]?'\n",
    "\n",
    "x = re.finditer(pat, text)\n",
    "\n",
    "for i in x:\n",
    "    print(i)"
   ]
  },
  {
   "cell_type": "code",
   "execution_count": 17,
   "id": "aec31eb2",
   "metadata": {},
   "outputs": [
    {
     "name": "stdout",
     "output_type": "stream",
     "text": [
      "<re.Match object; span=(0, 2), match='12'>\n",
      "<re.Match object; span=(3, 7), match='5467'>\n",
      "<re.Match object; span=(8, 12), match='2287'>\n",
      "<re.Match object; span=(15, 18), match='456'>\n",
      "<re.Match object; span=(21, 23), match='32'>\n",
      "<re.Match object; span=(26, 27), match='1'>\n",
      "<re.Match object; span=(28, 29), match='9'>\n",
      "<re.Match object; span=(31, 38), match='8899785'>\n"
     ]
    }
   ],
   "source": [
    "text = '12 5467 2287 Dt456ab 32# a1 9$ 8899785'\n",
    "\n",
    "pat = r'[0-9]+'\n",
    "\n",
    "x = re.finditer(pat, text)\n",
    "\n",
    "for i in x:\n",
    "    print(i)"
   ]
  },
  {
   "cell_type": "markdown",
   "id": "55873a75",
   "metadata": {},
   "source": [
    "- ? - It returns only one repetition of the pattern, if the pattern is found \n",
    "- ? - it returns an empty string (''), if the pattern is not found\n",
    "- (*) - it returns all the repetition of the pattern, if the pattern is found\n",
    "- (*) - It returns an empty string('', if the patten is not found)\n",
    "- (+) - It returns 1 or more repetition, if the pattern is found\n",
    "- (+) - it returns and empty string(''), if the pattern is not found\n"
   ]
  },
  {
   "cell_type": "code",
   "execution_count": 19,
   "id": "5863d6f1",
   "metadata": {},
   "outputs": [
    {
     "name": "stdout",
     "output_type": "stream",
     "text": [
      "<re.Match object; span=(0, 4), match='Amit'>\n",
      "<re.Match object; span=(8, 9), match='A'>\n",
      "<re.Match object; span=(20, 22), match='He'>\n",
      "<re.Match object; span=(38, 44), match='Ramesh'>\n"
     ]
    }
   ],
   "source": [
    "text = 'Amit is A good man, He is a friend of Ramesh'\n",
    "\n",
    "pat = r'[A-Z]([a-z]*)' \n",
    "\n",
    "x = re.finditer(pat, text)\n",
    "\n",
    "for i in x:\n",
    "    print(i)"
   ]
  },
  {
   "cell_type": "code",
   "execution_count": 24,
   "id": "73db20e8",
   "metadata": {},
   "outputs": [
    {
     "name": "stdout",
     "output_type": "stream",
     "text": [
      "<re.Match object; span=(0, 4), match='Amit'>\n",
      "<re.Match object; span=(20, 22), match='He'>\n",
      "<re.Match object; span=(38, 44), match='Ramesh'>\n"
     ]
    }
   ],
   "source": [
    "text = 'Amit is A good man, He is a friend of Ramesh'\n",
    "\n",
    "pat = r'[A-Z]([a-z]+)' \n",
    "\n",
    "x = re.finditer(pat, text)\n",
    "\n",
    "for i in x:\n",
    "    print(i)"
   ]
  },
  {
   "cell_type": "code",
   "execution_count": null,
   "id": "165f93ea",
   "metadata": {},
   "outputs": [],
   "source": [
    "A+mit\n",
    "H+e\n",
    "R+amesh"
   ]
  },
  {
   "cell_type": "markdown",
   "id": "b6ebe6ef",
   "metadata": {},
   "source": [
    "#### Matching the metacharacter in the string"
   ]
  },
  {
   "cell_type": "code",
   "execution_count": 30,
   "id": "902c58ad",
   "metadata": {},
   "outputs": [
    {
     "name": "stdout",
     "output_type": "stream",
     "text": [
      "<re.Match object; span=(1, 2), match='$'>\n",
      "<re.Match object; span=(3, 4), match='$'>\n",
      "<re.Match object; span=(5, 6), match='$'>\n",
      "<re.Match object; span=(7, 8), match='$'>\n",
      "<re.Match object; span=(9, 10), match='$'>\n",
      "<re.Match object; span=(11, 12), match='$'>\n",
      "<re.Match object; span=(13, 14), match='$'>\n",
      "<re.Match object; span=(18, 19), match='$'>\n"
     ]
    }
   ],
   "source": [
    "text = 'a$b$c$d$1$4$2$2!@#$%^'\n",
    "\n",
    "pat = r'\\$'\n",
    "\n",
    "x = re.finditer(pat, text)\n",
    "\n",
    "for i in x:\n",
    "    print(i)"
   ]
  },
  {
   "cell_type": "code",
   "execution_count": 31,
   "id": "26973c61",
   "metadata": {},
   "outputs": [
    {
     "name": "stdout",
     "output_type": "stream",
     "text": [
      "<re.Match object; span=(1, 2), match='$'>\n",
      "<re.Match object; span=(3, 4), match='$'>\n",
      "<re.Match object; span=(5, 6), match='$'>\n",
      "<re.Match object; span=(7, 8), match='$'>\n",
      "<re.Match object; span=(9, 10), match='$'>\n",
      "<re.Match object; span=(11, 12), match='$'>\n",
      "<re.Match object; span=(13, 14), match='$'>\n",
      "<re.Match object; span=(18, 19), match='$'>\n"
     ]
    }
   ],
   "source": [
    "text = 'a$b$c$d$1$4$2$2!@#$%^'\n",
    "\n",
    "pat = r'[$]'\n",
    "\n",
    "x = re.finditer(pat, text)\n",
    "\n",
    "for i in x:\n",
    "    print(i)"
   ]
  },
  {
   "cell_type": "code",
   "execution_count": 32,
   "id": "c123c6cb",
   "metadata": {},
   "outputs": [
    {
     "name": "stdout",
     "output_type": "stream",
     "text": [
      "<re.Match object; span=(0, 0), match=''>\n"
     ]
    }
   ],
   "source": [
    "text ='a^bc#^422^bsjfblj^ank^jshf^jahkj'\n",
    "\n",
    "pat = r'^'\n",
    "\n",
    "x = re.finditer(pat, text)\n",
    "\n",
    "for i in x:\n",
    "    print(i)\n"
   ]
  },
  {
   "cell_type": "code",
   "execution_count": 33,
   "id": "df4f39c8",
   "metadata": {},
   "outputs": [
    {
     "name": "stdout",
     "output_type": "stream",
     "text": [
      "<re.Match object; span=(1, 2), match='^'>\n",
      "<re.Match object; span=(5, 6), match='^'>\n",
      "<re.Match object; span=(9, 10), match='^'>\n",
      "<re.Match object; span=(17, 18), match='^'>\n",
      "<re.Match object; span=(21, 22), match='^'>\n",
      "<re.Match object; span=(26, 27), match='^'>\n"
     ]
    }
   ],
   "source": [
    "text ='a^bc#^422^bsjfblj^ank^jshf^jahkj'\n",
    "\n",
    "pat = r'\\^'\n",
    "\n",
    "x = re.finditer(pat, text)\n",
    "\n",
    "for i in x:\n",
    "    print(i)\n"
   ]
  },
  {
   "cell_type": "code",
   "execution_count": 36,
   "id": "0032bd22",
   "metadata": {},
   "outputs": [
    {
     "ename": "error",
     "evalue": "unterminated character set at position 0",
     "output_type": "error",
     "traceback": [
      "\u001b[1;31m---------------------------------------------------------------------------\u001b[0m",
      "\u001b[1;31merror\u001b[0m                                     Traceback (most recent call last)",
      "Cell \u001b[1;32mIn[36], line 5\u001b[0m\n\u001b[0;32m      1\u001b[0m text \u001b[38;5;241m=\u001b[39m\u001b[38;5;124m'\u001b[39m\u001b[38;5;124ma^bc#^422^bsjfblj^ank^jshf^jahkj\u001b[39m\u001b[38;5;124m'\u001b[39m\n\u001b[0;32m      3\u001b[0m pat \u001b[38;5;241m=\u001b[39m \u001b[38;5;124mr\u001b[39m\u001b[38;5;124m'\u001b[39m\u001b[38;5;124m[^]\u001b[39m\u001b[38;5;124m'\u001b[39m\n\u001b[1;32m----> 5\u001b[0m x \u001b[38;5;241m=\u001b[39m re\u001b[38;5;241m.\u001b[39mfinditer(pat, text)\n\u001b[0;32m      7\u001b[0m \u001b[38;5;28;01mfor\u001b[39;00m i \u001b[38;5;129;01min\u001b[39;00m x:\n\u001b[0;32m      8\u001b[0m     \u001b[38;5;28mprint\u001b[39m(i)\n",
      "File \u001b[1;32m~\\anaconda3\\Lib\\re\\__init__.py:223\u001b[0m, in \u001b[0;36mfinditer\u001b[1;34m(pattern, string, flags)\u001b[0m\n\u001b[0;32m    218\u001b[0m \u001b[38;5;28;01mdef\u001b[39;00m \u001b[38;5;21mfinditer\u001b[39m(pattern, string, flags\u001b[38;5;241m=\u001b[39m\u001b[38;5;241m0\u001b[39m):\n\u001b[0;32m    219\u001b[0m \u001b[38;5;250m    \u001b[39m\u001b[38;5;124;03m\"\"\"Return an iterator over all non-overlapping matches in the\u001b[39;00m\n\u001b[0;32m    220\u001b[0m \u001b[38;5;124;03m    string.  For each match, the iterator returns a Match object.\u001b[39;00m\n\u001b[0;32m    221\u001b[0m \n\u001b[0;32m    222\u001b[0m \u001b[38;5;124;03m    Empty matches are included in the result.\"\"\"\u001b[39;00m\n\u001b[1;32m--> 223\u001b[0m     \u001b[38;5;28;01mreturn\u001b[39;00m _compile(pattern, flags)\u001b[38;5;241m.\u001b[39mfinditer(string)\n",
      "File \u001b[1;32m~\\anaconda3\\Lib\\re\\__init__.py:294\u001b[0m, in \u001b[0;36m_compile\u001b[1;34m(pattern, flags)\u001b[0m\n\u001b[0;32m    288\u001b[0m     \u001b[38;5;28;01mimport\u001b[39;00m \u001b[38;5;21;01mwarnings\u001b[39;00m\n\u001b[0;32m    289\u001b[0m     warnings\u001b[38;5;241m.\u001b[39mwarn(\u001b[38;5;124m\"\u001b[39m\u001b[38;5;124mThe re.TEMPLATE/re.T flag is deprecated \u001b[39m\u001b[38;5;124m\"\u001b[39m\n\u001b[0;32m    290\u001b[0m               \u001b[38;5;124m\"\u001b[39m\u001b[38;5;124mas it is an undocumented flag \u001b[39m\u001b[38;5;124m\"\u001b[39m\n\u001b[0;32m    291\u001b[0m               \u001b[38;5;124m\"\u001b[39m\u001b[38;5;124mwithout an obvious purpose. \u001b[39m\u001b[38;5;124m\"\u001b[39m\n\u001b[0;32m    292\u001b[0m               \u001b[38;5;124m\"\u001b[39m\u001b[38;5;124mDon\u001b[39m\u001b[38;5;124m'\u001b[39m\u001b[38;5;124mt use it.\u001b[39m\u001b[38;5;124m\"\u001b[39m,\n\u001b[0;32m    293\u001b[0m               \u001b[38;5;167;01mDeprecationWarning\u001b[39;00m)\n\u001b[1;32m--> 294\u001b[0m p \u001b[38;5;241m=\u001b[39m _compiler\u001b[38;5;241m.\u001b[39mcompile(pattern, flags)\n\u001b[0;32m    295\u001b[0m \u001b[38;5;28;01mif\u001b[39;00m \u001b[38;5;129;01mnot\u001b[39;00m (flags \u001b[38;5;241m&\u001b[39m DEBUG):\n\u001b[0;32m    296\u001b[0m     \u001b[38;5;28;01mif\u001b[39;00m \u001b[38;5;28mlen\u001b[39m(_cache) \u001b[38;5;241m>\u001b[39m\u001b[38;5;241m=\u001b[39m _MAXCACHE:\n\u001b[0;32m    297\u001b[0m         \u001b[38;5;66;03m# Drop the oldest item\u001b[39;00m\n",
      "File \u001b[1;32m~\\anaconda3\\Lib\\re\\_compiler.py:743\u001b[0m, in \u001b[0;36mcompile\u001b[1;34m(p, flags)\u001b[0m\n\u001b[0;32m    741\u001b[0m \u001b[38;5;28;01mif\u001b[39;00m isstring(p):\n\u001b[0;32m    742\u001b[0m     pattern \u001b[38;5;241m=\u001b[39m p\n\u001b[1;32m--> 743\u001b[0m     p \u001b[38;5;241m=\u001b[39m _parser\u001b[38;5;241m.\u001b[39mparse(p, flags)\n\u001b[0;32m    744\u001b[0m \u001b[38;5;28;01melse\u001b[39;00m:\n\u001b[0;32m    745\u001b[0m     pattern \u001b[38;5;241m=\u001b[39m \u001b[38;5;28;01mNone\u001b[39;00m\n",
      "File \u001b[1;32m~\\anaconda3\\Lib\\re\\_parser.py:982\u001b[0m, in \u001b[0;36mparse\u001b[1;34m(str, flags, state)\u001b[0m\n\u001b[0;32m    979\u001b[0m state\u001b[38;5;241m.\u001b[39mflags \u001b[38;5;241m=\u001b[39m flags\n\u001b[0;32m    980\u001b[0m state\u001b[38;5;241m.\u001b[39mstr \u001b[38;5;241m=\u001b[39m \u001b[38;5;28mstr\u001b[39m\n\u001b[1;32m--> 982\u001b[0m p \u001b[38;5;241m=\u001b[39m _parse_sub(source, state, flags \u001b[38;5;241m&\u001b[39m SRE_FLAG_VERBOSE, \u001b[38;5;241m0\u001b[39m)\n\u001b[0;32m    983\u001b[0m p\u001b[38;5;241m.\u001b[39mstate\u001b[38;5;241m.\u001b[39mflags \u001b[38;5;241m=\u001b[39m fix_flags(\u001b[38;5;28mstr\u001b[39m, p\u001b[38;5;241m.\u001b[39mstate\u001b[38;5;241m.\u001b[39mflags)\n\u001b[0;32m    985\u001b[0m \u001b[38;5;28;01mif\u001b[39;00m source\u001b[38;5;241m.\u001b[39mnext \u001b[38;5;129;01mis\u001b[39;00m \u001b[38;5;129;01mnot\u001b[39;00m \u001b[38;5;28;01mNone\u001b[39;00m:\n",
      "File \u001b[1;32m~\\anaconda3\\Lib\\re\\_parser.py:457\u001b[0m, in \u001b[0;36m_parse_sub\u001b[1;34m(source, state, verbose, nested)\u001b[0m\n\u001b[0;32m    455\u001b[0m start \u001b[38;5;241m=\u001b[39m source\u001b[38;5;241m.\u001b[39mtell()\n\u001b[0;32m    456\u001b[0m \u001b[38;5;28;01mwhile\u001b[39;00m \u001b[38;5;28;01mTrue\u001b[39;00m:\n\u001b[1;32m--> 457\u001b[0m     itemsappend(_parse(source, state, verbose, nested \u001b[38;5;241m+\u001b[39m \u001b[38;5;241m1\u001b[39m,\n\u001b[0;32m    458\u001b[0m                        \u001b[38;5;129;01mnot\u001b[39;00m nested \u001b[38;5;129;01mand\u001b[39;00m \u001b[38;5;129;01mnot\u001b[39;00m items))\n\u001b[0;32m    459\u001b[0m     \u001b[38;5;28;01mif\u001b[39;00m \u001b[38;5;129;01mnot\u001b[39;00m sourcematch(\u001b[38;5;124m\"\u001b[39m\u001b[38;5;124m|\u001b[39m\u001b[38;5;124m\"\u001b[39m):\n\u001b[0;32m    460\u001b[0m         \u001b[38;5;28;01mbreak\u001b[39;00m\n",
      "File \u001b[1;32m~\\anaconda3\\Lib\\re\\_parser.py:565\u001b[0m, in \u001b[0;36m_parse\u001b[1;34m(source, state, verbose, nested, first)\u001b[0m\n\u001b[0;32m    563\u001b[0m this \u001b[38;5;241m=\u001b[39m sourceget()\n\u001b[0;32m    564\u001b[0m \u001b[38;5;28;01mif\u001b[39;00m this \u001b[38;5;129;01mis\u001b[39;00m \u001b[38;5;28;01mNone\u001b[39;00m:\n\u001b[1;32m--> 565\u001b[0m     \u001b[38;5;28;01mraise\u001b[39;00m source\u001b[38;5;241m.\u001b[39merror(\u001b[38;5;124m\"\u001b[39m\u001b[38;5;124munterminated character set\u001b[39m\u001b[38;5;124m\"\u001b[39m,\n\u001b[0;32m    566\u001b[0m                        source\u001b[38;5;241m.\u001b[39mtell() \u001b[38;5;241m-\u001b[39m here)\n\u001b[0;32m    567\u001b[0m \u001b[38;5;28;01mif\u001b[39;00m this \u001b[38;5;241m==\u001b[39m \u001b[38;5;124m\"\u001b[39m\u001b[38;5;124m]\u001b[39m\u001b[38;5;124m\"\u001b[39m \u001b[38;5;129;01mand\u001b[39;00m \u001b[38;5;28mset\u001b[39m:\n\u001b[0;32m    568\u001b[0m     \u001b[38;5;28;01mbreak\u001b[39;00m\n",
      "\u001b[1;31merror\u001b[0m: unterminated character set at position 0"
     ]
    }
   ],
   "source": [
    "text ='a^bc#^422^bsjfblj^ank^jshf^jahkj'\n",
    "\n",
    "pat = r'[^]'\n",
    "\n",
    "x = re.finditer(pat, text)\n",
    "\n",
    "for i in x:\n",
    "    print(i)\n"
   ]
  },
  {
   "cell_type": "code",
   "execution_count": 37,
   "id": "bd4d1ba0",
   "metadata": {},
   "outputs": [
    {
     "name": "stdout",
     "output_type": "stream",
     "text": [
      "<re.Match object; span=(1, 2), match='.'>\n",
      "<re.Match object; span=(5, 6), match='.'>\n",
      "<re.Match object; span=(12, 13), match='.'>\n",
      "<re.Match object; span=(18, 19), match='.'>\n",
      "<re.Match object; span=(21, 22), match='.'>\n",
      "<re.Match object; span=(27, 28), match='.'>\n",
      "<re.Match object; span=(33, 34), match='.'>\n",
      "<re.Match object; span=(38, 39), match='.'>\n"
     ]
    }
   ],
   "source": [
    "text ='a.^bc.#^422^.bsjfb.lj.^ank^.jshf^.jahk.j'\n",
    "\n",
    "pat = r'[.]'\n",
    "\n",
    "x = re.finditer(pat, text)\n",
    "\n",
    "for i in x:\n",
    "    print(i)\n"
   ]
  },
  {
   "cell_type": "code",
   "execution_count": 38,
   "id": "15133de5",
   "metadata": {},
   "outputs": [
    {
     "name": "stdout",
     "output_type": "stream",
     "text": [
      "<re.Match object; span=(1, 2), match='.'>\n",
      "<re.Match object; span=(5, 6), match='.'>\n",
      "<re.Match object; span=(12, 13), match='.'>\n",
      "<re.Match object; span=(18, 19), match='.'>\n",
      "<re.Match object; span=(21, 22), match='.'>\n",
      "<re.Match object; span=(27, 28), match='.'>\n",
      "<re.Match object; span=(33, 34), match='.'>\n",
      "<re.Match object; span=(38, 39), match='.'>\n"
     ]
    }
   ],
   "source": [
    "text ='a.^bc.#^422^.bsjfb.lj.^ank^.jshf^.jahk.j'\n",
    "\n",
    "pat = r'\\.'\n",
    "\n",
    "x = re.finditer(pat, text)\n",
    "\n",
    "for i in x:\n",
    "    print(i)"
   ]
  },
  {
   "cell_type": "code",
   "execution_count": 42,
   "id": "139cdef0",
   "metadata": {},
   "outputs": [
    {
     "name": "stdout",
     "output_type": "stream",
     "text": [
      "mayank.ghai@learnbay.co\n",
      "mayankghai@gmail.com\n",
      "mayankghai@yahoo.com\n",
      "info@gov.in\n",
      "mail@info.com\n",
      "shweta_analyst@hotmail.com\n",
      "rajeh_mba.123@yahoo.com\n"
     ]
    }
   ],
   "source": [
    "email = '''mayank.ghai@learnbay.co\n",
    "mayankghai@gmail.com\n",
    "mayankghai@yahoo.com\n",
    "mayank_atul_ghai#gmail.com\n",
    "123@gmail.com\n",
    "xyz.com\n",
    "!^$%$&&*(^*(&*))\n",
    "info@gov.in\n",
    "mail@info.com\n",
    "shweta_analyst@hotmail.com\n",
    "rajeh_mba.123@yahoo.com'''\n",
    "\n",
    "pat = r'[a-z]+_?[a-z]*\\.?[a-z]*[0-9]*@[a-z]+\\.?[a-z]{2,3}'\n",
    "\n",
    "x = re.findall(pat, email)\n",
    "\n",
    "for i in x:\n",
    "    print(i)"
   ]
  },
  {
   "cell_type": "code",
   "execution_count": 55,
   "id": "60310626",
   "metadata": {},
   "outputs": [
    {
     "name": "stdout",
     "output_type": "stream",
     "text": [
      "mayank.ghai@learnbay.co\n",
      "mayankghai@gmail.com\n",
      "mayankghai@yahoo.com\n",
      "123@gmail.com\n",
      "info@gov.in\n",
      "mail@info.com\n",
      "shweta_analyst@hotmail.com\n",
      "rajeh_mba.123@yahoo.com\n"
     ]
    }
   ],
   "source": [
    "email = '''mayank.ghai@learnbay.co\n",
    "mayankghai@gmail.com\n",
    "mayankghai@yahoo.com\n",
    "mayank_atul_ghai#gmail.com\n",
    "123@gmail.com\n",
    "xyz.com\n",
    "!^$%$&&*(^*(&*))\n",
    "info@gov.in\n",
    "mail@info.com\n",
    "shweta_analyst@hotmail.com\n",
    "rajeh_mba.123@yahoo.com\n",
    "abc_xyz_def@ok.com\n",
    "'''\n",
    "\n",
    "pat = r'\\w+_?\\w*\\.?_?\\w*\\d*@\\w{3,10}\\.{1}\\w{2,3}'\n",
    "\n",
    "x = re.findall(pat, email)\n",
    "\n",
    "for i in x:\n",
    "    print(i)"
   ]
  },
  {
   "cell_type": "code",
   "execution_count": 53,
   "id": "6f065b86",
   "metadata": {},
   "outputs": [
    {
     "name": "stdout",
     "output_type": "stream",
     "text": [
      "mayankghai@gmail.com\n",
      "123@gmail.com\n"
     ]
    }
   ],
   "source": [
    "email = '''mayank.ghai@learnbay.co\n",
    "mayankghai@gmail.com\n",
    "mayankghai@yahoo.com\n",
    "mayank_atul_ghai#gmail.com\n",
    "123@gmail.com\n",
    "xyz.com\n",
    "!^$%$&&*(^*(&*))\n",
    "info@gov.in\n",
    "mail@info.com\n",
    "shweta_analyst@hotmail.com\n",
    "rajeh_mba.123@yahoo.com\n",
    "'''\n",
    "\n",
    "pat = r'\\w+_?\\w*\\.?\\w+@gmail.com'\n",
    "\n",
    "x = re.findall(pat, email)\n",
    "\n",
    "for i in x:\n",
    "    print(i)"
   ]
  },
  {
   "cell_type": "markdown",
   "id": "604b41e4",
   "metadata": {},
   "source": [
    "### sub()\n",
    "\n",
    "- It replaces a pattern with some other string\n",
    "\n",
    "Synatx:\n",
    "    \n",
    "    re.sub(pat, new_pat, string)"
   ]
  },
  {
   "cell_type": "code",
   "execution_count": 56,
   "id": "475f9661",
   "metadata": {},
   "outputs": [
    {
     "name": "stdout",
     "output_type": "stream",
     "text": [
      "this is a Python class\n"
     ]
    }
   ],
   "source": [
    "text = 'this!is@a#Python$class'\n",
    "\n",
    "pat = r'[!@#$]'\n",
    "\n",
    "x = re.sub(pat, ' ', text)\n",
    "print(x)"
   ]
  },
  {
   "cell_type": "code",
   "execution_count": 60,
   "id": "507d6d42",
   "metadata": {},
   "outputs": [
    {
     "name": "stdout",
     "output_type": "stream",
     "text": [
      "this is a Python class\n"
     ]
    }
   ],
   "source": [
    "text = 'this!is@a#Python$class'\n",
    "\n",
    "pat = r'[^\\w]'\n",
    "\n",
    "x = re.sub(pat, ' ', text)\n",
    "print(x)"
   ]
  },
  {
   "cell_type": "code",
   "execution_count": 58,
   "id": "c0620d0d",
   "metadata": {},
   "outputs": [
    {
     "name": "stdout",
     "output_type": "stream",
     "text": [
      "this is a Python class\n"
     ]
    }
   ],
   "source": [
    "text = 'this!is@a#Python$class'\n",
    "\n",
    "pat = r'[^(A-Za-z0-9_)]'\n",
    "\n",
    "x = re.sub(pat, ' ', text)\n",
    "print(x)"
   ]
  },
  {
   "cell_type": "code",
   "execution_count": 61,
   "id": "1fdc8134",
   "metadata": {},
   "outputs": [
    {
     "name": "stdout",
     "output_type": "stream",
     "text": [
      "this is a Python class\n"
     ]
    }
   ],
   "source": [
    "text = 'this!is@a#Python$class'\n",
    "\n",
    "pat = r'[\\W]'\n",
    "\n",
    "x = re.sub(pat, ' ', text)\n",
    "print(x)"
   ]
  },
  {
   "cell_type": "markdown",
   "id": "7a0c2a1d",
   "metadata": {},
   "source": [
    "### split()\n",
    "\n",
    "- It splits the string from the pattern that we have passed\n",
    "- It retuns a list\n",
    "\n",
    "Synatx:\n",
    "    \n",
    "    re.split(pattern, string)\n"
   ]
  },
  {
   "cell_type": "code",
   "execution_count": 62,
   "id": "8dadc832",
   "metadata": {},
   "outputs": [
    {
     "name": "stdout",
     "output_type": "stream",
     "text": [
      "['Hello', 'good', 'morning']\n"
     ]
    }
   ],
   "source": [
    "text = 'Hello1good5morning'\n",
    "\n",
    "pat = r'\\d'\n",
    "\n",
    "x = re.split(pat, text)\n",
    "print(x)"
   ]
  },
  {
   "cell_type": "markdown",
   "id": "84a178f9",
   "metadata": {},
   "source": [
    "### fullmatch()\n",
    "\n",
    "- It matches the complete pattern in the string\n",
    "\n"
   ]
  },
  {
   "cell_type": "code",
   "execution_count": 63,
   "id": "c6506c92",
   "metadata": {},
   "outputs": [
    {
     "name": "stdout",
     "output_type": "stream",
     "text": [
      "<re.Match object; span=(0, 10), match='mayank@123'>\n"
     ]
    }
   ],
   "source": [
    "user_name = 'mayank@123'\n",
    "\n",
    "pat = r'mayank@123'\n",
    "\n",
    "x = re.fullmatch(pat, user_name)\n",
    "print(x)"
   ]
  },
  {
   "cell_type": "code",
   "execution_count": 64,
   "id": "e45cfc1e",
   "metadata": {},
   "outputs": [
    {
     "name": "stdout",
     "output_type": "stream",
     "text": [
      "None\n"
     ]
    }
   ],
   "source": [
    "user_name = 'mayank@123'\n",
    "\n",
    "pat = r'mayank@1234'\n",
    "\n",
    "x = re.fullmatch(pat, user_name)\n",
    "print(x)"
   ]
  },
  {
   "cell_type": "markdown",
   "id": "3b950ca7",
   "metadata": {},
   "source": [
    "### Compile()\n",
    "\n",
    "- it used to create a regex pattern\n",
    "- It returns a re.Pattern object\n",
    "- we can call any regex function on re.Pattern object"
   ]
  },
  {
   "cell_type": "code",
   "execution_count": 66,
   "id": "7185efcc",
   "metadata": {},
   "outputs": [
    {
     "name": "stdout",
     "output_type": "stream",
     "text": [
      "<callable_iterator object at 0x0000027B58D00100>\n",
      "<re.Match object; span=(10, 16), match='Python'>\n"
     ]
    }
   ],
   "source": [
    "text = 'this is a Python call'\n",
    "pat = r'Python'\n",
    "\n",
    "x = re.finditer(pat, text)\n",
    "print(x)\n",
    "\n",
    "for i in x:\n",
    "    print(i)"
   ]
  },
  {
   "cell_type": "code",
   "execution_count": 67,
   "id": "bfc2018f",
   "metadata": {},
   "outputs": [
    {
     "name": "stdout",
     "output_type": "stream",
     "text": [
      "re.compile('Python') <class 're.Pattern'>\n"
     ]
    }
   ],
   "source": [
    "text = 'This is a Python class and Python is a high level language'\n",
    "\n",
    "pat = re.compile('Python')\n",
    "print(pat, type(pat))"
   ]
  },
  {
   "cell_type": "code",
   "execution_count": 68,
   "id": "8de7ab3d",
   "metadata": {},
   "outputs": [
    {
     "name": "stdout",
     "output_type": "stream",
     "text": [
      "None\n"
     ]
    }
   ],
   "source": [
    "print(pat.match(text))"
   ]
  },
  {
   "cell_type": "code",
   "execution_count": 73,
   "id": "ee2df474",
   "metadata": {},
   "outputs": [
    {
     "name": "stdout",
     "output_type": "stream",
     "text": [
      "<re.Match object; span=(10, 16), match='Python'>\n"
     ]
    }
   ],
   "source": [
    "text = 'This is a Python class and Python is a high level language'\n",
    "\n",
    "pat = r'Python'\n",
    "\n",
    "x = re.search(pat, text)\n",
    "print(x)"
   ]
  },
  {
   "cell_type": "code",
   "execution_count": 69,
   "id": "e81936a6",
   "metadata": {},
   "outputs": [
    {
     "name": "stdout",
     "output_type": "stream",
     "text": [
      "<re.Match object; span=(10, 16), match='Python'>\n"
     ]
    }
   ],
   "source": [
    "print(pat.search(text))"
   ]
  },
  {
   "cell_type": "code",
   "execution_count": 70,
   "id": "734068fc",
   "metadata": {},
   "outputs": [
    {
     "name": "stdout",
     "output_type": "stream",
     "text": [
      "<re.Match object; span=(10, 16), match='Python'>\n",
      "<re.Match object; span=(27, 33), match='Python'>\n"
     ]
    }
   ],
   "source": [
    "for i in pat.finditer(text):\n",
    "    print(i)"
   ]
  },
  {
   "cell_type": "code",
   "execution_count": 71,
   "id": "025dcc73",
   "metadata": {},
   "outputs": [
    {
     "name": "stdout",
     "output_type": "stream",
     "text": [
      "['Python', 'Python']\n"
     ]
    }
   ],
   "source": [
    "print(pat.findall(text))"
   ]
  },
  {
   "cell_type": "code",
   "execution_count": 72,
   "id": "e0e8b614",
   "metadata": {},
   "outputs": [
    {
     "name": "stdout",
     "output_type": "stream",
     "text": [
      "This is a Java class and Java is a high level language\n"
     ]
    }
   ],
   "source": [
    "print(pat.sub('Java', text))"
   ]
  },
  {
   "cell_type": "code",
   "execution_count": 74,
   "id": "2bd4f804",
   "metadata": {},
   "outputs": [
    {
     "name": "stdout",
     "output_type": "stream",
     "text": [
      "['Python']\n"
     ]
    }
   ],
   "source": [
    "print(pat.split(text))"
   ]
  },
  {
   "cell_type": "code",
   "execution_count": 75,
   "id": "ec33d29d",
   "metadata": {},
   "outputs": [],
   "source": [
    "import numpy as np"
   ]
  },
  {
   "cell_type": "code",
   "execution_count": 76,
   "id": "ff88a698",
   "metadata": {},
   "outputs": [
    {
     "name": "stdout",
     "output_type": "stream",
     "text": [
      "['ALLOW_THREADS', 'AxisError', 'BUFSIZE', 'CLIP', 'ComplexWarning', 'DataSource', 'ERR_CALL', 'ERR_DEFAULT', 'ERR_IGNORE', 'ERR_LOG', 'ERR_PRINT', 'ERR_RAISE', 'ERR_WARN', 'FLOATING_POINT_SUPPORT', 'FPE_DIVIDEBYZERO', 'FPE_INVALID', 'FPE_OVERFLOW', 'FPE_UNDERFLOW', 'False_', 'Inf', 'Infinity', 'MAXDIMS', 'MAY_SHARE_BOUNDS', 'MAY_SHARE_EXACT', 'ModuleDeprecationWarning', 'NAN', 'NINF', 'NZERO', 'NaN', 'PINF', 'PZERO', 'RAISE', 'RankWarning', 'SHIFT_DIVIDEBYZERO', 'SHIFT_INVALID', 'SHIFT_OVERFLOW', 'SHIFT_UNDERFLOW', 'ScalarType', 'Tester', 'TooHardError', 'True_', 'UFUNC_BUFSIZE_DEFAULT', 'UFUNC_PYVALS_NAME', 'VisibleDeprecationWarning', 'WRAP', '_CopyMode', '_NoValue', '_UFUNC_API', '__NUMPY_SETUP__', '__all__', '__builtins__', '__cached__', '__config__', '__deprecated_attrs__', '__dir__', '__doc__', '__expired_functions__', '__file__', '__former_attrs__', '__future_scalars__', '__getattr__', '__git_version__', '__loader__', '__mkl_version__', '__name__', '__package__', '__path__', '__spec__', '__version__', '_add_newdoc_ufunc', '_builtins', '_distributor_init', '_financial_names', '_get_promotion_state', '_globals', '_int_extended_msg', '_mat', '_no_nep50_warning', '_pyinstaller_hooks_dir', '_pytesttester', '_set_promotion_state', '_specific_msg', '_version', 'abs', 'absolute', 'add', 'add_docstring', 'add_newdoc', 'add_newdoc_ufunc', 'all', 'allclose', 'alltrue', 'amax', 'amin', 'angle', 'any', 'append', 'apply_along_axis', 'apply_over_axes', 'arange', 'arccos', 'arccosh', 'arcsin', 'arcsinh', 'arctan', 'arctan2', 'arctanh', 'argmax', 'argmin', 'argpartition', 'argsort', 'argwhere', 'around', 'array', 'array2string', 'array_equal', 'array_equiv', 'array_repr', 'array_split', 'array_str', 'asanyarray', 'asarray', 'asarray_chkfinite', 'ascontiguousarray', 'asfarray', 'asfortranarray', 'asmatrix', 'atleast_1d', 'atleast_2d', 'atleast_3d', 'average', 'bartlett', 'base_repr', 'binary_repr', 'bincount', 'bitwise_and', 'bitwise_not', 'bitwise_or', 'bitwise_xor', 'blackman', 'block', 'bmat', 'bool_', 'broadcast', 'broadcast_arrays', 'broadcast_shapes', 'broadcast_to', 'busday_count', 'busday_offset', 'busdaycalendar', 'byte', 'byte_bounds', 'bytes_', 'c_', 'can_cast', 'cast', 'cbrt', 'cdouble', 'ceil', 'cfloat', 'char', 'character', 'chararray', 'choose', 'clip', 'clongdouble', 'clongfloat', 'column_stack', 'common_type', 'compare_chararrays', 'compat', 'complex128', 'complex64', 'complex_', 'complexfloating', 'compress', 'concatenate', 'conj', 'conjugate', 'convolve', 'copy', 'copysign', 'copyto', 'corrcoef', 'correlate', 'cos', 'cosh', 'count_nonzero', 'cov', 'cross', 'csingle', 'ctypeslib', 'cumprod', 'cumproduct', 'cumsum', 'datetime64', 'datetime_as_string', 'datetime_data', 'deg2rad', 'degrees', 'delete', 'deprecate', 'deprecate_with_doc', 'diag', 'diag_indices', 'diag_indices_from', 'diagflat', 'diagonal', 'diff', 'digitize', 'disp', 'divide', 'divmod', 'dot', 'double', 'dsplit', 'dstack', 'dtype', 'e', 'ediff1d', 'einsum', 'einsum_path', 'emath', 'empty', 'empty_like', 'equal', 'errstate', 'euler_gamma', 'exp', 'exp2', 'expand_dims', 'expm1', 'extract', 'eye', 'fabs', 'fastCopyAndTranspose', 'fft', 'fill_diagonal', 'find_common_type', 'finfo', 'fix', 'flatiter', 'flatnonzero', 'flexible', 'flip', 'fliplr', 'flipud', 'float16', 'float32', 'float64', 'float_', 'float_power', 'floating', 'floor', 'floor_divide', 'fmax', 'fmin', 'fmod', 'format_float_positional', 'format_float_scientific', 'format_parser', 'frexp', 'from_dlpack', 'frombuffer', 'fromfile', 'fromfunction', 'fromiter', 'frompyfunc', 'fromregex', 'fromstring', 'full', 'full_like', 'gcd', 'generic', 'genfromtxt', 'geomspace', 'get_array_wrap', 'get_include', 'get_printoptions', 'getbufsize', 'geterr', 'geterrcall', 'geterrobj', 'gradient', 'greater', 'greater_equal', 'half', 'hamming', 'hanning', 'heaviside', 'histogram', 'histogram2d', 'histogram_bin_edges', 'histogramdd', 'hsplit', 'hstack', 'hypot', 'i0', 'identity', 'iinfo', 'imag', 'in1d', 'index_exp', 'indices', 'inexact', 'inf', 'info', 'infty', 'inner', 'insert', 'int16', 'int32', 'int64', 'int8', 'int_', 'intc', 'integer', 'interp', 'intersect1d', 'intp', 'invert', 'is_busday', 'isclose', 'iscomplex', 'iscomplexobj', 'isfinite', 'isfortran', 'isin', 'isinf', 'isnan', 'isnat', 'isneginf', 'isposinf', 'isreal', 'isrealobj', 'isscalar', 'issctype', 'issubclass_', 'issubdtype', 'issubsctype', 'iterable', 'ix_', 'kaiser', 'kron', 'lcm', 'ldexp', 'left_shift', 'less', 'less_equal', 'lexsort', 'lib', 'linalg', 'linspace', 'little_endian', 'load', 'loadtxt', 'log', 'log10', 'log1p', 'log2', 'logaddexp', 'logaddexp2', 'logical_and', 'logical_not', 'logical_or', 'logical_xor', 'logspace', 'longcomplex', 'longdouble', 'longfloat', 'longlong', 'lookfor', 'ma', 'mask_indices', 'mat', 'math', 'matmul', 'matrix', 'max', 'maximum', 'maximum_sctype', 'may_share_memory', 'mean', 'median', 'memmap', 'meshgrid', 'mgrid', 'min', 'min_scalar_type', 'minimum', 'mintypecode', 'mkl', 'mod', 'modf', 'moveaxis', 'msort', 'multiply', 'nan', 'nan_to_num', 'nanargmax', 'nanargmin', 'nancumprod', 'nancumsum', 'nanmax', 'nanmean', 'nanmedian', 'nanmin', 'nanpercentile', 'nanprod', 'nanquantile', 'nanstd', 'nansum', 'nanvar', 'nbytes', 'ndarray', 'ndenumerate', 'ndim', 'ndindex', 'nditer', 'negative', 'nested_iters', 'newaxis', 'nextafter', 'nonzero', 'not_equal', 'numarray', 'number', 'obj2sctype', 'object_', 'ogrid', 'oldnumeric', 'ones', 'ones_like', 'outer', 'packbits', 'pad', 'partition', 'percentile', 'pi', 'piecewise', 'place', 'poly', 'poly1d', 'polyadd', 'polyder', 'polydiv', 'polyfit', 'polyint', 'polymul', 'polynomial', 'polysub', 'polyval', 'positive', 'power', 'printoptions', 'prod', 'product', 'promote_types', 'ptp', 'put', 'put_along_axis', 'putmask', 'quantile', 'r_', 'rad2deg', 'radians', 'random', 'ravel', 'ravel_multi_index', 'real', 'real_if_close', 'rec', 'recarray', 'recfromcsv', 'recfromtxt', 'reciprocal', 'record', 'remainder', 'repeat', 'require', 'reshape', 'resize', 'result_type', 'right_shift', 'rint', 'roll', 'rollaxis', 'roots', 'rot90', 'round', 'round_', 'row_stack', 's_', 'safe_eval', 'save', 'savetxt', 'savez', 'savez_compressed', 'sctype2char', 'sctypeDict', 'sctypes', 'searchsorted', 'select', 'set_numeric_ops', 'set_printoptions', 'set_string_function', 'setbufsize', 'setdiff1d', 'seterr', 'seterrcall', 'seterrobj', 'setxor1d', 'shape', 'shares_memory', 'short', 'show_config', 'show_runtime', 'sign', 'signbit', 'signedinteger', 'sin', 'sinc', 'single', 'singlecomplex', 'sinh', 'size', 'sometrue', 'sort', 'sort_complex', 'source', 'spacing', 'split', 'sqrt', 'square', 'squeeze', 'stack', 'std', 'str_', 'string_', 'subtract', 'sum', 'swapaxes', 'take', 'take_along_axis', 'tan', 'tanh', 'tensordot', 'test', 'testing', 'tile', 'timedelta64', 'trace', 'tracemalloc_domain', 'transpose', 'trapz', 'tri', 'tril', 'tril_indices', 'tril_indices_from', 'trim_zeros', 'triu', 'triu_indices', 'triu_indices_from', 'true_divide', 'trunc', 'typecodes', 'typename', 'ubyte', 'ufunc', 'uint', 'uint16', 'uint32', 'uint64', 'uint8', 'uintc', 'uintp', 'ulonglong', 'unicode_', 'union1d', 'unique', 'unpackbits', 'unravel_index', 'unsignedinteger', 'unwrap', 'use_hugepage', 'ushort', 'vander', 'var', 'vdot', 'vectorize', 'version', 'void', 'vsplit', 'vstack', 'where', 'who', 'zeros', 'zeros_like']\n"
     ]
    }
   ],
   "source": [
    "print(dir(np))"
   ]
  },
  {
   "cell_type": "code",
   "execution_count": null,
   "id": "dd5f5748",
   "metadata": {},
   "outputs": [],
   "source": []
  }
 ],
 "metadata": {
  "kernelspec": {
   "display_name": "Python 3 (ipykernel)",
   "language": "python",
   "name": "python3"
  },
  "language_info": {
   "codemirror_mode": {
    "name": "ipython",
    "version": 3
   },
   "file_extension": ".py",
   "mimetype": "text/x-python",
   "name": "python",
   "nbconvert_exporter": "python",
   "pygments_lexer": "ipython3",
   "version": "3.11.5"
  }
 },
 "nbformat": 4,
 "nbformat_minor": 5
}
