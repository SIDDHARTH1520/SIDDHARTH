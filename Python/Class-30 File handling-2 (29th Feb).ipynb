{
 "cells": [
  {
   "cell_type": "markdown",
   "id": "4d50ebc2",
   "metadata": {},
   "source": [
    "### Function associated with File handling\n",
    "\n",
    "- read()\n",
    "- readline()\n",
    "- readlines()\n",
    "- write()\n",
    "- writelines()"
   ]
  },
  {
   "cell_type": "markdown",
   "id": "818cd790",
   "metadata": {},
   "source": [
    "### 1.Read()\n",
    "\n",
    "- It reads the data from the cursor's current position\n",
    "- It will always going to return a string data-type\n"
   ]
  },
  {
   "cell_type": "code",
   "execution_count": 30,
   "id": "037d04e1",
   "metadata": {},
   "outputs": [
    {
     "name": "stdout",
     "output_type": "stream",
     "text": [
      "0\n",
      "This is a Python class\n"
     ]
    }
   ],
   "source": [
    "with open('host.txt', mode = 'r') as f:\n",
    "    print(f.tell())\n",
    "    print(f.read())"
   ]
  },
  {
   "cell_type": "markdown",
   "id": "079b33cb",
   "metadata": {},
   "source": [
    "read(number of characters)\n",
    "\n",
    "- It will read the specified number of characters from the cursor's current position"
   ]
  },
  {
   "cell_type": "code",
   "execution_count": 31,
   "id": "a92c540b",
   "metadata": {},
   "outputs": [
    {
     "name": "stdout",
     "output_type": "stream",
     "text": [
      "0\n",
      "This is a Python class\n",
      "22\n",
      "0\n",
      "This is a \n"
     ]
    }
   ],
   "source": [
    "with open('host.txt', mode = 'r') as f:\n",
    "    print(f.tell())\n",
    "    print(f.read())\n",
    "    print(f.tell())\n",
    "    f.seek(0)\n",
    "    print(f.tell())\n",
    "    print(f.read(10))\n",
    "    f.seek(0)\n",
    "    text = f.read()"
   ]
  },
  {
   "cell_type": "code",
   "execution_count": 28,
   "id": "3a92ecfd",
   "metadata": {},
   "outputs": [
    {
     "data": {
      "text/plain": [
       "'This is a Python class'"
      ]
     },
     "execution_count": 28,
     "metadata": {},
     "output_type": "execute_result"
    }
   ],
   "source": [
    "text"
   ]
  },
  {
   "cell_type": "code",
   "execution_count": 29,
   "id": "bcf6a8f2",
   "metadata": {},
   "outputs": [
    {
     "data": {
      "text/plain": [
       "str"
      ]
     },
     "execution_count": 29,
     "metadata": {},
     "output_type": "execute_result"
    }
   ],
   "source": [
    "type(text)"
   ]
  },
  {
   "cell_type": "markdown",
   "id": "cbdb721e",
   "metadata": {},
   "source": [
    "### 2. Readline()\n",
    "\n",
    "- It will read one line at a time\n",
    "- It reads from the cursor's current position and read upto the end of the line"
   ]
  },
  {
   "cell_type": "code",
   "execution_count": 38,
   "id": "53ace874",
   "metadata": {},
   "outputs": [
    {
     "name": "stdout",
     "output_type": "stream",
     "text": [
      "0\n",
      "This is a Python class\n",
      "\n",
      "23\n",
      "This class is being taken by Mayank Atul Ghai\n",
      "\n",
      "69\n",
      "We are as of now bored \n",
      "92\n"
     ]
    }
   ],
   "source": [
    "with open('host.txt', mode = 'r') as f:\n",
    "    print(f.tell())\n",
    "    print(f.readline())\n",
    "    print(f.tell())\n",
    "    print(f.readline())\n",
    "    print(f.tell())\n",
    "    print(f.readline())\n",
    "    print(f.tell())"
   ]
  },
  {
   "cell_type": "code",
   "execution_count": 21,
   "id": "419a5960",
   "metadata": {},
   "outputs": [
    {
     "name": "stdout",
     "output_type": "stream",
     "text": [
      "92\n"
     ]
    }
   ],
   "source": [
    "txt = '''This is a Python class\n",
    "This class is being taken by Mayank Atul Ghai\n",
    "We are as of now bored '''\n",
    "\n",
    "print(len(txt))"
   ]
  },
  {
   "cell_type": "markdown",
   "id": "bc1e8bd7",
   "metadata": {},
   "source": [
    "### 3. readlines()\n",
    "\n",
    "- It reads the file line by line\n",
    "- It reads all the lines from the file and returns a list\n",
    "- In the list, each line will be the element of the list"
   ]
  },
  {
   "cell_type": "code",
   "execution_count": 46,
   "id": "0697831b",
   "metadata": {},
   "outputs": [
    {
     "name": "stdout",
     "output_type": "stream",
     "text": [
      "0\n",
      "['This is a Python class\\n', 'This class is being taken by Mayank Atul Ghai\\n', 'We are as of now bored ']\n",
      "92\n",
      "This is a Python class\n",
      "\n",
      "This class is being taken by Mayank Atul Ghai\n",
      "\n",
      "We are as of now bored \n"
     ]
    }
   ],
   "source": [
    "with open('host.txt', mode = 'r') as f:\n",
    "    print(f.tell())\n",
    "    print(f.readlines())\n",
    "    print(f.tell())\n",
    "    f.seek(0)\n",
    "    for i in f.readlines():\n",
    "        print(i)"
   ]
  },
  {
   "cell_type": "markdown",
   "id": "7e89b1ae",
   "metadata": {},
   "source": [
    "### Count the number of words in a file \n",
    "\n"
   ]
  },
  {
   "cell_type": "code",
   "execution_count": 47,
   "id": "e2e63c6b",
   "metadata": {},
   "outputs": [
    {
     "name": "stdout",
     "output_type": "stream",
     "text": [
      "This is a Python class\n",
      "This class is being taken by Mayank Atul Ghai\n",
      "We are as of now bored  <class 'str'>\n"
     ]
    }
   ],
   "source": [
    "with open('host.txt') as f:\n",
    "    x = f.read()\n",
    "\n",
    "print(x, type(x))"
   ]
  },
  {
   "cell_type": "code",
   "execution_count": 48,
   "id": "593564ff",
   "metadata": {},
   "outputs": [
    {
     "name": "stdout",
     "output_type": "stream",
     "text": [
      "['This', 'is', 'a', 'Python', 'class', 'This', 'class', 'is', 'being', 'taken', 'by', 'Mayank', 'Atul', 'Ghai', 'We', 'are', 'as', 'of', 'now', 'bored']\n",
      "20\n"
     ]
    }
   ],
   "source": [
    "w = x.split()\n",
    "print(w)\n",
    "print(len(w))"
   ]
  },
  {
   "cell_type": "markdown",
   "id": "acc84c9b",
   "metadata": {},
   "source": [
    "### Count the number of characters \n"
   ]
  },
  {
   "cell_type": "code",
   "execution_count": 50,
   "id": "4b728caf",
   "metadata": {},
   "outputs": [
    {
     "data": {
      "text/plain": [
       "'This is a Python class\\nThis class is being taken by Mayank Atul Ghai\\nWe are as of now bored '"
      ]
     },
     "execution_count": 50,
     "metadata": {},
     "output_type": "execute_result"
    }
   ],
   "source": [
    "with open('host.txt') as f:\n",
    "    x = f.read()\n",
    "\n",
    "x"
   ]
  },
  {
   "cell_type": "code",
   "execution_count": 55,
   "id": "fd6419ed",
   "metadata": {},
   "outputs": [
    {
     "data": {
      "text/plain": [
       "92"
      ]
     },
     "execution_count": 55,
     "metadata": {},
     "output_type": "execute_result"
    }
   ],
   "source": [
    "len(x) # count of the number of characters including the space and the new line characters"
   ]
  },
  {
   "cell_type": "code",
   "execution_count": 53,
   "id": "7612853e",
   "metadata": {},
   "outputs": [
    {
     "name": "stdout",
     "output_type": "stream",
     "text": [
      "72\n"
     ]
    }
   ],
   "source": [
    "# count the number of characters except the space character  and the new line character\n",
    "with open('host.txt') as f:\n",
    "    x = f.read()\n",
    "    \n",
    "c = 0\n",
    "for i in x:\n",
    "    if i.isalnum():\n",
    "        c = c+1\n",
    "print(c)"
   ]
  },
  {
   "cell_type": "code",
   "execution_count": 54,
   "id": "cc81b348",
   "metadata": {},
   "outputs": [
    {
     "data": {
      "text/plain": [
       "72"
      ]
     },
     "execution_count": 54,
     "metadata": {},
     "output_type": "execute_result"
    }
   ],
   "source": [
    "92 - 18-2"
   ]
  },
  {
   "cell_type": "code",
   "execution_count": 56,
   "id": "970dd7ba",
   "metadata": {},
   "outputs": [
    {
     "name": "stdout",
     "output_type": "stream",
     "text": [
      "7\n"
     ]
    }
   ],
   "source": [
    "# Count the numbers of capital letter \n",
    "\n",
    "with open('host.txt') as f:\n",
    "    x = f.read()\n",
    "\n",
    "c = 0\n",
    "for i in x:\n",
    "    if i.isupper():\n",
    "        c += 1\n",
    "\n",
    "print(c)"
   ]
  },
  {
   "cell_type": "markdown",
   "id": "a393e736",
   "metadata": {},
   "source": [
    "#### write()\n",
    "\n",
    "- It takes a string as an argument and writes that to a file\n",
    "- We can write multiple lines using single write() or we can use multiple write()"
   ]
  },
  {
   "cell_type": "code",
   "execution_count": 57,
   "id": "87046117",
   "metadata": {},
   "outputs": [],
   "source": [
    "with open('learn.txt', mode = 'w') as f:\n",
    "    f.write('Hello Python,\\nThis is a Python Class.\\nWe are at file handling')"
   ]
  },
  {
   "cell_type": "code",
   "execution_count": 58,
   "id": "f606ce0e",
   "metadata": {},
   "outputs": [],
   "source": [
    "text  = \"\"\"Hello everyone!\n",
    "This is a Python class of 10th jan batch\n",
    "We are learning Python\n",
    "We will going to become Data Scientist in the near future\n",
    "But as of now, we all are bored due to Mayank's boring lecture\"\"\"\n"
   ]
  },
  {
   "cell_type": "code",
   "execution_count": 61,
   "id": "d4a45756",
   "metadata": {},
   "outputs": [
    {
     "name": "stdout",
     "output_type": "stream",
     "text": [
      "204\n",
      "Hello everyone!\n",
      "This is a Python class of 10th jan batch\n",
      "We are learning Python\n",
      "We will going to become Data Scientist in the near future\n",
      "But as of now, we all are bored due to Mayank's boring lecture\n"
     ]
    }
   ],
   "source": [
    "with open('learn.txt', mode = 'w+') as f:\n",
    "    f.write(text)\n",
    "    print(f.tell())\n",
    "    f.seek(0)\n",
    "    print(f.read())"
   ]
  },
  {
   "cell_type": "code",
   "execution_count": 64,
   "id": "3b3b4128",
   "metadata": {},
   "outputs": [
    {
     "name": "stdout",
     "output_type": "stream",
     "text": [
      "81\n",
      "Hello everyone!\n",
      "This is a Python class of 10th jan batch\n",
      "We are learning Python\n"
     ]
    }
   ],
   "source": [
    "with open('learn.txt', mode = 'w+') as f:\n",
    "    f.write('Hello everyone!\\n')\n",
    "    f.write('This is a Python class of 10th jan batch\\n')\n",
    "    f.write('We are learning Python')\n",
    "    print(f.tell())\n",
    "    f.seek(0)\n",
    "    print(f.read())"
   ]
  },
  {
   "cell_type": "markdown",
   "id": "77ae353b",
   "metadata": {},
   "source": [
    "### writelines()\n",
    "\n",
    "- It is going to take a list as an argument\n",
    "- It will write the date to a file"
   ]
  },
  {
   "cell_type": "code",
   "execution_count": 65,
   "id": "c33148b7",
   "metadata": {},
   "outputs": [],
   "source": [
    "lst = ['Hello everyone\\n', 'How are you?\\n', 'I assume that you all are in great health']"
   ]
  },
  {
   "cell_type": "code",
   "execution_count": 66,
   "id": "e2cbbb21",
   "metadata": {},
   "outputs": [
    {
     "data": {
      "text/plain": [
       "3"
      ]
     },
     "execution_count": 66,
     "metadata": {},
     "output_type": "execute_result"
    }
   ],
   "source": [
    "len(lst)"
   ]
  },
  {
   "cell_type": "code",
   "execution_count": 74,
   "id": "425f1fbf",
   "metadata": {},
   "outputs": [],
   "source": [
    "with open('intro.txt', mode = 'w+') as f:\n",
    "    f.writelines(lst)\n",
    "    f.seek(0)\n",
    "    x = f.readlines()"
   ]
  },
  {
   "cell_type": "code",
   "execution_count": 75,
   "id": "284586c6",
   "metadata": {},
   "outputs": [
    {
     "data": {
      "text/plain": [
       "['Hello everyone\\n',\n",
       " 'How are you?\\n',\n",
       " 'I assume that you all are in great health']"
      ]
     },
     "execution_count": 75,
     "metadata": {},
     "output_type": "execute_result"
    }
   ],
   "source": [
    "x"
   ]
  },
  {
   "cell_type": "code",
   "execution_count": 76,
   "id": "0b931810",
   "metadata": {},
   "outputs": [],
   "source": [
    "x.insert(1, \"I am from learnbay\\n\")"
   ]
  },
  {
   "cell_type": "code",
   "execution_count": 77,
   "id": "23b0f0d5",
   "metadata": {},
   "outputs": [
    {
     "name": "stdout",
     "output_type": "stream",
     "text": [
      "['Hello everyone\\n', 'I am from learnbay\\n', 'How are you?\\n', 'I assume that you all are in great health']\n"
     ]
    }
   ],
   "source": [
    "with open('intro.txt', mode = 'w+') as f:\n",
    "    f.writelines(x)\n",
    "    f.seek(0)\n",
    "    print(f.readlines())"
   ]
  },
  {
   "cell_type": "code",
   "execution_count": 81,
   "id": "e67b78ec",
   "metadata": {},
   "outputs": [],
   "source": [
    "# create a file add.py that will going to take two arguments from the user and give the sum of the two number\n",
    "# create the above file using file handling\n",
    "\n",
    "text=\"\"\"a = int(input(\"Enter fisrt number\"))\n",
    "b = int(input(\"Enter second number\"))\n",
    "print(a+b)\"\"\"\n",
    "\n",
    "with open('add.py',mode='w+') as f:\n",
    "    f.write(text)\n"
   ]
  },
  {
   "cell_type": "code",
   "execution_count": 82,
   "id": "f0d9acb3",
   "metadata": {},
   "outputs": [
    {
     "name": "stdout",
     "output_type": "stream",
     "text": [
      "Enter fisrt number52\n",
      "Enter second number28\n",
      "80\n"
     ]
    }
   ],
   "source": [
    "%run add.py"
   ]
  },
  {
   "cell_type": "code",
   "execution_count": 83,
   "id": "97df8423",
   "metadata": {},
   "outputs": [],
   "source": [
    "# create a loop.py file which is having a loop from 0 to n\n",
    "# where n is the number till the loop will run \n",
    "# create it using the file handling concept\n",
    "\n",
    "text = ''''' \n",
    "n = int(input('Enter a number '))\n",
    "for i in range(n):\n",
    "    print(i)\n",
    "'''''\n",
    "with open('loop.py',mode = 'w+') as f:\n",
    "    f.writelines(text)\n"
   ]
  },
  {
   "cell_type": "code",
   "execution_count": 84,
   "id": "893d3993",
   "metadata": {},
   "outputs": [
    {
     "name": "stdout",
     "output_type": "stream",
     "text": [
      "Enter a number 5\n",
      "0\n",
      "1\n",
      "2\n",
      "3\n",
      "4\n"
     ]
    }
   ],
   "source": [
    "%run loop.py"
   ]
  },
  {
   "cell_type": "markdown",
   "id": "5696a974",
   "metadata": {},
   "source": [
    "#### Delete a file "
   ]
  },
  {
   "cell_type": "code",
   "execution_count": 85,
   "id": "303a9c19",
   "metadata": {},
   "outputs": [
    {
     "name": "stdout",
     "output_type": "stream",
     "text": [
      " Volume in drive C is Windows\n",
      " Volume Serial Number is 2E31-173E\n",
      "\n",
      " Directory of C:\\Users\\Mayank\n",
      "\n",
      "29-02-2024  21:36    <DIR>          .\n",
      "09-10-2023  10:35    <DIR>          ..\n",
      "07-10-2023  17:59    <DIR>          .anaconda\n",
      "14-02-2024  19:43    <DIR>          .conda\n",
      "07-10-2023  17:59                25 .condarc\n",
      "07-10-2023  17:59    <DIR>          .continuum\n",
      "29-02-2024  19:52    <DIR>          .ipynb_checkpoints\n",
      "07-10-2023  20:06    <DIR>          .ipython\n",
      "03-12-2023  09:22    <DIR>          .jupyter\n",
      "21-10-2023  20:16    <DIR>          .matplotlib\n",
      "07-10-2023  17:36    <DIR>          .ms-ad\n",
      "02-11-2023  10:27    <DIR>          .vscode\n",
      "25-02-2024  10:07    <DIR>          __pycache__\n",
      "26-02-2024  21:17               104 abc.txt\n",
      "29-02-2024  21:28                87 add.py\n",
      "24-02-2024  09:57    <DIR>          anaconda3\n",
      "28-02-2024  22:27            28,234 Assignmnet Doubt Session.ipynb\n",
      "05-01-2024  14:57    <DIR>          CampusX\n",
      "07-10-2023  17:24    <DIR>          Contacts\n",
      "26-02-2024  21:40               138 data.txt\n",
      "25-10-2023  10:46    <DIR>          Documents\n",
      "28-02-2024  22:15    <DIR>          Downloads\n",
      "07-10-2023  17:24    <DIR>          Favorites\n",
      "29-02-2024  20:22                92 host.txt\n",
      "29-02-2024  21:05                91 intro.txt\n",
      "29-02-2024  20:59                81 learn.txt\n",
      "07-10-2023  17:24    <DIR>          Links\n",
      "29-02-2024  21:34                74 loop.py\n",
      "26-02-2024  21:15                 6 Mayank.txt\n",
      "26-02-2024  10:51         4,538,832 Menstrual Health and PCOD Risk Analysis.ipynb\n",
      "26-02-2024  12:50       138,320,598 Money Laundering.ipynb\n",
      "07-10-2023  17:24    <DIR>          Music\n",
      "27-02-2024  19:55    <DIR>          OneDrive\n",
      "10-02-2024  15:10    <DIR>          Python Class files\n",
      "07-10-2023  17:24    <DIR>          Saved Games\n",
      "09-10-2023  10:29    <DIR>          Searches\n",
      "26-02-2024  12:38         6,927,930 test.csv\n",
      "26-02-2024  12:39        21,432,357 train.csv\n",
      "25-02-2024  16:34            68,854 Untitled.ipynb\n",
      "29-02-2024  21:10                 0 untitled.txt\n",
      "26-02-2024  10:50               589 Untitled1.ipynb\n",
      "26-02-2024  12:41             6,359 Untitled2.ipynb\n",
      "26-02-2024  21:58            53,777 Untitled3.ipynb\n",
      "29-02-2024  21:36            14,942 Untitled4.ipynb\n",
      "27-02-2024  12:43             2,902 Untitled5.ipynb\n",
      "25-01-2024  19:00    <DIR>          Videos\n",
      "26-02-2024  21:57                 0 xyz.csv\n",
      "26-02-2024  21:51                12 xyz.txt\n",
      "              23 File(s)    171,396,084 bytes\n",
      "              25 Dir(s)  97,541,709,824 bytes free\n"
     ]
    }
   ],
   "source": [
    "ls"
   ]
  },
  {
   "cell_type": "code",
   "execution_count": 87,
   "id": "039f8a98",
   "metadata": {},
   "outputs": [],
   "source": [
    "import os\n",
    "\n",
    "os.remove('abc.txt')"
   ]
  },
  {
   "cell_type": "code",
   "execution_count": 88,
   "id": "193cefce",
   "metadata": {},
   "outputs": [
    {
     "name": "stdout",
     "output_type": "stream",
     "text": [
      " Volume in drive C is Windows\n",
      " Volume Serial Number is 2E31-173E\n",
      "\n",
      " Directory of C:\\Users\\Mayank\n",
      "\n",
      "29-02-2024  21:40    <DIR>          .\n",
      "09-10-2023  10:35    <DIR>          ..\n",
      "07-10-2023  17:59    <DIR>          .anaconda\n",
      "14-02-2024  19:43    <DIR>          .conda\n",
      "07-10-2023  17:59                25 .condarc\n",
      "07-10-2023  17:59    <DIR>          .continuum\n",
      "29-02-2024  19:52    <DIR>          .ipynb_checkpoints\n",
      "07-10-2023  20:06    <DIR>          .ipython\n",
      "03-12-2023  09:22    <DIR>          .jupyter\n",
      "21-10-2023  20:16    <DIR>          .matplotlib\n",
      "07-10-2023  17:36    <DIR>          .ms-ad\n",
      "02-11-2023  10:27    <DIR>          .vscode\n",
      "25-02-2024  10:07    <DIR>          __pycache__\n",
      "29-02-2024  21:28                87 add.py\n",
      "24-02-2024  09:57    <DIR>          anaconda3\n",
      "28-02-2024  22:27            28,234 Assignmnet Doubt Session.ipynb\n",
      "05-01-2024  14:57    <DIR>          CampusX\n",
      "07-10-2023  17:24    <DIR>          Contacts\n",
      "26-02-2024  21:40               138 data.txt\n",
      "25-10-2023  10:46    <DIR>          Documents\n",
      "28-02-2024  22:15    <DIR>          Downloads\n",
      "07-10-2023  17:24    <DIR>          Favorites\n",
      "29-02-2024  20:22                92 host.txt\n",
      "29-02-2024  21:05                91 intro.txt\n",
      "29-02-2024  20:59                81 learn.txt\n",
      "07-10-2023  17:24    <DIR>          Links\n",
      "29-02-2024  21:34                74 loop.py\n",
      "26-02-2024  21:15                 6 Mayank.txt\n",
      "26-02-2024  10:51         4,538,832 Menstrual Health and PCOD Risk Analysis.ipynb\n",
      "26-02-2024  12:50       138,320,598 Money Laundering.ipynb\n",
      "07-10-2023  17:24    <DIR>          Music\n",
      "27-02-2024  19:55    <DIR>          OneDrive\n",
      "10-02-2024  15:10    <DIR>          Python Class files\n",
      "07-10-2023  17:24    <DIR>          Saved Games\n",
      "09-10-2023  10:29    <DIR>          Searches\n",
      "26-02-2024  12:38         6,927,930 test.csv\n",
      "26-02-2024  12:39        21,432,357 train.csv\n",
      "25-02-2024  16:34            68,854 Untitled.ipynb\n",
      "29-02-2024  21:10                 0 untitled.txt\n",
      "26-02-2024  10:50               589 Untitled1.ipynb\n",
      "26-02-2024  12:41             6,359 Untitled2.ipynb\n",
      "26-02-2024  21:58            53,777 Untitled3.ipynb\n",
      "29-02-2024  21:40            18,594 Untitled4.ipynb\n",
      "27-02-2024  12:43             2,902 Untitled5.ipynb\n",
      "25-01-2024  19:00    <DIR>          Videos\n",
      "26-02-2024  21:57                 0 xyz.csv\n",
      "26-02-2024  21:51                12 xyz.txt\n",
      "              22 File(s)    171,399,632 bytes\n",
      "              25 Dir(s)  97,541,423,104 bytes free\n"
     ]
    }
   ],
   "source": [
    "ls"
   ]
  },
  {
   "cell_type": "code",
   "execution_count": 101,
   "id": "1322ea48",
   "metadata": {},
   "outputs": [],
   "source": [
    "text = '''\n",
    "a= int(input('enter a no till what you want to run: '))\n",
    "add= 0\n",
    "for i in range(a):\n",
    "    add = add +i\n",
    "print(add)'''\n",
    "\n",
    "with open('loop_1.py', mode ='w+') as f:\n",
    "    f.write(text)\n",
    "\n"
   ]
  },
  {
   "cell_type": "code",
   "execution_count": 102,
   "id": "ecb7afe8",
   "metadata": {},
   "outputs": [
    {
     "name": "stdout",
     "output_type": "stream",
     "text": [
      "enter a no till what you want to run: 5\n",
      "10\n"
     ]
    }
   ],
   "source": [
    "%run loop_1.py"
   ]
  },
  {
   "cell_type": "code",
   "execution_count": 103,
   "id": "bd19a499",
   "metadata": {},
   "outputs": [
    {
     "name": "stdout",
     "output_type": "stream",
     "text": [
      " Volume in drive C is Windows\n",
      " Volume Serial Number is 2E31-173E\n",
      "\n",
      " Directory of C:\\Users\\Mayank\n",
      "\n",
      "29-02-2024  21:44    <DIR>          .\n",
      "09-10-2023  10:35    <DIR>          ..\n",
      "07-10-2023  17:59    <DIR>          .anaconda\n",
      "14-02-2024  19:43    <DIR>          .conda\n",
      "07-10-2023  17:59                25 .condarc\n",
      "07-10-2023  17:59    <DIR>          .continuum\n",
      "29-02-2024  19:52    <DIR>          .ipynb_checkpoints\n",
      "07-10-2023  20:06    <DIR>          .ipython\n",
      "03-12-2023  09:22    <DIR>          .jupyter\n",
      "21-10-2023  20:16    <DIR>          .matplotlib\n",
      "07-10-2023  17:36    <DIR>          .ms-ad\n",
      "02-11-2023  10:27    <DIR>          .vscode\n",
      "25-02-2024  10:07    <DIR>          __pycache__\n",
      "29-02-2024  21:28                87 add.py\n",
      "24-02-2024  09:57    <DIR>          anaconda3\n",
      "28-02-2024  22:27            28,234 Assignmnet Doubt Session.ipynb\n",
      "05-01-2024  14:57    <DIR>          CampusX\n",
      "07-10-2023  17:24    <DIR>          Contacts\n",
      "26-02-2024  21:40               138 data.txt\n",
      "25-10-2023  10:46    <DIR>          Documents\n",
      "28-02-2024  22:15    <DIR>          Downloads\n",
      "07-10-2023  17:24    <DIR>          Favorites\n",
      "29-02-2024  20:22                92 host.txt\n",
      "29-02-2024  21:05                91 intro.txt\n",
      "29-02-2024  20:59                81 learn.txt\n",
      "07-10-2023  17:24    <DIR>          Links\n",
      "29-02-2024  21:42               100 loop.py\n",
      "29-02-2024  21:44               115 loop_1.py\n",
      "26-02-2024  21:15                 6 Mayank.txt\n",
      "26-02-2024  10:51         4,538,832 Menstrual Health and PCOD Risk Analysis.ipynb\n",
      "26-02-2024  12:50       138,320,598 Money Laundering.ipynb\n",
      "07-10-2023  17:24    <DIR>          Music\n",
      "27-02-2024  19:55    <DIR>          OneDrive\n",
      "10-02-2024  15:10    <DIR>          Python Class files\n",
      "07-10-2023  17:24    <DIR>          Saved Games\n",
      "09-10-2023  10:29    <DIR>          Searches\n",
      "26-02-2024  12:38         6,927,930 test.csv\n",
      "26-02-2024  12:39        21,432,357 train.csv\n",
      "25-02-2024  16:34            68,854 Untitled.ipynb\n",
      "29-02-2024  21:10                 0 untitled.txt\n",
      "26-02-2024  10:50               589 Untitled1.ipynb\n",
      "26-02-2024  12:41             6,359 Untitled2.ipynb\n",
      "26-02-2024  21:58            53,777 Untitled3.ipynb\n",
      "29-02-2024  21:44            23,301 Untitled4.ipynb\n",
      "27-02-2024  12:43             2,902 Untitled5.ipynb\n",
      "25-01-2024  19:00    <DIR>          Videos\n",
      "26-02-2024  21:57                 0 xyz.csv\n",
      "26-02-2024  21:51                12 xyz.txt\n",
      "              23 File(s)    171,404,480 bytes\n",
      "              25 Dir(s)  97,538,195,456 bytes free\n"
     ]
    }
   ],
   "source": [
    "ls"
   ]
  },
  {
   "cell_type": "code",
   "execution_count": 104,
   "id": "4e7760a4",
   "metadata": {},
   "outputs": [],
   "source": [
    "import os\n",
    "os.remove('host.txt')"
   ]
  },
  {
   "cell_type": "code",
   "execution_count": 105,
   "id": "561f081f",
   "metadata": {},
   "outputs": [
    {
     "name": "stdout",
     "output_type": "stream",
     "text": [
      " Volume in drive C is Windows\n",
      " Volume Serial Number is 2E31-173E\n",
      "\n",
      " Directory of C:\\Users\\Mayank\n",
      "\n",
      "29-02-2024  21:45    <DIR>          .\n",
      "09-10-2023  10:35    <DIR>          ..\n",
      "07-10-2023  17:59    <DIR>          .anaconda\n",
      "14-02-2024  19:43    <DIR>          .conda\n",
      "07-10-2023  17:59                25 .condarc\n",
      "07-10-2023  17:59    <DIR>          .continuum\n",
      "29-02-2024  19:52    <DIR>          .ipynb_checkpoints\n",
      "07-10-2023  20:06    <DIR>          .ipython\n",
      "03-12-2023  09:22    <DIR>          .jupyter\n",
      "21-10-2023  20:16    <DIR>          .matplotlib\n",
      "07-10-2023  17:36    <DIR>          .ms-ad\n",
      "02-11-2023  10:27    <DIR>          .vscode\n",
      "25-02-2024  10:07    <DIR>          __pycache__\n",
      "29-02-2024  21:28                87 add.py\n",
      "24-02-2024  09:57    <DIR>          anaconda3\n",
      "28-02-2024  22:27            28,234 Assignmnet Doubt Session.ipynb\n",
      "05-01-2024  14:57    <DIR>          CampusX\n",
      "07-10-2023  17:24    <DIR>          Contacts\n",
      "26-02-2024  21:40               138 data.txt\n",
      "25-10-2023  10:46    <DIR>          Documents\n",
      "28-02-2024  22:15    <DIR>          Downloads\n",
      "07-10-2023  17:24    <DIR>          Favorites\n",
      "29-02-2024  21:05                91 intro.txt\n",
      "29-02-2024  20:59                81 learn.txt\n",
      "07-10-2023  17:24    <DIR>          Links\n",
      "29-02-2024  21:42               100 loop.py\n",
      "29-02-2024  21:44               115 loop_1.py\n",
      "26-02-2024  21:15                 6 Mayank.txt\n",
      "26-02-2024  10:51         4,538,832 Menstrual Health and PCOD Risk Analysis.ipynb\n",
      "26-02-2024  12:50       138,320,598 Money Laundering.ipynb\n",
      "07-10-2023  17:24    <DIR>          Music\n",
      "27-02-2024  19:55    <DIR>          OneDrive\n",
      "10-02-2024  15:10    <DIR>          Python Class files\n",
      "07-10-2023  17:24    <DIR>          Saved Games\n",
      "09-10-2023  10:29    <DIR>          Searches\n",
      "26-02-2024  12:38         6,927,930 test.csv\n",
      "26-02-2024  12:39        21,432,357 train.csv\n",
      "25-02-2024  16:34            68,854 Untitled.ipynb\n",
      "29-02-2024  21:10                 0 untitled.txt\n",
      "26-02-2024  10:50               589 Untitled1.ipynb\n",
      "26-02-2024  12:41             6,359 Untitled2.ipynb\n",
      "26-02-2024  21:58            53,777 Untitled3.ipynb\n",
      "29-02-2024  21:44            23,301 Untitled4.ipynb\n",
      "27-02-2024  12:43             2,902 Untitled5.ipynb\n",
      "25-01-2024  19:00    <DIR>          Videos\n",
      "26-02-2024  21:57                 0 xyz.csv\n",
      "26-02-2024  21:51                12 xyz.txt\n",
      "              22 File(s)    171,404,388 bytes\n",
      "              25 Dir(s)  97,538,121,728 bytes free\n"
     ]
    }
   ],
   "source": [
    "ls"
   ]
  },
  {
   "cell_type": "code",
   "execution_count": null,
   "id": "8a03c7f4",
   "metadata": {},
   "outputs": [],
   "source": []
  }
 ],
 "metadata": {
  "kernelspec": {
   "display_name": "Python 3 (ipykernel)",
   "language": "python",
   "name": "python3"
  },
  "language_info": {
   "codemirror_mode": {
    "name": "ipython",
    "version": 3
   },
   "file_extension": ".py",
   "mimetype": "text/x-python",
   "name": "python",
   "nbconvert_exporter": "python",
   "pygments_lexer": "ipython3",
   "version": "3.11.5"
  }
 },
 "nbformat": 4,
 "nbformat_minor": 5
}
