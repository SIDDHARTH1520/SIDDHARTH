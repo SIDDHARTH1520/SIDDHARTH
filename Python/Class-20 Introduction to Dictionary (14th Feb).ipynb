{
 "cells": [
  {
   "cell_type": "markdown",
   "id": "1931c008",
   "metadata": {},
   "source": [
    "### Dictionary (mapping data-type)\n",
    "\n",
    "- A dictionary is a collection of Keys and value pairs (key:value) and this is kept inside the {} (curly brackets)\n",
    "- Each key:value pair is known as an element or an item of a dictionary \n",
    "- Keys cannot be duplicated (it should remain unique) whereas values are can have duplicate values in it\n",
    "- If the key has a duplicated value then the key is updated with the last value that we have assigned to the key\n",
    "- Keys should have immutable datatypes and values can have any datatype (mutable or immutable)"
   ]
  },
  {
   "cell_type": "code",
   "execution_count": 3,
   "id": "94e991c2",
   "metadata": {},
   "outputs": [
    {
     "name": "stdout",
     "output_type": "stream",
     "text": [
      "{1: 100, 2: (100, 200), 3: [1, 2, 3, 4]} <class 'dict'>\n"
     ]
    }
   ],
   "source": [
    "d = {1:100, 2:(100, 200), 3:[1,2,3,4]}\n",
    "print(d, type(d))"
   ]
  },
  {
   "cell_type": "code",
   "execution_count": 5,
   "id": "11747592",
   "metadata": {},
   "outputs": [
    {
     "name": "stdout",
     "output_type": "stream",
     "text": [
      "{1: 100, 2: 200, 3: 'mayank', 4: None, 5: True, 6: range(0, 5)} <class 'dict'>\n"
     ]
    }
   ],
   "source": [
    "d = {1:100, 2:200, 3:'mayank', 4:None, 5:True, 6:range(5)}\n",
    "print(d, type(d))"
   ]
  },
  {
   "cell_type": "code",
   "execution_count": 6,
   "id": "bd904268",
   "metadata": {},
   "outputs": [
    {
     "ename": "TypeError",
     "evalue": "unhashable type: 'list'",
     "output_type": "error",
     "traceback": [
      "\u001b[1;31m---------------------------------------------------------------------------\u001b[0m",
      "\u001b[1;31mTypeError\u001b[0m                                 Traceback (most recent call last)",
      "Cell \u001b[1;32mIn[6], line 1\u001b[0m\n\u001b[1;32m----> 1\u001b[0m d \u001b[38;5;241m=\u001b[39m {[\u001b[38;5;241m1\u001b[39m]:\u001b[38;5;241m100\u001b[39m}\n",
      "\u001b[1;31mTypeError\u001b[0m: unhashable type: 'list'"
     ]
    }
   ],
   "source": [
    "d = {[1]:100}"
   ]
  },
  {
   "cell_type": "code",
   "execution_count": 24,
   "id": "eac65ac5",
   "metadata": {},
   "outputs": [],
   "source": [
    "emp_detail = {'name':['Mayank', 'Geetika', 'Rishabh', 'Abha'], 'age':[29,28, 28, 29], 'city':['Bengaluru', 'Panchkula', 'Noida', 'Ambala']}"
   ]
  },
  {
   "cell_type": "code",
   "execution_count": 13,
   "id": "772efbad",
   "metadata": {},
   "outputs": [
    {
     "data": {
      "text/plain": [
       "{'name': ['Mayank', 'Geetika', 'Rishabh', 'Abha'],\n",
       " ('age',): [29, 28, 28, 29],\n",
       " 'city': ['Bengaluru', 'Panchkula', 'Noida', 'Ambala']}"
      ]
     },
     "execution_count": 13,
     "metadata": {},
     "output_type": "execute_result"
    }
   ],
   "source": [
    "emp_detail"
   ]
  },
  {
   "cell_type": "markdown",
   "id": "269db898",
   "metadata": {},
   "source": [
    "- A dictionary is a container datatype that can contain multiple elements \n",
    "- A dictioanry is an unordered collection of data which means that it does not follow the concept of indexing\n",
    "- In a dictionary, values are mapped to a key and we can access any value with the help of a key\n",
    "- It is also called a non-sequential datatype because we cannot use indexing here\n",
    "- It is also called a mapping datatype"
   ]
  },
  {
   "cell_type": "code",
   "execution_count": 25,
   "id": "228f64e3",
   "metadata": {},
   "outputs": [
    {
     "data": {
      "text/plain": [
       "{'name': ['Mayank', 'Geetika', 'Rishabh', 'Abha'],\n",
       " 'age': [29, 28, 28, 29],\n",
       " 'city': ['Bengaluru', 'Panchkula', 'Noida', 'Ambala']}"
      ]
     },
     "execution_count": 25,
     "metadata": {},
     "output_type": "execute_result"
    }
   ],
   "source": [
    "emp_detail"
   ]
  },
  {
   "cell_type": "code",
   "execution_count": 27,
   "id": "b8a7f4cd",
   "metadata": {},
   "outputs": [],
   "source": [
    "a = 'mayank'"
   ]
  },
  {
   "cell_type": "code",
   "execution_count": 28,
   "id": "3e1dca14",
   "metadata": {},
   "outputs": [
    {
     "data": {
      "text/plain": [
       "'m'"
      ]
     },
     "execution_count": 28,
     "metadata": {},
     "output_type": "execute_result"
    }
   ],
   "source": [
    "a[0]"
   ]
  },
  {
   "cell_type": "code",
   "execution_count": 15,
   "id": "0eb66503",
   "metadata": {
    "scrolled": true
   },
   "outputs": [
    {
     "ename": "KeyError",
     "evalue": "0",
     "output_type": "error",
     "traceback": [
      "\u001b[1;31m---------------------------------------------------------------------------\u001b[0m",
      "\u001b[1;31mKeyError\u001b[0m                                  Traceback (most recent call last)",
      "Cell \u001b[1;32mIn[15], line 1\u001b[0m\n\u001b[1;32m----> 1\u001b[0m d[\u001b[38;5;241m0\u001b[39m]\n",
      "\u001b[1;31mKeyError\u001b[0m: 0"
     ]
    }
   ],
   "source": [
    "d[0]"
   ]
  },
  {
   "cell_type": "code",
   "execution_count": 29,
   "id": "1fb0b7b5",
   "metadata": {},
   "outputs": [
    {
     "data": {
      "text/plain": [
       "{'name': ['Mayank', 'Geetika', 'Rishabh', 'Abha'],\n",
       " 'age': [29, 28, 28, 29],\n",
       " 'city': ['Bengaluru', 'Panchkula', 'Noida', 'Ambala']}"
      ]
     },
     "execution_count": 29,
     "metadata": {},
     "output_type": "execute_result"
    }
   ],
   "source": [
    "emp_detail"
   ]
  },
  {
   "cell_type": "code",
   "execution_count": 30,
   "id": "c1303493",
   "metadata": {},
   "outputs": [
    {
     "data": {
      "text/plain": [
       "['Mayank', 'Geetika', 'Rishabh', 'Abha']"
      ]
     },
     "execution_count": 30,
     "metadata": {},
     "output_type": "execute_result"
    }
   ],
   "source": [
    "emp_detail['name']"
   ]
  },
  {
   "cell_type": "code",
   "execution_count": 31,
   "id": "806a9d51",
   "metadata": {},
   "outputs": [
    {
     "data": {
      "text/plain": [
       "['Bengaluru', 'Panchkula', 'Noida', 'Ambala']"
      ]
     },
     "execution_count": 31,
     "metadata": {},
     "output_type": "execute_result"
    }
   ],
   "source": [
    "emp_detail['city']"
   ]
  },
  {
   "cell_type": "code",
   "execution_count": 22,
   "id": "f04c43aa",
   "metadata": {},
   "outputs": [
    {
     "ename": "KeyError",
     "evalue": "'Name'",
     "output_type": "error",
     "traceback": [
      "\u001b[1;31m---------------------------------------------------------------------------\u001b[0m",
      "\u001b[1;31mKeyError\u001b[0m                                  Traceback (most recent call last)",
      "Cell \u001b[1;32mIn[22], line 1\u001b[0m\n\u001b[1;32m----> 1\u001b[0m emp_detail[\u001b[38;5;124m\"\u001b[39m\u001b[38;5;124mName\u001b[39m\u001b[38;5;124m\"\u001b[39m]\n",
      "\u001b[1;31mKeyError\u001b[0m: 'Name'"
     ]
    }
   ],
   "source": [
    "emp_detail[\"Name\"]"
   ]
  },
  {
   "cell_type": "markdown",
   "id": "05b16b1e",
   "metadata": {},
   "source": [
    "### Operations in Dictionary"
   ]
  },
  {
   "cell_type": "markdown",
   "id": "d021792b",
   "metadata": {},
   "source": [
    "- The only operation that we can do over a dictionary is length, which will calculate the total key:value pair in the dictioanry\n",
    "- We cannot use any other operation like concatenation, repertition and indexing-slicing\n"
   ]
  },
  {
   "cell_type": "code",
   "execution_count": 32,
   "id": "b286fdcf",
   "metadata": {},
   "outputs": [
    {
     "ename": "TypeError",
     "evalue": "unsupported operand type(s) for +: 'dict' and 'dict'",
     "output_type": "error",
     "traceback": [
      "\u001b[1;31m---------------------------------------------------------------------------\u001b[0m",
      "\u001b[1;31mTypeError\u001b[0m                                 Traceback (most recent call last)",
      "Cell \u001b[1;32mIn[32], line 1\u001b[0m\n\u001b[1;32m----> 1\u001b[0m {\u001b[38;5;241m1\u001b[39m:\u001b[38;5;241m100\u001b[39m}\u001b[38;5;241m+\u001b[39m{\u001b[38;5;241m2\u001b[39m:\u001b[38;5;241m200\u001b[39m}\n",
      "\u001b[1;31mTypeError\u001b[0m: unsupported operand type(s) for +: 'dict' and 'dict'"
     ]
    }
   ],
   "source": [
    "{1:100}+{2:200}"
   ]
  },
  {
   "cell_type": "code",
   "execution_count": 33,
   "id": "a8d3a092",
   "metadata": {},
   "outputs": [
    {
     "data": {
      "text/plain": [
       "{'name': ['Mayank', 'Geetika', 'Rishabh', 'Abha'],\n",
       " 'age': [29, 28, 28, 29],\n",
       " 'city': ['Bengaluru', 'Panchkula', 'Noida', 'Ambala']}"
      ]
     },
     "execution_count": 33,
     "metadata": {},
     "output_type": "execute_result"
    }
   ],
   "source": [
    "emp_detail"
   ]
  },
  {
   "cell_type": "code",
   "execution_count": 34,
   "id": "5f8353ae",
   "metadata": {},
   "outputs": [
    {
     "ename": "KeyError",
     "evalue": "0",
     "output_type": "error",
     "traceback": [
      "\u001b[1;31m---------------------------------------------------------------------------\u001b[0m",
      "\u001b[1;31mKeyError\u001b[0m                                  Traceback (most recent call last)",
      "Cell \u001b[1;32mIn[34], line 1\u001b[0m\n\u001b[1;32m----> 1\u001b[0m emp_detail[\u001b[38;5;241m0\u001b[39m]\n",
      "\u001b[1;31mKeyError\u001b[0m: 0"
     ]
    }
   ],
   "source": [
    "emp_detail[0]"
   ]
  },
  {
   "cell_type": "code",
   "execution_count": 35,
   "id": "dc52b2f6",
   "metadata": {},
   "outputs": [
    {
     "data": {
      "text/plain": [
       "{1: 100, 2: 200, 3: 'mayank', 4: None, 5: True, 6: range(0, 5)}"
      ]
     },
     "execution_count": 35,
     "metadata": {},
     "output_type": "execute_result"
    }
   ],
   "source": [
    "d"
   ]
  },
  {
   "cell_type": "code",
   "execution_count": 36,
   "id": "37400266",
   "metadata": {},
   "outputs": [
    {
     "ename": "TypeError",
     "evalue": "unsupported operand type(s) for *: 'dict' and 'int'",
     "output_type": "error",
     "traceback": [
      "\u001b[1;31m---------------------------------------------------------------------------\u001b[0m",
      "\u001b[1;31mTypeError\u001b[0m                                 Traceback (most recent call last)",
      "Cell \u001b[1;32mIn[36], line 1\u001b[0m\n\u001b[1;32m----> 1\u001b[0m d\u001b[38;5;241m*\u001b[39m\u001b[38;5;241m3\u001b[39m\n",
      "\u001b[1;31mTypeError\u001b[0m: unsupported operand type(s) for *: 'dict' and 'int'"
     ]
    }
   ],
   "source": [
    "d*3"
   ]
  },
  {
   "cell_type": "code",
   "execution_count": 37,
   "id": "2762fd30",
   "metadata": {},
   "outputs": [
    {
     "data": {
      "text/plain": [
       "{'name': ['Mayank', 'Geetika', 'Rishabh', 'Abha'],\n",
       " 'age': [29, 28, 28, 29],\n",
       " 'city': ['Bengaluru', 'Panchkula', 'Noida', 'Ambala']}"
      ]
     },
     "execution_count": 37,
     "metadata": {},
     "output_type": "execute_result"
    }
   ],
   "source": [
    "emp_detail"
   ]
  },
  {
   "cell_type": "code",
   "execution_count": 38,
   "id": "43579872",
   "metadata": {
    "scrolled": true
   },
   "outputs": [
    {
     "data": {
      "text/plain": [
       "3"
      ]
     },
     "execution_count": 38,
     "metadata": {},
     "output_type": "execute_result"
    }
   ],
   "source": [
    "len(emp_detail)"
   ]
  },
  {
   "cell_type": "markdown",
   "id": "40def5cc",
   "metadata": {},
   "source": [
    "### How to create Dictionary\n",
    "\n",
    "#### Case-1 \n",
    "- When we already know the element"
   ]
  },
  {
   "cell_type": "code",
   "execution_count": 40,
   "id": "1a94c1d3",
   "metadata": {},
   "outputs": [
    {
     "name": "stdout",
     "output_type": "stream",
     "text": [
      "{'name': 'mayank ghai', 'age': 29, 'city': 'Bengaluru', 'company': ('IZMO', 'Learnbay')} <class 'dict'>\n"
     ]
    }
   ],
   "source": [
    "emp = {'name':'mayank ghai', 'age':29, 'city':'Bengaluru', 'company':('IZMO', 'Learnbay')}\n",
    "print(emp, type(emp))"
   ]
  },
  {
   "cell_type": "markdown",
   "id": "e04ae2ef",
   "metadata": {},
   "source": [
    "#### Case-2\n",
    "\n",
    "- Using a dict() or Typecasting\n",
    "- dict() function can be used with either of these fours\n",
    "    - list of a list\n",
    "    - list of a tuple \n",
    "    - tuple of a list\n",
    "    - tuple of a tuple\n",
    "    \n",
    "- The inner elememt should have two values in it, the first element will become the key and the second element will become the values"
   ]
  },
  {
   "cell_type": "code",
   "execution_count": null,
   "id": "4dea753a",
   "metadata": {},
   "outputs": [],
   "source": [
    "a = [[1,2,3], [2,3,4], [3,4,5]] # list of a list\n",
    "b = [(1,2,3), (2,3,4), (3,4,5)] # list of a tuple\n",
    "c = ([1,2,3], [2,3,4], [3,4,5]) # tuple of a list\n",
    "d = ((1,2,3), (2,3,4), (3,4,5)) # tuple of a list"
   ]
  },
  {
   "cell_type": "code",
   "execution_count": 41,
   "id": "3624be75",
   "metadata": {},
   "outputs": [
    {
     "name": "stdout",
     "output_type": "stream",
     "text": [
      "(('Name', 'Mayank'), ('Age', 29)) <class 'tuple'>\n"
     ]
    }
   ],
   "source": [
    "d = (('Name', 'Mayank'),('Age', 29))\n",
    "print(d, type(d))"
   ]
  },
  {
   "cell_type": "code",
   "execution_count": 42,
   "id": "f4858bb7",
   "metadata": {},
   "outputs": [],
   "source": [
    "emp = dict(d)"
   ]
  },
  {
   "cell_type": "code",
   "execution_count": 43,
   "id": "a09b8de1",
   "metadata": {},
   "outputs": [
    {
     "name": "stdout",
     "output_type": "stream",
     "text": [
      "{'Name': 'Mayank', 'Age': 29}\n"
     ]
    }
   ],
   "source": [
    "print(emp)"
   ]
  },
  {
   "cell_type": "code",
   "execution_count": 44,
   "id": "01352c36",
   "metadata": {},
   "outputs": [
    {
     "name": "stdout",
     "output_type": "stream",
     "text": [
      "(('Name', ['Mayank', 'Geetika', 'Risabh', 'Sagar']), ('Age', (29, 28, 28, 37))) <class 'tuple'>\n"
     ]
    }
   ],
   "source": [
    "d = (('Name', ['Mayank', 'Geetika', 'Risabh', 'Sagar']),('Age', (29, 28, 28, 37)))\n",
    "print(d, type(d))"
   ]
  },
  {
   "cell_type": "code",
   "execution_count": 45,
   "id": "836bb8c7",
   "metadata": {},
   "outputs": [
    {
     "data": {
      "text/plain": [
       "{'Name': ['Mayank', 'Geetika', 'Risabh', 'Sagar'], 'Age': (29, 28, 28, 37)}"
      ]
     },
     "execution_count": 45,
     "metadata": {},
     "output_type": "execute_result"
    }
   ],
   "source": [
    "emp = dict(d)\n",
    "emp"
   ]
  },
  {
   "cell_type": "code",
   "execution_count": 46,
   "id": "ddb60405",
   "metadata": {},
   "outputs": [],
   "source": [
    "d=((1,2),(2,3))\n",
    "e = dict(d)"
   ]
  },
  {
   "cell_type": "code",
   "execution_count": 47,
   "id": "c2fc3365",
   "metadata": {},
   "outputs": [
    {
     "data": {
      "text/plain": [
       "{1: 2, 2: 3}"
      ]
     },
     "execution_count": 47,
     "metadata": {},
     "output_type": "execute_result"
    }
   ],
   "source": [
    "e"
   ]
  },
  {
   "cell_type": "code",
   "execution_count": 56,
   "id": "63e07231",
   "metadata": {},
   "outputs": [
    {
     "data": {
      "text/plain": [
       "{'mayank': 'Name', 'Age': 29}"
      ]
     },
     "execution_count": 56,
     "metadata": {},
     "output_type": "execute_result"
    }
   ],
   "source": [
    "# example why we cannot pass a set or a frozenset in the dict function \n",
    "d = ({'Name', 'mayank'},('Age', 29))\n",
    "emp = dict(d)\n",
    "emp"
   ]
  },
  {
   "cell_type": "code",
   "execution_count": 54,
   "id": "5c5fce8e",
   "metadata": {},
   "outputs": [
    {
     "data": {
      "text/plain": [
       "{'Name': 'mayank', 'Age': 29}"
      ]
     },
     "execution_count": 54,
     "metadata": {},
     "output_type": "execute_result"
    }
   ],
   "source": [
    "d = (('Name', 'mayank'),('Age', 29))\n",
    "emp = dict(d)\n",
    "emp"
   ]
  },
  {
   "cell_type": "markdown",
   "id": "0309823b",
   "metadata": {},
   "source": [
    "### Case-3\n",
    "\n",
    "- By using enumerate along with dict()\n",
    "\n",
    "##### enumerate()\n",
    "\n",
    "    - It take an iterable as an argument\n",
    "    - It return an enumerate object\n",
    "    - To fetch out the values from the enumerarte object we need to oass them either in a list or a tuple or in a dictionary\n",
    "    - It maps the element of the iterable one by one from 0 to len(itearable)-1"
   ]
  },
  {
   "cell_type": "code",
   "execution_count": 81,
   "id": "f37b324d",
   "metadata": {},
   "outputs": [
    {
     "name": "stdout",
     "output_type": "stream",
     "text": [
      "<enumerate object at 0x000001C377D50180>\n"
     ]
    }
   ],
   "source": [
    "a = 'Python'\n",
    "e = enumerate(a)\n",
    "print(e)"
   ]
  },
  {
   "cell_type": "code",
   "execution_count": 82,
   "id": "cfdfb433",
   "metadata": {},
   "outputs": [
    {
     "data": {
      "text/plain": [
       "[(0, 'P'), (1, 'y'), (2, 't'), (3, 'h'), (4, 'o'), (5, 'n')]"
      ]
     },
     "execution_count": 82,
     "metadata": {},
     "output_type": "execute_result"
    }
   ],
   "source": [
    "list(e)"
   ]
  },
  {
   "cell_type": "code",
   "execution_count": 83,
   "id": "4b13c3d4",
   "metadata": {},
   "outputs": [
    {
     "name": "stdout",
     "output_type": "stream",
     "text": [
      "((0, 'P'), (1, 'y'), (2, 't'), (3, 'h'), (4, 'o'), (5, 'n'))\n"
     ]
    }
   ],
   "source": [
    "a = 'Python'\n",
    "e = enumerate(a)\n",
    "print(tuple(e))"
   ]
  },
  {
   "cell_type": "code",
   "execution_count": 84,
   "id": "99f4de16",
   "metadata": {},
   "outputs": [
    {
     "name": "stdout",
     "output_type": "stream",
     "text": [
      "{}\n"
     ]
    }
   ],
   "source": [
    "print(dict(e))"
   ]
  },
  {
   "cell_type": "code",
   "execution_count": 89,
   "id": "928667eb",
   "metadata": {},
   "outputs": [],
   "source": [
    "a = [1,2,3,4]\n",
    "e = enumerate(a)"
   ]
  },
  {
   "cell_type": "code",
   "execution_count": 90,
   "id": "5c8a7081",
   "metadata": {},
   "outputs": [
    {
     "data": {
      "text/plain": [
       "<enumerate at 0x1c377d51300>"
      ]
     },
     "execution_count": 90,
     "metadata": {},
     "output_type": "execute_result"
    }
   ],
   "source": [
    "e"
   ]
  },
  {
   "cell_type": "code",
   "execution_count": 91,
   "id": "f65ff5fc",
   "metadata": {},
   "outputs": [],
   "source": [
    "a = dict(e)"
   ]
  },
  {
   "cell_type": "code",
   "execution_count": 92,
   "id": "27f3b7bd",
   "metadata": {},
   "outputs": [
    {
     "data": {
      "text/plain": [
       "{}"
      ]
     },
     "execution_count": 92,
     "metadata": {},
     "output_type": "execute_result"
    }
   ],
   "source": [
    "dict(e)"
   ]
  },
  {
   "cell_type": "code",
   "execution_count": 93,
   "id": "9b21c477",
   "metadata": {},
   "outputs": [
    {
     "data": {
      "text/plain": [
       "{0: 1, 1: 2, 2: 3, 3: 4}"
      ]
     },
     "execution_count": 93,
     "metadata": {},
     "output_type": "execute_result"
    }
   ],
   "source": [
    "a"
   ]
  },
  {
   "cell_type": "markdown",
   "id": "78f95ec3",
   "metadata": {},
   "source": [
    "#### Case-4 \n",
    "\n",
    "- Using zip() function \n",
    "    - It will zip two iterables together \n",
    "    - It will return a zip object\n",
    "    - It maps all the elements of the first iterable to all the elemenets of the second iterable \n",
    "    - To fetch out the value, we have to pass them in either a list, tuple or a dictionary\n",
    "    - The first iterable will be taken as the keys and the second itearble are taken as the values, so the order matters \n",
    "    \n",
    "__Note:__\n",
    "\n",
    "    - While creating a dictionary using a zip(), we should remember that it should have two iterables as an argument\n",
    "    - The number of elements inside the iterable should be same\n",
    "    - If the numbers of elements inside the iterable are not equal, then it will map only the elements that we can map togther"
   ]
  },
  {
   "cell_type": "code",
   "execution_count": 70,
   "id": "1c6d2a60",
   "metadata": {},
   "outputs": [],
   "source": [
    "a = 'abcde'\n",
    "lst = [10,20,30,40,50]"
   ]
  },
  {
   "cell_type": "code",
   "execution_count": null,
   "id": "2b990e01",
   "metadata": {},
   "outputs": [],
   "source": [
    "                                        a  b  c  d  e\n",
    "                                        0  1  2  3  4 \n",
    "                                        10 20 30 40 50 "
   ]
  },
  {
   "cell_type": "code",
   "execution_count": 72,
   "id": "379f8a7b",
   "metadata": {},
   "outputs": [
    {
     "data": {
      "text/plain": [
       "<zip at 0x1c377e6fec0>"
      ]
     },
     "execution_count": 72,
     "metadata": {},
     "output_type": "execute_result"
    }
   ],
   "source": [
    "zip(a,lst)"
   ]
  },
  {
   "cell_type": "code",
   "execution_count": 74,
   "id": "cf384163",
   "metadata": {},
   "outputs": [
    {
     "data": {
      "text/plain": [
       "{'a': 10, 'b': 20, 'c': 30, 'd': 40, 'e': 50}"
      ]
     },
     "execution_count": 74,
     "metadata": {},
     "output_type": "execute_result"
    }
   ],
   "source": [
    "dict(zip(a,lst))"
   ]
  },
  {
   "cell_type": "code",
   "execution_count": 75,
   "id": "6a7cc2d1",
   "metadata": {},
   "outputs": [],
   "source": [
    "a = 'abcde'\n",
    "lst = [10,20,30,40]"
   ]
  },
  {
   "cell_type": "code",
   "execution_count": null,
   "id": "86fc7063",
   "metadata": {},
   "outputs": [],
   "source": [
    "                                        a  b  c  d  e\n",
    "                                        0  1  2  3  4  ---> index\n",
    "                                        10 20 30 40 50 60 "
   ]
  },
  {
   "cell_type": "code",
   "execution_count": 76,
   "id": "93f7bdde",
   "metadata": {},
   "outputs": [
    {
     "data": {
      "text/plain": [
       "{'a': 10, 'b': 20, 'c': 30, 'd': 40}"
      ]
     },
     "execution_count": 76,
     "metadata": {},
     "output_type": "execute_result"
    }
   ],
   "source": [
    "dict(zip(a, lst))"
   ]
  },
  {
   "cell_type": "code",
   "execution_count": 105,
   "id": "4b4c7cd8",
   "metadata": {},
   "outputs": [],
   "source": [
    "a = 'abcd'\n",
    "lst = [10,20,30,40,50]"
   ]
  },
  {
   "cell_type": "code",
   "execution_count": 78,
   "id": "fefa541c",
   "metadata": {},
   "outputs": [
    {
     "data": {
      "text/plain": [
       "{'a': 10, 'b': 20, 'c': 30, 'd': 40}"
      ]
     },
     "execution_count": 78,
     "metadata": {},
     "output_type": "execute_result"
    }
   ],
   "source": [
    "dict(zip(a, lst))"
   ]
  },
  {
   "cell_type": "code",
   "execution_count": 106,
   "id": "0d5284a7",
   "metadata": {},
   "outputs": [],
   "source": [
    "a = zip(a, lst, lst1)"
   ]
  },
  {
   "cell_type": "code",
   "execution_count": 107,
   "id": "4b6e1a29",
   "metadata": {},
   "outputs": [
    {
     "ename": "ValueError",
     "evalue": "dictionary update sequence element #0 has length 3; 2 is required",
     "output_type": "error",
     "traceback": [
      "\u001b[1;31m---------------------------------------------------------------------------\u001b[0m",
      "\u001b[1;31mValueError\u001b[0m                                Traceback (most recent call last)",
      "Cell \u001b[1;32mIn[107], line 1\u001b[0m\n\u001b[1;32m----> 1\u001b[0m \u001b[38;5;28mdict\u001b[39m(a)\n",
      "\u001b[1;31mValueError\u001b[0m: dictionary update sequence element #0 has length 3; 2 is required"
     ]
    }
   ],
   "source": [
    "dict(a)"
   ]
  },
  {
   "cell_type": "code",
   "execution_count": 134,
   "id": "13aa77f7",
   "metadata": {},
   "outputs": [
    {
     "data": {
      "text/plain": [
       "{'abba': 'i', 'amma': 'r'}"
      ]
     },
     "execution_count": 134,
     "metadata": {},
     "output_type": "execute_result"
    }
   ],
   "source": [
    "a={'abba':[1,2,3,4],'amma':[5,6,7,8]}\n",
    "b={'i': 10, 'r': 20, 'f': 30, 'a': 40}\n",
    "c=zip(b,a)\n",
    "dict(c)\n",
    "\n",
    "{'abba': 'i', 'amma': 'r'}\n"
   ]
  },
  {
   "cell_type": "code",
   "execution_count": null,
   "id": "c79dd27e",
   "metadata": {},
   "outputs": [],
   "source": [
    "numpy ----> seed it will fix the random state"
   ]
  },
  {
   "cell_type": "code",
   "execution_count": 130,
   "id": "664cc7d9",
   "metadata": {},
   "outputs": [
    {
     "ename": "ValueError",
     "evalue": "Seed must be between 0 and 2**32 - 1",
     "output_type": "error",
     "traceback": [
      "\u001b[1;31m---------------------------------------------------------------------------\u001b[0m",
      "\u001b[1;31mValueError\u001b[0m                                Traceback (most recent call last)",
      "Cell \u001b[1;32mIn[130], line 2\u001b[0m\n\u001b[0;32m      1\u001b[0m \u001b[38;5;28;01mimport\u001b[39;00m \u001b[38;5;21;01mnumpy\u001b[39;00m \u001b[38;5;28;01mas\u001b[39;00m \u001b[38;5;21;01mnp\u001b[39;00m\n\u001b[1;32m----> 2\u001b[0m np\u001b[38;5;241m.\u001b[39mrandom\u001b[38;5;241m.\u001b[39mseed(\u001b[38;5;241m4294967296\u001b[39m)\n\u001b[0;32m      3\u001b[0m a \u001b[38;5;241m=\u001b[39m np\u001b[38;5;241m.\u001b[39mrandom\u001b[38;5;241m.\u001b[39mrandint(\u001b[38;5;241m1\u001b[39m,\u001b[38;5;241m10\u001b[39m, \u001b[38;5;241m12\u001b[39m)\n\u001b[0;32m      4\u001b[0m a\n",
      "File \u001b[1;32mmtrand.pyx:4789\u001b[0m, in \u001b[0;36mnumpy.random.mtrand.seed\u001b[1;34m()\u001b[0m\n",
      "File \u001b[1;32mmtrand.pyx:250\u001b[0m, in \u001b[0;36mnumpy.random.mtrand.RandomState.seed\u001b[1;34m()\u001b[0m\n",
      "File \u001b[1;32m_mt19937.pyx:166\u001b[0m, in \u001b[0;36mnumpy.random._mt19937.MT19937._legacy_seeding\u001b[1;34m()\u001b[0m\n",
      "File \u001b[1;32m_mt19937.pyx:180\u001b[0m, in \u001b[0;36mnumpy.random._mt19937.MT19937._legacy_seeding\u001b[1;34m()\u001b[0m\n",
      "\u001b[1;31mValueError\u001b[0m: Seed must be between 0 and 2**32 - 1"
     ]
    }
   ],
   "source": [
    "import numpy as np\n",
    "np.random.seed(4294967296)\n",
    "a = np.random.randint(1,10, 12)\n",
    "a"
   ]
  },
  {
   "cell_type": "code",
   "execution_count": null,
   "id": "f0c9f92b",
   "metadata": {},
   "outputs": [],
   "source": [
    "0-(2**32)-1"
   ]
  },
  {
   "cell_type": "code",
   "execution_count": 128,
   "id": "93a9e391",
   "metadata": {},
   "outputs": [
    {
     "data": {
      "text/plain": [
       "4294967296"
      ]
     },
     "execution_count": 128,
     "metadata": {},
     "output_type": "execute_result"
    }
   ],
   "source": [
    "2**32"
   ]
  },
  {
   "cell_type": "code",
   "execution_count": 131,
   "id": "711c9e8b",
   "metadata": {},
   "outputs": [
    {
     "data": {
      "text/plain": [
       "{'mayank': 'Name', 'Age': 29}"
      ]
     },
     "execution_count": 131,
     "metadata": {},
     "output_type": "execute_result"
    }
   ],
   "source": [
    "emp"
   ]
  },
  {
   "cell_type": "code",
   "execution_count": 132,
   "id": "fea5a5a9",
   "metadata": {},
   "outputs": [
    {
     "name": "stdout",
     "output_type": "stream",
     "text": [
      "mayank\n",
      "Age\n"
     ]
    }
   ],
   "source": [
    "for i in emp:\n",
    "    print(i)"
   ]
  },
  {
   "cell_type": "code",
   "execution_count": 135,
   "id": "ac06b126",
   "metadata": {},
   "outputs": [
    {
     "data": {
      "text/plain": [
       "{'i': 'abba', 'r': 'amma'}"
      ]
     },
     "execution_count": 135,
     "metadata": {},
     "output_type": "execute_result"
    }
   ],
   "source": [
    "a={'abba':[1,2,3,4],'amma':[5,6,7,8]}\n",
    "b={'i': 10, 'r': 20, 'f': 30, 'a': 40}\n",
    "c=zip(b,a)\n",
    "dict(c)\n",
    "\n",
    "# {'abba': 'i', 'amma': 'r'}"
   ]
  },
  {
   "cell_type": "code",
   "execution_count": null,
   "id": "f6c3423d",
   "metadata": {},
   "outputs": [],
   "source": []
  }
 ],
 "metadata": {
  "kernelspec": {
   "display_name": "Python 3 (ipykernel)",
   "language": "python",
   "name": "python3"
  },
  "language_info": {
   "codemirror_mode": {
    "name": "ipython",
    "version": 3
   },
   "file_extension": ".py",
   "mimetype": "text/x-python",
   "name": "python",
   "nbconvert_exporter": "python",
   "pygments_lexer": "ipython3",
   "version": "3.11.5"
  }
 },
 "nbformat": 4,
 "nbformat_minor": 5
}
