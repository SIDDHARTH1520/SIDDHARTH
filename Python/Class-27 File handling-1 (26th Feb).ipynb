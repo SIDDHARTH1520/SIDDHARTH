{
 "cells": [
  {
   "cell_type": "markdown",
   "id": "024fa77c",
   "metadata": {},
   "source": [
    "### File Handling \n",
    "\n",
    "#### File \n",
    "\n",
    "- It is a disk space where we are going to keep a code or any kind of information that we want to reuse in te future\n",
    "- It is like a container which is holding that data in it \n",
    "\n",
    "#### Type of file \n",
    "\n",
    "   1. Text file \n",
    "        \n",
    "       Any file having any kind of textual data in it \n",
    "       \n",
    "        - .py file (python executable file)\n",
    "        - .txt file (text file)\n",
    "        - .pdf file (pdf format)\n",
    "        - .csv file (comma seperated file)\n",
    "        \n",
    "   2. Binary file \n",
    "        \n",
    "       Any file other than a text file \n",
    "           \n",
    "         - Image file \n",
    "         - Audio file \n",
    "         - Video file \n",
    "         - .dat file \n",
    "         - .bin file "
   ]
  },
  {
   "cell_type": "markdown",
   "id": "9be1236e",
   "metadata": {},
   "source": [
    "### File Operation \n",
    "\n",
    "- We are going to perform CRUD operation over a file in file handling\n",
    "\n",
    "    - C: Create \n",
    "    - R: Read\n",
    "    - U: Update \n",
    "    - D: Delete "
   ]
  },
  {
   "cell_type": "markdown",
   "id": "93a7b3f2",
   "metadata": {},
   "source": [
    "### Text file \n",
    "\n",
    "- In Python, a file needs to be open first to perform any of the above mentioned operations \n",
    "\n",
    "#### Operation on a file in Python \n",
    "\n",
    "- Open a file \n",
    "- Read from a file \n",
    "- Write into a file \n",
    "- Close a file \n",
    "- Delete a file "
   ]
  },
  {
   "cell_type": "markdown",
   "id": "742dab51",
   "metadata": {},
   "source": [
    "### How to Open a file \n",
    "\n",
    "- To open a file in Pythin, we will use open() function \n",
    "\n",
    "    Syntax:\n",
    "        \n",
    "        file_object = open('file_name', mode = )"
   ]
  },
  {
   "cell_type": "code",
   "execution_count": 2,
   "id": "722a2d43",
   "metadata": {},
   "outputs": [
    {
     "name": "stdout",
     "output_type": "stream",
     "text": [
      " Volume in drive C is Windows\n",
      " Volume Serial Number is 2E31-173E\n",
      "\n",
      " Directory of C:\\Users\\Mayank\n",
      "\n",
      "26-02-2024  20:15    <DIR>          .\n",
      "09-10-2023  10:35    <DIR>          ..\n",
      "07-10-2023  17:59    <DIR>          .anaconda\n",
      "14-02-2024  19:43    <DIR>          .conda\n",
      "07-10-2023  17:59                25 .condarc\n",
      "07-10-2023  17:59    <DIR>          .continuum\n",
      "26-02-2024  19:53    <DIR>          .ipynb_checkpoints\n",
      "07-10-2023  20:06    <DIR>          .ipython\n",
      "03-12-2023  09:22    <DIR>          .jupyter\n",
      "21-10-2023  20:16    <DIR>          .matplotlib\n",
      "07-10-2023  17:36    <DIR>          .ms-ad\n",
      "02-11-2023  10:27    <DIR>          .vscode\n",
      "25-02-2024  10:07    <DIR>          __pycache__\n",
      "24-02-2024  09:57    <DIR>          anaconda3\n",
      "05-01-2024  14:57    <DIR>          CampusX\n",
      "07-10-2023  17:24    <DIR>          Contacts\n",
      "25-10-2023  10:46    <DIR>          Documents\n",
      "26-02-2024  13:03    <DIR>          Downloads\n",
      "07-10-2023  17:24    <DIR>          Favorites\n",
      "07-10-2023  17:24    <DIR>          Links\n",
      "26-02-2024  10:51         4,538,832 Menstrual Health and PCOD Risk Analysis.ipynb\n",
      "26-02-2024  12:50       138,320,598 Money Laundering.ipynb\n",
      "07-10-2023  17:24    <DIR>          Music\n",
      "26-02-2024  19:44    <DIR>          OneDrive\n",
      "10-02-2024  15:10    <DIR>          Python Class files\n",
      "07-10-2023  17:24    <DIR>          Saved Games\n",
      "09-10-2023  10:29    <DIR>          Searches\n",
      "26-02-2024  12:38         6,927,930 test.csv\n",
      "26-02-2024  12:39        21,432,357 train.csv\n",
      "25-02-2024  16:34            68,854 Untitled.ipynb\n",
      "26-02-2024  10:50               589 Untitled1.ipynb\n",
      "26-02-2024  12:41             6,359 Untitled2.ipynb\n",
      "26-02-2024  20:15             2,660 Untitled3.ipynb\n",
      "25-01-2024  19:00    <DIR>          Videos\n",
      "               9 File(s)    171,298,204 bytes\n",
      "              25 Dir(s)  96,211,427,328 bytes free\n"
     ]
    }
   ],
   "source": [
    "ls"
   ]
  },
  {
   "cell_type": "markdown",
   "id": "27d54441",
   "metadata": {},
   "source": [
    "#### After creating a file by the name Mayank.txt at the home page of jupyter notebook "
   ]
  },
  {
   "cell_type": "code",
   "execution_count": 3,
   "id": "64b43eb6",
   "metadata": {},
   "outputs": [
    {
     "name": "stdout",
     "output_type": "stream",
     "text": [
      " Volume in drive C is Windows\n",
      " Volume Serial Number is 2E31-173E\n",
      "\n",
      " Directory of C:\\Users\\Mayank\n",
      "\n",
      "26-02-2024  20:17    <DIR>          .\n",
      "09-10-2023  10:35    <DIR>          ..\n",
      "07-10-2023  17:59    <DIR>          .anaconda\n",
      "14-02-2024  19:43    <DIR>          .conda\n",
      "07-10-2023  17:59                25 .condarc\n",
      "07-10-2023  17:59    <DIR>          .continuum\n",
      "26-02-2024  19:53    <DIR>          .ipynb_checkpoints\n",
      "07-10-2023  20:06    <DIR>          .ipython\n",
      "03-12-2023  09:22    <DIR>          .jupyter\n",
      "21-10-2023  20:16    <DIR>          .matplotlib\n",
      "07-10-2023  17:36    <DIR>          .ms-ad\n",
      "02-11-2023  10:27    <DIR>          .vscode\n",
      "25-02-2024  10:07    <DIR>          __pycache__\n",
      "24-02-2024  09:57    <DIR>          anaconda3\n",
      "05-01-2024  14:57    <DIR>          CampusX\n",
      "07-10-2023  17:24    <DIR>          Contacts\n",
      "25-10-2023  10:46    <DIR>          Documents\n",
      "26-02-2024  13:03    <DIR>          Downloads\n",
      "07-10-2023  17:24    <DIR>          Favorites\n",
      "07-10-2023  17:24    <DIR>          Links\n",
      "26-02-2024  20:16                99 Mayank.txt\n",
      "26-02-2024  10:51         4,538,832 Menstrual Health and PCOD Risk Analysis.ipynb\n",
      "26-02-2024  12:50       138,320,598 Money Laundering.ipynb\n",
      "07-10-2023  17:24    <DIR>          Music\n",
      "26-02-2024  19:44    <DIR>          OneDrive\n",
      "10-02-2024  15:10    <DIR>          Python Class files\n",
      "07-10-2023  17:24    <DIR>          Saved Games\n",
      "09-10-2023  10:29    <DIR>          Searches\n",
      "26-02-2024  12:38         6,927,930 test.csv\n",
      "26-02-2024  12:39        21,432,357 train.csv\n",
      "25-02-2024  16:34            68,854 Untitled.ipynb\n",
      "26-02-2024  10:50               589 Untitled1.ipynb\n",
      "26-02-2024  12:41             6,359 Untitled2.ipynb\n",
      "26-02-2024  20:17             5,214 Untitled3.ipynb\n",
      "25-01-2024  19:00    <DIR>          Videos\n",
      "              10 File(s)    171,300,857 bytes\n",
      "              25 Dir(s)  96,210,821,120 bytes free\n"
     ]
    }
   ],
   "source": [
    "ls"
   ]
  },
  {
   "cell_type": "markdown",
   "id": "d11115a0",
   "metadata": {},
   "source": [
    "### How to read from a file \n",
    "\n",
    "To read any content of the file that you have opened we need read() function to read from a file \n",
    "\n",
    "    Syntax:\n",
    "         file_object = open('file_name')\n",
    "         print(f.read())\n",
    "         \n",
    "__Note:__ By default, any file that you open will open in read mode "
   ]
  },
  {
   "cell_type": "code",
   "execution_count": 4,
   "id": "cc5a1ba0",
   "metadata": {},
   "outputs": [
    {
     "name": "stdout",
     "output_type": "stream",
     "text": [
      "Hi Guys, Mayank Atul Ghai side \n",
      "I am a trainer at Learnbay and I am explaining File handling Today \n"
     ]
    }
   ],
   "source": [
    "f = open('Mayank.txt')\n",
    "print(f.read())"
   ]
  },
  {
   "cell_type": "markdown",
   "id": "dc7ba7b0",
   "metadata": {},
   "source": [
    "### How to close a file \n",
    "\n",
    "- close() function is used to close a file \n",
    "- In python, a file has to be closed once the operations are done \n",
    "- With the closing the file, we are restricting to do any operation to file\n",
    "\n",
    "    Syntax:\n",
    "        \n",
    "        file_object.close()"
   ]
  },
  {
   "cell_type": "code",
   "execution_count": 5,
   "id": "8a71b006",
   "metadata": {},
   "outputs": [],
   "source": [
    "f.close()"
   ]
  },
  {
   "cell_type": "markdown",
   "id": "429a3cc7",
   "metadata": {},
   "source": [
    "### Mode \n",
    "\n",
    "- read mode - 'r'\n",
    "- write mode - 'w'\n",
    "- append mode - 'a'\n",
    "- read and write mode - 'r+'\n",
    "- write and read mode - 'w+'\n",
    "- append and read mode - 'a+'"
   ]
  },
  {
   "cell_type": "markdown",
   "id": "03173b19",
   "metadata": {},
   "source": [
    "#### 1. Read mode - 'r'\n",
    "\n",
    "   - It reads the data from the file and returns a string\n",
    "   - It reads the data from the cursor's current position and will read till the end of the file \n",
    "   - After the reading the cursor's position will be at the end of the file\n",
    "   - If the file exist, then it will open the file in read mode and place the cursor at the beginning of the file \n",
    "   - If the file doesn't exist, then it will raise an error by the name __FileNotFoundError__\n",
    "   - We can only read data from the file but we can't write or append in the file \n",
    "   - __The default mode is the read mode__"
   ]
  },
  {
   "cell_type": "code",
   "execution_count": 6,
   "id": "669d4868",
   "metadata": {},
   "outputs": [
    {
     "name": "stdout",
     "output_type": "stream",
     "text": [
      " Volume in drive C is Windows\n",
      " Volume Serial Number is 2E31-173E\n",
      "\n",
      " Directory of C:\\Users\\Mayank\n",
      "\n",
      "26-02-2024  20:33    <DIR>          .\n",
      "09-10-2023  10:35    <DIR>          ..\n",
      "07-10-2023  17:59    <DIR>          .anaconda\n",
      "14-02-2024  19:43    <DIR>          .conda\n",
      "07-10-2023  17:59                25 .condarc\n",
      "07-10-2023  17:59    <DIR>          .continuum\n",
      "26-02-2024  19:53    <DIR>          .ipynb_checkpoints\n",
      "07-10-2023  20:06    <DIR>          .ipython\n",
      "03-12-2023  09:22    <DIR>          .jupyter\n",
      "21-10-2023  20:16    <DIR>          .matplotlib\n",
      "07-10-2023  17:36    <DIR>          .ms-ad\n",
      "02-11-2023  10:27    <DIR>          .vscode\n",
      "25-02-2024  10:07    <DIR>          __pycache__\n",
      "24-02-2024  09:57    <DIR>          anaconda3\n",
      "05-01-2024  14:57    <DIR>          CampusX\n",
      "07-10-2023  17:24    <DIR>          Contacts\n",
      "25-10-2023  10:46    <DIR>          Documents\n",
      "26-02-2024  13:03    <DIR>          Downloads\n",
      "07-10-2023  17:24    <DIR>          Favorites\n",
      "07-10-2023  17:24    <DIR>          Links\n",
      "26-02-2024  20:16                99 Mayank.txt\n",
      "26-02-2024  10:51         4,538,832 Menstrual Health and PCOD Risk Analysis.ipynb\n",
      "26-02-2024  12:50       138,320,598 Money Laundering.ipynb\n",
      "07-10-2023  17:24    <DIR>          Music\n",
      "26-02-2024  19:44    <DIR>          OneDrive\n",
      "10-02-2024  15:10    <DIR>          Python Class files\n",
      "07-10-2023  17:24    <DIR>          Saved Games\n",
      "09-10-2023  10:29    <DIR>          Searches\n",
      "26-02-2024  12:38         6,927,930 test.csv\n",
      "26-02-2024  12:39        21,432,357 train.csv\n",
      "25-02-2024  16:34            68,854 Untitled.ipynb\n",
      "26-02-2024  10:50               589 Untitled1.ipynb\n",
      "26-02-2024  12:41             6,359 Untitled2.ipynb\n",
      "26-02-2024  20:33            10,314 Untitled3.ipynb\n",
      "25-01-2024  19:00    <DIR>          Videos\n",
      "              10 File(s)    171,305,957 bytes\n",
      "              25 Dir(s)  96,200,978,432 bytes free\n"
     ]
    }
   ],
   "source": [
    "ls"
   ]
  },
  {
   "cell_type": "code",
   "execution_count": 7,
   "id": "99c52bff",
   "metadata": {},
   "outputs": [
    {
     "name": "stdout",
     "output_type": "stream",
     "text": [
      "Hi Guys, Mayank Atul Ghai side \n",
      "I am a trainer at Learnbay and I am explaining File handling Today \n"
     ]
    }
   ],
   "source": [
    "f = open('Mayank.txt', mode = 'r')\n",
    "print(f.read())\n",
    "f.close()"
   ]
  },
  {
   "cell_type": "code",
   "execution_count": 8,
   "id": "8e011dde",
   "metadata": {},
   "outputs": [
    {
     "ename": "AttributeError",
     "evalue": "'_io.TextIOWrapper' object has no attribute 'open'",
     "output_type": "error",
     "traceback": [
      "\u001b[1;31m---------------------------------------------------------------------------\u001b[0m",
      "\u001b[1;31mAttributeError\u001b[0m                            Traceback (most recent call last)",
      "Cell \u001b[1;32mIn[8], line 1\u001b[0m\n\u001b[1;32m----> 1\u001b[0m f\u001b[38;5;241m.\u001b[39mopen(\u001b[38;5;124m'\u001b[39m\u001b[38;5;124mMayank.txt\u001b[39m\u001b[38;5;124m'\u001b[39m)\n",
      "\u001b[1;31mAttributeError\u001b[0m: '_io.TextIOWrapper' object has no attribute 'open'"
     ]
    }
   ],
   "source": [
    "f.open('Mayank.txt')"
   ]
  },
  {
   "cell_type": "markdown",
   "id": "2fd2e125",
   "metadata": {},
   "source": [
    "### Seek() and Tell() \n",
    "\n",
    "#### Seek()\n",
    "    \n",
    "   - this is used to move the cursor's position from the current position to a particular position \n",
    " \n",
    "#### Tell() \n",
    "   \n",
    "   - It returns the index where the cursor is currently placed"
   ]
  },
  {
   "cell_type": "code",
   "execution_count": 20,
   "id": "019b0127",
   "metadata": {},
   "outputs": [
    {
     "name": "stdout",
     "output_type": "stream",
     "text": [
      "0\n",
      "Hi Guys, Mayank Atul Ghai side\n",
      "I am a trainer at Learnbay and I am explaining File handling Today \n",
      "98\n",
      "10\n",
      "10\n",
      "ayank Atul Ghai side\n",
      "I am a trainer at Learnbay and I am explaining File handling Today \n",
      "98\n"
     ]
    }
   ],
   "source": [
    "f = open('Mayank.txt', mode = 'r')\n",
    "print(f.tell())\n",
    "print(f.read())\n",
    "print(f.tell())\n",
    "print(f.seek(10))\n",
    "print(f.tell())\n",
    "print(f.read())\n",
    "print(f.tell())\n",
    "f.close()"
   ]
  },
  {
   "cell_type": "code",
   "execution_count": 19,
   "id": "55391abc",
   "metadata": {},
   "outputs": [
    {
     "data": {
      "text/plain": [
       "98"
      ]
     },
     "execution_count": 19,
     "metadata": {},
     "output_type": "execute_result"
    }
   ],
   "source": [
    "a = '''Hi Guys, Mayank Atul Ghai side \n",
    "I am a trainer at Learnbay and I am explaining File handling Today'''\n",
    "len(a)"
   ]
  },
  {
   "cell_type": "code",
   "execution_count": 21,
   "id": "2124befe",
   "metadata": {},
   "outputs": [
    {
     "ename": "FileNotFoundError",
     "evalue": "[Errno 2] No such file or directory: 'abc.txt'",
     "output_type": "error",
     "traceback": [
      "\u001b[1;31m---------------------------------------------------------------------------\u001b[0m",
      "\u001b[1;31mFileNotFoundError\u001b[0m                         Traceback (most recent call last)",
      "Cell \u001b[1;32mIn[21], line 1\u001b[0m\n\u001b[1;32m----> 1\u001b[0m f \u001b[38;5;241m=\u001b[39m \u001b[38;5;28mopen\u001b[39m(\u001b[38;5;124m'\u001b[39m\u001b[38;5;124mabc.txt\u001b[39m\u001b[38;5;124m'\u001b[39m, mode \u001b[38;5;241m=\u001b[39m \u001b[38;5;124m'\u001b[39m\u001b[38;5;124mr\u001b[39m\u001b[38;5;124m'\u001b[39m)\n\u001b[0;32m      2\u001b[0m \u001b[38;5;28mprint\u001b[39m(f\u001b[38;5;241m.\u001b[39mread())\n\u001b[0;32m      3\u001b[0m f\u001b[38;5;241m.\u001b[39mclose()\n",
      "File \u001b[1;32m~\\anaconda3\\Lib\\site-packages\\IPython\\core\\interactiveshell.py:286\u001b[0m, in \u001b[0;36m_modified_open\u001b[1;34m(file, *args, **kwargs)\u001b[0m\n\u001b[0;32m    279\u001b[0m \u001b[38;5;28;01mif\u001b[39;00m file \u001b[38;5;129;01min\u001b[39;00m {\u001b[38;5;241m0\u001b[39m, \u001b[38;5;241m1\u001b[39m, \u001b[38;5;241m2\u001b[39m}:\n\u001b[0;32m    280\u001b[0m     \u001b[38;5;28;01mraise\u001b[39;00m \u001b[38;5;167;01mValueError\u001b[39;00m(\n\u001b[0;32m    281\u001b[0m         \u001b[38;5;124mf\u001b[39m\u001b[38;5;124m\"\u001b[39m\u001b[38;5;124mIPython won\u001b[39m\u001b[38;5;124m'\u001b[39m\u001b[38;5;124mt let you open fd=\u001b[39m\u001b[38;5;132;01m{\u001b[39;00mfile\u001b[38;5;132;01m}\u001b[39;00m\u001b[38;5;124m by default \u001b[39m\u001b[38;5;124m\"\u001b[39m\n\u001b[0;32m    282\u001b[0m         \u001b[38;5;124m\"\u001b[39m\u001b[38;5;124mas it is likely to crash IPython. If you know what you are doing, \u001b[39m\u001b[38;5;124m\"\u001b[39m\n\u001b[0;32m    283\u001b[0m         \u001b[38;5;124m\"\u001b[39m\u001b[38;5;124myou can use builtins\u001b[39m\u001b[38;5;124m'\u001b[39m\u001b[38;5;124m open.\u001b[39m\u001b[38;5;124m\"\u001b[39m\n\u001b[0;32m    284\u001b[0m     )\n\u001b[1;32m--> 286\u001b[0m \u001b[38;5;28;01mreturn\u001b[39;00m io_open(file, \u001b[38;5;241m*\u001b[39margs, \u001b[38;5;241m*\u001b[39m\u001b[38;5;241m*\u001b[39mkwargs)\n",
      "\u001b[1;31mFileNotFoundError\u001b[0m: [Errno 2] No such file or directory: 'abc.txt'"
     ]
    }
   ],
   "source": [
    "f = open('abc.txt', mode = 'r')\n",
    "print(f.read())\n",
    "f.close()"
   ]
  },
  {
   "cell_type": "code",
   "execution_count": 22,
   "id": "3711f537",
   "metadata": {},
   "outputs": [
    {
     "ename": "UnsupportedOperation",
     "evalue": "not writable",
     "output_type": "error",
     "traceback": [
      "\u001b[1;31m---------------------------------------------------------------------------\u001b[0m",
      "\u001b[1;31mUnsupportedOperation\u001b[0m                      Traceback (most recent call last)",
      "Cell \u001b[1;32mIn[22], line 2\u001b[0m\n\u001b[0;32m      1\u001b[0m f \u001b[38;5;241m=\u001b[39m \u001b[38;5;28mopen\u001b[39m(\u001b[38;5;124m'\u001b[39m\u001b[38;5;124mMayank.txt\u001b[39m\u001b[38;5;124m'\u001b[39m, mode \u001b[38;5;241m=\u001b[39m \u001b[38;5;124m'\u001b[39m\u001b[38;5;124mr\u001b[39m\u001b[38;5;124m'\u001b[39m)\n\u001b[1;32m----> 2\u001b[0m f\u001b[38;5;241m.\u001b[39mwrite(\u001b[38;5;124m'\u001b[39m\u001b[38;5;124mHi\u001b[39m\u001b[38;5;124m'\u001b[39m)\n\u001b[0;32m      3\u001b[0m \u001b[38;5;28mprint\u001b[39m(f\u001b[38;5;241m.\u001b[39mread())\n\u001b[0;32m      4\u001b[0m f\u001b[38;5;241m.\u001b[39mclose()\n",
      "\u001b[1;31mUnsupportedOperation\u001b[0m: not writable"
     ]
    }
   ],
   "source": [
    "f = open('Mayank.txt', mode = 'r')\n",
    "f.write('Hi')\n",
    "print(f.read())\n",
    "f.close()"
   ]
  },
  {
   "cell_type": "markdown",
   "id": "e0cc1ac5",
   "metadata": {},
   "source": [
    "### 2. Write Mode - 'w'\n",
    "\n",
    "- If the file already exist, then it will open the file in the write mode and it will erase all the previous data that was there in the file \n",
    "- If the file doesn't exist, then it will create one with the given name and the given extension and it will open the file in the write mode\n",
    "- In the write mode, we are only allowed to write into a file, but we are not allowed to read from a file "
   ]
  },
  {
   "cell_type": "code",
   "execution_count": 23,
   "id": "b7edf542",
   "metadata": {},
   "outputs": [
    {
     "name": "stdout",
     "output_type": "stream",
     "text": [
      " Volume in drive C is Windows\n",
      " Volume Serial Number is 2E31-173E\n",
      "\n",
      " Directory of C:\\Users\\Mayank\n",
      "\n",
      "26-02-2024  20:53    <DIR>          .\n",
      "09-10-2023  10:35    <DIR>          ..\n",
      "07-10-2023  17:59    <DIR>          .anaconda\n",
      "14-02-2024  19:43    <DIR>          .conda\n",
      "07-10-2023  17:59                25 .condarc\n",
      "07-10-2023  17:59    <DIR>          .continuum\n",
      "26-02-2024  19:53    <DIR>          .ipynb_checkpoints\n",
      "07-10-2023  20:06    <DIR>          .ipython\n",
      "03-12-2023  09:22    <DIR>          .jupyter\n",
      "21-10-2023  20:16    <DIR>          .matplotlib\n",
      "07-10-2023  17:36    <DIR>          .ms-ad\n",
      "02-11-2023  10:27    <DIR>          .vscode\n",
      "25-02-2024  10:07    <DIR>          __pycache__\n",
      "24-02-2024  09:57    <DIR>          anaconda3\n",
      "05-01-2024  14:57    <DIR>          CampusX\n",
      "07-10-2023  17:24    <DIR>          Contacts\n",
      "25-10-2023  10:46    <DIR>          Documents\n",
      "26-02-2024  13:03    <DIR>          Downloads\n",
      "07-10-2023  17:24    <DIR>          Favorites\n",
      "07-10-2023  17:24    <DIR>          Links\n",
      "26-02-2024  20:46                98 Mayank.txt\n",
      "26-02-2024  10:51         4,538,832 Menstrual Health and PCOD Risk Analysis.ipynb\n",
      "26-02-2024  12:50       138,320,598 Money Laundering.ipynb\n",
      "07-10-2023  17:24    <DIR>          Music\n",
      "26-02-2024  19:44    <DIR>          OneDrive\n",
      "10-02-2024  15:10    <DIR>          Python Class files\n",
      "07-10-2023  17:24    <DIR>          Saved Games\n",
      "09-10-2023  10:29    <DIR>          Searches\n",
      "26-02-2024  12:38         6,927,930 test.csv\n",
      "26-02-2024  12:39        21,432,357 train.csv\n",
      "25-02-2024  16:34            68,854 Untitled.ipynb\n",
      "26-02-2024  10:50               589 Untitled1.ipynb\n",
      "26-02-2024  12:41             6,359 Untitled2.ipynb\n",
      "26-02-2024  20:53            20,216 Untitled3.ipynb\n",
      "25-01-2024  19:00    <DIR>          Videos\n",
      "              10 File(s)    171,315,858 bytes\n",
      "              25 Dir(s)  96,198,385,664 bytes free\n"
     ]
    }
   ],
   "source": [
    "ls"
   ]
  },
  {
   "cell_type": "code",
   "execution_count": 25,
   "id": "8814b046",
   "metadata": {},
   "outputs": [],
   "source": [
    "f = open('Mayank.txt', mode = 'w')\n",
    "f.close()"
   ]
  },
  {
   "cell_type": "code",
   "execution_count": 26,
   "id": "500e3186",
   "metadata": {},
   "outputs": [],
   "source": [
    "f = open('Mayank.txt', mode = 'w')\n",
    "f.write('Hi Guys, it is mayank atul ghai this side. \\n How are you?')\n",
    "f.close()"
   ]
  },
  {
   "cell_type": "code",
   "execution_count": 27,
   "id": "6670a0e0",
   "metadata": {},
   "outputs": [],
   "source": [
    "f = open('Mayank.txt', mode = 'w')\n",
    "f.write('Python')\n",
    "f.close()"
   ]
  },
  {
   "cell_type": "code",
   "execution_count": 28,
   "id": "625f8c1b",
   "metadata": {},
   "outputs": [],
   "source": [
    "intro = '''Hi guys, Mayank Atul Ghai this side\n",
    "I am a Sr. Data analyst at IZMO pvt ltd \n",
    "and I am also working as a trainer at learnbay looking after Python module, NLP module, MLOPS module\n",
    "I love to cook and eat, so yes I am a big time foody, always ready to try new dishes \n",
    "I love to dance and I am also a diploma holder in Danace\n",
    "I use to do theatre at my college, so there i acted in some places, wrote down some scripts, I can do mimicry as well\n",
    "I also know how to play piano \n",
    "I love to learn new things and build new robotic gadgets'''"
   ]
  },
  {
   "cell_type": "code",
   "execution_count": 32,
   "id": "ac508f31",
   "metadata": {},
   "outputs": [],
   "source": [
    "f = open('intro.txt', mode = 'w')\n",
    "f.write(intro)\n",
    "f.close()"
   ]
  },
  {
   "cell_type": "code",
   "execution_count": 33,
   "id": "2c0cdd7c",
   "metadata": {},
   "outputs": [
    {
     "name": "stdout",
     "output_type": "stream",
     "text": [
      "Hi guys, Mayank Atul Ghai this side\n",
      "I am a Sr. Data analyst at IZMO pvt ltd \n",
      "and I am also working as a trainer at learnbay looking after Python module, NLP module, MLOPS module\n",
      "I love to cook and eat, so yes I am a big time foody, always ready to try new dishes \n",
      "I love to dance and I am also a diploma holder in Danace\n",
      "I use to do theatre at my college, so there i acted in some places, wrote down some scripts, I can do mimicry as well\n",
      "I also know how to play piano \n",
      "I love to learn new things and build new robotic gadgets\n"
     ]
    }
   ],
   "source": [
    "f = open('intro.txt', mode = 'r')\n",
    "print(f.read())\n",
    "f.close()"
   ]
  },
  {
   "cell_type": "code",
   "execution_count": 34,
   "id": "d6df5bb9",
   "metadata": {},
   "outputs": [
    {
     "ename": "UnsupportedOperation",
     "evalue": "not readable",
     "output_type": "error",
     "traceback": [
      "\u001b[1;31m---------------------------------------------------------------------------\u001b[0m",
      "\u001b[1;31mUnsupportedOperation\u001b[0m                      Traceback (most recent call last)",
      "Cell \u001b[1;32mIn[34], line 3\u001b[0m\n\u001b[0;32m      1\u001b[0m f \u001b[38;5;241m=\u001b[39m \u001b[38;5;28mopen\u001b[39m(\u001b[38;5;124m'\u001b[39m\u001b[38;5;124mMayank.txt\u001b[39m\u001b[38;5;124m'\u001b[39m, mode \u001b[38;5;241m=\u001b[39m \u001b[38;5;124m'\u001b[39m\u001b[38;5;124mw\u001b[39m\u001b[38;5;124m'\u001b[39m)\n\u001b[0;32m      2\u001b[0m f\u001b[38;5;241m.\u001b[39mwrite(\u001b[38;5;124m'\u001b[39m\u001b[38;5;124mPython\u001b[39m\u001b[38;5;124m'\u001b[39m)\n\u001b[1;32m----> 3\u001b[0m \u001b[38;5;28mprint\u001b[39m(f\u001b[38;5;241m.\u001b[39mread())\n\u001b[0;32m      4\u001b[0m f\u001b[38;5;241m.\u001b[39mclose()\n",
      "\u001b[1;31mUnsupportedOperation\u001b[0m: not readable"
     ]
    }
   ],
   "source": [
    "f = open('Mayank.txt', mode = 'w')\n",
    "f.write('Python')\n",
    "print(f.read())\n",
    "f.close()"
   ]
  },
  {
   "cell_type": "markdown",
   "id": "a3c06ebd",
   "metadata": {},
   "source": [
    "#### 3. append mode - 'a'\n",
    "\n",
    "- If the file already exist, then it open the file in append mode and place the cursor at the end of the file \n",
    "- If the file doesn't exits, then it will create a file with the given name and the given extension that we have provided\n",
    "- In the append mode, we are allowed to write in a file but we are not allowed to read from a file \n",
    "- Whatever we write, will be appended at the end of the file\n",
    "- we cannot use seek() method"
   ]
  },
  {
   "cell_type": "code",
   "execution_count": 35,
   "id": "bf92d846",
   "metadata": {},
   "outputs": [
    {
     "ename": "FileNotFoundError",
     "evalue": "[Errno 2] No such file or directory: 'abc.txt'",
     "output_type": "error",
     "traceback": [
      "\u001b[1;31m---------------------------------------------------------------------------\u001b[0m",
      "\u001b[1;31mFileNotFoundError\u001b[0m                         Traceback (most recent call last)",
      "Cell \u001b[1;32mIn[35], line 1\u001b[0m\n\u001b[1;32m----> 1\u001b[0m f \u001b[38;5;241m=\u001b[39m \u001b[38;5;28mopen\u001b[39m(\u001b[38;5;124m'\u001b[39m\u001b[38;5;124mabc.txt\u001b[39m\u001b[38;5;124m'\u001b[39m, mode \u001b[38;5;241m=\u001b[39m \u001b[38;5;124m'\u001b[39m\u001b[38;5;124mr\u001b[39m\u001b[38;5;124m'\u001b[39m)\n\u001b[0;32m      2\u001b[0m \u001b[38;5;28mprint\u001b[39m(f\u001b[38;5;241m.\u001b[39mraed())\n\u001b[0;32m      3\u001b[0m f\u001b[38;5;241m.\u001b[39mclose()\n",
      "File \u001b[1;32m~\\anaconda3\\Lib\\site-packages\\IPython\\core\\interactiveshell.py:286\u001b[0m, in \u001b[0;36m_modified_open\u001b[1;34m(file, *args, **kwargs)\u001b[0m\n\u001b[0;32m    279\u001b[0m \u001b[38;5;28;01mif\u001b[39;00m file \u001b[38;5;129;01min\u001b[39;00m {\u001b[38;5;241m0\u001b[39m, \u001b[38;5;241m1\u001b[39m, \u001b[38;5;241m2\u001b[39m}:\n\u001b[0;32m    280\u001b[0m     \u001b[38;5;28;01mraise\u001b[39;00m \u001b[38;5;167;01mValueError\u001b[39;00m(\n\u001b[0;32m    281\u001b[0m         \u001b[38;5;124mf\u001b[39m\u001b[38;5;124m\"\u001b[39m\u001b[38;5;124mIPython won\u001b[39m\u001b[38;5;124m'\u001b[39m\u001b[38;5;124mt let you open fd=\u001b[39m\u001b[38;5;132;01m{\u001b[39;00mfile\u001b[38;5;132;01m}\u001b[39;00m\u001b[38;5;124m by default \u001b[39m\u001b[38;5;124m\"\u001b[39m\n\u001b[0;32m    282\u001b[0m         \u001b[38;5;124m\"\u001b[39m\u001b[38;5;124mas it is likely to crash IPython. If you know what you are doing, \u001b[39m\u001b[38;5;124m\"\u001b[39m\n\u001b[0;32m    283\u001b[0m         \u001b[38;5;124m\"\u001b[39m\u001b[38;5;124myou can use builtins\u001b[39m\u001b[38;5;124m'\u001b[39m\u001b[38;5;124m open.\u001b[39m\u001b[38;5;124m\"\u001b[39m\n\u001b[0;32m    284\u001b[0m     )\n\u001b[1;32m--> 286\u001b[0m \u001b[38;5;28;01mreturn\u001b[39;00m io_open(file, \u001b[38;5;241m*\u001b[39margs, \u001b[38;5;241m*\u001b[39m\u001b[38;5;241m*\u001b[39mkwargs)\n",
      "\u001b[1;31mFileNotFoundError\u001b[0m: [Errno 2] No such file or directory: 'abc.txt'"
     ]
    }
   ],
   "source": [
    "f = open('abc.txt', mode = 'r')\n",
    "print(f.raed())\n",
    "f.close()"
   ]
  },
  {
   "cell_type": "code",
   "execution_count": 36,
   "id": "09317e64",
   "metadata": {},
   "outputs": [
    {
     "name": "stdout",
     "output_type": "stream",
     "text": [
      " Volume in drive C is Windows\n",
      " Volume Serial Number is 2E31-173E\n",
      "\n",
      " Directory of C:\\Users\\Mayank\n",
      "\n",
      "26-02-2024  21:13    <DIR>          .\n",
      "09-10-2023  10:35    <DIR>          ..\n",
      "07-10-2023  17:59    <DIR>          .anaconda\n",
      "14-02-2024  19:43    <DIR>          .conda\n",
      "07-10-2023  17:59                25 .condarc\n",
      "07-10-2023  17:59    <DIR>          .continuum\n",
      "26-02-2024  19:53    <DIR>          .ipynb_checkpoints\n",
      "07-10-2023  20:06    <DIR>          .ipython\n",
      "03-12-2023  09:22    <DIR>          .jupyter\n",
      "21-10-2023  20:16    <DIR>          .matplotlib\n",
      "07-10-2023  17:36    <DIR>          .ms-ad\n",
      "02-11-2023  10:27    <DIR>          .vscode\n",
      "25-02-2024  10:07    <DIR>          __pycache__\n",
      "24-02-2024  09:57    <DIR>          anaconda3\n",
      "05-01-2024  14:57    <DIR>          CampusX\n",
      "07-10-2023  17:24    <DIR>          Contacts\n",
      "25-10-2023  10:46    <DIR>          Documents\n",
      "26-02-2024  13:03    <DIR>          Downloads\n",
      "07-10-2023  17:24    <DIR>          Favorites\n",
      "26-02-2024  21:06               533 intro.txt\n",
      "07-10-2023  17:24    <DIR>          Links\n",
      "26-02-2024  21:07                 0 Mayank.txt\n",
      "26-02-2024  10:51         4,538,832 Menstrual Health and PCOD Risk Analysis.ipynb\n",
      "26-02-2024  12:50       138,320,598 Money Laundering.ipynb\n",
      "07-10-2023  17:24    <DIR>          Music\n",
      "26-02-2024  19:44    <DIR>          OneDrive\n",
      "10-02-2024  15:10    <DIR>          Python Class files\n",
      "07-10-2023  17:24    <DIR>          Saved Games\n",
      "09-10-2023  10:29    <DIR>          Searches\n",
      "26-02-2024  12:38         6,927,930 test.csv\n",
      "26-02-2024  12:39        21,432,357 train.csv\n",
      "25-02-2024  16:34            68,854 Untitled.ipynb\n",
      "26-02-2024  10:50               589 Untitled1.ipynb\n",
      "26-02-2024  12:41             6,359 Untitled2.ipynb\n",
      "26-02-2024  21:13            27,510 Untitled3.ipynb\n",
      "25-01-2024  19:00    <DIR>          Videos\n",
      "              11 File(s)    171,323,587 bytes\n",
      "              25 Dir(s)  97,306,300,416 bytes free\n"
     ]
    }
   ],
   "source": [
    "ls"
   ]
  },
  {
   "cell_type": "code",
   "execution_count": 37,
   "id": "2133c4a6",
   "metadata": {},
   "outputs": [
    {
     "name": "stdout",
     "output_type": "stream",
     "text": [
      "0\n"
     ]
    }
   ],
   "source": [
    "f = open('abc.txt', mode = 'a')\n",
    "print(f.tell())\n",
    "f.write('Hello guys, this is the append mode of file handling')\n",
    "f.close()"
   ]
  },
  {
   "cell_type": "code",
   "execution_count": 39,
   "id": "ab674e23",
   "metadata": {},
   "outputs": [
    {
     "name": "stdout",
     "output_type": "stream",
     "text": [
      "0\n",
      "Hello guys, this is the append mode of file handling\n"
     ]
    }
   ],
   "source": [
    "f = open('abc.txt', mode = 'r')\n",
    "print(f.tell())\n",
    "# f.write('Hello guys, this is the append mode of file handling')\n",
    "print(f.read())\n",
    "f.close()"
   ]
  },
  {
   "cell_type": "code",
   "execution_count": 40,
   "id": "3eab8618",
   "metadata": {},
   "outputs": [
    {
     "name": "stdout",
     "output_type": "stream",
     "text": [
      "52\n"
     ]
    }
   ],
   "source": [
    "f = open('abc.txt', mode = 'a')\n",
    "print(f.tell())\n",
    "f.write('Hello guys, this is the append mode of file handling')\n",
    "f.close()"
   ]
  },
  {
   "cell_type": "code",
   "execution_count": 41,
   "id": "aac649b5",
   "metadata": {},
   "outputs": [
    {
     "name": "stdout",
     "output_type": "stream",
     "text": [
      "0\n",
      "Hello guys, this is the append mode of file handlingHello guys, this is the append mode of file handling\n"
     ]
    }
   ],
   "source": [
    "f = open('abc.txt', mode = 'r')\n",
    "print(f.tell())\n",
    "# f.write('Hello guys, this is the append mode of file handling')\n",
    "print(f.read())\n",
    "f.close()"
   ]
  },
  {
   "cell_type": "markdown",
   "id": "73a92bd9",
   "metadata": {},
   "source": [
    "### 4. read and write mode - 'r+'\n",
    "\n",
    "- If the file already exist, then it will open the file in the read mode and place the cursor at the beginning of the file \n",
    "- If the file doesn't exist, then it will raise an error __FileNotFoundError__\n",
    "- we are allowed to read the file as well as to write in the file \n",
    "- seek() is applicable while reading and writing\n",
    "\n",
    "__Note:__ It overwrite the previous data "
   ]
  },
  {
   "cell_type": "code",
   "execution_count": 42,
   "id": "8af10666",
   "metadata": {},
   "outputs": [
    {
     "ename": "FileNotFoundError",
     "evalue": "[Errno 2] No such file or directory: 'data.txt'",
     "output_type": "error",
     "traceback": [
      "\u001b[1;31m---------------------------------------------------------------------------\u001b[0m",
      "\u001b[1;31mFileNotFoundError\u001b[0m                         Traceback (most recent call last)",
      "Cell \u001b[1;32mIn[42], line 1\u001b[0m\n\u001b[1;32m----> 1\u001b[0m f \u001b[38;5;241m=\u001b[39m \u001b[38;5;28mopen\u001b[39m(\u001b[38;5;124m'\u001b[39m\u001b[38;5;124mdata.txt\u001b[39m\u001b[38;5;124m'\u001b[39m, mode \u001b[38;5;241m=\u001b[39m \u001b[38;5;124m'\u001b[39m\u001b[38;5;124mr+\u001b[39m\u001b[38;5;124m'\u001b[39m)\n\u001b[0;32m      2\u001b[0m \u001b[38;5;28mprint\u001b[39m(f\u001b[38;5;241m.\u001b[39mtell())\n\u001b[0;32m      3\u001b[0m \u001b[38;5;28mprint\u001b[39m(f\u001b[38;5;241m.\u001b[39mread())\n",
      "File \u001b[1;32m~\\anaconda3\\Lib\\site-packages\\IPython\\core\\interactiveshell.py:286\u001b[0m, in \u001b[0;36m_modified_open\u001b[1;34m(file, *args, **kwargs)\u001b[0m\n\u001b[0;32m    279\u001b[0m \u001b[38;5;28;01mif\u001b[39;00m file \u001b[38;5;129;01min\u001b[39;00m {\u001b[38;5;241m0\u001b[39m, \u001b[38;5;241m1\u001b[39m, \u001b[38;5;241m2\u001b[39m}:\n\u001b[0;32m    280\u001b[0m     \u001b[38;5;28;01mraise\u001b[39;00m \u001b[38;5;167;01mValueError\u001b[39;00m(\n\u001b[0;32m    281\u001b[0m         \u001b[38;5;124mf\u001b[39m\u001b[38;5;124m\"\u001b[39m\u001b[38;5;124mIPython won\u001b[39m\u001b[38;5;124m'\u001b[39m\u001b[38;5;124mt let you open fd=\u001b[39m\u001b[38;5;132;01m{\u001b[39;00mfile\u001b[38;5;132;01m}\u001b[39;00m\u001b[38;5;124m by default \u001b[39m\u001b[38;5;124m\"\u001b[39m\n\u001b[0;32m    282\u001b[0m         \u001b[38;5;124m\"\u001b[39m\u001b[38;5;124mas it is likely to crash IPython. If you know what you are doing, \u001b[39m\u001b[38;5;124m\"\u001b[39m\n\u001b[0;32m    283\u001b[0m         \u001b[38;5;124m\"\u001b[39m\u001b[38;5;124myou can use builtins\u001b[39m\u001b[38;5;124m'\u001b[39m\u001b[38;5;124m open.\u001b[39m\u001b[38;5;124m\"\u001b[39m\n\u001b[0;32m    284\u001b[0m     )\n\u001b[1;32m--> 286\u001b[0m \u001b[38;5;28;01mreturn\u001b[39;00m io_open(file, \u001b[38;5;241m*\u001b[39margs, \u001b[38;5;241m*\u001b[39m\u001b[38;5;241m*\u001b[39mkwargs)\n",
      "\u001b[1;31mFileNotFoundError\u001b[0m: [Errno 2] No such file or directory: 'data.txt'"
     ]
    }
   ],
   "source": [
    "f = open('data.txt', mode = 'r+')\n",
    "print(f.tell())\n",
    "print(f.read())\n",
    "f.close()"
   ]
  },
  {
   "cell_type": "code",
   "execution_count": 43,
   "id": "5bf3ffaf",
   "metadata": {},
   "outputs": [
    {
     "name": "stdout",
     "output_type": "stream",
     "text": [
      " Volume in drive C is Windows\n",
      " Volume Serial Number is 2E31-173E\n",
      "\n",
      " Directory of C:\\Users\\Mayank\n",
      "\n",
      "26-02-2024  21:27    <DIR>          .\n",
      "09-10-2023  10:35    <DIR>          ..\n",
      "07-10-2023  17:59    <DIR>          .anaconda\n",
      "14-02-2024  19:43    <DIR>          .conda\n",
      "07-10-2023  17:59                25 .condarc\n",
      "07-10-2023  17:59    <DIR>          .continuum\n",
      "26-02-2024  21:26    <DIR>          .ipynb_checkpoints\n",
      "07-10-2023  20:06    <DIR>          .ipython\n",
      "03-12-2023  09:22    <DIR>          .jupyter\n",
      "21-10-2023  20:16    <DIR>          .matplotlib\n",
      "07-10-2023  17:36    <DIR>          .ms-ad\n",
      "02-11-2023  10:27    <DIR>          .vscode\n",
      "25-02-2024  10:07    <DIR>          __pycache__\n",
      "26-02-2024  21:17               104 abc.txt\n",
      "24-02-2024  09:57    <DIR>          anaconda3\n",
      "05-01-2024  14:57    <DIR>          CampusX\n",
      "07-10-2023  17:24    <DIR>          Contacts\n",
      "26-02-2024  21:27                50 data.txt\n",
      "25-10-2023  10:46    <DIR>          Documents\n",
      "26-02-2024  13:03    <DIR>          Downloads\n",
      "07-10-2023  17:24    <DIR>          Favorites\n",
      "26-02-2024  21:06               533 intro.txt\n",
      "07-10-2023  17:24    <DIR>          Links\n",
      "26-02-2024  21:15                 6 Mayank.txt\n",
      "26-02-2024  10:51         4,538,832 Menstrual Health and PCOD Risk Analysis.ipynb\n",
      "26-02-2024  12:50       138,320,598 Money Laundering.ipynb\n",
      "07-10-2023  17:24    <DIR>          Music\n",
      "26-02-2024  19:44    <DIR>          OneDrive\n",
      "10-02-2024  15:10    <DIR>          Python Class files\n",
      "07-10-2023  17:24    <DIR>          Saved Games\n",
      "09-10-2023  10:29    <DIR>          Searches\n",
      "26-02-2024  12:38         6,927,930 test.csv\n",
      "26-02-2024  12:39        21,432,357 train.csv\n",
      "25-02-2024  16:34            68,854 Untitled.ipynb\n",
      "26-02-2024  10:50               589 Untitled1.ipynb\n",
      "26-02-2024  12:41             6,359 Untitled2.ipynb\n",
      "26-02-2024  21:25            35,096 Untitled3.ipynb\n",
      "26-02-2024  21:26                72 Untitled4.ipynb\n",
      "25-01-2024  19:00    <DIR>          Videos\n",
      "              14 File(s)    171,331,405 bytes\n",
      "              25 Dir(s)  97,290,932,224 bytes free\n"
     ]
    }
   ],
   "source": [
    "ls"
   ]
  },
  {
   "cell_type": "code",
   "execution_count": 44,
   "id": "fbced22d",
   "metadata": {},
   "outputs": [
    {
     "name": "stdout",
     "output_type": "stream",
     "text": [
      "0\n",
      "We are in the read and write mode of file handling\n"
     ]
    }
   ],
   "source": [
    "f = open('data.txt', mode = 'r+')\n",
    "print(f.tell())\n",
    "print(f.read())\n",
    "f.close()"
   ]
  },
  {
   "cell_type": "code",
   "execution_count": 45,
   "id": "a746a616",
   "metadata": {},
   "outputs": [
    {
     "name": "stdout",
     "output_type": "stream",
     "text": [
      "0\n"
     ]
    }
   ],
   "source": [
    "f = open('data.txt', mode = 'r+')\n",
    "print(f.tell())\n",
    "f.write('Python Class')\n",
    "f.close()"
   ]
  },
  {
   "cell_type": "code",
   "execution_count": 46,
   "id": "cb8bb73b",
   "metadata": {},
   "outputs": [
    {
     "name": "stdout",
     "output_type": "stream",
     "text": [
      "0\n",
      "Python Classe read and write mode of file handling\n"
     ]
    }
   ],
   "source": [
    "f = open('data.txt', mode = 'r+')\n",
    "print(f.tell())\n",
    "print(f.read())\n",
    "f.close()"
   ]
  },
  {
   "cell_type": "markdown",
   "id": "4f28c7c4",
   "metadata": {},
   "source": [
    "### 5. write and read mode- 'w+'\n",
    "\n",
    "- If the file already exist, then it will open the file in the write mode and erase all the previous data \n",
    "- If the file doesn't exist, then it will create one with the given name and the given extension \n",
    "- We are allowed to write to the file as well as we are allowed to read from it as well\n",
    "- seek() function is not applicable, while writing in the file but for reading its applicable "
   ]
  },
  {
   "cell_type": "code",
   "execution_count": 47,
   "id": "bfe4a043",
   "metadata": {},
   "outputs": [
    {
     "name": "stdout",
     "output_type": "stream",
     "text": [
      " Volume in drive C is Windows\n",
      " Volume Serial Number is 2E31-173E\n",
      "\n",
      " Directory of C:\\Users\\Mayank\n",
      "\n",
      "26-02-2024  21:31    <DIR>          .\n",
      "09-10-2023  10:35    <DIR>          ..\n",
      "07-10-2023  17:59    <DIR>          .anaconda\n",
      "14-02-2024  19:43    <DIR>          .conda\n",
      "07-10-2023  17:59                25 .condarc\n",
      "07-10-2023  17:59    <DIR>          .continuum\n",
      "26-02-2024  21:26    <DIR>          .ipynb_checkpoints\n",
      "07-10-2023  20:06    <DIR>          .ipython\n",
      "03-12-2023  09:22    <DIR>          .jupyter\n",
      "21-10-2023  20:16    <DIR>          .matplotlib\n",
      "07-10-2023  17:36    <DIR>          .ms-ad\n",
      "02-11-2023  10:27    <DIR>          .vscode\n",
      "25-02-2024  10:07    <DIR>          __pycache__\n",
      "26-02-2024  21:17               104 abc.txt\n",
      "24-02-2024  09:57    <DIR>          anaconda3\n",
      "05-01-2024  14:57    <DIR>          CampusX\n",
      "07-10-2023  17:24    <DIR>          Contacts\n",
      "26-02-2024  21:28                50 data.txt\n",
      "25-10-2023  10:46    <DIR>          Documents\n",
      "26-02-2024  13:03    <DIR>          Downloads\n",
      "07-10-2023  17:24    <DIR>          Favorites\n",
      "26-02-2024  21:06               533 intro.txt\n",
      "07-10-2023  17:24    <DIR>          Links\n",
      "26-02-2024  21:15                 6 Mayank.txt\n",
      "26-02-2024  10:51         4,538,832 Menstrual Health and PCOD Risk Analysis.ipynb\n",
      "26-02-2024  12:50       138,320,598 Money Laundering.ipynb\n",
      "07-10-2023  17:24    <DIR>          Music\n",
      "26-02-2024  19:44    <DIR>          OneDrive\n",
      "10-02-2024  15:10    <DIR>          Python Class files\n",
      "07-10-2023  17:24    <DIR>          Saved Games\n",
      "09-10-2023  10:29    <DIR>          Searches\n",
      "26-02-2024  12:38         6,927,930 test.csv\n",
      "26-02-2024  12:39        21,432,357 train.csv\n",
      "25-02-2024  16:34            68,854 Untitled.ipynb\n",
      "26-02-2024  10:50               589 Untitled1.ipynb\n",
      "26-02-2024  12:41             6,359 Untitled2.ipynb\n",
      "26-02-2024  21:31            42,098 Untitled3.ipynb\n",
      "26-02-2024  21:26                72 Untitled4.ipynb\n",
      "25-01-2024  19:00    <DIR>          Videos\n",
      "              14 File(s)    171,338,407 bytes\n",
      "              25 Dir(s)  97,319,923,712 bytes free\n"
     ]
    }
   ],
   "source": [
    "ls"
   ]
  },
  {
   "cell_type": "code",
   "execution_count": 48,
   "id": "a39a9165",
   "metadata": {},
   "outputs": [
    {
     "name": "stdout",
     "output_type": "stream",
     "text": [
      "0\n",
      "Python Classe read and write mode of file handling\n"
     ]
    }
   ],
   "source": [
    "f = open('data.txt', mode = 'r+')\n",
    "print(f.tell())\n",
    "print(f.read())\n",
    "f.close()"
   ]
  },
  {
   "cell_type": "code",
   "execution_count": 49,
   "id": "b8192ae2",
   "metadata": {},
   "outputs": [],
   "source": [
    "f = open('data.txt', mode = 'w+')\n",
    "f.close()"
   ]
  },
  {
   "cell_type": "code",
   "execution_count": 50,
   "id": "7428a79a",
   "metadata": {},
   "outputs": [
    {
     "name": "stdout",
     "output_type": "stream",
     "text": [
      "0\n",
      "\n"
     ]
    }
   ],
   "source": [
    "f = open('data.txt', mode = 'r+')\n",
    "print(f.tell())\n",
    "print(f.read())\n",
    "f.close()"
   ]
  },
  {
   "cell_type": "code",
   "execution_count": 51,
   "id": "519fedb5",
   "metadata": {},
   "outputs": [],
   "source": [
    "f = open('data.txt', mode = 'w+')\n",
    "f.write('This is file handling write and read mode')\n",
    "f.close()"
   ]
  },
  {
   "cell_type": "code",
   "execution_count": 52,
   "id": "8512a79e",
   "metadata": {},
   "outputs": [
    {
     "name": "stdout",
     "output_type": "stream",
     "text": [
      "0\n",
      "This is file handling write and read mode\n"
     ]
    }
   ],
   "source": [
    "f = open('data.txt', mode = 'r+')\n",
    "print(f.tell())\n",
    "print(f.read())\n",
    "f.close()"
   ]
  },
  {
   "cell_type": "code",
   "execution_count": 53,
   "id": "fb038498",
   "metadata": {},
   "outputs": [
    {
     "name": "stdout",
     "output_type": "stream",
     "text": [
      "138\n",
      "This is file handling write and read mode and here I am just checking that whether we can write and read from a file simultaneously or not\n"
     ]
    }
   ],
   "source": [
    "f = open('data.txt', mode = 'w+')\n",
    "f.write ('This is file handling write and read mode and here I am just checking that whether we can write and read from a file simultaneously or not')\n",
    "print(f.tell())\n",
    "f.seek(0)\n",
    "print(f.read())\n",
    "f.close()"
   ]
  },
  {
   "cell_type": "code",
   "execution_count": 54,
   "id": "af14d706",
   "metadata": {},
   "outputs": [
    {
     "name": "stdout",
     "output_type": "stream",
     "text": [
      "138\n",
      "\n"
     ]
    }
   ],
   "source": [
    "f = open('data.txt', mode = 'w+')\n",
    "f.write ('This is file handling write and read mode and here I am just checking that whether we can write and read from a file simultaneously or not')\n",
    "print(f.tell())\n",
    "# f.seek(0)\n",
    "print(f.read())\n",
    "f.close()"
   ]
  },
  {
   "cell_type": "markdown",
   "id": "432d8844",
   "metadata": {},
   "source": [
    "### 6. append and read mode - 'a+'\n",
    "\n",
    "- If the file already exist, then it will open the file in the append mode and place the cursor at the end of the file \n",
    "- If the file doesn't exist, then it will create one with the given name and the given extension\n",
    "- We are allowed to write in the file as well as we are allowed to read the file as well\n",
    "- seek() function is not applicable, while writing but for reading, it will be applicable"
   ]
  },
  {
   "cell_type": "code",
   "execution_count": 64,
   "id": "990f297f",
   "metadata": {},
   "outputs": [
    {
     "name": "stdout",
     "output_type": "stream",
     "text": [
      "0\n",
      "This is a Python class\n"
     ]
    }
   ],
   "source": [
    "f = open('host.txt', mode = 'a+')\n",
    "print(f.tell())\n",
    "f.write('This is a Python class')\n",
    "f.seek(0)\n",
    "print(f.read())\n",
    "f.close()"
   ]
  },
  {
   "cell_type": "markdown",
   "id": "66da5714",
   "metadata": {},
   "source": [
    "#### with open\n",
    "\n",
    "- This will automatically close when we have finished the operation\n",
    "\n",
    "    Syntax:\n",
    "        \n",
    "        with open('file_name', mode = ) as file_object:\n",
    "            code \n",
    "            code"
   ]
  },
  {
   "cell_type": "code",
   "execution_count": 65,
   "id": "6e8c3a6b",
   "metadata": {},
   "outputs": [
    {
     "name": "stdout",
     "output_type": "stream",
     "text": [
      "0\n",
      "This is a Python class\n"
     ]
    }
   ],
   "source": [
    "with open('host.txt', mode = 'r') as x:\n",
    "    print(x.tell())\n",
    "    print(x.read())"
   ]
  },
  {
   "cell_type": "code",
   "execution_count": 67,
   "id": "d022ab43",
   "metadata": {},
   "outputs": [
    {
     "name": "stdout",
     "output_type": "stream",
     "text": [
      "Hello World!\n"
     ]
    }
   ],
   "source": [
    "with open('xyz.txt', mode = 'w+') as g:\n",
    "    g.write('Hello World!')\n",
    "    g.seek(0)\n",
    "    print(g.read())"
   ]
  },
  {
   "cell_type": "code",
   "execution_count": 68,
   "id": "bcf8545a",
   "metadata": {},
   "outputs": [
    {
     "name": "stdout",
     "output_type": "stream",
     "text": [
      " Volume in drive C is Windows\n",
      " Volume Serial Number is 2E31-173E\n",
      "\n",
      " Directory of C:\\Users\\Mayank\n",
      "\n",
      "26-02-2024  21:51    <DIR>          .\n",
      "09-10-2023  10:35    <DIR>          ..\n",
      "07-10-2023  17:59    <DIR>          .anaconda\n",
      "14-02-2024  19:43    <DIR>          .conda\n",
      "07-10-2023  17:59                25 .condarc\n",
      "07-10-2023  17:59    <DIR>          .continuum\n",
      "26-02-2024  21:26    <DIR>          .ipynb_checkpoints\n",
      "07-10-2023  20:06    <DIR>          .ipython\n",
      "03-12-2023  09:22    <DIR>          .jupyter\n",
      "21-10-2023  20:16    <DIR>          .matplotlib\n",
      "07-10-2023  17:36    <DIR>          .ms-ad\n",
      "02-11-2023  10:27    <DIR>          .vscode\n",
      "25-02-2024  10:07    <DIR>          __pycache__\n",
      "26-02-2024  21:17               104 abc.txt\n",
      "24-02-2024  09:57    <DIR>          anaconda3\n",
      "05-01-2024  14:57    <DIR>          CampusX\n",
      "07-10-2023  17:24    <DIR>          Contacts\n",
      "26-02-2024  21:40               138 data.txt\n",
      "25-10-2023  10:46    <DIR>          Documents\n",
      "26-02-2024  13:03    <DIR>          Downloads\n",
      "07-10-2023  17:24    <DIR>          Favorites\n",
      "26-02-2024  21:47                22 host.txt\n",
      "26-02-2024  21:06               533 intro.txt\n",
      "07-10-2023  17:24    <DIR>          Links\n",
      "26-02-2024  21:15                 6 Mayank.txt\n",
      "26-02-2024  10:51         4,538,832 Menstrual Health and PCOD Risk Analysis.ipynb\n",
      "26-02-2024  12:50       138,320,598 Money Laundering.ipynb\n",
      "07-10-2023  17:24    <DIR>          Music\n",
      "26-02-2024  19:44    <DIR>          OneDrive\n",
      "10-02-2024  15:10    <DIR>          Python Class files\n",
      "07-10-2023  17:24    <DIR>          Saved Games\n",
      "09-10-2023  10:29    <DIR>          Searches\n",
      "26-02-2024  12:38         6,927,930 test.csv\n",
      "26-02-2024  12:39        21,432,357 train.csv\n",
      "25-02-2024  16:34            68,854 Untitled.ipynb\n",
      "26-02-2024  10:50               589 Untitled1.ipynb\n",
      "26-02-2024  12:41             6,359 Untitled2.ipynb\n",
      "26-02-2024  21:51            49,860 Untitled3.ipynb\n",
      "26-02-2024  21:26                72 Untitled4.ipynb\n",
      "25-01-2024  19:00    <DIR>          Videos\n",
      "26-02-2024  21:51                12 xyz.txt\n",
      "              16 File(s)    171,346,291 bytes\n",
      "              25 Dir(s)  97,294,868,480 bytes free\n"
     ]
    }
   ],
   "source": [
    "    ls"
   ]
  },
  {
   "cell_type": "code",
   "execution_count": 69,
   "id": "b137ffe8",
   "metadata": {},
   "outputs": [
    {
     "name": "stdout",
     "output_type": "stream",
     "text": [
      "'Mayank', 'Sr. Data Analyst', '29', 'Bengaluru'\n"
     ]
    }
   ],
   "source": [
    "with open('xyz.csv', mode = 'w+') as f:\n",
    "    f.write(\"'Mayank', 'Sr. Data Analyst', '29', 'Bengaluru'\")\n",
    "    f.seek(0)\n",
    "    print(f.read())"
   ]
  },
  {
   "cell_type": "markdown",
   "id": "cfceba2c",
   "metadata": {},
   "source": [
    "### Functions \n",
    "\n",
    "- read()\n",
    "- readline()\n",
    "- readlines()\n",
    "- write()\n",
    "- writelines()"
   ]
  },
  {
   "cell_type": "code",
   "execution_count": null,
   "id": "e21e1276",
   "metadata": {},
   "outputs": [],
   "source": []
  }
 ],
 "metadata": {
  "kernelspec": {
   "display_name": "Python 3 (ipykernel)",
   "language": "python",
   "name": "python3"
  },
  "language_info": {
   "codemirror_mode": {
    "name": "ipython",
    "version": 3
   },
   "file_extension": ".py",
   "mimetype": "text/x-python",
   "name": "python",
   "nbconvert_exporter": "python",
   "pygments_lexer": "ipython3",
   "version": "3.11.5"
  }
 },
 "nbformat": 4,
 "nbformat_minor": 5
}
