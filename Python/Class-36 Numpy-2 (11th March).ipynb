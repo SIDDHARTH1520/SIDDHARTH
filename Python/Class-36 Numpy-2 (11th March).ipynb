{
 "cells": [
  {
   "cell_type": "markdown",
   "id": "1c06861a",
   "metadata": {},
   "source": [
    "### Indexing and Slicing in an Array "
   ]
  },
  {
   "cell_type": "markdown",
   "id": "37a2a5ef",
   "metadata": {},
   "source": [
    "#### Indexing and slicing in 1-D array \n",
    "\n",
    "- The indexing and slicing of a 1-D array is similar to the indexing and slicing of a list \n",
    "- Array also supports both positive and negative indexing"
   ]
  },
  {
   "cell_type": "markdown",
   "id": "ede53e67",
   "metadata": {},
   "source": [
    "#### Indexing \n",
    "\n",
    " - Fetch the element out from its particular position or index\n",
    "\n",
    "    Syntax:\n",
    "    \n",
    "        arr[index]"
   ]
  },
  {
   "cell_type": "code",
   "execution_count": 1,
   "id": "0e13361f",
   "metadata": {},
   "outputs": [],
   "source": [
    "import numpy as np"
   ]
  },
  {
   "cell_type": "code",
   "execution_count": 2,
   "id": "a6bf95af",
   "metadata": {},
   "outputs": [
    {
     "data": {
      "text/plain": [
       "array([1, 2, 3, 4, 5, 6, 7, 8, 9])"
      ]
     },
     "execution_count": 2,
     "metadata": {},
     "output_type": "execute_result"
    }
   ],
   "source": [
    "arr = np.array([1,2,3,4,5,6,7,8,9])\n",
    "arr"
   ]
  },
  {
   "cell_type": "code",
   "execution_count": 3,
   "id": "4aba307d",
   "metadata": {},
   "outputs": [
    {
     "data": {
      "text/plain": [
       "(9,)"
      ]
     },
     "execution_count": 3,
     "metadata": {},
     "output_type": "execute_result"
    }
   ],
   "source": [
    "arr.shape"
   ]
  },
  {
   "cell_type": "code",
   "execution_count": 4,
   "id": "a2e12195",
   "metadata": {},
   "outputs": [
    {
     "data": {
      "text/plain": [
       "1"
      ]
     },
     "execution_count": 4,
     "metadata": {},
     "output_type": "execute_result"
    }
   ],
   "source": [
    "arr.ndim"
   ]
  },
  {
   "cell_type": "code",
   "execution_count": 5,
   "id": "8a0db36c",
   "metadata": {},
   "outputs": [
    {
     "data": {
      "text/plain": [
       "array([1, 2, 3, 4, 5, 6, 7, 8, 9])"
      ]
     },
     "execution_count": 5,
     "metadata": {},
     "output_type": "execute_result"
    }
   ],
   "source": [
    "arr"
   ]
  },
  {
   "cell_type": "code",
   "execution_count": 8,
   "id": "b6d6ad29",
   "metadata": {},
   "outputs": [
    {
     "name": "stdout",
     "output_type": "stream",
     "text": [
      "1\n",
      "1\n",
      "1\n"
     ]
    }
   ],
   "source": [
    "# Fetch the first element of the array \n",
    "\n",
    "print(arr[0]) # positive index \n",
    "print(arr[-len(arr)]) # len function\n",
    "print(arr[-9]) # Negative index"
   ]
  },
  {
   "cell_type": "code",
   "execution_count": 9,
   "id": "bba44880",
   "metadata": {},
   "outputs": [
    {
     "name": "stdout",
     "output_type": "stream",
     "text": [
      "9\n",
      "9\n",
      "9\n"
     ]
    }
   ],
   "source": [
    "# Fetch the last element \n",
    "\n",
    "print(arr[8]) # positive index\n",
    "print(arr[-1]) # negative index\n",
    "print(arr[len(arr)-1]) # len function "
   ]
  },
  {
   "cell_type": "markdown",
   "id": "173137e6",
   "metadata": {},
   "source": [
    "### Slicing \n",
    "\n",
    "    Syntax:\n",
    "        \n",
    "        arr[starting_index: ending_index: step_Size]\n",
    "        \n",
    "        ending index will be excluded\n",
    "        by default, the step-size wll be 1"
   ]
  },
  {
   "cell_type": "code",
   "execution_count": 10,
   "id": "800f0638",
   "metadata": {},
   "outputs": [
    {
     "data": {
      "text/plain": [
       "array([1, 2, 3, 4, 5, 6, 7, 8, 9])"
      ]
     },
     "execution_count": 10,
     "metadata": {},
     "output_type": "execute_result"
    }
   ],
   "source": [
    "arr"
   ]
  },
  {
   "cell_type": "code",
   "execution_count": 15,
   "id": "80b443df",
   "metadata": {},
   "outputs": [
    {
     "name": "stdout",
     "output_type": "stream",
     "text": [
      "[1 2 3 4]\n",
      "[1 2 3 4]\n",
      "[1 2 3 4]\n"
     ]
    }
   ],
   "source": [
    "# Fetch the first four elements \n",
    "\n",
    "print(arr[0:4])\n",
    "print(arr[:4])\n",
    "print(arr[0:4:1])"
   ]
  },
  {
   "cell_type": "code",
   "execution_count": 16,
   "id": "8fc24add",
   "metadata": {},
   "outputs": [
    {
     "name": "stdout",
     "output_type": "stream",
     "text": [
      "[9 8 7 6 5 4 3 2 1]\n"
     ]
    }
   ],
   "source": [
    "# reverse the array \n",
    "print(arr[::-1])"
   ]
  },
  {
   "cell_type": "code",
   "execution_count": 17,
   "id": "ec50452b",
   "metadata": {},
   "outputs": [
    {
     "name": "stdout",
     "output_type": "stream",
     "text": [
      "[9 7 5 3 1]\n"
     ]
    }
   ],
   "source": [
    "# fetch every second element in the reverse order\n",
    "\n",
    "print(arr[::-2])"
   ]
  },
  {
   "cell_type": "markdown",
   "id": "d3c6e5b2",
   "metadata": {},
   "source": [
    "### Indexing and Slicing of a 2-D array \n",
    "\n",
    "        [[1,2,3],\n",
    "         [3,4,5],\n",
    "         [4,5,6]]\n",
    "\n",
    "- How many list are there and how many elements are there in each list ?\n",
    "- How many list out of the total you want and how many elements from the total you want "
   ]
  },
  {
   "cell_type": "markdown",
   "id": "0e9af8ec",
   "metadata": {},
   "source": [
    "#### Indexing of a 2-D array \n",
    "\n",
    "    Syntax:\n",
    "        \n",
    "        arr[row_index, column_index] or arr[list_index, element index]"
   ]
  },
  {
   "cell_type": "code",
   "execution_count": 19,
   "id": "e7a4cc13",
   "metadata": {},
   "outputs": [
    {
     "data": {
      "text/plain": [
       "array([[10, 20, 30],\n",
       "       [40, 50, 60],\n",
       "       [70, 80, 90]])"
      ]
     },
     "execution_count": 19,
     "metadata": {},
     "output_type": "execute_result"
    }
   ],
   "source": [
    "arr = np.array([10,20,30,40,50,60,70,80,90]).reshape(3,3)\n",
    "arr"
   ]
  },
  {
   "cell_type": "code",
   "execution_count": 20,
   "id": "98d2e375",
   "metadata": {},
   "outputs": [
    {
     "data": {
      "text/plain": [
       "2"
      ]
     },
     "execution_count": 20,
     "metadata": {},
     "output_type": "execute_result"
    }
   ],
   "source": [
    "arr.ndim"
   ]
  },
  {
   "cell_type": "code",
   "execution_count": 21,
   "id": "1998ecba",
   "metadata": {},
   "outputs": [
    {
     "data": {
      "text/plain": [
       "(3, 3)"
      ]
     },
     "execution_count": 21,
     "metadata": {},
     "output_type": "execute_result"
    }
   ],
   "source": [
    "arr.shape"
   ]
  },
  {
   "cell_type": "code",
   "execution_count": 25,
   "id": "9e6bd4cb",
   "metadata": {},
   "outputs": [
    {
     "name": "stdout",
     "output_type": "stream",
     "text": [
      "[10 20 30]\n",
      "[10 20 30]\n",
      "[10 20 30]\n"
     ]
    }
   ],
   "source": [
    "# Fetch the first row \n",
    "\n",
    "print(arr[0]) # positive indexing\n",
    "print(arr[-3]) # negative indexing\n",
    "print(arr[-len(arr)]) # len function "
   ]
  },
  {
   "cell_type": "code",
   "execution_count": 26,
   "id": "6602cbe5",
   "metadata": {},
   "outputs": [
    {
     "name": "stdout",
     "output_type": "stream",
     "text": [
      "[70 80 90]\n",
      "[70 80 90]\n",
      "[70 80 90]\n"
     ]
    }
   ],
   "source": [
    "# fetch the last row \n",
    "\n",
    "print(arr[2]) # positive index\n",
    "print(arr[-1]) # negative index\n",
    "print(arr[len(arr)-1])"
   ]
  },
  {
   "cell_type": "code",
   "execution_count": 27,
   "id": "dbe92651",
   "metadata": {},
   "outputs": [
    {
     "data": {
      "text/plain": [
       "array([[10, 20, 30],\n",
       "       [40, 50, 60],\n",
       "       [70, 80, 90]])"
      ]
     },
     "execution_count": 27,
     "metadata": {},
     "output_type": "execute_result"
    }
   ],
   "source": [
    "arr"
   ]
  },
  {
   "cell_type": "code",
   "execution_count": 32,
   "id": "a0ab304a",
   "metadata": {},
   "outputs": [
    {
     "name": "stdout",
     "output_type": "stream",
     "text": [
      "20\n",
      "20\n",
      "20\n",
      "20\n"
     ]
    }
   ],
   "source": [
    "# Fetch 20 out of the array \n",
    "\n",
    "# positive indexing\n",
    "print(arr[0,1]) \n",
    "print(arr[0][1])\n",
    "\n",
    "# negative indexing\n",
    "print(arr[-3,-2])\n",
    "print(arr[-3][-2])"
   ]
  },
  {
   "cell_type": "markdown",
   "id": "e7776154",
   "metadata": {},
   "source": [
    "### Slicing in a 2-D array \n",
    "\n",
    "Syntax:\n",
    "\n",
    "#### arr[row_slicing] or arr[list_slicing]\n",
    "    \n",
    "    arr[row_starting_index: row_ending_index: step-size] or arr[list_starting_index: list_ending_index: step-size]\n",
    "    \n",
    "#### arr[column_slicing] or arr[element_Slicing]\n",
    "    \n",
    "    arr[column_starting_index: column_ending_index: step-size] \n",
    "    or \n",
    "    arr[element_starting_index: element_ending_index: step-size]\n",
    "    \n",
    "- we cannot use column slicing alone\n",
    "\n",
    "##### arr[row_slicing, column_Slicing]\n",
    "    \n",
    "    arr[row_starting_index: row_ending_index: step-size,column_starting_index: column_ending_index: step-size ] \n",
    "    or \n",
    "    arr[list_starting_index: list_ending_index: step-size, element_starting_index: element_ending_index: step-size]\n",
    "    "
   ]
  },
  {
   "cell_type": "code",
   "execution_count": 33,
   "id": "df81525a",
   "metadata": {},
   "outputs": [
    {
     "data": {
      "text/plain": [
       "array([[10, 20, 30],\n",
       "       [40, 50, 60],\n",
       "       [70, 80, 90]])"
      ]
     },
     "execution_count": 33,
     "metadata": {},
     "output_type": "execute_result"
    }
   ],
   "source": [
    "arr"
   ]
  },
  {
   "cell_type": "code",
   "execution_count": 34,
   "id": "7c543647",
   "metadata": {},
   "outputs": [
    {
     "name": "stdout",
     "output_type": "stream",
     "text": [
      "[[10 20 30]\n",
      " [40 50 60]]\n"
     ]
    }
   ],
   "source": [
    "# Fetch out the first two list or first 2 rows\n",
    "\n",
    "print(arr[0:2])"
   ]
  },
  {
   "cell_type": "code",
   "execution_count": 35,
   "id": "0b851b84",
   "metadata": {},
   "outputs": [
    {
     "name": "stdout",
     "output_type": "stream",
     "text": [
      "[[10 20 30]\n",
      " [40 50 60]]\n"
     ]
    }
   ],
   "source": [
    "print(arr[:2])"
   ]
  },
  {
   "cell_type": "code",
   "execution_count": 36,
   "id": "2ecbc3e3",
   "metadata": {},
   "outputs": [
    {
     "name": "stdout",
     "output_type": "stream",
     "text": [
      "[[10 20 30]\n",
      " [40 50 60]]\n"
     ]
    }
   ],
   "source": [
    "print(arr[0:2:1])"
   ]
  },
  {
   "cell_type": "code",
   "execution_count": 39,
   "id": "378ff3f4",
   "metadata": {},
   "outputs": [
    {
     "name": "stdout",
     "output_type": "stream",
     "text": [
      "[[40 50 60]\n",
      " [70 80 90]]\n"
     ]
    }
   ],
   "source": [
    "# Fetch out the last two list or last 2 rows\n",
    "\n",
    "print(arr[1:])"
   ]
  },
  {
   "cell_type": "code",
   "execution_count": 43,
   "id": "af1cc60b",
   "metadata": {},
   "outputs": [
    {
     "data": {
      "text/plain": [
       "array([[40, 50, 60],\n",
       "       [70, 80, 90]])"
      ]
     },
     "execution_count": 43,
     "metadata": {},
     "output_type": "execute_result"
    }
   ],
   "source": [
    "arr[-2::1]"
   ]
  },
  {
   "cell_type": "code",
   "execution_count": 45,
   "id": "9d13320a",
   "metadata": {},
   "outputs": [
    {
     "data": {
      "text/plain": [
       "array([[40, 50, 60],\n",
       "       [70, 80, 90]])"
      ]
     },
     "execution_count": 45,
     "metadata": {},
     "output_type": "execute_result"
    }
   ],
   "source": [
    "arr[-1:-3:-1][::-1]\n"
   ]
  },
  {
   "cell_type": "code",
   "execution_count": 46,
   "id": "7e075b92",
   "metadata": {},
   "outputs": [
    {
     "data": {
      "text/plain": [
       "array([[10, 20, 30],\n",
       "       [40, 50, 60],\n",
       "       [70, 80, 90]])"
      ]
     },
     "execution_count": 46,
     "metadata": {},
     "output_type": "execute_result"
    }
   ],
   "source": [
    "arr"
   ]
  },
  {
   "cell_type": "code",
   "execution_count": 49,
   "id": "241007a9",
   "metadata": {},
   "outputs": [
    {
     "data": {
      "text/plain": [
       "array([[10, 20],\n",
       "       [40, 50]])"
      ]
     },
     "execution_count": 49,
     "metadata": {},
     "output_type": "execute_result"
    }
   ],
   "source": [
    "arr[:2, 0:2]"
   ]
  },
  {
   "cell_type": "code",
   "execution_count": 50,
   "id": "35f4ec76",
   "metadata": {
    "scrolled": false
   },
   "outputs": [
    {
     "data": {
      "text/plain": [
       "array([[10, 20, 30],\n",
       "       [40, 50, 60],\n",
       "       [70, 80, 90]])"
      ]
     },
     "execution_count": 50,
     "metadata": {},
     "output_type": "execute_result"
    }
   ],
   "source": [
    "arr"
   ]
  },
  {
   "cell_type": "markdown",
   "id": "a92b8a3e",
   "metadata": {},
   "source": [
    "        [[10,20],\n",
    "         [70,80]]"
   ]
  },
  {
   "cell_type": "code",
   "execution_count": 57,
   "id": "dbb7f972",
   "metadata": {},
   "outputs": [
    {
     "data": {
      "text/plain": [
       "array([[10, 20],\n",
       "       [70, 80]])"
      ]
     },
     "execution_count": 57,
     "metadata": {},
     "output_type": "execute_result"
    }
   ],
   "source": [
    "arr[::2,:2]"
   ]
  },
  {
   "cell_type": "code",
   "execution_count": 58,
   "id": "50235d42",
   "metadata": {},
   "outputs": [
    {
     "data": {
      "text/plain": [
       "3"
      ]
     },
     "execution_count": 58,
     "metadata": {},
     "output_type": "execute_result"
    }
   ],
   "source": [
    "len(arr)"
   ]
  },
  {
   "cell_type": "code",
   "execution_count": 60,
   "id": "c39320fc",
   "metadata": {},
   "outputs": [
    {
     "data": {
      "text/plain": [
       "array([[10, 20, 30],\n",
       "       [70, 80, 90]])"
      ]
     },
     "execution_count": 60,
     "metadata": {},
     "output_type": "execute_result"
    }
   ],
   "source": [
    "arr[::2]"
   ]
  },
  {
   "cell_type": "code",
   "execution_count": 61,
   "id": "6042b222",
   "metadata": {},
   "outputs": [
    {
     "data": {
      "text/plain": [
       "array([[10, 20, 30],\n",
       "       [40, 50, 60],\n",
       "       [70, 80, 90]])"
      ]
     },
     "execution_count": 61,
     "metadata": {},
     "output_type": "execute_result"
    }
   ],
   "source": [
    "arr"
   ]
  },
  {
   "cell_type": "code",
   "execution_count": null,
   "id": "e8c64a8f",
   "metadata": {},
   "outputs": [],
   "source": []
  },
  {
   "cell_type": "code",
   "execution_count": 63,
   "id": "10cf28d7",
   "metadata": {},
   "outputs": [
    {
     "data": {
      "text/plain": [
       "array([[10, 30],\n",
       "       [70, 90]])"
      ]
     },
     "execution_count": 63,
     "metadata": {},
     "output_type": "execute_result"
    }
   ],
   "source": [
    "arr[::2, ::2]"
   ]
  },
  {
   "cell_type": "markdown",
   "id": "6e7fc0a4",
   "metadata": {},
   "source": [
    "    [[60,40],\n",
    "     [90, 70]]"
   ]
  },
  {
   "cell_type": "code",
   "execution_count": 66,
   "id": "9576a91f",
   "metadata": {},
   "outputs": [
    {
     "data": {
      "text/plain": [
       "array([[60, 40],\n",
       "       [90, 70]])"
      ]
     },
     "execution_count": 66,
     "metadata": {},
     "output_type": "execute_result"
    }
   ],
   "source": [
    "arr[1:, ::-2]"
   ]
  },
  {
   "cell_type": "code",
   "execution_count": 67,
   "id": "cf660a47",
   "metadata": {},
   "outputs": [
    {
     "data": {
      "text/plain": [
       "array([[10, 20, 30],\n",
       "       [40, 50, 60],\n",
       "       [70, 80, 90]])"
      ]
     },
     "execution_count": 67,
     "metadata": {},
     "output_type": "execute_result"
    }
   ],
   "source": [
    "arr"
   ]
  },
  {
   "cell_type": "markdown",
   "id": "89b4d63b",
   "metadata": {},
   "source": [
    "### Indexing and Slicing of a 3-D array \n",
    "\n",
    "#### Indexing"
   ]
  },
  {
   "cell_type": "code",
   "execution_count": 71,
   "id": "06becc1a",
   "metadata": {},
   "outputs": [
    {
     "data": {
      "text/plain": [
       "array([[[ 0,  1,  2,  3],\n",
       "        [ 4,  5,  6,  7],\n",
       "        [ 8,  9, 10, 11]],\n",
       "\n",
       "       [[12, 13, 14, 15],\n",
       "        [16, 17, 18, 19],\n",
       "        [20, 21, 22, 23]],\n",
       "\n",
       "       [[24, 25, 26, 27],\n",
       "        [28, 29, 30, 31],\n",
       "        [32, 33, 34, 35]]])"
      ]
     },
     "execution_count": 71,
     "metadata": {},
     "output_type": "execute_result"
    }
   ],
   "source": [
    "arr = np.arange(36).reshape(3,3,4)\n",
    "arr"
   ]
  },
  {
   "cell_type": "markdown",
   "id": "4681ff1d",
   "metadata": {},
   "source": [
    "### Indexing\n",
    "\n",
    "    Syntax:\n",
    "\n",
    "    arr[layer_index] # fetch the layer\n",
    "    arr[layer_index, list_index] # fetch a layer and a specific list in that layer\n",
    "    arr[layer_index, list_index, element_index] # fetch a layer, a specific list and a specific element from that list"
   ]
  },
  {
   "cell_type": "code",
   "execution_count": 72,
   "id": "d1bc5ee1",
   "metadata": {},
   "outputs": [
    {
     "data": {
      "text/plain": [
       "array([[[ 0,  1,  2,  3],\n",
       "        [ 4,  5,  6,  7],\n",
       "        [ 8,  9, 10, 11]],\n",
       "\n",
       "       [[12, 13, 14, 15],\n",
       "        [16, 17, 18, 19],\n",
       "        [20, 21, 22, 23]],\n",
       "\n",
       "       [[24, 25, 26, 27],\n",
       "        [28, 29, 30, 31],\n",
       "        [32, 33, 34, 35]]])"
      ]
     },
     "execution_count": 72,
     "metadata": {},
     "output_type": "execute_result"
    }
   ],
   "source": [
    "arr"
   ]
  },
  {
   "cell_type": "code",
   "execution_count": 73,
   "id": "39dcb386",
   "metadata": {},
   "outputs": [
    {
     "data": {
      "text/plain": [
       "array([[12, 13, 14, 15],\n",
       "       [16, 17, 18, 19],\n",
       "       [20, 21, 22, 23]])"
      ]
     },
     "execution_count": 73,
     "metadata": {},
     "output_type": "execute_result"
    }
   ],
   "source": [
    "arr[1]"
   ]
  },
  {
   "cell_type": "code",
   "execution_count": 74,
   "id": "c5c5424a",
   "metadata": {},
   "outputs": [
    {
     "data": {
      "text/plain": [
       "array([28, 29, 30, 31])"
      ]
     },
     "execution_count": 74,
     "metadata": {},
     "output_type": "execute_result"
    }
   ],
   "source": [
    "arr[2,1]"
   ]
  },
  {
   "cell_type": "code",
   "execution_count": 75,
   "id": "6ac42fce",
   "metadata": {},
   "outputs": [
    {
     "data": {
      "text/plain": [
       "9"
      ]
     },
     "execution_count": 75,
     "metadata": {},
     "output_type": "execute_result"
    }
   ],
   "source": [
    "arr[0,2,1]"
   ]
  },
  {
   "cell_type": "markdown",
   "id": "d90a37cb",
   "metadata": {},
   "source": [
    "### Slicing \n",
    "\n",
    "Syntax:\n",
    "    \n",
    "    arr[layer_Slicing]\n",
    "    arr[layer_starting_index: layer_ending_index: step-size]\n",
    "    \n",
    "    arr[row_slicing] or arr[list_slicing]\n",
    "    \n",
    "    arr[row_starting_index: row_ending_index: step-size] \n",
    "    or \n",
    "    arr[list_starting_index: list_ending_index: step-size]\n",
    "    \n",
    "    - we cannot use list slicing alone\n",
    "    \n",
    "    arr[column_slicing] or arr[element_Slicing]\n",
    "    \n",
    "    arr[column_starting_index: column_ending_index: step-size] \n",
    "    or \n",
    "    arr[element_starting_index: element_ending_index: step-size]\n",
    "    \n",
    "    - we cannot use column slicing alone"
   ]
  },
  {
   "cell_type": "code",
   "execution_count": 76,
   "id": "d6e41ebd",
   "metadata": {},
   "outputs": [
    {
     "data": {
      "text/plain": [
       "array([[[ 0,  1,  2,  3],\n",
       "        [ 4,  5,  6,  7],\n",
       "        [ 8,  9, 10, 11]],\n",
       "\n",
       "       [[12, 13, 14, 15],\n",
       "        [16, 17, 18, 19],\n",
       "        [20, 21, 22, 23]],\n",
       "\n",
       "       [[24, 25, 26, 27],\n",
       "        [28, 29, 30, 31],\n",
       "        [32, 33, 34, 35]]])"
      ]
     },
     "execution_count": 76,
     "metadata": {},
     "output_type": "execute_result"
    }
   ],
   "source": [
    "arr"
   ]
  },
  {
   "cell_type": "code",
   "execution_count": 79,
   "id": "ddcc88ac",
   "metadata": {},
   "outputs": [
    {
     "data": {
      "text/plain": [
       "array([[[ 0,  1,  2,  3],\n",
       "        [ 4,  5,  6,  7],\n",
       "        [ 8,  9, 10, 11]],\n",
       "\n",
       "       [[12, 13, 14, 15],\n",
       "        [16, 17, 18, 19],\n",
       "        [20, 21, 22, 23]]])"
      ]
     },
     "execution_count": 79,
     "metadata": {},
     "output_type": "execute_result"
    }
   ],
   "source": [
    "arr[:2]"
   ]
  },
  {
   "cell_type": "code",
   "execution_count": 80,
   "id": "62a2fad3",
   "metadata": {},
   "outputs": [
    {
     "data": {
      "text/plain": [
       "array([[[ 0,  1,  2,  3],\n",
       "        [ 4,  5,  6,  7],\n",
       "        [ 8,  9, 10, 11]],\n",
       "\n",
       "       [[12, 13, 14, 15],\n",
       "        [16, 17, 18, 19],\n",
       "        [20, 21, 22, 23]],\n",
       "\n",
       "       [[24, 25, 26, 27],\n",
       "        [28, 29, 30, 31],\n",
       "        [32, 33, 34, 35]]])"
      ]
     },
     "execution_count": 80,
     "metadata": {},
     "output_type": "execute_result"
    }
   ],
   "source": [
    "arr"
   ]
  },
  {
   "cell_type": "code",
   "execution_count": 82,
   "id": "114591d0",
   "metadata": {},
   "outputs": [
    {
     "data": {
      "text/plain": [
       "array([[[ 0,  1,  2,  3],\n",
       "        [ 4,  5,  6,  7]],\n",
       "\n",
       "       [[24, 25, 26, 27],\n",
       "        [28, 29, 30, 31]]])"
      ]
     },
     "execution_count": 82,
     "metadata": {},
     "output_type": "execute_result"
    }
   ],
   "source": [
    "arr[::2,:2]"
   ]
  },
  {
   "cell_type": "code",
   "execution_count": 89,
   "id": "eb3802c3",
   "metadata": {},
   "outputs": [
    {
     "data": {
      "text/plain": [
       "array([[[ 0,  1,  2,  3],\n",
       "        [ 4,  5,  6,  7],\n",
       "        [ 8,  9, 10, 11]],\n",
       "\n",
       "       [[24, 25, 26, 27],\n",
       "        [28, 29, 30, 31],\n",
       "        [32, 33, 34, 35]]])"
      ]
     },
     "execution_count": 89,
     "metadata": {},
     "output_type": "execute_result"
    }
   ],
   "source": [
    "arr[::2, ::]"
   ]
  },
  {
   "cell_type": "code",
   "execution_count": 94,
   "id": "b9b954c2",
   "metadata": {},
   "outputs": [
    {
     "data": {
      "text/plain": [
       "array([[[15],\n",
       "        [19],\n",
       "        [23]]])"
      ]
     },
     "execution_count": 94,
     "metadata": {},
     "output_type": "execute_result"
    }
   ],
   "source": [
    "arr[1:2, 0:3, 3:]"
   ]
  },
  {
   "cell_type": "markdown",
   "id": "95aa49da",
   "metadata": {},
   "source": [
    "### Array of random value "
   ]
  },
  {
   "cell_type": "markdown",
   "id": "58984cca",
   "metadata": {},
   "source": [
    "- In numpy, we have a random module that is used to create arrays of random valuesm4"
   ]
  },
  {
   "cell_type": "markdown",
   "id": "f0f34bec",
   "metadata": {},
   "source": [
    "### random.random()\n",
    "\n",
    "- It generates a specified number of random values \n",
    "- The random values are always between 0 and 1\n",
    "- Here we will get the 1-D array\n",
    "\n",
    "    Syntax:\n",
    "    \n",
    "        np.random.random(number of values)"
   ]
  },
  {
   "cell_type": "code",
   "execution_count": 96,
   "id": "85b4c275",
   "metadata": {},
   "outputs": [
    {
     "data": {
      "text/plain": [
       "array([0.24951956, 0.70307357, 0.64288648, 0.46331658, 0.27284576,\n",
       "       0.09004659, 0.88917961, 0.87650277, 0.9948953 , 0.51479897,\n",
       "       0.22661013, 0.16682799, 0.94771992, 0.78119536, 0.90492458,\n",
       "       0.73201013, 0.18832168, 0.33473419, 0.01305575, 0.72976303])"
      ]
     },
     "execution_count": 96,
     "metadata": {},
     "output_type": "execute_result"
    }
   ],
   "source": [
    "np.random.random(20)"
   ]
  },
  {
   "cell_type": "code",
   "execution_count": 99,
   "id": "4e693a82",
   "metadata": {},
   "outputs": [
    {
     "data": {
      "text/plain": [
       "array([[0.57250941, 0.30096912, 0.80320249],\n",
       "       [0.70658824, 0.32815462, 0.20323346],\n",
       "       [0.70055519, 0.94666286, 0.61891979]])"
      ]
     },
     "execution_count": 99,
     "metadata": {},
     "output_type": "execute_result"
    }
   ],
   "source": [
    "# create a 3*3 matrix of random values \n",
    "\n",
    "arr = np.random.random(9).reshape(3,3)\n",
    "arr"
   ]
  },
  {
   "cell_type": "code",
   "execution_count": 100,
   "id": "2a8d4046",
   "metadata": {},
   "outputs": [
    {
     "data": {
      "text/plain": [
       "(3, 3)"
      ]
     },
     "execution_count": 100,
     "metadata": {},
     "output_type": "execute_result"
    }
   ],
   "source": [
    "arr.shape"
   ]
  },
  {
   "cell_type": "markdown",
   "id": "0a5223cc",
   "metadata": {},
   "source": [
    "### random.rand()\n",
    "\n",
    "- It returns an array of random value  of a given shape\n",
    "- The random values are between 0 and 1\n",
    "\n",
    "    Syntax:\n",
    "        \n",
    "        np.random.rand(rows, columns)"
   ]
  },
  {
   "cell_type": "code",
   "execution_count": 106,
   "id": "7a6c78ae",
   "metadata": {},
   "outputs": [
    {
     "data": {
      "text/plain": [
       "array([[0.72314813, 0.17579374, 0.34796609, 0.52441218],\n",
       "       [0.70412785, 0.85236518, 0.68311857, 0.67969665],\n",
       "       [0.89053374, 0.27476096, 0.94429119, 0.85385266]])"
      ]
     },
     "execution_count": 106,
     "metadata": {},
     "output_type": "execute_result"
    }
   ],
   "source": [
    "# create a 3*4 matrix of random values \n",
    "\n",
    "arr = np.random.rand(3,4)\n",
    "arr"
   ]
  },
  {
   "cell_type": "code",
   "execution_count": 107,
   "id": "ea5336fa",
   "metadata": {},
   "outputs": [
    {
     "data": {
      "text/plain": [
       "(3, 4)"
      ]
     },
     "execution_count": 107,
     "metadata": {},
     "output_type": "execute_result"
    }
   ],
   "source": [
    "arr.shape"
   ]
  },
  {
   "cell_type": "markdown",
   "id": "a969b530",
   "metadata": {},
   "source": [
    "##### Exception:"
   ]
  },
  {
   "cell_type": "code",
   "execution_count": 109,
   "id": "9ebcea1f",
   "metadata": {
    "scrolled": true
   },
   "outputs": [
    {
     "data": {
      "text/plain": [
       "array([[0.93125932, 0.49921495, 0.8384663 , 0.66936241],\n",
       "       [0.06093363, 0.43620042, 0.0277712 , 0.76550975],\n",
       "       [0.30014346, 0.07626544, 0.00850462, 0.81064964]])"
      ]
     },
     "execution_count": 109,
     "metadata": {},
     "output_type": "execute_result"
    }
   ],
   "source": [
    "np.random.random((3,4))"
   ]
  },
  {
   "cell_type": "markdown",
   "id": "2f8861ea",
   "metadata": {},
   "source": [
    "### random.randit()\n",
    "\n",
    "- It returns an array of random integers between a specified ranges\n",
    "- This also returns the answer in 1-D array \n",
    "\n",
    "Syntax:\n",
    "    \n",
    "    np.random.randint(start, stop, number of values)\n",
    "    \n",
    "By default, stop will be excluded"
   ]
  },
  {
   "cell_type": "code",
   "execution_count": 111,
   "id": "bcd40839",
   "metadata": {},
   "outputs": [
    {
     "data": {
      "text/plain": [
       "array([88, 93, 27, 42, 84, 58, 94, 62, 42, 37, 97, 40])"
      ]
     },
     "execution_count": 111,
     "metadata": {},
     "output_type": "execute_result"
    }
   ],
   "source": [
    "arr =np.random.randint(10,100,12)\n",
    "arr"
   ]
  },
  {
   "cell_type": "code",
   "execution_count": 112,
   "id": "6cf528d5",
   "metadata": {},
   "outputs": [
    {
     "data": {
      "text/plain": [
       "array([2, 2, 1, 2, 1, 1, 1, 2, 1, 2, 1, 2])"
      ]
     },
     "execution_count": 112,
     "metadata": {},
     "output_type": "execute_result"
    }
   ],
   "source": [
    "arr =np.random.randint(1,3,12)\n",
    "arr"
   ]
  },
  {
   "cell_type": "code",
   "execution_count": 117,
   "id": "da7d946c",
   "metadata": {},
   "outputs": [
    {
     "data": {
      "text/plain": [
       "array([[19, 24, 72, 89, 52, 65],\n",
       "       [45, 73, 95, 73, 80, 87],\n",
       "       [85, 68, 98, 32, 38, 58],\n",
       "       [80, 85, 15, 19, 24, 26],\n",
       "       [69, 98, 66, 78, 34, 97],\n",
       "       [14, 32, 47, 81, 62, 28]])"
      ]
     },
     "execution_count": 117,
     "metadata": {},
     "output_type": "execute_result"
    }
   ],
   "source": [
    "arr =np.random.randint(10,100, 36).reshape(6,6)\n",
    "arr"
   ]
  },
  {
   "cell_type": "markdown",
   "id": "b89fea8b",
   "metadata": {},
   "source": [
    "### random.seed(random state)\n",
    "\n",
    "- It is used to set a random state \n",
    "- Random state is an integer number that will range from 0 to (2**32)-1\n"
   ]
  },
  {
   "cell_type": "code",
   "execution_count": 126,
   "id": "fda57f0b",
   "metadata": {},
   "outputs": [
    {
     "data": {
      "text/plain": [
       "array([19, 25, 74, 38, 99, 39])"
      ]
     },
     "execution_count": 126,
     "metadata": {},
     "output_type": "execute_result"
    }
   ],
   "source": [
    "np.random.seed(10)\n",
    "arr =np.random.randint(10,100,6)\n",
    "arr"
   ]
  },
  {
   "cell_type": "code",
   "execution_count": 123,
   "id": "0490868a",
   "metadata": {},
   "outputs": [
    {
     "data": {
      "text/plain": [
       "4294967295"
      ]
     },
     "execution_count": 123,
     "metadata": {},
     "output_type": "execute_result"
    }
   ],
   "source": [
    "(2**32)-1"
   ]
  },
  {
   "cell_type": "code",
   "execution_count": 124,
   "id": "bed8add2",
   "metadata": {},
   "outputs": [
    {
     "data": {
      "text/plain": [
       "array([45, 44, 22, 81, 62, 74])"
      ]
     },
     "execution_count": 124,
     "metadata": {},
     "output_type": "execute_result"
    }
   ],
   "source": [
    "np.random.seed(4294967295)\n",
    "arr =np.random.randint(10,100,6)\n",
    "arr"
   ]
  },
  {
   "cell_type": "code",
   "execution_count": 125,
   "id": "2e254117",
   "metadata": {},
   "outputs": [
    {
     "ename": "ValueError",
     "evalue": "Seed must be between 0 and 2**32 - 1",
     "output_type": "error",
     "traceback": [
      "\u001b[1;31m---------------------------------------------------------------------------\u001b[0m",
      "\u001b[1;31mValueError\u001b[0m                                Traceback (most recent call last)",
      "Cell \u001b[1;32mIn[125], line 1\u001b[0m\n\u001b[1;32m----> 1\u001b[0m np\u001b[38;5;241m.\u001b[39mrandom\u001b[38;5;241m.\u001b[39mseed(\u001b[38;5;241m4294967296\u001b[39m)\n\u001b[0;32m      2\u001b[0m arr \u001b[38;5;241m=\u001b[39mnp\u001b[38;5;241m.\u001b[39mrandom\u001b[38;5;241m.\u001b[39mrandint(\u001b[38;5;241m10\u001b[39m,\u001b[38;5;241m100\u001b[39m,\u001b[38;5;241m6\u001b[39m)\n\u001b[0;32m      3\u001b[0m arr\n",
      "File \u001b[1;32mmtrand.pyx:4789\u001b[0m, in \u001b[0;36mnumpy.random.mtrand.seed\u001b[1;34m()\u001b[0m\n",
      "File \u001b[1;32mmtrand.pyx:250\u001b[0m, in \u001b[0;36mnumpy.random.mtrand.RandomState.seed\u001b[1;34m()\u001b[0m\n",
      "File \u001b[1;32m_mt19937.pyx:166\u001b[0m, in \u001b[0;36mnumpy.random._mt19937.MT19937._legacy_seeding\u001b[1;34m()\u001b[0m\n",
      "File \u001b[1;32m_mt19937.pyx:180\u001b[0m, in \u001b[0;36mnumpy.random._mt19937.MT19937._legacy_seeding\u001b[1;34m()\u001b[0m\n",
      "\u001b[1;31mValueError\u001b[0m: Seed must be between 0 and 2**32 - 1"
     ]
    }
   ],
   "source": [
    "np.random.seed(4294967296)\n",
    "arr =np.random.randint(10,100,6)\n",
    "arr"
   ]
  },
  {
   "cell_type": "code",
   "execution_count": 127,
   "id": "fceb8736",
   "metadata": {},
   "outputs": [
    {
     "data": {
      "text/plain": [
       "array([47, 22, 82, 19, 85, 15])"
      ]
     },
     "execution_count": 127,
     "metadata": {},
     "output_type": "execute_result"
    }
   ],
   "source": [
    "np.random.seed(1)\n",
    "arr =np.random.randint(10,100,6)\n",
    "arr"
   ]
  },
  {
   "cell_type": "code",
   "execution_count": 128,
   "id": "f4f5d00c",
   "metadata": {},
   "outputs": [
    {
     "data": {
      "text/plain": [
       "array([50, 25, 82, 32, 53, 92])"
      ]
     },
     "execution_count": 128,
     "metadata": {},
     "output_type": "execute_result"
    }
   ],
   "source": [
    "np.random.seed(2)\n",
    "arr =np.random.randint(10,100,6)\n",
    "arr"
   ]
  },
  {
   "cell_type": "code",
   "execution_count": 129,
   "id": "8e8d857a",
   "metadata": {},
   "outputs": [
    {
     "data": {
      "text/plain": [
       "array([50, 25, 82, 32, 53, 92, 85, 17, 44, 59])"
      ]
     },
     "execution_count": 129,
     "metadata": {},
     "output_type": "execute_result"
    }
   ],
   "source": [
    "np.random.seed(2)\n",
    "arr =np.random.randint(10,100,10)\n",
    "arr"
   ]
  },
  {
   "cell_type": "code",
   "execution_count": 130,
   "id": "a455b843",
   "metadata": {},
   "outputs": [
    {
     "data": {
      "text/plain": [
       "array([50, 25, 82, 32, 53, 92, 85, 17, 44, 59, 85, 95, 57, 73, 41, 30, 47,\n",
       "       49, 77, 14])"
      ]
     },
     "execution_count": 130,
     "metadata": {},
     "output_type": "execute_result"
    }
   ],
   "source": [
    "np.random.seed(2)\n",
    "arr =np.random.randint(10,100,20)\n",
    "arr"
   ]
  },
  {
   "cell_type": "markdown",
   "id": "d1f2c2b9",
   "metadata": {},
   "source": [
    "### random.normal()\n",
    "\n",
    "- It returns an array of random values those are normally distributed \n",
    "\n",
    "Syntax:\n",
    "    \n",
    "    np.random.normal(mean, sd, size)"
   ]
  },
  {
   "cell_type": "code",
   "execution_count": 138,
   "id": "6f46af7c",
   "metadata": {},
   "outputs": [
    {
     "data": {
      "text/plain": [
       "array([ 99.28820579, 110.28610869, 101.41630971, 106.64905989,\n",
       "        99.22689074,  99.6548457 , 103.77590243, 104.12823324,\n",
       "        99.43465395,  88.16081203,  99.16475284, 103.42698984,\n",
       "       100.11750054, 102.2810064 , 101.35246391,  92.82495928,\n",
       "       104.41408573,  97.09959168,  97.49217348, 102.95476647,\n",
       "        96.34191875, 101.30877731,  95.7210221 ,  99.06237044,\n",
       "        98.13256855,  97.69014517,  95.91766948,  99.77438349,\n",
       "       100.60663888, 104.6297639 ,  97.13090152, 100.26351555,\n",
       "       111.03655293, 101.95910935, 102.41356714, 102.16667011,\n",
       "        91.47854153,  98.78045967,  89.30148104, 104.30661327,\n",
       "       108.50142199,  97.35607598, 108.81738959,  94.39196086,\n",
       "        94.04032917, 102.76365959,  95.92009526,  97.51676575,\n",
       "       105.43112782,  95.12662362,  98.58932091,  99.41392925,\n",
       "       101.89273633, 103.66097324,  99.48214483,  94.0064686 ,\n",
       "       105.05017788, 114.37680165, 104.10156322, 102.80305753,\n",
       "        98.121789  ,  98.73947851,  93.05193276, 103.08666138,\n",
       "        99.32106476, 106.43952478,  94.81502801, 106.82166069,\n",
       "        98.45021682,  96.94441441,  97.58447111,  96.95508156,\n",
       "        89.55832351, 103.19660999, 103.87151976, 106.392847  ,\n",
       "       103.5263801 , 103.2798869 ,  91.60748982, 100.91554934,\n",
       "        94.33387956,  98.60457145, 106.9830995 , 100.16109722,\n",
       "        86.93169614,  94.99211185,  97.16244497,  98.87170986,\n",
       "       104.69011903, 104.18392063, 104.06074238, 101.16153487,\n",
       "        98.52446163,  98.19161998, 102.16057537, 104.66979274,\n",
       "       107.76316928, 100.46811704, 101.47412915, 107.42715384,\n",
       "        94.56557423, 104.10581407,  96.06025399, 107.96905826,\n",
       "       107.02952181, 108.22378284, 107.70799354, 104.20303819,\n",
       "        94.88452801, 102.47386151, 104.47866299, 102.38676007,\n",
       "        99.42734739, 100.78448716, 101.93798333,  94.86886709,\n",
       "       103.39571451, 102.77455186,  99.34141537, 103.3394714 ,\n",
       "       105.81819864,  94.91666388, 107.35334164, 105.08160563,\n",
       "       105.03055196, 104.98666224, 103.57210991, 100.00324797,\n",
       "        96.33352539, 102.56218654, 100.66453783,  96.53173764,\n",
       "       108.79814495, 104.20264293,  98.44554919,  92.12787   ,\n",
       "        95.8096397 , 102.44295999,  98.71135816,  93.41261832,\n",
       "       101.33445602,  99.20629065,  97.98690197,  93.77545625,\n",
       "       101.67332561,  94.63726023,  98.93674484, 105.80283455,\n",
       "       106.22239934,  99.35958927])"
      ]
     },
     "execution_count": 138,
     "metadata": {},
     "output_type": "execute_result"
    }
   ],
   "source": [
    "# create an array of 150 random valus that are normally distributed where the mean is 100 and sd is 5\n",
    "\n",
    "np.random.seed(99)\n",
    "arr = np.random.normal(100, 5, 150)\n",
    "arr"
   ]
  },
  {
   "cell_type": "code",
   "execution_count": 139,
   "id": "faf4efcd",
   "metadata": {},
   "outputs": [],
   "source": [
    "import seaborn as sns\n",
    "import matplotlib.pyplot as plt"
   ]
  },
  {
   "cell_type": "code",
   "execution_count": 140,
   "id": "6e374cc5",
   "metadata": {},
   "outputs": [
    {
     "data": {
      "image/png": "[encoded data removed]",
      "text/plain": [
       "<Figure size 640x480 with 1 Axes>"
      ]
     },
     "metadata": {},
     "output_type": "display_data"
    }
   ],
   "source": [
    "sns.kdeplot(arr)\n",
    "plt.show()"
   ]
  },
  {
   "cell_type": "markdown",
   "id": "d36f46f7",
   "metadata": {},
   "source": [
    "### Functions in array \n",
    "\n"
   ]
  },
  {
   "cell_type": "markdown",
   "id": "061e49bc",
   "metadata": {},
   "source": [
    "#### np.sum\n",
    "\n",
    "- It returns the sum of all the elements of the array \n",
    "\n",
    "    Syntax:\n",
    "        \n",
    "        np.sum(arr, axis = 0,1)\n",
    "              or\n",
    "        arr.sum(axis = 0,1)]\n",
    "        \n",
    "        axis = 0 ---> interpreter reads the array from top to bottom, it is known as row wise operaton\n",
    "        axis = 1 ---> interpreter reads the array from left to right, it is known as column wise operation"
   ]
  },
  {
   "cell_type": "code",
   "execution_count": 141,
   "id": "271b874b",
   "metadata": {},
   "outputs": [
    {
     "data": {
      "text/plain": [
       "array([85, 40, 13, 42, 71, 95, 45, 78, 25, 75, 24, 63])"
      ]
     },
     "execution_count": 141,
     "metadata": {},
     "output_type": "execute_result"
    }
   ],
   "source": [
    "np.random.seed(45)\n",
    "x = np.random.randint(10,100,12)\n",
    "x"
   ]
  },
  {
   "cell_type": "code",
   "execution_count": 142,
   "id": "20e992c2",
   "metadata": {},
   "outputs": [
    {
     "data": {
      "text/plain": [
       "656"
      ]
     },
     "execution_count": 142,
     "metadata": {},
     "output_type": "execute_result"
    }
   ],
   "source": [
    "np.sum(x)"
   ]
  },
  {
   "cell_type": "code",
   "execution_count": 144,
   "id": "bf3b4d58",
   "metadata": {},
   "outputs": [
    {
     "data": {
      "text/plain": [
       "656"
      ]
     },
     "execution_count": 144,
     "metadata": {},
     "output_type": "execute_result"
    }
   ],
   "source": [
    "x.sum()"
   ]
  },
  {
   "cell_type": "code",
   "execution_count": 145,
   "id": "09627766",
   "metadata": {},
   "outputs": [
    {
     "data": {
      "text/plain": [
       "array([[85, 40, 13, 42],\n",
       "       [71, 95, 45, 78],\n",
       "       [25, 75, 24, 63]])"
      ]
     },
     "execution_count": 145,
     "metadata": {},
     "output_type": "execute_result"
    }
   ],
   "source": [
    "np.random.seed(45)\n",
    "x = np.random.randint(10,100,12).reshape(3,4)\n",
    "x"
   ]
  },
  {
   "cell_type": "code",
   "execution_count": 146,
   "id": "ec3c2489",
   "metadata": {},
   "outputs": [
    {
     "data": {
      "text/plain": [
       "array([181, 210,  82, 183])"
      ]
     },
     "execution_count": 146,
     "metadata": {},
     "output_type": "execute_result"
    }
   ],
   "source": [
    "np.sum(x, axis = 0)"
   ]
  },
  {
   "cell_type": "code",
   "execution_count": 147,
   "id": "a2949c57",
   "metadata": {},
   "outputs": [
    {
     "data": {
      "text/plain": [
       "array([181, 210,  82, 183])"
      ]
     },
     "execution_count": 147,
     "metadata": {},
     "output_type": "execute_result"
    }
   ],
   "source": [
    "x.sum(axis =0)"
   ]
  },
  {
   "cell_type": "code",
   "execution_count": 149,
   "id": "80fdcfb1",
   "metadata": {},
   "outputs": [
    {
     "data": {
      "text/plain": [
       "array([180, 289, 187])"
      ]
     },
     "execution_count": 149,
     "metadata": {},
     "output_type": "execute_result"
    }
   ],
   "source": [
    "np.sum(x, axis = 1)"
   ]
  },
  {
   "cell_type": "code",
   "execution_count": 151,
   "id": "e8b3ad69",
   "metadata": {},
   "outputs": [
    {
     "data": {
      "text/plain": [
       "array([180, 289, 187])"
      ]
     },
     "execution_count": 151,
     "metadata": {},
     "output_type": "execute_result"
    }
   ],
   "source": [
    "x.sum(axis = 1)"
   ]
  },
  {
   "cell_type": "markdown",
   "id": "56f7a55c",
   "metadata": {},
   "source": [
    "### np.mean()\n",
    "\n",
    "- It returns the average (mean) of the array\n",
    "\n",
    "Syntax:\n",
    "    \n",
    "    np.mean(arr, axis = 0, 1)\n",
    "         or\n",
    "    arr.mean(axis = 0,1)\n"
   ]
  },
  {
   "cell_type": "code",
   "execution_count": 152,
   "id": "46ed2dbb",
   "metadata": {},
   "outputs": [
    {
     "data": {
      "text/plain": [
       "array([[85, 40, 13, 42],\n",
       "       [71, 95, 45, 78],\n",
       "       [25, 75, 24, 63]])"
      ]
     },
     "execution_count": 152,
     "metadata": {},
     "output_type": "execute_result"
    }
   ],
   "source": [
    "x"
   ]
  },
  {
   "cell_type": "code",
   "execution_count": 153,
   "id": "b04d7c5f",
   "metadata": {},
   "outputs": [
    {
     "data": {
      "text/plain": [
       "54.666666666666664"
      ]
     },
     "execution_count": 153,
     "metadata": {},
     "output_type": "execute_result"
    }
   ],
   "source": [
    "x.mean()"
   ]
  },
  {
   "cell_type": "code",
   "execution_count": 156,
   "id": "782cb7d0",
   "metadata": {},
   "outputs": [
    {
     "data": {
      "text/plain": [
       "54.666666666666664"
      ]
     },
     "execution_count": 156,
     "metadata": {},
     "output_type": "execute_result"
    }
   ],
   "source": [
    "(x.flatten().sum())/12"
   ]
  },
  {
   "cell_type": "code",
   "execution_count": 157,
   "id": "4818608f",
   "metadata": {},
   "outputs": [
    {
     "data": {
      "text/plain": [
       "54.666666666666664"
      ]
     },
     "execution_count": 157,
     "metadata": {},
     "output_type": "execute_result"
    }
   ],
   "source": [
    "np.mean(x)"
   ]
  },
  {
   "cell_type": "code",
   "execution_count": 160,
   "id": "cdc6ce4e",
   "metadata": {},
   "outputs": [
    {
     "data": {
      "text/plain": [
       "array([181, 210,  82, 183])"
      ]
     },
     "execution_count": 160,
     "metadata": {},
     "output_type": "execute_result"
    }
   ],
   "source": [
    "np.sum(x, axis = 0)"
   ]
  },
  {
   "cell_type": "code",
   "execution_count": 158,
   "id": "956eb6b2",
   "metadata": {},
   "outputs": [
    {
     "data": {
      "text/plain": [
       "array([60.33333333, 70.        , 27.33333333, 61.        ])"
      ]
     },
     "execution_count": 158,
     "metadata": {},
     "output_type": "execute_result"
    }
   ],
   "source": [
    "np.mean(x, axis = 0)"
   ]
  },
  {
   "cell_type": "code",
   "execution_count": 159,
   "id": "175fa70e",
   "metadata": {},
   "outputs": [
    {
     "data": {
      "text/plain": [
       "60.333333333333336"
      ]
     },
     "execution_count": 159,
     "metadata": {},
     "output_type": "execute_result"
    }
   ],
   "source": [
    "181/3"
   ]
  },
  {
   "cell_type": "code",
   "execution_count": 161,
   "id": "7ce99eb7",
   "metadata": {},
   "outputs": [
    {
     "data": {
      "text/plain": [
       "70.0"
      ]
     },
     "execution_count": 161,
     "metadata": {},
     "output_type": "execute_result"
    }
   ],
   "source": [
    "210/3"
   ]
  },
  {
   "cell_type": "code",
   "execution_count": 162,
   "id": "aa2ff391",
   "metadata": {},
   "outputs": [
    {
     "data": {
      "text/plain": [
       "27.333333333333332"
      ]
     },
     "execution_count": 162,
     "metadata": {},
     "output_type": "execute_result"
    }
   ],
   "source": [
    "82/3"
   ]
  },
  {
   "cell_type": "code",
   "execution_count": 163,
   "id": "928635bd",
   "metadata": {},
   "outputs": [
    {
     "data": {
      "text/plain": [
       "61.0"
      ]
     },
     "execution_count": 163,
     "metadata": {},
     "output_type": "execute_result"
    }
   ],
   "source": [
    "183/3"
   ]
  },
  {
   "cell_type": "code",
   "execution_count": 165,
   "id": "3d4ec8ad",
   "metadata": {},
   "outputs": [
    {
     "data": {
      "text/plain": [
       "array([180, 289, 187])"
      ]
     },
     "execution_count": 165,
     "metadata": {},
     "output_type": "execute_result"
    }
   ],
   "source": [
    "x.sum(axis = 1)"
   ]
  },
  {
   "cell_type": "code",
   "execution_count": 167,
   "id": "f7887ab6",
   "metadata": {},
   "outputs": [
    {
     "data": {
      "text/plain": [
       "array([45.  , 72.25, 46.75])"
      ]
     },
     "execution_count": 167,
     "metadata": {},
     "output_type": "execute_result"
    }
   ],
   "source": [
    "x.mean(axis = 1)"
   ]
  },
  {
   "cell_type": "code",
   "execution_count": 168,
   "id": "860259c1",
   "metadata": {},
   "outputs": [
    {
     "data": {
      "text/plain": [
       "45.0"
      ]
     },
     "execution_count": 168,
     "metadata": {},
     "output_type": "execute_result"
    }
   ],
   "source": [
    "180/4"
   ]
  },
  {
   "cell_type": "code",
   "execution_count": 169,
   "id": "695baada",
   "metadata": {},
   "outputs": [
    {
     "data": {
      "text/plain": [
       "72.25"
      ]
     },
     "execution_count": 169,
     "metadata": {},
     "output_type": "execute_result"
    }
   ],
   "source": [
    "289/4"
   ]
  },
  {
   "cell_type": "markdown",
   "id": "d9bf4358",
   "metadata": {},
   "source": [
    "### median()\n",
    "\n",
    "- It returns the median of an array \n",
    "\n",
    "    Syntax:\n",
    "        \n",
    "        np.median(arr, axis = 0,1)"
   ]
  },
  {
   "cell_type": "code",
   "execution_count": 170,
   "id": "803a1e53",
   "metadata": {},
   "outputs": [
    {
     "data": {
      "text/plain": [
       "array([[85, 40, 13, 42],\n",
       "       [71, 95, 45, 78],\n",
       "       [25, 75, 24, 63]])"
      ]
     },
     "execution_count": 170,
     "metadata": {},
     "output_type": "execute_result"
    }
   ],
   "source": [
    "x"
   ]
  },
  {
   "cell_type": "code",
   "execution_count": 171,
   "id": "fd02134c",
   "metadata": {},
   "outputs": [
    {
     "data": {
      "text/plain": [
       "54.0"
      ]
     },
     "execution_count": 171,
     "metadata": {},
     "output_type": "execute_result"
    }
   ],
   "source": [
    "np.median(x)"
   ]
  },
  {
   "cell_type": "code",
   "execution_count": 172,
   "id": "76bddd2a",
   "metadata": {},
   "outputs": [
    {
     "data": {
      "text/plain": [
       "array([71., 75., 24., 63.])"
      ]
     },
     "execution_count": 172,
     "metadata": {},
     "output_type": "execute_result"
    }
   ],
   "source": [
    "np.median(x, axis = 0)"
   ]
  },
  {
   "cell_type": "code",
   "execution_count": 173,
   "id": "31dbca10",
   "metadata": {},
   "outputs": [
    {
     "data": {
      "text/plain": [
       "array([41. , 74.5, 44. ])"
      ]
     },
     "execution_count": 173,
     "metadata": {},
     "output_type": "execute_result"
    }
   ],
   "source": [
    "np.median(x, axis = 1)"
   ]
  },
  {
   "cell_type": "markdown",
   "id": "d00cfd2f",
   "metadata": {},
   "source": [
    "### np.std()\n",
    "\n",
    "- It returns the standard deviation of an array\n",
    "\n",
    "Syntax:\n",
    "    \n",
    "    np.std(arr, axis = 0,1)"
   ]
  },
  {
   "cell_type": "code",
   "execution_count": 174,
   "id": "b047d59c",
   "metadata": {},
   "outputs": [
    {
     "data": {
      "text/plain": [
       "array([[85, 40, 13, 42],\n",
       "       [71, 95, 45, 78],\n",
       "       [25, 75, 24, 63]])"
      ]
     },
     "execution_count": 174,
     "metadata": {},
     "output_type": "execute_result"
    }
   ],
   "source": [
    "x"
   ]
  },
  {
   "cell_type": "code",
   "execution_count": 176,
   "id": "48bc010e",
   "metadata": {},
   "outputs": [
    {
     "data": {
      "text/plain": [
       "25.603819159562025"
      ]
     },
     "execution_count": 176,
     "metadata": {},
     "output_type": "execute_result"
    }
   ],
   "source": [
    "x.std()"
   ]
  },
  {
   "cell_type": "code",
   "execution_count": 177,
   "id": "08c718dd",
   "metadata": {},
   "outputs": [
    {
     "data": {
      "text/plain": [
       "array([25.62984372, 22.73030283, 13.27487183, 14.76482306])"
      ]
     },
     "execution_count": 177,
     "metadata": {},
     "output_type": "execute_result"
    }
   ],
   "source": [
    "x.std(axis = 0)"
   ]
  },
  {
   "cell_type": "code",
   "execution_count": 178,
   "id": "f5e13c4e",
   "metadata": {},
   "outputs": [
    {
     "data": {
      "text/plain": [
       "array([25.77789751, 17.99131735, 22.65364209])"
      ]
     },
     "execution_count": 178,
     "metadata": {},
     "output_type": "execute_result"
    }
   ],
   "source": [
    "x.std(axis = 1)"
   ]
  },
  {
   "cell_type": "markdown",
   "id": "588e7371",
   "metadata": {},
   "source": [
    "### np.var()\n",
    "\n",
    "- It returns the variance of an array\n",
    "\n",
    "Syntax:\n",
    "    \n",
    "    np.var(arr, axis = 0,1)"
   ]
  },
  {
   "cell_type": "code",
   "execution_count": 179,
   "id": "61c13538",
   "metadata": {},
   "outputs": [
    {
     "data": {
      "text/plain": [
       "array([[85, 40, 13, 42],\n",
       "       [71, 95, 45, 78],\n",
       "       [25, 75, 24, 63]])"
      ]
     },
     "execution_count": 179,
     "metadata": {},
     "output_type": "execute_result"
    }
   ],
   "source": [
    "x"
   ]
  },
  {
   "cell_type": "code",
   "execution_count": 182,
   "id": "91a88796",
   "metadata": {},
   "outputs": [
    {
     "data": {
      "text/plain": [
       "array([656.88888889, 516.66666667, 176.22222222, 218.        ])"
      ]
     },
     "execution_count": 182,
     "metadata": {},
     "output_type": "execute_result"
    }
   ],
   "source": [
    "np.var(x, axis = 0)"
   ]
  },
  {
   "cell_type": "code",
   "execution_count": 183,
   "id": "37fed5f3",
   "metadata": {},
   "outputs": [
    {
     "data": {
      "text/plain": [
       "array([664.5   , 323.6875, 513.1875])"
      ]
     },
     "execution_count": 183,
     "metadata": {},
     "output_type": "execute_result"
    }
   ],
   "source": [
    "np.var(x, axis = 1)"
   ]
  },
  {
   "cell_type": "markdown",
   "id": "81101047",
   "metadata": {},
   "source": [
    "### np.max()\n",
    "\n",
    "- It returns the maximum value of the array\n",
    "\n",
    "    Syntax:\n",
    "    \n",
    "        np.max(arr, axis = 0,1)"
   ]
  },
  {
   "cell_type": "code",
   "execution_count": 184,
   "id": "08acf26d",
   "metadata": {},
   "outputs": [
    {
     "data": {
      "text/plain": [
       "array([[85, 40, 13, 42],\n",
       "       [71, 95, 45, 78],\n",
       "       [25, 75, 24, 63]])"
      ]
     },
     "execution_count": 184,
     "metadata": {},
     "output_type": "execute_result"
    }
   ],
   "source": [
    "x"
   ]
  },
  {
   "cell_type": "code",
   "execution_count": 185,
   "id": "65b025e9",
   "metadata": {},
   "outputs": [
    {
     "data": {
      "text/plain": [
       "95"
      ]
     },
     "execution_count": 185,
     "metadata": {},
     "output_type": "execute_result"
    }
   ],
   "source": [
    "x.max()"
   ]
  },
  {
   "cell_type": "code",
   "execution_count": 187,
   "id": "a84f13d1",
   "metadata": {},
   "outputs": [
    {
     "data": {
      "text/plain": [
       "95"
      ]
     },
     "execution_count": 187,
     "metadata": {},
     "output_type": "execute_result"
    }
   ],
   "source": [
    "np.max(x)"
   ]
  },
  {
   "cell_type": "code",
   "execution_count": 188,
   "id": "3fc86996",
   "metadata": {},
   "outputs": [
    {
     "data": {
      "text/plain": [
       "array([85, 95, 45, 78])"
      ]
     },
     "execution_count": 188,
     "metadata": {},
     "output_type": "execute_result"
    }
   ],
   "source": [
    "np.max(x, axis = 0)"
   ]
  },
  {
   "cell_type": "code",
   "execution_count": 189,
   "id": "af00f78b",
   "metadata": {},
   "outputs": [
    {
     "data": {
      "text/plain": [
       "array([85, 95, 75])"
      ]
     },
     "execution_count": 189,
     "metadata": {},
     "output_type": "execute_result"
    }
   ],
   "source": [
    "np.max(x, axis = 1)"
   ]
  },
  {
   "cell_type": "markdown",
   "id": "09ac5b6d",
   "metadata": {},
   "source": [
    "### np.min()\n",
    "\n",
    "- It returns the minimum value of the array\n",
    "\n",
    "    Syntax:\n",
    "    \n",
    "        np.min(arr, axis = 0,1)"
   ]
  },
  {
   "cell_type": "code",
   "execution_count": 191,
   "id": "ed4b028e",
   "metadata": {},
   "outputs": [
    {
     "data": {
      "text/plain": [
       "array([[85, 40, 13, 42],\n",
       "       [71, 95, 45, 78],\n",
       "       [25, 75, 24, 63]])"
      ]
     },
     "execution_count": 191,
     "metadata": {},
     "output_type": "execute_result"
    }
   ],
   "source": [
    "x"
   ]
  },
  {
   "cell_type": "code",
   "execution_count": 192,
   "id": "4f9929e8",
   "metadata": {},
   "outputs": [
    {
     "data": {
      "text/plain": [
       "13"
      ]
     },
     "execution_count": 192,
     "metadata": {},
     "output_type": "execute_result"
    }
   ],
   "source": [
    "np.min(x)"
   ]
  },
  {
   "cell_type": "code",
   "execution_count": 193,
   "id": "8b9c1030",
   "metadata": {},
   "outputs": [
    {
     "data": {
      "text/plain": [
       "array([25, 40, 13, 42])"
      ]
     },
     "execution_count": 193,
     "metadata": {},
     "output_type": "execute_result"
    }
   ],
   "source": [
    "np.min(x, axis = 0)"
   ]
  },
  {
   "cell_type": "code",
   "execution_count": 194,
   "id": "b98cb616",
   "metadata": {},
   "outputs": [
    {
     "data": {
      "text/plain": [
       "array([13, 45, 24])"
      ]
     },
     "execution_count": 194,
     "metadata": {},
     "output_type": "execute_result"
    }
   ],
   "source": [
    "np.min(x, axis = 1)"
   ]
  },
  {
   "cell_type": "markdown",
   "id": "b72ee7d0",
   "metadata": {},
   "source": [
    "### np.percentile()\n",
    "\n",
    "- It returns the specified percentile values of the array \n",
    "\n",
    "    Syntax:\n",
    "    \n",
    "    \n",
    "    np.percentile(arr, percentile_value)"
   ]
  },
  {
   "cell_type": "code",
   "execution_count": 195,
   "id": "72c30957",
   "metadata": {},
   "outputs": [
    {
     "data": {
      "text/plain": [
       "array([[85, 40, 13, 42],\n",
       "       [71, 95, 45, 78],\n",
       "       [25, 75, 24, 63]])"
      ]
     },
     "execution_count": 195,
     "metadata": {},
     "output_type": "execute_result"
    }
   ],
   "source": [
    "x"
   ]
  },
  {
   "cell_type": "code",
   "execution_count": 201,
   "id": "b7ff03fc",
   "metadata": {},
   "outputs": [
    {
     "data": {
      "text/plain": [
       "89.5"
      ]
     },
     "execution_count": 201,
     "metadata": {},
     "output_type": "execute_result"
    }
   ],
   "source": [
    "np.percentile(x, 95)"
   ]
  },
  {
   "cell_type": "code",
   "execution_count": 200,
   "id": "30d490bc",
   "metadata": {},
   "outputs": [
    {
     "data": {
      "text/plain": [
       "13.0"
      ]
     },
     "execution_count": 200,
     "metadata": {},
     "output_type": "execute_result"
    }
   ],
   "source": [
    "np.percentile(x, 0)"
   ]
  },
  {
   "cell_type": "code",
   "execution_count": null,
   "id": "ecf215d0",
   "metadata": {},
   "outputs": [],
   "source": [
    "13, 14, 15,............................95"
   ]
  },
  {
   "cell_type": "code",
   "execution_count": 202,
   "id": "3d71ce71",
   "metadata": {},
   "outputs": [
    {
     "data": {
      "text/plain": [
       "82"
      ]
     },
     "execution_count": 202,
     "metadata": {},
     "output_type": "execute_result"
    }
   ],
   "source": [
    "95-13"
   ]
  },
  {
   "cell_type": "code",
   "execution_count": null,
   "id": "fac11a04",
   "metadata": {},
   "outputs": [],
   "source": []
  }
 ],
 "metadata": {
  "kernelspec": {
   "display_name": "Python 3 (ipykernel)",
   "language": "python",
   "name": "python3"
  },
  "language_info": {
   "codemirror_mode": {
    "name": "ipython",
    "version": 3
   },
   "file_extension": ".py",
   "mimetype": "text/x-python",
   "name": "python",
   "nbconvert_exporter": "python",
   "pygments_lexer": "ipython3",
   "version": "3.11.5"
  }
 },
 "nbformat": 4,
 "nbformat_minor": 5
}
