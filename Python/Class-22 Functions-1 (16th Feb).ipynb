{
 "cells": [
  {
   "cell_type": "markdown",
   "id": "99a47e52",
   "metadata": {},
   "source": [
    "### Functions \n",
    "\n",
    "- A function is a block of code that gets executed as and when they are called \n",
    "- A function is used to reuse a code\n",
    "- By using functions, we write a code once and we can use it n number of times in the same program\n",
    "- A function help us to reduce the lines of the code in a program\n",
    "\n",
    "    Syntax:\n",
    "    \n",
    "        # Function declaration or Function definition \n",
    "        \n",
    "            def function_name():\n",
    "                code\n",
    "                code \n",
    "                return some value\n",
    "                \n",
    "        # Function call \n",
    "            \n",
    "            function_name()"
   ]
  },
  {
   "cell_type": "code",
   "execution_count": 1,
   "id": "27037c09",
   "metadata": {},
   "outputs": [
    {
     "data": {
      "text/plain": [
       "13"
      ]
     },
     "execution_count": 1,
     "metadata": {},
     "output_type": "execute_result"
    }
   ],
   "source": [
    "# define a function that takes two input and gives us the sum of the numbers\n",
    "\n",
    "def add(x,y):\n",
    "    c = x+y\n",
    "    return c\n",
    "\n",
    "add(6,7)"
   ]
  },
  {
   "cell_type": "code",
   "execution_count": 2,
   "id": "a9fdaf1e",
   "metadata": {},
   "outputs": [
    {
     "data": {
      "text/plain": [
       "101"
      ]
     },
     "execution_count": 2,
     "metadata": {},
     "output_type": "execute_result"
    }
   ],
   "source": [
    "add(100, 1)"
   ]
  },
  {
   "cell_type": "code",
   "execution_count": 3,
   "id": "148ee6d6",
   "metadata": {},
   "outputs": [
    {
     "data": {
      "text/plain": [
       "25"
      ]
     },
     "execution_count": 3,
     "metadata": {},
     "output_type": "execute_result"
    }
   ],
   "source": [
    "add(18,7)"
   ]
  },
  {
   "cell_type": "code",
   "execution_count": 4,
   "id": "226a2e68",
   "metadata": {},
   "outputs": [
    {
     "data": {
      "text/plain": [
       "2"
      ]
     },
     "execution_count": 4,
     "metadata": {},
     "output_type": "execute_result"
    }
   ],
   "source": [
    "add(1,1)"
   ]
  },
  {
   "cell_type": "markdown",
   "id": "b6b530bd",
   "metadata": {},
   "source": [
    "### Types of Functions \n",
    "\n",
    "- Built-in function or In-Built function\n",
    "- User defined functions (functions created by us)"
   ]
  },
  {
   "cell_type": "markdown",
   "id": "8f647bfc",
   "metadata": {},
   "source": [
    "### Built-in Functions or IN-built functions\n",
    "\n",
    "- Those functions that are already defined in Python are known as in-built functions or built-in functions\n",
    "- As a user we have not created them and we just use them \n",
    "- Example:- print(), len(), zip(), enumerate(), ord(), id(), chr(), type(), etc"
   ]
  },
  {
   "cell_type": "markdown",
   "id": "69fec716",
   "metadata": {},
   "source": [
    "### User Function\n",
    "\n",
    "- The functions that are declared or created by the user are known as uder-defined functions\n",
    "- In user defined functions the programmer has to write their own logic on how the function should work\n",
    "- We actually create a function to solve a particular problem\n",
    "- A user defined function is define by using __def__ keyword"
   ]
  },
  {
   "cell_type": "markdown",
   "id": "4e50154b",
   "metadata": {},
   "source": [
    "### Components of a Functions \n",
    "\n",
    "- Function declaration or Function definition \n",
    "- Function call "
   ]
  },
  {
   "cell_type": "markdown",
   "id": "2c509d33",
   "metadata": {},
   "source": [
    "#### Function Declaration or Function Definition \n",
    "\n",
    "- This is the place where we define a function with a name, write a logic(code) on how the function will going to behave \n",
    "\n",
    "    Syntax:\n",
    "        \n",
    "        def function_name():\n",
    "            \n",
    "            # function body\n",
    "            code \n",
    "            code\n",
    "            code\n",
    "            code"
   ]
  },
  {
   "cell_type": "code",
   "execution_count": 5,
   "id": "1424ea52",
   "metadata": {},
   "outputs": [],
   "source": [
    "# Decalartion a function that adds two number\n",
    "\n",
    "def add_two_num(): # function declaration \n",
    "    \n",
    "    # function body\n",
    "    a = eval(input('Enter a Fisrt number: '))\n",
    "    b = eval(input('Enter a Second number: '))\n",
    "    \n",
    "    c = a+b\n",
    "    return c"
   ]
  },
  {
   "cell_type": "markdown",
   "id": "e63af26c",
   "metadata": {},
   "source": [
    "#### Function call\n",
    "\n",
    "- A function call is a kind of trigger\n",
    "- As and when called the defined function will be executed and we will get the desired result then and there only\n",
    "\n",
    "    Syntax:\n",
    "        \n",
    "        function_name()"
   ]
  },
  {
   "cell_type": "code",
   "execution_count": 6,
   "id": "c7de0e3b",
   "metadata": {},
   "outputs": [
    {
     "name": "stdout",
     "output_type": "stream",
     "text": [
      "Enter a Fisrt number: 10\n",
      "Enter a Second number: 20\n"
     ]
    },
    {
     "data": {
      "text/plain": [
       "30"
      ]
     },
     "execution_count": 6,
     "metadata": {},
     "output_type": "execute_result"
    }
   ],
   "source": [
    "add_two_num()"
   ]
  },
  {
   "cell_type": "code",
   "execution_count": 7,
   "id": "db70a205",
   "metadata": {},
   "outputs": [
    {
     "name": "stdout",
     "output_type": "stream",
     "text": [
      "Enter a Fisrt number: 20\n",
      "Enter a Second number: 30\n"
     ]
    },
    {
     "data": {
      "text/plain": [
       "50"
      ]
     },
     "execution_count": 7,
     "metadata": {},
     "output_type": "execute_result"
    }
   ],
   "source": [
    "add_two_num()"
   ]
  },
  {
   "cell_type": "code",
   "execution_count": 8,
   "id": "93d472ab",
   "metadata": {},
   "outputs": [
    {
     "name": "stdout",
     "output_type": "stream",
     "text": [
      "Enter a Fisrt number: 1\n",
      "Enter a Second number: -1\n"
     ]
    },
    {
     "data": {
      "text/plain": [
       "0"
      ]
     },
     "execution_count": 8,
     "metadata": {},
     "output_type": "execute_result"
    }
   ],
   "source": [
    "add_two_num()"
   ]
  },
  {
   "cell_type": "markdown",
   "id": "8d2ec6c2",
   "metadata": {},
   "source": [
    "### Type of User defined functions\n",
    "\n",
    "- Parameterised function\n",
    "- Non-parameterised function"
   ]
  },
  {
   "cell_type": "markdown",
   "id": "66667698",
   "metadata": {},
   "source": [
    "#### Parameterised functions\n",
    "\n",
    "- When we pass paramters inside a function definition or a declartion then it is called a parameterised function"
   ]
  },
  {
   "cell_type": "markdown",
   "id": "40b1825f",
   "metadata": {},
   "source": [
    "#### Non-paramterised functions\n",
    "\n",
    "- When we are not passing a parameter inside a function declaration or definition then it is called a non paramterised function "
   ]
  },
  {
   "cell_type": "markdown",
   "id": "401c3902",
   "metadata": {},
   "source": [
    "#### Parameters\n",
    "\n",
    "- When we pass variables inside a function declaration then these variables are called as parameters"
   ]
  },
  {
   "cell_type": "markdown",
   "id": "2a3563c3",
   "metadata": {},
   "source": [
    "#### Arguments \n",
    "\n",
    "- When we pass variables inside a function a call then these variables are called arguments"
   ]
  },
  {
   "cell_type": "code",
   "execution_count": 9,
   "id": "87b64ef7",
   "metadata": {},
   "outputs": [
    {
     "data": {
      "text/plain": [
       "15"
      ]
     },
     "execution_count": 9,
     "metadata": {},
     "output_type": "execute_result"
    }
   ],
   "source": [
    "# Parameterised function \n",
    "\n",
    "def add(x, y): # Here x and y are paramters\n",
    "    c = x+y\n",
    "    return c\n",
    "a = 7\n",
    "b = 8\n",
    "add(a, b) # here a and b are the arguments \n",
    "\n",
    "# x = a = 7\n",
    "# y = b = 8"
   ]
  },
  {
   "cell_type": "code",
   "execution_count": 10,
   "id": "bfbad50e",
   "metadata": {},
   "outputs": [
    {
     "data": {
      "text/plain": [
       "15"
      ]
     },
     "execution_count": 10,
     "metadata": {},
     "output_type": "execute_result"
    }
   ],
   "source": [
    "def add(x, y): # Here x and y are paramters\n",
    "    c = x+y\n",
    "    return c\n",
    "\n",
    "add(7,8)\n",
    "\n",
    "# x = 7\n",
    "# y = 8"
   ]
  },
  {
   "cell_type": "code",
   "execution_count": 11,
   "id": "ba0cd6ae",
   "metadata": {},
   "outputs": [],
   "source": [
    "# Non-parameterised function \n",
    "\n",
    "def add_two_num(): # function declaration \n",
    "    \n",
    "    # function body\n",
    "    a = eval(input('Enter a Fisrt number: '))\n",
    "    b = eval(input('Enter a Second number: '))\n",
    "    \n",
    "    c = a+b\n",
    "    return c"
   ]
  },
  {
   "cell_type": "code",
   "execution_count": 12,
   "id": "0329bc59",
   "metadata": {},
   "outputs": [
    {
     "name": "stdout",
     "output_type": "stream",
     "text": [
      "Enter a Fisrt number: 1\n",
      "Enter a Second number: 1\n"
     ]
    },
    {
     "data": {
      "text/plain": [
       "2"
      ]
     },
     "execution_count": 12,
     "metadata": {},
     "output_type": "execute_result"
    }
   ],
   "source": [
    "add_two_num()"
   ]
  },
  {
   "cell_type": "markdown",
   "id": "3bdf5642",
   "metadata": {},
   "source": [
    "### Global Variable and Local Variables \n",
    "\n",
    "#### Global Variable\n",
    "\n",
    "- These variables that are defined outside the function are known as global variables\n",
    "- The Global variable has the scope both inside and outside function \n",
    "\n",
    "#### Local Variable \n",
    "\n",
    "- The variable that are defined inside the funtion are knwon as local variable\n",
    "- The local variable has the scope only inside the function\n",
    "- We cannot use the local variable outside the function "
   ]
  },
  {
   "cell_type": "code",
   "execution_count": 13,
   "id": "5212f002",
   "metadata": {},
   "outputs": [
    {
     "name": "stdout",
     "output_type": "stream",
     "text": [
      "10\n"
     ]
    },
    {
     "ename": "NameError",
     "evalue": "name 'x' is not defined",
     "output_type": "error",
     "traceback": [
      "\u001b[1;31m---------------------------------------------------------------------------\u001b[0m",
      "\u001b[1;31mNameError\u001b[0m                                 Traceback (most recent call last)",
      "Cell \u001b[1;32mIn[13], line 8\u001b[0m\n\u001b[0;32m      5\u001b[0m     \u001b[38;5;28;01mreturn\u001b[39;00m a, x\n\u001b[0;32m      7\u001b[0m \u001b[38;5;28mprint\u001b[39m(a)\n\u001b[1;32m----> 8\u001b[0m \u001b[38;5;28mprint\u001b[39m(x)\n",
      "\u001b[1;31mNameError\u001b[0m: name 'x' is not defined"
     ]
    }
   ],
   "source": [
    "a = 10 # global varibale\n",
    "\n",
    "def dummy():\n",
    "    x = 50 # local varibale \n",
    "    return a, x\n",
    "\n",
    "print(a)\n",
    "print(x)"
   ]
  },
  {
   "cell_type": "code",
   "execution_count": 14,
   "id": "2505932b",
   "metadata": {},
   "outputs": [
    {
     "data": {
      "text/plain": [
       "(10, 50)"
      ]
     },
     "execution_count": 14,
     "metadata": {},
     "output_type": "execute_result"
    }
   ],
   "source": [
    "dummy()"
   ]
  },
  {
   "cell_type": "markdown",
   "id": "b5e1ca14",
   "metadata": {},
   "source": [
    "#### We will use a global keyword  inside the function and this will make the local variable as a global variable"
   ]
  },
  {
   "cell_type": "code",
   "execution_count": 4,
   "id": "91b094e5",
   "metadata": {},
   "outputs": [
    {
     "name": "stdout",
     "output_type": "stream",
     "text": [
      "10\n"
     ]
    }
   ],
   "source": [
    "a = 10 # global varibale\n",
    "\n",
    "def dummy():\n",
    "    global x\n",
    "    x = 10\n",
    "    return x\n",
    "\n",
    "print(a)"
   ]
  },
  {
   "cell_type": "code",
   "execution_count": 6,
   "id": "f8db187e",
   "metadata": {},
   "outputs": [
    {
     "data": {
      "text/plain": [
       "10"
      ]
     },
     "execution_count": 6,
     "metadata": {},
     "output_type": "execute_result"
    }
   ],
   "source": [
    "dummy() # we do have to call the function atleast once so that the global x code could be executed "
   ]
  },
  {
   "cell_type": "code",
   "execution_count": 7,
   "id": "19611890",
   "metadata": {},
   "outputs": [
    {
     "data": {
      "text/plain": [
       "10"
      ]
     },
     "execution_count": 7,
     "metadata": {},
     "output_type": "execute_result"
    }
   ],
   "source": [
    "x"
   ]
  },
  {
   "cell_type": "code",
   "execution_count": 8,
   "id": "91f2f2db",
   "metadata": {},
   "outputs": [
    {
     "data": {
      "text/plain": [
       "10"
      ]
     },
     "execution_count": 8,
     "metadata": {},
     "output_type": "execute_result"
    }
   ],
   "source": [
    "x"
   ]
  },
  {
   "cell_type": "code",
   "execution_count": 2,
   "id": "02e0b1aa",
   "metadata": {},
   "outputs": [
    {
     "name": "stdout",
     "output_type": "stream",
     "text": [
      "10 50\n"
     ]
    }
   ],
   "source": [
    "a=10\n",
    "\n",
    "def dummy():\n",
    "    global x\n",
    "    x=50\n",
    "    return x \n",
    "dummy()\n",
    "print(a,x)\n"
   ]
  },
  {
   "cell_type": "markdown",
   "id": "f9fe09bc",
   "metadata": {},
   "source": [
    "### Print vs Return r \n",
    "\n",
    "#### Print\n",
    "\n",
    "- When we use print statement in a program, we are essentially asking the translator to display something, typically for the benefit of the user or for debugging purposes \n",
    "- It does not affects the flow of the progarm and it does not provide any data that can be further manipulated\n",
    "- if we are going to store a print statement inside a variable and check the type it will return me a None Datatype\n",
    "\n",
    "#### Return \n",
    "    \n",
    " - It is used within the function to send a value back to the caller, so that it can be manipulated further\n",
    " - If we are going to store this return statement inside a variable and check the type it will return the type of the value stored in it \n",
    " - return statement helps to terminate the function "
   ]
  },
  {
   "cell_type": "code",
   "execution_count": 3,
   "id": "e8f6e802",
   "metadata": {},
   "outputs": [
    {
     "name": "stdout",
     "output_type": "stream",
     "text": [
      "10\n",
      "<class 'NoneType'>\n"
     ]
    }
   ],
   "source": [
    "a = 10\n",
    "b = print(a)\n",
    "print(type(b))"
   ]
  },
  {
   "cell_type": "code",
   "execution_count": 4,
   "id": "e2df9a8a",
   "metadata": {},
   "outputs": [
    {
     "ename": "TypeError",
     "evalue": "unsupported operand type(s) for +: 'int' and 'NoneType'",
     "output_type": "error",
     "traceback": [
      "\u001b[1;31m---------------------------------------------------------------------------\u001b[0m",
      "\u001b[1;31mTypeError\u001b[0m                                 Traceback (most recent call last)",
      "Cell \u001b[1;32mIn[4], line 1\u001b[0m\n\u001b[1;32m----> 1\u001b[0m a \u001b[38;5;241m+\u001b[39mb\n",
      "\u001b[1;31mTypeError\u001b[0m: unsupported operand type(s) for +: 'int' and 'NoneType'"
     ]
    }
   ],
   "source": [
    "a +b"
   ]
  },
  {
   "cell_type": "code",
   "execution_count": null,
   "id": "41903b39",
   "metadata": {},
   "outputs": [],
   "source": [
    "def add(x,y):\n",
    "    c = x+y\n",
    "    print(c)\n",
    "    a = 10\n",
    "    c = c+a\n",
    "    return c\n"
   ]
  },
  {
   "cell_type": "code",
   "execution_count": 7,
   "id": "30233a53",
   "metadata": {},
   "outputs": [],
   "source": [
    "def add(x, y):\n",
    "    c = x+y\n",
    "    return c"
   ]
  },
  {
   "cell_type": "code",
   "execution_count": 8,
   "id": "923cf7c6",
   "metadata": {},
   "outputs": [],
   "source": [
    "a = add(6,7)"
   ]
  },
  {
   "cell_type": "code",
   "execution_count": 9,
   "id": "1eb23771",
   "metadata": {},
   "outputs": [
    {
     "data": {
      "text/plain": [
       "13"
      ]
     },
     "execution_count": 9,
     "metadata": {},
     "output_type": "execute_result"
    }
   ],
   "source": [
    "a"
   ]
  },
  {
   "cell_type": "code",
   "execution_count": 10,
   "id": "67b4c964",
   "metadata": {},
   "outputs": [
    {
     "data": {
      "text/plain": [
       "23"
      ]
     },
     "execution_count": 10,
     "metadata": {},
     "output_type": "execute_result"
    }
   ],
   "source": [
    "a+10"
   ]
  },
  {
   "cell_type": "code",
   "execution_count": 11,
   "id": "a206b1fe",
   "metadata": {},
   "outputs": [],
   "source": [
    "def greet():\n",
    "    print(\"Hello everyone, The topic we are covering is Functions\")"
   ]
  },
  {
   "cell_type": "code",
   "execution_count": 12,
   "id": "fee22767",
   "metadata": {},
   "outputs": [
    {
     "name": "stdout",
     "output_type": "stream",
     "text": [
      "Hello everyone, The topic we are covering is Functions\n"
     ]
    }
   ],
   "source": [
    "greet()"
   ]
  },
  {
   "cell_type": "code",
   "execution_count": 13,
   "id": "07f832fd",
   "metadata": {},
   "outputs": [
    {
     "name": "stdout",
     "output_type": "stream",
     "text": [
      "Hello everyone, The topic we are covering is Functions\n"
     ]
    }
   ],
   "source": [
    "a = greet()"
   ]
  },
  {
   "cell_type": "code",
   "execution_count": 15,
   "id": "34175265",
   "metadata": {},
   "outputs": [
    {
     "name": "stdout",
     "output_type": "stream",
     "text": [
      "None\n"
     ]
    }
   ],
   "source": [
    "print(a)"
   ]
  },
  {
   "cell_type": "code",
   "execution_count": 5,
   "id": "9801c0db",
   "metadata": {},
   "outputs": [],
   "source": [
    "def mul(a, b):\n",
    "    c = a*b\n",
    "    print(c)"
   ]
  },
  {
   "cell_type": "code",
   "execution_count": 6,
   "id": "265bd215",
   "metadata": {},
   "outputs": [
    {
     "name": "stdout",
     "output_type": "stream",
     "text": [
      "42\n"
     ]
    }
   ],
   "source": [
    "mul(6,7)"
   ]
  },
  {
   "cell_type": "code",
   "execution_count": 7,
   "id": "bc5b2a07",
   "metadata": {},
   "outputs": [
    {
     "name": "stdout",
     "output_type": "stream",
     "text": [
      "42\n"
     ]
    }
   ],
   "source": [
    "m = mul(6,7)\n"
   ]
  },
  {
   "cell_type": "code",
   "execution_count": 9,
   "id": "5097dccd",
   "metadata": {},
   "outputs": [
    {
     "name": "stdout",
     "output_type": "stream",
     "text": [
      "None\n"
     ]
    }
   ],
   "source": [
    "print(m)"
   ]
  },
  {
   "cell_type": "code",
   "execution_count": 10,
   "id": "c8915be5",
   "metadata": {},
   "outputs": [],
   "source": [
    "def mul(a, b):\n",
    "    c = a*b\n",
    "    return c"
   ]
  },
  {
   "cell_type": "code",
   "execution_count": 11,
   "id": "1578fd12",
   "metadata": {},
   "outputs": [],
   "source": [
    "z = mul(6,7)"
   ]
  },
  {
   "cell_type": "code",
   "execution_count": 12,
   "id": "401f72e7",
   "metadata": {},
   "outputs": [
    {
     "data": {
      "text/plain": [
       "42"
      ]
     },
     "execution_count": 12,
     "metadata": {},
     "output_type": "execute_result"
    }
   ],
   "source": [
    "z"
   ]
  },
  {
   "cell_type": "markdown",
   "id": "ff17ab48",
   "metadata": {},
   "source": [
    "- A function may or may not return a value \n",
    "- return statement is used to return a value from the function \n",
    "- return statement return the value back to the function call \n",
    "- we assign the function to a variable, so that we can handle the returned value for further processing\n",
    "- If we want to use the result of a function, we have to assign the function call to a variable \n",
    "- return statement will terminate the function declaration\n",
    "\n",
    "__Note:__ print() statement does not retunr anything, it returns a None Datatype"
   ]
  },
  {
   "cell_type": "code",
   "execution_count": 13,
   "id": "56654e3c",
   "metadata": {},
   "outputs": [],
   "source": [
    "def add(x,y):\n",
    "    \n",
    "    '''Functionality:- \n",
    "        The add() function will take two arguments x and y \n",
    "        x : First Number\n",
    "        y : Second Number\n",
    "        amd returns us the sum of the two givem numbers'''\n",
    "    \n",
    "    c = a+b\n",
    "    return c"
   ]
  },
  {
   "cell_type": "code",
   "execution_count": null,
   "id": "2643dac9",
   "metadata": {},
   "outputs": [],
   "source": [
    "add()"
   ]
  }
 ],
 "metadata": {
  "kernelspec": {
   "display_name": "Python 3 (ipykernel)",
   "language": "python",
   "name": "python3"
  },
  "language_info": {
   "codemirror_mode": {
    "name": "ipython",
    "version": 3
   },
   "file_extension": ".py",
   "mimetype": "text/x-python",
   "name": "python",
   "nbconvert_exporter": "python",
   "pygments_lexer": "ipython3",
   "version": "3.11.5"
  }
 },
 "nbformat": 4,
 "nbformat_minor": 5
}
