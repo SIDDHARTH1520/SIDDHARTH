{
 "cells": [
  {
   "cell_type": "markdown",
   "id": "62526abe",
   "metadata": {},
   "source": [
    "### Generators \n",
    "\n",
    "- A generator object is used to create a user-defined iterator objects\n",
    "- A generator object is an iterator object"
   ]
  },
  {
   "cell_type": "markdown",
   "id": "4598c6c8",
   "metadata": {},
   "source": [
    "#### How to create a generator object?\n",
    "\n",
    "- 1. Tuple comprehension\n",
    "- 2. Generator function"
   ]
  },
  {
   "cell_type": "markdown",
   "id": "1dcb40ab",
   "metadata": {},
   "source": [
    "#### 1. Tuple comprehension \n",
    "\n",
    "- It is something similar to list comprehension\n",
    "- A tuple comprehension returns a generator object"
   ]
  },
  {
   "cell_type": "code",
   "execution_count": null,
   "id": "7f25bb48",
   "metadata": {},
   "outputs": [],
   "source": [
    "# list comprehension\n",
    "lst = [i for i in range(1,5)]\n",
    "lst"
   ]
  },
  {
   "cell_type": "code",
   "execution_count": null,
   "id": "2f2e90a7",
   "metadata": {},
   "outputs": [],
   "source": [
    "t = (i for i in range(1,5))\n",
    "t"
   ]
  },
  {
   "cell_type": "code",
   "execution_count": null,
   "id": "d0923df8",
   "metadata": {},
   "outputs": [],
   "source": [
    "next(t)"
   ]
  },
  {
   "cell_type": "code",
   "execution_count": null,
   "id": "19f422cb",
   "metadata": {},
   "outputs": [],
   "source": [
    "next(t)"
   ]
  },
  {
   "cell_type": "code",
   "execution_count": null,
   "id": "a00f5be2",
   "metadata": {},
   "outputs": [],
   "source": [
    "next(t)"
   ]
  },
  {
   "cell_type": "code",
   "execution_count": null,
   "id": "d5f09c5a",
   "metadata": {},
   "outputs": [],
   "source": [
    "next(t)"
   ]
  },
  {
   "cell_type": "code",
   "execution_count": null,
   "id": "60784888",
   "metadata": {},
   "outputs": [],
   "source": [
    "next(t)"
   ]
  },
  {
   "cell_type": "markdown",
   "id": "b4f428cd",
   "metadata": {},
   "source": [
    "#### How to fetch the values from a generator object ?\n",
    "\n",
    "- Apply next() again and again \n",
    "- Apply a for loop"
   ]
  },
  {
   "cell_type": "code",
   "execution_count": null,
   "id": "fa59a401",
   "metadata": {},
   "outputs": [],
   "source": [
    "t = (i for i in range(1,5))\n",
    "t"
   ]
  },
  {
   "cell_type": "code",
   "execution_count": null,
   "id": "8176b976",
   "metadata": {},
   "outputs": [],
   "source": [
    "for i in t:\n",
    "    print(i)"
   ]
  },
  {
   "cell_type": "markdown",
   "id": "ed0738f4",
   "metadata": {},
   "source": [
    "#### Why we are using generator object ?\n",
    "\n",
    "- A generator object is used for memory efficient operations \n",
    "- It generates one value at a time in the memory "
   ]
  },
  {
   "cell_type": "code",
   "execution_count": null,
   "id": "56764efb",
   "metadata": {},
   "outputs": [],
   "source": [
    "lst "
   ]
  },
  {
   "cell_type": "code",
   "execution_count": null,
   "id": "531e8035",
   "metadata": {},
   "outputs": [],
   "source": [
    "id(lst)"
   ]
  },
  {
   "cell_type": "code",
   "execution_count": null,
   "id": "12327ce9",
   "metadata": {},
   "outputs": [],
   "source": [
    "for i in lst:\n",
    "    print(i, id(i))"
   ]
  },
  {
   "cell_type": "markdown",
   "id": "32d53a4d",
   "metadata": {},
   "source": [
    "#### 2. Generator function \n",
    "\n",
    "- A generator function is a function which will return a generator object"
   ]
  },
  {
   "cell_type": "markdown",
   "id": "3bc867b3",
   "metadata": {},
   "source": [
    "#### How to create generator object"
   ]
  },
  {
   "cell_type": "code",
   "execution_count": null,
   "id": "0ac28f68",
   "metadata": {},
   "outputs": [],
   "source": [
    "def function_name():\n",
    "    code \n",
    "    yield value \n",
    "    yield value "
   ]
  },
  {
   "cell_type": "code",
   "execution_count": null,
   "id": "103537f7",
   "metadata": {},
   "outputs": [],
   "source": [
    "def gen():\n",
    "    yield 'Hello'\n",
    "    yield 'Python'\n",
    "    yield 10+2j\n",
    "    yield True\n",
    "    "
   ]
  },
  {
   "cell_type": "code",
   "execution_count": null,
   "id": "12b13d34",
   "metadata": {},
   "outputs": [],
   "source": [
    "x = gen()\n",
    "print(x)"
   ]
  },
  {
   "cell_type": "code",
   "execution_count": null,
   "id": "3a709bbd",
   "metadata": {},
   "outputs": [],
   "source": [
    "def gen_1():\n",
    "    return \"hello\"\n"
   ]
  },
  {
   "cell_type": "code",
   "execution_count": null,
   "id": "f2215f49",
   "metadata": {},
   "outputs": [],
   "source": [
    "y = gen_1()\n",
    "print(y)"
   ]
  },
  {
   "cell_type": "code",
   "execution_count": null,
   "id": "c57582c3",
   "metadata": {},
   "outputs": [],
   "source": [
    "print(next(x))"
   ]
  },
  {
   "cell_type": "code",
   "execution_count": null,
   "id": "87dc97a1",
   "metadata": {},
   "outputs": [],
   "source": [
    "print(next(x))"
   ]
  },
  {
   "cell_type": "code",
   "execution_count": null,
   "id": "d9069917",
   "metadata": {},
   "outputs": [],
   "source": [
    "print(next(x))"
   ]
  },
  {
   "cell_type": "code",
   "execution_count": null,
   "id": "20fbd237",
   "metadata": {},
   "outputs": [],
   "source": [
    "print(next(x))"
   ]
  },
  {
   "cell_type": "markdown",
   "id": "abe40672",
   "metadata": {},
   "source": [
    "#### return vs yield\n",
    "\n",
    "- return statment will terminate the function vs yield statement will not terminate the function\n",
    "- it will going the pause function \n",
    "- when we call next() function ion generator object then it will return the next yield value and it will going to pause the funtion untill we call the next() function again"
   ]
  },
  {
   "cell_type": "code",
   "execution_count": null,
   "id": "49d6172d",
   "metadata": {},
   "outputs": [],
   "source": [
    "def greet():\n",
    "    print('Hello')\n",
    "    print('Everyone')\n",
    "    yield 'Welcome all'\n",
    "    \n",
    "    print('To the python classes of 10th Jan')\n",
    "    print('By Mayank')\n",
    "    yield 'And we are all bored by his lecture'"
   ]
  },
  {
   "cell_type": "code",
   "execution_count": null,
   "id": "27f2602c",
   "metadata": {},
   "outputs": [],
   "source": [
    "x = greet()\n",
    "print(x)"
   ]
  },
  {
   "cell_type": "code",
   "execution_count": null,
   "id": "db9db6a6",
   "metadata": {},
   "outputs": [],
   "source": [
    "next(x)"
   ]
  },
  {
   "cell_type": "code",
   "execution_count": null,
   "id": "3c5a02d8",
   "metadata": {},
   "outputs": [],
   "source": [
    "next(x)"
   ]
  },
  {
   "cell_type": "markdown",
   "id": "2b7a47d7",
   "metadata": {},
   "source": [
    "#### Defined function and Generator function \n",
    "\n",
    "##### Defined function \n",
    "\n",
    "- __Definition:__ - A regular function is created using a def keyword and typically use the return statement to send a value back to the caller\n",
    "- __Execution:__ - When a regular function is called, it executed the entire function body and the result will be returned to the caller \n",
    "- __Memory:__ - All the functions results are stored in the memory untill the function completes its execution\n",
    "\n",
    "##### Generator functions\n",
    "\n",
    "- __Definition:__ - It uses a def keyword and a yeild statement to produce a series of values lazily\n",
    "- __Execution:__ - When a generator function is called, it returns a generator object and the function body is not executed immediately, the code inside the genertor object is executed only when the generator object is iterated over or we manually use next() function over your created object\n",
    "- __Memory:__ - Since generator function is generating one value at a time, so it can be memory efficient for larger dataset as it doesn't store all the result in the memory simultaneously"
   ]
  },
  {
   "cell_type": "code",
   "execution_count": null,
   "id": "5283b6cd",
   "metadata": {},
   "outputs": [],
   "source": [
    "def gen():\n",
    "    yield 'Hello'\n",
    "    yield 'Python'\n",
    "    yield 10+2j\n",
    "    yield True\n",
    "    "
   ]
  },
  {
   "cell_type": "code",
   "execution_count": null,
   "id": "9affc295",
   "metadata": {},
   "outputs": [],
   "source": [
    "x = gen()\n",
    "x"
   ]
  },
  {
   "cell_type": "code",
   "execution_count": null,
   "id": "4e557eeb",
   "metadata": {},
   "outputs": [],
   "source": [
    "a = next(x)"
   ]
  },
  {
   "cell_type": "code",
   "execution_count": null,
   "id": "04686bd2",
   "metadata": {},
   "outputs": [],
   "source": [
    "a"
   ]
  },
  {
   "cell_type": "code",
   "execution_count": null,
   "id": "1e9b51c3",
   "metadata": {},
   "outputs": [],
   "source": [
    "for i in x:\n",
    "    print(i)"
   ]
  },
  {
   "cell_type": "markdown",
   "id": "65742a1d",
   "metadata": {},
   "source": [
    "### Exception Handling"
   ]
  },
  {
   "cell_type": "markdown",
   "id": "49e8f4ca",
   "metadata": {},
   "source": [
    "### Error \n",
    "\n",
    "- Compile Time error (syntax error or indentation error)\n",
    "- Run time error or execption\n",
    "\n",
    "__Whenever an error occurs, it disrupts the normal flow of the execution__"
   ]
  },
  {
   "cell_type": "markdown",
   "id": "dfbdbb6c",
   "metadata": {},
   "source": [
    "#### When to use Exception Handling?\n",
    "\n",
    "- As we know, when an exception is raised it disrupts the normal flow of execution\n",
    "- Exception Handling, is the process to generate some responses against some pre-assumed exception\n",
    "- By handlung exceptions, the normal flow of execution does not get disrupted"
   ]
  },
  {
   "cell_type": "markdown",
   "id": "f7322757",
   "metadata": {},
   "source": [
    "### How to use Exception Handling?\n",
    "\n",
    "- try\n",
    "- except\n",
    "- else\n",
    "- finally\n",
    "- raise"
   ]
  },
  {
   "cell_type": "markdown",
   "id": "fd05f22a",
   "metadata": {},
   "source": [
    "#### try and except statement\n",
    "\n",
    "- The code that may raise exception is kept inside the try block and the response to that particular execption is kept inside the except block\n",
    "\n",
    "    Syntax:\n",
    "     \n",
    "         try:\n",
    "              code-1\n",
    "              code-2\n",
    "         except:\n",
    "             reponse"
   ]
  },
  {
   "cell_type": "code",
   "execution_count": null,
   "id": "024f2b43",
   "metadata": {},
   "outputs": [],
   "source": [
    "print('Hello')\n",
    "print('Python')\n",
    "print(y)\n",
    "print('thanks')"
   ]
  },
  {
   "cell_type": "code",
   "execution_count": null,
   "id": "2399834c",
   "metadata": {},
   "outputs": [],
   "source": [
    "try:\n",
    "    print('Hello')\n",
    "    print('Python')\n",
    "    print(y)\n",
    "    print('thanks')\n",
    "except:\n",
    "    print('Check the code again')\n",
    "    \n",
    "print('thankyou')"
   ]
  },
  {
   "cell_type": "code",
   "execution_count": null,
   "id": "a1efaa03",
   "metadata": {},
   "outputs": [],
   "source": [
    "a = int(input('Enter first number: '))\n",
    "b = int(input('Enter the second number: '))\n",
    "\n",
    "try:\n",
    "    c = a/b\n",
    "    print(c)\n",
    "except:\n",
    "    print('Division by zero is not possible ')\n",
    "\n",
    "print('thankyou')"
   ]
  },
  {
   "cell_type": "code",
   "execution_count": null,
   "id": "76ca6e77",
   "metadata": {},
   "outputs": [],
   "source": [
    "a = int(input('Enter first number: '))\n",
    "b = int(input('Enter the second number: '))\n",
    "c = a/b\n",
    "print(c)"
   ]
  },
  {
   "cell_type": "code",
   "execution_count": null,
   "id": "8153c185",
   "metadata": {},
   "outputs": [],
   "source": [
    "a = int(input('Enter first number: '))\n",
    "b = int(input('Enter the second number: '))\n",
    "\n",
    "try:\n",
    "    c = a/b\n",
    "    print(c)\n",
    "except:\n",
    "    print('Division by zero is not possible ')\n",
    "\n",
    "print('thankyou')"
   ]
  },
  {
   "cell_type": "code",
   "execution_count": null,
   "id": "0f30ba0c",
   "metadata": {},
   "outputs": [],
   "source": [
    "try:\n",
    "    a = int(input('Enter first number: '))\n",
    "    b = int(input('Enter the second number: '))\n",
    "except:\n",
    "    print('Only digits goes here')\n",
    "    \n",
    "try:\n",
    "    c = a/b\n",
    "    print(c)\n",
    "except Exception as e:\n",
    "    print(e)\n",
    "\n"
   ]
  },
  {
   "cell_type": "code",
   "execution_count": null,
   "id": "fcbc9a96",
   "metadata": {},
   "outputs": [],
   "source": [
    "10/0"
   ]
  },
  {
   "cell_type": "code",
   "execution_count": null,
   "id": "b812b11a",
   "metadata": {},
   "outputs": [],
   "source": [
    "c"
   ]
  },
  {
   "cell_type": "markdown",
   "id": "50d13f08",
   "metadata": {},
   "source": [
    "### How to get a proper Error message ?\n",
    "\n",
    "    Syntax:\n",
    "            try:\n",
    "                 code-1\n",
    "                 code-2\n",
    "            except Exception as e:\n",
    "                print(e)"
   ]
  },
  {
   "cell_type": "code",
   "execution_count": null,
   "id": "1dfb2da7",
   "metadata": {},
   "outputs": [],
   "source": [
    "a = int(input('Enter first number: '))\n",
    "b = int(input('Enter the second number: '))\n",
    "\n",
    "try:\n",
    "    c = a/b\n",
    "    print(c)\n",
    "except Exception as e:\n",
    "    print(e)\n",
    "\n",
    "print('thankyou')"
   ]
  },
  {
   "cell_type": "code",
   "execution_count": null,
   "id": "bd99ab5c",
   "metadata": {},
   "outputs": [],
   "source": [
    "a = int(input('Enter first number: '))\n",
    "b = int(input('Enter the second number: '))\n",
    "\n",
    "try:\n",
    "    c = a/b\n",
    "    print(c)\n",
    "    print(y)\n",
    "except Exception as e:\n",
    "    print(e)\n",
    "\n",
    "print('thankyou')"
   ]
  },
  {
   "cell_type": "markdown",
   "id": "fb4c6501",
   "metadata": {},
   "source": [
    "### How to get a customized error message for different error "
   ]
  },
  {
   "cell_type": "code",
   "execution_count": null,
   "id": "b3eecd74",
   "metadata": {},
   "outputs": [],
   "source": [
    "try:\n",
    "    a = int(input('Enter a number: '))\n",
    "    b = int(input('Enter a second number: '))\n",
    "    \n",
    "    c = a/b\n",
    "    print(c)\n",
    "    print(d)\n",
    "    \n",
    "except ValueError :\n",
    "    print('Only digits are allowed')\n",
    "\n",
    "except ZeroDivisionError :\n",
    "    print(\"division by zero is not possible\")\n",
    "\n",
    "except Exception as e:\n",
    "    print(e)"
   ]
  },
  {
   "cell_type": "code",
   "execution_count": null,
   "id": "51ad4558",
   "metadata": {},
   "outputs": [],
   "source": [
    "try:\n",
    "    a = int(input('Enter a number: '))\n",
    "    b = int(input('Enter a second number: '))\n",
    "    \n",
    "    c = a/b\n",
    "    print(c)\n",
    "    print(d)\n",
    "    \n",
    "except ValueError :\n",
    "    print('Only digits are allowed')\n",
    "\n",
    "except ZeroDivisionError :\n",
    "    print(\"division by zero is not possible\")\n",
    "\n",
    "except Exception as e:\n",
    "    print(e)"
   ]
  },
  {
   "cell_type": "code",
   "execution_count": null,
   "id": "c5604a78",
   "metadata": {},
   "outputs": [],
   "source": [
    "try:\n",
    "    a = int(input('Enter a number: '))\n",
    "    b = int(input('Enter a second number: '))\n",
    "    \n",
    "    c = a/b\n",
    "    print(c)\n",
    "    print(d)\n",
    "    \n",
    "except ValueError :\n",
    "    print('Only digits are allowed')\n",
    "\n",
    "except ZeroDivisionError :\n",
    "    print(\"division by zero is not possible\")\n",
    "\n",
    "except Exception as e:\n",
    "    print(e)"
   ]
  },
  {
   "cell_type": "code",
   "execution_count": null,
   "id": "fdb135dc",
   "metadata": {},
   "outputs": [],
   "source": [
    "try:\n",
    "    a = int(input('Enter a number: '))\n",
    "    b = int(input('Enter a second number: '))\n",
    "    \n",
    "    c = a/b\n",
    "    print(c)\n",
    "    print(d)\n",
    "    \n",
    "except ValueError :\n",
    "    print('Only digits are allowed')\n",
    "\n",
    "except ZeroDivisionError :\n",
    "    print(\"division by zero is not possible\")\n",
    "\n",
    "except Exception as e:\n",
    "    print(e)\n",
    "    \n",
    "    \n",
    "for i in 'Mayank':\n",
    "    print(i)"
   ]
  },
  {
   "cell_type": "markdown",
   "id": "8cdc5a7d",
   "metadata": {},
   "source": [
    "### Nested try and except statement\n",
    "\n",
    "    Syntax:\n",
    "        \n",
    "        try:\n",
    "            code-1\n",
    "            code-2\n",
    "                \n",
    "            try:\n",
    "                code-3\n",
    "                code-4\n",
    "            except:\n",
    "                response-1\n",
    "        except:\n",
    "            response-2"
   ]
  },
  {
   "cell_type": "code",
   "execution_count": null,
   "id": "2caded9a",
   "metadata": {},
   "outputs": [],
   "source": [
    "try:\n",
    "    print('Outer try block')\n",
    "    \n",
    "    try:\n",
    "        print('Inner try block')\n",
    "    except:\n",
    "        print('Inner Except block')\n",
    "        \n",
    "except:\n",
    "    print('Outer Except block')"
   ]
  },
  {
   "cell_type": "code",
   "execution_count": null,
   "id": "bb6839e2",
   "metadata": {},
   "outputs": [],
   "source": [
    "try:\n",
    "    print('Outer try block')\n",
    "    2/0\n",
    "    try:\n",
    "        print('Inner try block')\n",
    "    except:\n",
    "        print('Inner Except block')\n",
    "        \n",
    "except:\n",
    "    print('Outer Except block')"
   ]
  },
  {
   "cell_type": "code",
   "execution_count": null,
   "id": "ef8ae544",
   "metadata": {},
   "outputs": [],
   "source": [
    "try:\n",
    "    print('Outer try block')\n",
    "    try:\n",
    "        print('Inner try block')\n",
    "        2/0\n",
    "    except:\n",
    "        print('Inner Except block')\n",
    "        \n",
    "except:\n",
    "    print('Outer Except block')"
   ]
  },
  {
   "cell_type": "code",
   "execution_count": null,
   "id": "20aca932",
   "metadata": {},
   "outputs": [],
   "source": [
    "try:\n",
    "    int('k')\n",
    "    print('Outer try block')\n",
    "    try:\n",
    "        print('Inner try block')\n",
    "        2/0\n",
    "    except:\n",
    "        print('Inner Except block')\n",
    "        \n",
    "except:\n",
    "    print('Outer Except block')"
   ]
  },
  {
   "cell_type": "markdown",
   "id": "55bd8cb8",
   "metadata": {},
   "source": [
    "### Multiple try and except statement \n",
    "\n",
    "    Syntax:\n",
    "        \n",
    "        try:\n",
    "            code-1\n",
    "            code-2\n",
    "        except:\n",
    "            response-1\n",
    "         \n",
    "        try:\n",
    "            code-3\n",
    "            code-4\n",
    "        except:\n",
    "            response-2"
   ]
  },
  {
   "cell_type": "code",
   "execution_count": 1,
   "id": "5721bf58",
   "metadata": {},
   "outputs": [
    {
     "name": "stdout",
     "output_type": "stream",
     "text": [
      "Enter a number: 10\n",
      "Enter a second number: k\n",
      "Only digits are allowed\n",
      "name 'b' is not defined\n"
     ]
    }
   ],
   "source": [
    "try:\n",
    "    a = int(input('Enter a number: '))\n",
    "    b = int(input('Enter a second number: '))\n",
    "\n",
    "except ValueError :\n",
    "    print('Only digits are allowed')\n",
    "\n",
    "try:\n",
    "    c=a/b\n",
    "    print(c)\n",
    "except Exception as e:\n",
    "    print(e)"
   ]
  },
  {
   "cell_type": "code",
   "execution_count": 2,
   "id": "b19ab4c5",
   "metadata": {},
   "outputs": [
    {
     "name": "stdout",
     "output_type": "stream",
     "text": [
      "Enter a number: 10\n",
      "Enter a second number: 0\n",
      "division by zero\n"
     ]
    }
   ],
   "source": [
    "try:\n",
    "    a = int(input('Enter a number: '))\n",
    "    b = int(input('Enter a second number: '))\n",
    "\n",
    "except ValueError :\n",
    "    print('Only digits are allowed')\n",
    "\n",
    "try:\n",
    "    c=a/b\n",
    "    print(c)\n",
    "except Exception as e:\n",
    "    print(e)"
   ]
  },
  {
   "cell_type": "markdown",
   "id": "c065fa75",
   "metadata": {},
   "source": [
    "### try..except..else statement\n",
    "\n",
    "- If Try block raises an exception then except block is executed \n",
    "- If Try block is not raising any exception, then else block will be executed"
   ]
  },
  {
   "cell_type": "code",
   "execution_count": 3,
   "id": "e20f9f17",
   "metadata": {},
   "outputs": [
    {
     "name": "stdout",
     "output_type": "stream",
     "text": [
      "Enter first number: 10\n",
      "Enter the second number: 0\n",
      "division by zero\n"
     ]
    }
   ],
   "source": [
    "a = int(input('Enter first number: '))\n",
    "b = int(input('Enter the second number: '))\n",
    "\n",
    "try:\n",
    "    c = a/b\n",
    "except Exception as e:\n",
    "    print(e)\n",
    "else:\n",
    "    print(c)"
   ]
  },
  {
   "cell_type": "code",
   "execution_count": 4,
   "id": "bb93c3e6",
   "metadata": {},
   "outputs": [
    {
     "name": "stdout",
     "output_type": "stream",
     "text": [
      "Enter first number: 10\n",
      "Enter the second number: 3\n",
      "3.3333333333333335\n"
     ]
    }
   ],
   "source": [
    "a = int(input('Enter first number: '))\n",
    "b = int(input('Enter the second number: '))\n",
    "\n",
    "try:\n",
    "    c = a/b\n",
    "except Exception as e:\n",
    "    print(e)\n",
    "else:\n",
    "    print(c)"
   ]
  },
  {
   "cell_type": "markdown",
   "id": "0abf8c6d",
   "metadata": {},
   "source": [
    "### Finally block \n",
    "- In Finally block, the code written in it will always gets executed\n",
    "\n",
    "        try:\n",
    "            code\n",
    "        except:\n",
    "            response\n",
    "        else:\n",
    "            code\n",
    "        finally:\n",
    "            code"
   ]
  },
  {
   "cell_type": "markdown",
   "id": "31fad42e",
   "metadata": {},
   "source": [
    "#### Case-1 When no exception is raised \n",
    "\n"
   ]
  },
  {
   "cell_type": "code",
   "execution_count": 6,
   "id": "eedab64c",
   "metadata": {},
   "outputs": [
    {
     "name": "stdout",
     "output_type": "stream",
     "text": [
      "Try block\n",
      "Else block\n",
      "Finally block\n"
     ]
    }
   ],
   "source": [
    "try:\n",
    "    print('Try block')\n",
    "except:\n",
    "    print('except block')\n",
    "else:\n",
    "    print('Else block')\n",
    "finally:\n",
    "    print('Finally block')"
   ]
  },
  {
   "cell_type": "markdown",
   "id": "6f6bc976",
   "metadata": {},
   "source": [
    "### Case-2 When an excpetion is raised and handled"
   ]
  },
  {
   "cell_type": "code",
   "execution_count": 7,
   "id": "4e539f3c",
   "metadata": {},
   "outputs": [
    {
     "name": "stdout",
     "output_type": "stream",
     "text": [
      "Try block\n",
      "except block\n",
      "Finally block\n"
     ]
    }
   ],
   "source": [
    "try:\n",
    "    print('Try block')\n",
    "    2/0\n",
    "except:\n",
    "    print('except block')\n",
    "else:\n",
    "    print('Else block')\n",
    "finally:\n",
    "    print('Finally block')"
   ]
  },
  {
   "cell_type": "markdown",
   "id": "86eb3fe4",
   "metadata": {},
   "source": [
    "#### Case-3 When a exception is raised but not handled"
   ]
  },
  {
   "cell_type": "code",
   "execution_count": 8,
   "id": "9fbaa954",
   "metadata": {},
   "outputs": [
    {
     "name": "stdout",
     "output_type": "stream",
     "text": [
      "Try block\n",
      "Finally block\n"
     ]
    },
    {
     "ename": "ZeroDivisionError",
     "evalue": "division by zero",
     "output_type": "error",
     "traceback": [
      "\u001b[1;31m---------------------------------------------------------------------------\u001b[0m",
      "\u001b[1;31mZeroDivisionError\u001b[0m                         Traceback (most recent call last)",
      "Cell \u001b[1;32mIn[8], line 3\u001b[0m\n\u001b[0;32m      1\u001b[0m \u001b[38;5;28;01mtry\u001b[39;00m:\n\u001b[0;32m      2\u001b[0m     \u001b[38;5;28mprint\u001b[39m(\u001b[38;5;124m'\u001b[39m\u001b[38;5;124mTry block\u001b[39m\u001b[38;5;124m'\u001b[39m)\n\u001b[1;32m----> 3\u001b[0m     \u001b[38;5;241m2\u001b[39m\u001b[38;5;241m/\u001b[39m\u001b[38;5;241m0\u001b[39m\n\u001b[0;32m      4\u001b[0m \u001b[38;5;28;01mexcept\u001b[39;00m \u001b[38;5;167;01mValueError\u001b[39;00m:\n\u001b[0;32m      5\u001b[0m     \u001b[38;5;28mprint\u001b[39m(\u001b[38;5;124m'\u001b[39m\u001b[38;5;124mexcept block\u001b[39m\u001b[38;5;124m'\u001b[39m)\n",
      "\u001b[1;31mZeroDivisionError\u001b[0m: division by zero"
     ]
    }
   ],
   "source": [
    "try:\n",
    "    print('Try block')\n",
    "    2/0\n",
    "except ValueError:\n",
    "    print('except block')\n",
    "else:\n",
    "    print('Else block')\n",
    "finally:\n",
    "    print('Finally block')"
   ]
  },
  {
   "cell_type": "markdown",
   "id": "c5c94531",
   "metadata": {},
   "source": [
    "#### Raise\n",
    "\n",
    "- it is used to raise a user defined exception"
   ]
  },
  {
   "cell_type": "code",
   "execution_count": 14,
   "id": "87ea9b37",
   "metadata": {},
   "outputs": [
    {
     "name": "stdout",
     "output_type": "stream",
     "text": [
      "Enter a number: 10\n",
      "Enter a second number: 8\n",
      "1.25\n",
      "No exception occured\n"
     ]
    }
   ],
   "source": [
    "def divide(a,b):\n",
    "    if b == 0:\n",
    "        raise ValueError ('Cannot divide by zero')\n",
    "    return a/b\n",
    "\n",
    "try:\n",
    "    x = int(input('Enter a number: '))\n",
    "    y = int(input('Enter a second number: '))\n",
    "    \n",
    "    result = divide(x,y)\n",
    "    print(result)\n",
    "\n",
    "except ValueError as e:\n",
    "    print(e)\n",
    "\n",
    "else:\n",
    "    print('No exception occured')\n",
    "    "
   ]
  },
  {
   "cell_type": "code",
   "execution_count": 22,
   "id": "a711dccd",
   "metadata": {},
   "outputs": [
    {
     "name": "stdout",
     "output_type": "stream",
     "text": [
      "Enter a number: 10\n",
      "Enter a second number: 0\n",
      "Cannot divide by zero\n"
     ]
    }
   ],
   "source": [
    "def divide(a,b):\n",
    "    if b == 0:\n",
    "        raise Exception ('Cannot divide by zero')\n",
    "    return a/b\n",
    "\n",
    "try:\n",
    "    x = int(input('Enter a number: '))\n",
    "    y = int(input('Enter a second number: '))\n",
    "    \n",
    "    result = divide(x,y)\n",
    "    print(result)\n",
    "\n",
    "except Exception as e:\n",
    "    print(e)\n",
    "\n",
    "else:\n",
    "    print('No exception occured')"
   ]
  },
  {
   "cell_type": "code",
   "execution_count": null,
   "id": "f31722e9",
   "metadata": {},
   "outputs": [],
   "source": []
  }
 ],
 "metadata": {
  "kernelspec": {
   "display_name": "Python 3 (ipykernel)",
   "language": "python",
   "name": "python3"
  },
  "language_info": {
   "codemirror_mode": {
    "name": "ipython",
    "version": 3
   },
   "file_extension": ".py",
   "mimetype": "text/x-python",
   "name": "python",
   "nbconvert_exporter": "python",
   "pygments_lexer": "ipython3",
   "version": "3.11.5"
  }
 },
 "nbformat": 4,
 "nbformat_minor": 5
}
