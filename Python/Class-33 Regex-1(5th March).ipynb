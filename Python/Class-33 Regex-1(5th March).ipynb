{
 "cells": [
  {
   "cell_type": "markdown",
   "id": "23212f5d",
   "metadata": {},
   "source": [
    "### Regex\n",
    "\n",
    "- Regex stands for Regular Expression \n",
    "- It is a concept that is used to match and update a pattern from a string\n",
    "- These are powerful tools for searching, extracting and manipulating text\n",
    "- To use Regex, we have to import the module "
   ]
  },
  {
   "cell_type": "code",
   "execution_count": 1,
   "id": "5f07e014",
   "metadata": {},
   "outputs": [],
   "source": [
    "import re"
   ]
  },
  {
   "cell_type": "markdown",
   "id": "2b3de39d",
   "metadata": {},
   "source": [
    "### Components of Regex\n",
    "\n",
    "- Function \n",
    "- Metacharacters\n",
    "- Special Sequence\n",
    "- Quantifiers"
   ]
  },
  {
   "cell_type": "markdown",
   "id": "ca513e14",
   "metadata": {},
   "source": [
    "### Functions \n",
    "\n",
    "- match()\n",
    "- search()\n",
    "- findall()\n",
    "- finditer()\n",
    "- fullmatch()\n",
    "- sub()\n",
    "- split()\n",
    "- compile()"
   ]
  },
  {
   "cell_type": "markdown",
   "id": "778efba2",
   "metadata": {},
   "source": [
    "### match()\n",
    "\n",
    "- It matches the pattern at the beginning of a string\n",
    "- If the pattern is found at the beginning of the string, then it returns the matched object\n",
    "- If the pattern is not found at the beginning, then it will return __None__\n",
    "\n",
    "Syntax:\n",
    "\n",
    "    re.match(pattern ,string)"
   ]
  },
  {
   "cell_type": "markdown",
   "id": "b08e9f03",
   "metadata": {},
   "source": [
    "### Why we use r in regex pattern?\n",
    "\n",
    "- In python, using a __r__ prefix before a string literal denotes a raw string, this means that blackslaches in the string are treated as literal characters rather than an escape character."
   ]
  },
  {
   "cell_type": "code",
   "execution_count": 4,
   "id": "df3e964c",
   "metadata": {},
   "outputs": [
    {
     "name": "stdout",
     "output_type": "stream",
     "text": [
      "<re.Match object; span=(0, 3), match='Ind'>\n"
     ]
    }
   ],
   "source": [
    "text = 'India is my country and I love India'\n",
    "\n",
    "pat = r'Ind'\n",
    "\n",
    "x = re.match(pat, text)\n",
    "print(x)"
   ]
  },
  {
   "cell_type": "code",
   "execution_count": 5,
   "id": "51625b6a",
   "metadata": {},
   "outputs": [
    {
     "name": "stdout",
     "output_type": "stream",
     "text": [
      "None\n"
     ]
    }
   ],
   "source": [
    "text = 'India is my country and I love India'\n",
    "\n",
    "pat = r'unt'\n",
    "\n",
    "x = re.match(pat, text)\n",
    "print(x)"
   ]
  },
  {
   "cell_type": "markdown",
   "id": "15503588",
   "metadata": {},
   "source": [
    "#### The functions and attributes in match object\n",
    "\n",
    "- group() - It returns the pattern matched from the match object\n",
    "- span() - It returns a tuple of two elements, the first element is starting indexing and the second element is the ending index(excluded)\n",
    "- start() - It returns the starting index\n",
    "- end() - Ending index (excluded)\n",
    "\n",
    "__Note:__ Ending index is always excluded"
   ]
  },
  {
   "cell_type": "code",
   "execution_count": 6,
   "id": "f49094ef",
   "metadata": {},
   "outputs": [
    {
     "name": "stdout",
     "output_type": "stream",
     "text": [
      "<re.Match object; span=(0, 3), match='Ind'>\n"
     ]
    }
   ],
   "source": [
    "text = 'India is my country'\n",
    "\n",
    "pat = r'Ind'\n",
    "\n",
    "x = re.match(pat, text)\n",
    "print(x)"
   ]
  },
  {
   "cell_type": "code",
   "execution_count": 7,
   "id": "ffc48ace",
   "metadata": {},
   "outputs": [
    {
     "data": {
      "text/plain": [
       "'Ind'"
      ]
     },
     "execution_count": 7,
     "metadata": {},
     "output_type": "execute_result"
    }
   ],
   "source": [
    "x.group()"
   ]
  },
  {
   "cell_type": "code",
   "execution_count": 8,
   "id": "0465788e",
   "metadata": {},
   "outputs": [
    {
     "data": {
      "text/plain": [
       "(0, 3)"
      ]
     },
     "execution_count": 8,
     "metadata": {},
     "output_type": "execute_result"
    }
   ],
   "source": [
    "x.span()"
   ]
  },
  {
   "cell_type": "code",
   "execution_count": 9,
   "id": "661a4546",
   "metadata": {},
   "outputs": [
    {
     "data": {
      "text/plain": [
       "0"
      ]
     },
     "execution_count": 9,
     "metadata": {},
     "output_type": "execute_result"
    }
   ],
   "source": [
    "x.start()"
   ]
  },
  {
   "cell_type": "code",
   "execution_count": 10,
   "id": "92355754",
   "metadata": {},
   "outputs": [
    {
     "data": {
      "text/plain": [
       "3"
      ]
     },
     "execution_count": 10,
     "metadata": {},
     "output_type": "execute_result"
    }
   ],
   "source": [
    "x.end()"
   ]
  },
  {
   "cell_type": "markdown",
   "id": "7513920c",
   "metadata": {},
   "source": [
    "### search()\n",
    "\n",
    "- It matches the first occurance of the pattern from left to right in the string\n",
    "- If the pattern is found, it will return a matched object\n",
    "- If the pattern is not found, it will return __None__"
   ]
  },
  {
   "cell_type": "code",
   "execution_count": 12,
   "id": "62fe38a3",
   "metadata": {},
   "outputs": [
    {
     "name": "stdout",
     "output_type": "stream",
     "text": [
      "<re.Match object; span=(7, 12), match='India'>\n",
      "India\n",
      "(7, 12)\n",
      "7\n",
      "12\n"
     ]
    }
   ],
   "source": [
    "text = 'I love India very much'\n",
    "\n",
    "pat = r'India'\n",
    "\n",
    "x = re.search(pat, text)\n",
    "print(x)\n",
    "\n",
    "print(x.group())\n",
    "print(x.span())\n",
    "print(x.start())\n",
    "print(x.end())"
   ]
  },
  {
   "cell_type": "code",
   "execution_count": 13,
   "id": "aa044b5e",
   "metadata": {},
   "outputs": [
    {
     "name": "stdout",
     "output_type": "stream",
     "text": [
      "None\n"
     ]
    }
   ],
   "source": [
    "text = 'I love India very much'\n",
    "\n",
    "pat = r'China'\n",
    "\n",
    "x = re.search(pat, text)\n",
    "print(x)"
   ]
  },
  {
   "cell_type": "markdown",
   "id": "48e6333b",
   "metadata": {},
   "source": [
    "### findall()\n",
    "\n",
    "- It matches all the occurance of the pattern in the string a returns a list\n",
    "- If the pattern is found, then it will return you a list of matched pattern\n",
    "- If the pattern is not found, then it will retuns an empty list"
   ]
  },
  {
   "cell_type": "code",
   "execution_count": 28,
   "id": "9dfcadde",
   "metadata": {},
   "outputs": [
    {
     "name": "stdout",
     "output_type": "stream",
     "text": [
      "['India', 'India', 'India', 'India']\n"
     ]
    }
   ],
   "source": [
    "text = 'India is my country, I love India. India lies in Asia abd I live in Bengaluru India'\n",
    "\n",
    "pat = r'India'\n",
    "\n",
    "x = re.findall(pat, text)\n",
    "print(x)"
   ]
  },
  {
   "cell_type": "code",
   "execution_count": 27,
   "id": "032d0fae",
   "metadata": {},
   "outputs": [
    {
     "name": "stdout",
     "output_type": "stream",
     "text": [
      "['India', 'India', 'India', 'India']\n"
     ]
    },
    {
     "ename": "AttributeError",
     "evalue": "'list' object has no attribute 'group'",
     "output_type": "error",
     "traceback": [
      "\u001b[1;31m---------------------------------------------------------------------------\u001b[0m",
      "\u001b[1;31mAttributeError\u001b[0m                            Traceback (most recent call last)",
      "Cell \u001b[1;32mIn[27], line 8\u001b[0m\n\u001b[0;32m      5\u001b[0m x \u001b[38;5;241m=\u001b[39m re\u001b[38;5;241m.\u001b[39mfindall(pat, text)\n\u001b[0;32m      6\u001b[0m \u001b[38;5;28mprint\u001b[39m(x)\n\u001b[1;32m----> 8\u001b[0m \u001b[38;5;28mprint\u001b[39m(x\u001b[38;5;241m.\u001b[39mgroup())\n",
      "\u001b[1;31mAttributeError\u001b[0m: 'list' object has no attribute 'group'"
     ]
    }
   ],
   "source": [
    "text = 'India is my country, I love India. India lies in Asia abd I live in Bengaluru India'\n",
    "\n",
    "pat = r'India'\n",
    "\n",
    "x = re.findall(pat, text)\n",
    "print(x)\n",
    "\n",
    "print(x.group())"
   ]
  },
  {
   "cell_type": "code",
   "execution_count": 17,
   "id": "f14ae727",
   "metadata": {},
   "outputs": [
    {
     "name": "stdout",
     "output_type": "stream",
     "text": [
      "['ia', 'ia', 'ia', 'ia', 'ia']\n"
     ]
    }
   ],
   "source": [
    "text = 'India is my country, I love India. India lies in Asia abd I live in Bengaluru India'\n",
    "\n",
    "pat = r'ia'\n",
    "\n",
    "x = re.findall(pat, text)\n",
    "print(x)"
   ]
  },
  {
   "cell_type": "code",
   "execution_count": 18,
   "id": "5b25aa92",
   "metadata": {},
   "outputs": [
    {
     "name": "stdout",
     "output_type": "stream",
     "text": [
      "[]\n"
     ]
    }
   ],
   "source": [
    "text = 'India is my country, I love India. India lies in Asia abd I live in Bengaluru India'\n",
    "\n",
    "pat = r'Russia'\n",
    "\n",
    "x = re.findall(pat, text)\n",
    "print(x)"
   ]
  },
  {
   "cell_type": "markdown",
   "id": "472bf48b",
   "metadata": {},
   "source": [
    "### finditer()\n",
    "\n",
    "- It matches all the occuranec of the pattern in the string\n",
    "- It returns an iterator object, where each element in the iterator object is a matched object\n",
    "- If the pattern is not found, then it returns an empty iterator object\n",
    "- To fetch out the elements from the iterator object we will use for loop"
   ]
  },
  {
   "cell_type": "code",
   "execution_count": 21,
   "id": "b7e6d1c7",
   "metadata": {},
   "outputs": [
    {
     "name": "stdout",
     "output_type": "stream",
     "text": [
      "<callable_iterator object at 0x00000174E8748490>\n"
     ]
    }
   ],
   "source": [
    "text = 'India is my country, I love India. India lies in Asia abd I live in Bengaluru India'\n",
    "\n",
    "pat = r'India'\n",
    "\n",
    "x = re.finditer(pat, text)\n",
    "print(x)"
   ]
  },
  {
   "cell_type": "code",
   "execution_count": 22,
   "id": "07991b5b",
   "metadata": {},
   "outputs": [
    {
     "name": "stdout",
     "output_type": "stream",
     "text": [
      "<re.Match object; span=(0, 5), match='India'>\n",
      "<re.Match object; span=(28, 33), match='India'>\n",
      "<re.Match object; span=(35, 40), match='India'>\n",
      "<re.Match object; span=(78, 83), match='India'>\n"
     ]
    }
   ],
   "source": [
    "for i in x:\n",
    "    print(i)"
   ]
  },
  {
   "cell_type": "code",
   "execution_count": 23,
   "id": "b1fe9e91",
   "metadata": {},
   "outputs": [
    {
     "name": "stdout",
     "output_type": "stream",
     "text": [
      "<callable_iterator object at 0x00000174E8749F30>\n"
     ]
    }
   ],
   "source": [
    "text = 'India is my country, I love India. India lies in Asia abd I live in Bengaluru India'\n",
    "\n",
    "pat = r'Japan'\n",
    "\n",
    "x = re.finditer(pat, text)\n",
    "print(x)"
   ]
  },
  {
   "cell_type": "code",
   "execution_count": 24,
   "id": "c1ddcc09",
   "metadata": {},
   "outputs": [],
   "source": [
    "for i in x:\n",
    "    print(i)"
   ]
  },
  {
   "cell_type": "code",
   "execution_count": 25,
   "id": "07043645",
   "metadata": {},
   "outputs": [
    {
     "name": "stdout",
     "output_type": "stream",
     "text": [
      "<callable_iterator object at 0x00000174E85AEDA0>\n",
      "India\n",
      "(0, 5)\n",
      "0\n",
      "5\n",
      "-----------------------\n",
      "India\n",
      "(28, 33)\n",
      "28\n",
      "33\n",
      "-----------------------\n",
      "India\n",
      "(35, 40)\n",
      "35\n",
      "40\n",
      "-----------------------\n",
      "India\n",
      "(78, 83)\n",
      "78\n",
      "83\n",
      "-----------------------\n"
     ]
    }
   ],
   "source": [
    "text = 'India is my country, I love India. India lies in Asia abd I live in Bengaluru India'\n",
    "\n",
    "pat = r'India'\n",
    "\n",
    "x = re.finditer(pat, text)\n",
    "print(x)\n",
    "\n",
    "\n",
    "for i in x:\n",
    "    print(i.group())\n",
    "    print(i.span())\n",
    "    print(i.start())\n",
    "    print(i.end())\n",
    "    print('-----------------------')"
   ]
  },
  {
   "cell_type": "markdown",
   "id": "42c46dd9",
   "metadata": {},
   "source": [
    "### Metacharacter \n",
    "\n",
    "- These are some special characters in Regex\n",
    "- These characters carry some important message and are useful for some specific purposes\n",
    "\n",
    "#### Different kinds of Metacharacters\n",
    "\n",
    "- [..] - set\n",
    "- () - group\n",
    "- ^ - caret\n",
    "- $ - dollar\n",
    "- | or \n",
    "- .(dot)"
   ]
  },
  {
   "cell_type": "markdown",
   "id": "63c12e66",
   "metadata": {},
   "source": [
    "### [] - Set\n",
    "\n",
    "- [A] - It will match all A one by one in the string\n",
    "- [AB] - It will match A and B seperately one by one in the string\n",
    "- [A-Z] - It will match all the uppercase letters from A to Z in the string\n",
    "- [a-z] - It will macth all tle lowercase letters from a to z in the string\n",
    "- [0-9] - It will match all the digits from 0 to 9\n",
    "- [A-Za-z0-9] - It will match all the uppercase letters, lowercase letters and digits\n",
    "- [^A] - It will match everything except A\n",
    " - [^A-Z] - it will match everything except the uppercase letters in the string"
   ]
  },
  {
   "cell_type": "code",
   "execution_count": 29,
   "id": "bd1e01a8",
   "metadata": {},
   "outputs": [
    {
     "name": "stdout",
     "output_type": "stream",
     "text": [
      "<callable_iterator object at 0x00000174E874A260>\n",
      "<re.Match object; span=(6, 7), match='A'>\n",
      "<re.Match object; span=(7, 8), match='A'>\n",
      "<re.Match object; span=(14, 15), match='A'>\n",
      "<re.Match object; span=(37, 38), match='A'>\n"
     ]
    }
   ],
   "source": [
    "text = 'da 18 AA@ 72@ AIJ Bsk fjwu! @@#^%1548A48'\n",
    "\n",
    "pat = r'[A]'\n",
    "\n",
    "x = re.finditer(pat, text)\n",
    "print(x)\n",
    "\n",
    "for i in x:\n",
    "    print(i)"
   ]
  },
  {
   "cell_type": "code",
   "execution_count": 30,
   "id": "978b3894",
   "metadata": {},
   "outputs": [
    {
     "name": "stdout",
     "output_type": "stream",
     "text": [
      "<callable_iterator object at 0x00000174E85AFE50>\n",
      "<re.Match object; span=(6, 7), match='A'>\n",
      "<re.Match object; span=(7, 8), match='A'>\n",
      "<re.Match object; span=(14, 15), match='A'>\n",
      "<re.Match object; span=(18, 19), match='B'>\n",
      "<re.Match object; span=(37, 38), match='A'>\n"
     ]
    }
   ],
   "source": [
    "text = 'da 18 AA@ 72@ AIJ Bsk fjwu! @@#^%1548A48'\n",
    "\n",
    "pat = r'[AB]'\n",
    "\n",
    "x = re.finditer(pat, text)\n",
    "print(x)\n",
    "\n",
    "for i in x:\n",
    "    print(i)"
   ]
  },
  {
   "cell_type": "code",
   "execution_count": 31,
   "id": "5c2a0701",
   "metadata": {},
   "outputs": [
    {
     "name": "stdout",
     "output_type": "stream",
     "text": [
      "<callable_iterator object at 0x00000174E8749CC0>\n",
      "<re.Match object; span=(6, 7), match='A'>\n",
      "<re.Match object; span=(7, 8), match='B'>\n",
      "<re.Match object; span=(8, 9), match='A'>\n",
      "<re.Match object; span=(9, 10), match='B'>\n",
      "<re.Match object; span=(16, 17), match='A'>\n",
      "<re.Match object; span=(17, 18), match='B'>\n",
      "<re.Match object; span=(18, 19), match='B'>\n",
      "<re.Match object; span=(22, 23), match='B'>\n",
      "<re.Match object; span=(23, 24), match='A'>\n",
      "<re.Match object; span=(24, 25), match='A'>\n",
      "<re.Match object; span=(43, 44), match='A'>\n",
      "<re.Match object; span=(44, 45), match='B'>\n"
     ]
    }
   ],
   "source": [
    "text = 'da 18 ABAB@ 72@ ABBIJ BAAsk fjwu! @@#^%1548AB48'\n",
    "\n",
    "pat = r'[AB]'\n",
    "\n",
    "x = re.finditer(pat, text)\n",
    "print(x)\n",
    "\n",
    "for i in x:\n",
    "    print(i)"
   ]
  },
  {
   "cell_type": "code",
   "execution_count": 32,
   "id": "a00648cf",
   "metadata": {},
   "outputs": [
    {
     "name": "stdout",
     "output_type": "stream",
     "text": [
      "<callable_iterator object at 0x00000174E85AFD00>\n",
      "<re.Match object; span=(6, 8), match='AB'>\n",
      "<re.Match object; span=(8, 10), match='AB'>\n",
      "<re.Match object; span=(16, 18), match='AB'>\n",
      "<re.Match object; span=(43, 45), match='AB'>\n"
     ]
    }
   ],
   "source": [
    "text = 'da 18 ABAB@ 72@ ABBIJ BAAsk fjwu! @@#^%1548AB48'\n",
    "\n",
    "pat = r'AB'\n",
    "\n",
    "x = re.finditer(pat, text)\n",
    "print(x)\n",
    "\n",
    "for i in x:\n",
    "    print(i)"
   ]
  },
  {
   "cell_type": "code",
   "execution_count": 33,
   "id": "eb5dfa39",
   "metadata": {},
   "outputs": [
    {
     "name": "stdout",
     "output_type": "stream",
     "text": [
      "<callable_iterator object at 0x00000174E874A260>\n",
      "<re.Match object; span=(6, 7), match='A'>\n",
      "<re.Match object; span=(7, 8), match='B'>\n",
      "<re.Match object; span=(8, 9), match='A'>\n",
      "<re.Match object; span=(9, 10), match='B'>\n",
      "<re.Match object; span=(16, 17), match='A'>\n",
      "<re.Match object; span=(17, 18), match='B'>\n",
      "<re.Match object; span=(18, 19), match='B'>\n",
      "<re.Match object; span=(19, 20), match='I'>\n",
      "<re.Match object; span=(20, 21), match='J'>\n",
      "<re.Match object; span=(22, 23), match='B'>\n",
      "<re.Match object; span=(23, 24), match='A'>\n",
      "<re.Match object; span=(24, 25), match='A'>\n",
      "<re.Match object; span=(43, 44), match='A'>\n",
      "<re.Match object; span=(44, 45), match='B'>\n"
     ]
    }
   ],
   "source": [
    "text = 'da 18 ABAB@ 72@ ABBIJ BAAsk fjwu! @@#^%1548AB48'\n",
    "\n",
    "pat = r'[A-Z]'\n",
    "\n",
    "x = re.finditer(pat, text)\n",
    "print(x)\n",
    "\n",
    "for i in x:\n",
    "    print(i)"
   ]
  },
  {
   "cell_type": "code",
   "execution_count": 34,
   "id": "30de51d9",
   "metadata": {},
   "outputs": [
    {
     "name": "stdout",
     "output_type": "stream",
     "text": [
      "<callable_iterator object at 0x00000174E85ADAB0>\n",
      "<re.Match object; span=(0, 1), match='d'>\n",
      "<re.Match object; span=(1, 2), match='a'>\n",
      "<re.Match object; span=(2, 3), match=' '>\n",
      "<re.Match object; span=(3, 4), match='1'>\n",
      "<re.Match object; span=(4, 5), match='8'>\n",
      "<re.Match object; span=(5, 6), match=' '>\n",
      "<re.Match object; span=(10, 11), match='@'>\n",
      "<re.Match object; span=(11, 12), match=' '>\n",
      "<re.Match object; span=(12, 13), match='7'>\n",
      "<re.Match object; span=(13, 14), match='2'>\n",
      "<re.Match object; span=(14, 15), match='@'>\n",
      "<re.Match object; span=(15, 16), match=' '>\n",
      "<re.Match object; span=(21, 22), match=' '>\n",
      "<re.Match object; span=(25, 26), match='s'>\n",
      "<re.Match object; span=(26, 27), match='k'>\n",
      "<re.Match object; span=(27, 28), match=' '>\n",
      "<re.Match object; span=(28, 29), match='f'>\n",
      "<re.Match object; span=(29, 30), match='j'>\n",
      "<re.Match object; span=(30, 31), match='w'>\n",
      "<re.Match object; span=(31, 32), match='u'>\n",
      "<re.Match object; span=(32, 33), match='!'>\n",
      "<re.Match object; span=(33, 34), match=' '>\n",
      "<re.Match object; span=(34, 35), match='@'>\n",
      "<re.Match object; span=(35, 36), match='@'>\n",
      "<re.Match object; span=(36, 37), match='#'>\n",
      "<re.Match object; span=(37, 38), match='^'>\n",
      "<re.Match object; span=(38, 39), match='%'>\n",
      "<re.Match object; span=(39, 40), match='1'>\n",
      "<re.Match object; span=(40, 41), match='5'>\n",
      "<re.Match object; span=(41, 42), match='4'>\n",
      "<re.Match object; span=(42, 43), match='8'>\n",
      "<re.Match object; span=(45, 46), match='4'>\n",
      "<re.Match object; span=(46, 47), match='8'>\n"
     ]
    }
   ],
   "source": [
    "text = 'da 18 ABAB@ 72@ ABBIJ BAAsk fjwu! @@#^%1548AB48'\n",
    "\n",
    "pat = r'[^A-Z]'\n",
    "\n",
    "x = re.finditer(pat, text)\n",
    "print(x)\n",
    "\n",
    "for i in x:\n",
    "    print(i)"
   ]
  },
  {
   "cell_type": "code",
   "execution_count": 35,
   "id": "3578247c",
   "metadata": {},
   "outputs": [
    {
     "name": "stdout",
     "output_type": "stream",
     "text": [
      "<callable_iterator object at 0x00000174E87482B0>\n",
      "<re.Match object; span=(3, 4), match='1'>\n",
      "<re.Match object; span=(4, 5), match='8'>\n",
      "<re.Match object; span=(12, 13), match='7'>\n",
      "<re.Match object; span=(13, 14), match='2'>\n",
      "<re.Match object; span=(39, 40), match='1'>\n",
      "<re.Match object; span=(40, 41), match='5'>\n",
      "<re.Match object; span=(41, 42), match='4'>\n",
      "<re.Match object; span=(42, 43), match='8'>\n",
      "<re.Match object; span=(45, 46), match='4'>\n",
      "<re.Match object; span=(46, 47), match='8'>\n"
     ]
    }
   ],
   "source": [
    "text = 'da 18 ABAB@ 72@ ABBIJ BAAsk fjwu! @@#^%1548AB48'\n",
    "\n",
    "pat = r'[0-9]'\n",
    "\n",
    "x = re.finditer(pat, text)\n",
    "print(x)\n",
    "\n",
    "for i in x:\n",
    "    print(i)"
   ]
  },
  {
   "cell_type": "code",
   "execution_count": 36,
   "id": "f7d04a2c",
   "metadata": {},
   "outputs": [
    {
     "name": "stdout",
     "output_type": "stream",
     "text": [
      "<callable_iterator object at 0x00000174E85AF370>\n",
      "<re.Match object; span=(0, 1), match='d'>\n",
      "<re.Match object; span=(1, 2), match='a'>\n",
      "<re.Match object; span=(2, 3), match=' '>\n",
      "<re.Match object; span=(3, 4), match='1'>\n",
      "<re.Match object; span=(4, 5), match='8'>\n",
      "<re.Match object; span=(5, 6), match=' '>\n",
      "<re.Match object; span=(6, 7), match='A'>\n",
      "<re.Match object; span=(7, 8), match='B'>\n",
      "<re.Match object; span=(8, 9), match='A'>\n",
      "<re.Match object; span=(9, 10), match='B'>\n",
      "<re.Match object; span=(11, 12), match=' '>\n",
      "<re.Match object; span=(12, 13), match='7'>\n",
      "<re.Match object; span=(13, 14), match='2'>\n",
      "<re.Match object; span=(15, 16), match=' '>\n",
      "<re.Match object; span=(16, 17), match='A'>\n",
      "<re.Match object; span=(17, 18), match='B'>\n",
      "<re.Match object; span=(18, 19), match='B'>\n",
      "<re.Match object; span=(19, 20), match='I'>\n",
      "<re.Match object; span=(20, 21), match='J'>\n",
      "<re.Match object; span=(21, 22), match=' '>\n",
      "<re.Match object; span=(22, 23), match='B'>\n",
      "<re.Match object; span=(23, 24), match='A'>\n",
      "<re.Match object; span=(24, 25), match='A'>\n",
      "<re.Match object; span=(25, 26), match='s'>\n",
      "<re.Match object; span=(26, 27), match='k'>\n",
      "<re.Match object; span=(27, 28), match=' '>\n",
      "<re.Match object; span=(28, 29), match='f'>\n",
      "<re.Match object; span=(29, 30), match='j'>\n",
      "<re.Match object; span=(30, 31), match='w'>\n",
      "<re.Match object; span=(31, 32), match='u'>\n",
      "<re.Match object; span=(33, 34), match=' '>\n",
      "<re.Match object; span=(39, 40), match='1'>\n",
      "<re.Match object; span=(40, 41), match='5'>\n",
      "<re.Match object; span=(41, 42), match='4'>\n",
      "<re.Match object; span=(42, 43), match='8'>\n",
      "<re.Match object; span=(43, 44), match='A'>\n",
      "<re.Match object; span=(44, 45), match='B'>\n",
      "<re.Match object; span=(45, 46), match='4'>\n",
      "<re.Match object; span=(46, 47), match='8'>\n"
     ]
    }
   ],
   "source": [
    "text = 'da 18 ABAB@ 72@ ABBIJ BAAsk fjwu! @@#^%1548AB48'\n",
    "\n",
    "pat = r'[^!@#$%^&*()-+=]'\n",
    "\n",
    "x = re.finditer(pat, text)\n",
    "print(x)\n",
    "\n",
    "for i in x:\n",
    "    print(i)"
   ]
  },
  {
   "cell_type": "markdown",
   "id": "9c0d1310",
   "metadata": {},
   "source": [
    "### ^ Caret\n",
    "\n",
    "- It matches the pattern at the beginning of the string"
   ]
  },
  {
   "cell_type": "code",
   "execution_count": 37,
   "id": "57c8709d",
   "metadata": {},
   "outputs": [
    {
     "name": "stdout",
     "output_type": "stream",
     "text": [
      "<callable_iterator object at 0x00000174E874A560>\n",
      "<re.Match object; span=(0, 5), match='da 18'>\n"
     ]
    }
   ],
   "source": [
    "text = 'da 18 ABAB@ 72@ ABBIJ BAAsk fjwu! @@#^%1548AB48'\n",
    "\n",
    "pat = r'^da 18'\n",
    "\n",
    "x = re.finditer(pat, text)\n",
    "print(x)\n",
    "\n",
    "for i in x:\n",
    "    print(i)"
   ]
  },
  {
   "cell_type": "code",
   "execution_count": 38,
   "id": "b91b3c2c",
   "metadata": {},
   "outputs": [
    {
     "name": "stdout",
     "output_type": "stream",
     "text": [
      "<callable_iterator object at 0x00000174E85AD5A0>\n",
      "<re.Match object; span=(0, 1), match='d'>\n",
      "<re.Match object; span=(1, 2), match='a'>\n",
      "<re.Match object; span=(2, 3), match=' '>\n",
      "<re.Match object; span=(3, 4), match='1'>\n",
      "<re.Match object; span=(4, 5), match='8'>\n",
      "<re.Match object; span=(5, 6), match=' '>\n",
      "<re.Match object; span=(6, 7), match='A'>\n",
      "<re.Match object; span=(8, 9), match='A'>\n",
      "<re.Match object; span=(10, 11), match='@'>\n",
      "<re.Match object; span=(11, 12), match=' '>\n",
      "<re.Match object; span=(12, 13), match='7'>\n",
      "<re.Match object; span=(13, 14), match='2'>\n",
      "<re.Match object; span=(14, 15), match='@'>\n",
      "<re.Match object; span=(15, 16), match=' '>\n",
      "<re.Match object; span=(16, 17), match='A'>\n",
      "<re.Match object; span=(19, 20), match='I'>\n",
      "<re.Match object; span=(20, 21), match='J'>\n",
      "<re.Match object; span=(21, 22), match=' '>\n",
      "<re.Match object; span=(23, 24), match='A'>\n",
      "<re.Match object; span=(24, 25), match='A'>\n",
      "<re.Match object; span=(25, 26), match='s'>\n",
      "<re.Match object; span=(26, 27), match='k'>\n",
      "<re.Match object; span=(27, 28), match=' '>\n",
      "<re.Match object; span=(28, 29), match='f'>\n",
      "<re.Match object; span=(29, 30), match='j'>\n",
      "<re.Match object; span=(30, 31), match='w'>\n",
      "<re.Match object; span=(31, 32), match='u'>\n",
      "<re.Match object; span=(32, 33), match='!'>\n",
      "<re.Match object; span=(33, 34), match=' '>\n",
      "<re.Match object; span=(34, 35), match='@'>\n",
      "<re.Match object; span=(35, 36), match='@'>\n",
      "<re.Match object; span=(36, 37), match='#'>\n",
      "<re.Match object; span=(37, 38), match='^'>\n",
      "<re.Match object; span=(38, 39), match='%'>\n",
      "<re.Match object; span=(39, 40), match='1'>\n",
      "<re.Match object; span=(40, 41), match='5'>\n",
      "<re.Match object; span=(41, 42), match='4'>\n",
      "<re.Match object; span=(42, 43), match='8'>\n",
      "<re.Match object; span=(43, 44), match='A'>\n",
      "<re.Match object; span=(45, 46), match='4'>\n",
      "<re.Match object; span=(46, 47), match='8'>\n"
     ]
    }
   ],
   "source": [
    "text = 'da 18 ABAB@ 72@ ABBIJ BAAsk fjwu! @@#^%1548AB48'\n",
    "\n",
    "pat = r'[^B]'\n",
    "\n",
    "x = re.finditer(pat, text)\n",
    "print(x)\n",
    "\n",
    "for i in x:\n",
    "    print(i)"
   ]
  },
  {
   "cell_type": "code",
   "execution_count": 40,
   "id": "7a666fd5",
   "metadata": {},
   "outputs": [
    {
     "name": "stdout",
     "output_type": "stream",
     "text": [
      "<callable_iterator object at 0x00000174E85ADED0>\n"
     ]
    }
   ],
   "source": [
    "text = 'da 18 ABAB@ 72@ ABBIJ BAAsk fjwu! @@#^%1548AB48'\n",
    "\n",
    "pat = r'^l'\n",
    "\n",
    "x = re.finditer(pat, text)\n",
    "print(x)\n",
    "\n",
    "for i in x:\n",
    "    print(i)"
   ]
  },
  {
   "cell_type": "code",
   "execution_count": 41,
   "id": "5722630a",
   "metadata": {},
   "outputs": [
    {
     "name": "stdout",
     "output_type": "stream",
     "text": [
      "None\n"
     ]
    }
   ],
   "source": [
    "text = 'da 18 ABAB@ 72@ ABBIJ BAAsk fjwu! @@#^%1548AB48'\n",
    "\n",
    "pat = r'^l'\n",
    "\n",
    "x = re.match(pat, text)\n",
    "print(x)"
   ]
  },
  {
   "cell_type": "markdown",
   "id": "fc399034",
   "metadata": {},
   "source": [
    "### $ dollar\n",
    "\n",
    "- It matches the pattern at the end of the string"
   ]
  },
  {
   "cell_type": "code",
   "execution_count": 42,
   "id": "5b22e51a",
   "metadata": {},
   "outputs": [
    {
     "name": "stdout",
     "output_type": "stream",
     "text": [
      "<re.Match object; span=(39, 43), match='uage'>\n"
     ]
    }
   ],
   "source": [
    "text = 'Python is a high level programming language'\n",
    "\n",
    "pat = r'uage'\n",
    "\n",
    "x = re.finditer(pat, text)\n",
    "\n",
    "for i in x:\n",
    "    print(i)"
   ]
  },
  {
   "cell_type": "code",
   "execution_count": 43,
   "id": "e92cd4ca",
   "metadata": {},
   "outputs": [
    {
     "name": "stdout",
     "output_type": "stream",
     "text": [
      "<re.Match object; span=(39, 43), match='uage'>\n"
     ]
    }
   ],
   "source": [
    "text = 'Python is a high level programming language'\n",
    "\n",
    "pat = r'uage$'\n",
    "\n",
    "x = re.finditer(pat, text)\n",
    "\n",
    "for i in x:\n",
    "    print(i)"
   ]
  },
  {
   "cell_type": "code",
   "execution_count": 44,
   "id": "b4cad8eb",
   "metadata": {},
   "outputs": [
    {
     "name": "stdout",
     "output_type": "stream",
     "text": [
      "<re.Match object; span=(12, 16), match='high'>\n"
     ]
    }
   ],
   "source": [
    "text = 'Python is a high level programming language'\n",
    "\n",
    "pat = r'high'\n",
    "\n",
    "x = re.finditer(pat, text)\n",
    "\n",
    "for i in x:\n",
    "    print(i)"
   ]
  },
  {
   "cell_type": "code",
   "execution_count": 45,
   "id": "b3b644c9",
   "metadata": {},
   "outputs": [],
   "source": [
    "text = 'Python is a high level programming language'\n",
    "\n",
    "pat = r'high$'\n",
    "\n",
    "x = re.finditer(pat, text)\n",
    "\n",
    "for i in x:\n",
    "    print(i)"
   ]
  },
  {
   "cell_type": "code",
   "execution_count": 46,
   "id": "bce5b8c1",
   "metadata": {},
   "outputs": [
    {
     "name": "stdout",
     "output_type": "stream",
     "text": [
      "<re.Match object; span=(18, 19), match='e'>\n",
      "<re.Match object; span=(20, 21), match='e'>\n",
      "<re.Match object; span=(42, 43), match='e'>\n"
     ]
    }
   ],
   "source": [
    "text = 'Python is a high level programming language'\n",
    "\n",
    "pat = r'e'\n",
    "\n",
    "x = re.finditer(pat, text)\n",
    "\n",
    "for i in x:\n",
    "    print(i)"
   ]
  },
  {
   "cell_type": "code",
   "execution_count": 47,
   "id": "167a2a2f",
   "metadata": {},
   "outputs": [
    {
     "name": "stdout",
     "output_type": "stream",
     "text": [
      "<re.Match object; span=(42, 43), match='e'>\n"
     ]
    }
   ],
   "source": [
    "text = 'Python is a high level programming language'\n",
    "\n",
    "pat = r'e$'\n",
    "\n",
    "x = re.finditer(pat, text)\n",
    "\n",
    "for i in x:\n",
    "    print(i)"
   ]
  },
  {
   "cell_type": "markdown",
   "id": "21f0f769",
   "metadata": {},
   "source": [
    "### .dot\n",
    "\n",
    "- It matches all the characters except the \\n character"
   ]
  },
  {
   "cell_type": "code",
   "execution_count": 50,
   "id": "0006b316",
   "metadata": {},
   "outputs": [
    {
     "name": "stdout",
     "output_type": "stream",
     "text": [
      "<re.Match object; span=(0, 1), match='M'>\n",
      "<re.Match object; span=(1, 2), match='y'>\n",
      "<re.Match object; span=(2, 3), match=' '>\n",
      "<re.Match object; span=(3, 4), match='n'>\n",
      "<re.Match object; span=(4, 5), match='a'>\n",
      "<re.Match object; span=(5, 6), match='m'>\n",
      "<re.Match object; span=(6, 7), match='e'>\n",
      "<re.Match object; span=(7, 8), match=' '>\n",
      "<re.Match object; span=(8, 9), match='i'>\n",
      "<re.Match object; span=(9, 10), match='s'>\n",
      "<re.Match object; span=(10, 11), match=' '>\n",
      "<re.Match object; span=(11, 12), match='M'>\n",
      "<re.Match object; span=(12, 13), match='a'>\n",
      "<re.Match object; span=(13, 14), match='y'>\n",
      "<re.Match object; span=(14, 15), match='a'>\n",
      "<re.Match object; span=(15, 16), match='n'>\n",
      "<re.Match object; span=(16, 17), match='k'>\n",
      "<re.Match object; span=(17, 18), match=' '>\n",
      "<re.Match object; span=(18, 19), match='G'>\n",
      "<re.Match object; span=(19, 20), match='h'>\n",
      "<re.Match object; span=(20, 21), match='a'>\n",
      "<re.Match object; span=(21, 22), match='i'>\n",
      "<re.Match object; span=(22, 23), match='.'>\n",
      "<re.Match object; span=(24, 25), match=' '>\n",
      "<re.Match object; span=(25, 26), match='I'>\n",
      "<re.Match object; span=(26, 27), match=' '>\n",
      "<re.Match object; span=(27, 28), match='a'>\n",
      "<re.Match object; span=(28, 29), match='m'>\n",
      "<re.Match object; span=(29, 30), match=' '>\n",
      "<re.Match object; span=(30, 31), match='a'>\n",
      "<re.Match object; span=(31, 32), match=' '>\n",
      "<re.Match object; span=(32, 33), match='S'>\n",
      "<re.Match object; span=(33, 34), match='r'>\n",
      "<re.Match object; span=(34, 35), match='.'>\n",
      "<re.Match object; span=(35, 36), match=' '>\n",
      "<re.Match object; span=(36, 37), match='D'>\n",
      "<re.Match object; span=(37, 38), match='a'>\n",
      "<re.Match object; span=(38, 39), match='t'>\n",
      "<re.Match object; span=(39, 40), match='a'>\n",
      "<re.Match object; span=(40, 41), match=' '>\n",
      "<re.Match object; span=(41, 42), match='A'>\n",
      "<re.Match object; span=(42, 43), match='n'>\n",
      "<re.Match object; span=(43, 44), match='a'>\n",
      "<re.Match object; span=(44, 45), match='l'>\n",
      "<re.Match object; span=(45, 46), match='y'>\n",
      "<re.Match object; span=(46, 47), match='s'>\n",
      "<re.Match object; span=(47, 48), match='t'>\n",
      "<re.Match object; span=(48, 49), match='.'>\n",
      "<re.Match object; span=(50, 51), match=' '>\n",
      "<re.Match object; span=(51, 52), match='I'>\n",
      "<re.Match object; span=(52, 53), match=' '>\n",
      "<re.Match object; span=(53, 54), match='w'>\n",
      "<re.Match object; span=(54, 55), match='o'>\n",
      "<re.Match object; span=(55, 56), match='r'>\n",
      "<re.Match object; span=(56, 57), match='k'>\n",
      "<re.Match object; span=(57, 58), match=' '>\n",
      "<re.Match object; span=(58, 59), match='a'>\n",
      "<re.Match object; span=(59, 60), match='s'>\n",
      "<re.Match object; span=(60, 61), match=' '>\n",
      "<re.Match object; span=(61, 62), match='a'>\n",
      "<re.Match object; span=(62, 63), match=' '>\n",
      "<re.Match object; span=(63, 64), match='T'>\n",
      "<re.Match object; span=(64, 65), match='r'>\n",
      "<re.Match object; span=(65, 66), match='a'>\n",
      "<re.Match object; span=(66, 67), match='i'>\n",
      "<re.Match object; span=(67, 68), match='n'>\n",
      "<re.Match object; span=(68, 69), match='e'>\n",
      "<re.Match object; span=(69, 70), match='r'>\n",
      "<re.Match object; span=(70, 71), match=' '>\n",
      "<re.Match object; span=(71, 72), match='a'>\n",
      "<re.Match object; span=(72, 73), match='t'>\n",
      "<re.Match object; span=(73, 74), match=' '>\n",
      "<re.Match object; span=(74, 75), match='L'>\n",
      "<re.Match object; span=(75, 76), match='e'>\n",
      "<re.Match object; span=(76, 77), match='a'>\n",
      "<re.Match object; span=(77, 78), match='r'>\n",
      "<re.Match object; span=(78, 79), match='n'>\n",
      "<re.Match object; span=(79, 80), match='b'>\n",
      "<re.Match object; span=(80, 81), match='a'>\n",
      "<re.Match object; span=(81, 82), match='y'>\n"
     ]
    }
   ],
   "source": [
    "text = '''My name is Mayank Ghai.\\n I am a Sr. Data Analyst.\\n I work as a Trainer at Learnbay'''\n",
    "\n",
    "pat = r'.'\n",
    "\n",
    "x = re.finditer(pat, text)\n",
    "\n",
    "for i in x:\n",
    "    print(i)"
   ]
  },
  {
   "cell_type": "markdown",
   "id": "bd18dbcc",
   "metadata": {},
   "source": [
    "### | or \n",
    "\n",
    "[abc| xyz] \n",
    "\n",
    "- It matches either abc or xyz whatever the case may be"
   ]
  },
  {
   "cell_type": "code",
   "execution_count": 54,
   "id": "57e17547",
   "metadata": {},
   "outputs": [
    {
     "name": "stdout",
     "output_type": "stream",
     "text": [
      "<re.Match object; span=(0, 3), match='abc'>\n",
      "<re.Match object; span=(8, 11), match='xyz'>\n",
      "<re.Match object; span=(41, 44), match='abc'>\n",
      "<re.Match object; span=(48, 51), match='xyz'>\n"
     ]
    }
   ],
   "source": [
    "text = 'abc.com xyz.com jkl.com mno.com info.com abc.in xyz.co XYZ.com'\n",
    "\n",
    "pat = r'abc|xyz'\n",
    "\n",
    "x = re.finditer(pat, text)\n",
    "\n",
    "for i in x:\n",
    "    print(i)"
   ]
  },
  {
   "cell_type": "code",
   "execution_count": 55,
   "id": "e07ff47d",
   "metadata": {},
   "outputs": [
    {
     "name": "stdout",
     "output_type": "stream",
     "text": [
      "<re.Match object; span=(0, 3), match='abc'>\n",
      "<re.Match object; span=(8, 11), match='xyz'>\n",
      "<re.Match object; span=(24, 27), match='mno'>\n",
      "<re.Match object; span=(32, 36), match='info'>\n",
      "<re.Match object; span=(41, 44), match='abc'>\n",
      "<re.Match object; span=(48, 51), match='xyz'>\n",
      "<re.Match object; span=(55, 58), match='XYZ'>\n"
     ]
    }
   ],
   "source": [
    "text = 'abc.com xyz.com jkl.com mno.com info.com abc.in xyz.co XYZ.com'\n",
    "\n",
    "pat = r'abc|xyz|mno|info|XYZ'\n",
    "\n",
    "x = re.finditer(pat, text)\n",
    "\n",
    "for i in x:\n",
    "    print(i)"
   ]
  },
  {
   "cell_type": "markdown",
   "id": "60058771",
   "metadata": {},
   "source": [
    "### () - group\n",
    "\n",
    "- it is used to group a pattern"
   ]
  },
  {
   "cell_type": "code",
   "execution_count": 57,
   "id": "262cca6b",
   "metadata": {},
   "outputs": [
    {
     "name": "stdout",
     "output_type": "stream",
     "text": [
      "<re.Match object; span=(0, 7), match='abc.com'>\n",
      "<re.Match object; span=(8, 15), match='xyz.com'>\n",
      "<re.Match object; span=(24, 31), match='mno.com'>\n",
      "<re.Match object; span=(32, 40), match='info.com'>\n"
     ]
    }
   ],
   "source": [
    "#abc.comm xyz.com and info.com\n",
    "\n",
    "text = 'abc.com xyz.com jkl.com mno.com info.com abc.in xyz.co XYZ.com'\n",
    "\n",
    "pat = r'(abc|xyz|info|mno).com'\n",
    "\n",
    "x = re.finditer(pat, text)\n",
    "\n",
    "for i in x:\n",
    "    print(i)"
   ]
  },
  {
   "cell_type": "code",
   "execution_count": 58,
   "id": "deccad8f",
   "metadata": {},
   "outputs": [
    {
     "name": "stdout",
     "output_type": "stream",
     "text": [
      "<re.Match object; span=(0, 3), match='bat'>\n",
      "<re.Match object; span=(4, 7), match='mat'>\n",
      "<re.Match object; span=(12, 15), match='cat'>\n",
      "<re.Match object; span=(16, 19), match='hat'>\n"
     ]
    }
   ],
   "source": [
    "text = 'bat mat met cat hat pet jet set bed'\n",
    "\n",
    "# bat mat hat cat\n",
    "\n",
    "pat = r'(b|m|c|h)at'\n",
    "\n",
    "x = re.finditer(pat, text)\n",
    "\n",
    "for i in x:\n",
    "    print(i)"
   ]
  },
  {
   "cell_type": "code",
   "execution_count": 60,
   "id": "797bb3da",
   "metadata": {},
   "outputs": [
    {
     "name": "stdout",
     "output_type": "stream",
     "text": [
      "<re.Match object; span=(0, 3), match='bat'>\n",
      "<re.Match object; span=(4, 7), match='mat'>\n",
      "<re.Match object; span=(12, 15), match='cat'>\n",
      "<re.Match object; span=(16, 19), match='hat'>\n"
     ]
    }
   ],
   "source": [
    "text = 'bat mat met cat hat pet jet set bed'\n",
    "\n",
    "# bat mat hat cat\n",
    "\n",
    "pat = r'[a-z]at'\n",
    "\n",
    "x = re.finditer(pat, text)\n",
    "\n",
    "for i in x:\n",
    "    print(i)"
   ]
  },
  {
   "cell_type": "code",
   "execution_count": 61,
   "id": "6f822181",
   "metadata": {},
   "outputs": [
    {
     "name": "stdout",
     "output_type": "stream",
     "text": [
      "<re.Match object; span=(0, 3), match='bat'>\n",
      "<re.Match object; span=(4, 7), match='mat'>\n",
      "<re.Match object; span=(12, 15), match='cat'>\n",
      "<re.Match object; span=(16, 19), match='hat'>\n"
     ]
    }
   ],
   "source": [
    "text = 'bat mat met cat hat pet jet set bed'\n",
    "\n",
    "# bat mat hat cat\n",
    "\n",
    "pat = r'(.)at'\n",
    "\n",
    "x = re.finditer(pat, text)\n",
    "\n",
    "for i in x:\n",
    "    print(i)"
   ]
  },
  {
   "cell_type": "markdown",
   "id": "fd5eae92",
   "metadata": {},
   "source": [
    "### Special Sequence\n",
    "\n",
    "- \\w - It matches all the alpha-numeric character (A_Z, a-z, 0-9 and _)\n",
    "- \\W - It matches everything except the alpha-numeric characters\n",
    "- \\d - It matches all the digits (0-9)\n",
    "- \\D - It matches everything except the digits\n",
    "- \\s - It matches all the space characters (\\n, \\t, \\v, \\r and space)\n",
    "- \\S - It matches everything except the space characters \n",
    "- \\b - It matches a boundary character  or a word\n",
    "- \\B - It matches not a boundary character or a word"
   ]
  },
  {
   "cell_type": "code",
   "execution_count": 62,
   "id": "9df0d99b",
   "metadata": {},
   "outputs": [
    {
     "name": "stdout",
     "output_type": "stream",
     "text": [
      "<re.Match object; span=(0, 1), match='1'>\n",
      "<re.Match object; span=(1, 2), match='3'>\n",
      "<re.Match object; span=(2, 3), match='2'>\n",
      "<re.Match object; span=(3, 4), match='4'>\n",
      "<re.Match object; span=(12, 13), match='b'>\n",
      "<re.Match object; span=(13, 14), match='f'>\n",
      "<re.Match object; span=(14, 15), match='h'>\n",
      "<re.Match object; span=(16, 17), match='A'>\n",
      "<re.Match object; span=(17, 18), match='W'>\n",
      "<re.Match object; span=(18, 19), match='R'>\n",
      "<re.Match object; span=(19, 20), match='E'>\n",
      "<re.Match object; span=(21, 22), match='_'>\n",
      "<re.Match object; span=(24, 25), match='G'>\n",
      "<re.Match object; span=(25, 26), match='T'>\n"
     ]
    }
   ],
   "source": [
    "text = '1324 !@@$$#%bfh AWRE@_@$GT'\n",
    "\n",
    "pat = r'\\w'\n",
    "\n",
    "x = re.finditer(pat, text)\n",
    "\n",
    "for i in x:\n",
    "    print(i)"
   ]
  },
  {
   "cell_type": "code",
   "execution_count": 63,
   "id": "2af740c4",
   "metadata": {},
   "outputs": [
    {
     "name": "stdout",
     "output_type": "stream",
     "text": [
      "<re.Match object; span=(4, 5), match=' '>\n",
      "<re.Match object; span=(5, 6), match='!'>\n",
      "<re.Match object; span=(6, 7), match='@'>\n",
      "<re.Match object; span=(7, 8), match='@'>\n",
      "<re.Match object; span=(8, 9), match='$'>\n",
      "<re.Match object; span=(9, 10), match='$'>\n",
      "<re.Match object; span=(10, 11), match='#'>\n",
      "<re.Match object; span=(11, 12), match='%'>\n",
      "<re.Match object; span=(15, 16), match=' '>\n",
      "<re.Match object; span=(20, 21), match='@'>\n",
      "<re.Match object; span=(22, 23), match='@'>\n",
      "<re.Match object; span=(23, 24), match='$'>\n"
     ]
    }
   ],
   "source": [
    "text = '1324 !@@$$#%bfh AWRE@_@$GT'\n",
    "\n",
    "pat = r'\\W'\n",
    "\n",
    "x = re.finditer(pat, text)\n",
    "\n",
    "for i in x:\n",
    "    print(i)"
   ]
  },
  {
   "cell_type": "code",
   "execution_count": 64,
   "id": "b83b1fdf",
   "metadata": {},
   "outputs": [
    {
     "name": "stdout",
     "output_type": "stream",
     "text": [
      "<re.Match object; span=(0, 1), match='1'>\n",
      "<re.Match object; span=(1, 2), match='3'>\n",
      "<re.Match object; span=(2, 3), match='2'>\n",
      "<re.Match object; span=(3, 4), match='4'>\n"
     ]
    }
   ],
   "source": [
    "text = '1324 !@@$$#%bfh AWRE@_@$GT'\n",
    "\n",
    "pat = r'\\d'\n",
    "\n",
    "x = re.finditer(pat, text)\n",
    "\n",
    "for i in x:\n",
    "    print(i)"
   ]
  },
  {
   "cell_type": "code",
   "execution_count": 65,
   "id": "a7c21039",
   "metadata": {},
   "outputs": [
    {
     "name": "stdout",
     "output_type": "stream",
     "text": [
      "<re.Match object; span=(4, 5), match=' '>\n",
      "<re.Match object; span=(5, 6), match='!'>\n",
      "<re.Match object; span=(6, 7), match='@'>\n",
      "<re.Match object; span=(7, 8), match='@'>\n",
      "<re.Match object; span=(8, 9), match='$'>\n",
      "<re.Match object; span=(9, 10), match='$'>\n",
      "<re.Match object; span=(10, 11), match='#'>\n",
      "<re.Match object; span=(11, 12), match='%'>\n",
      "<re.Match object; span=(12, 13), match='b'>\n",
      "<re.Match object; span=(13, 14), match='f'>\n",
      "<re.Match object; span=(14, 15), match='h'>\n",
      "<re.Match object; span=(15, 16), match=' '>\n",
      "<re.Match object; span=(16, 17), match='A'>\n",
      "<re.Match object; span=(17, 18), match='W'>\n",
      "<re.Match object; span=(18, 19), match='R'>\n",
      "<re.Match object; span=(19, 20), match='E'>\n",
      "<re.Match object; span=(20, 21), match='@'>\n",
      "<re.Match object; span=(21, 22), match='_'>\n",
      "<re.Match object; span=(22, 23), match='@'>\n",
      "<re.Match object; span=(23, 24), match='$'>\n",
      "<re.Match object; span=(24, 25), match='G'>\n",
      "<re.Match object; span=(25, 26), match='T'>\n"
     ]
    }
   ],
   "source": [
    "text = '1324 !@@$$#%bfh AWRE@_@$GT'\n",
    "\n",
    "pat = r'\\D'\n",
    "\n",
    "x = re.finditer(pat, text)\n",
    "\n",
    "for i in x:\n",
    "    print(i)"
   ]
  },
  {
   "cell_type": "code",
   "execution_count": 68,
   "id": "d597de19",
   "metadata": {},
   "outputs": [
    {
     "name": "stdout",
     "output_type": "stream",
     "text": [
      "<re.Match object; span=(4, 5), match=' '>\n",
      "<re.Match object; span=(7, 8), match='\\t'>\n",
      "<re.Match object; span=(12, 13), match='\\r'>\n",
      "<re.Match object; span=(17, 18), match='\\n'>\n",
      "<re.Match object; span=(18, 19), match=' '>\n",
      "<re.Match object; span=(21, 22), match='\\x0b'>\n"
     ]
    }
   ],
   "source": [
    "text = '1324 !@\\t@$$#\\r%bfh\\n AW\\vRE@_@$GT'\n",
    "\n",
    "pat = r'\\s'\n",
    "\n",
    "x = re.finditer(pat, text)\n",
    "\n",
    "for i in x:\n",
    "    print(i)"
   ]
  },
  {
   "cell_type": "code",
   "execution_count": 69,
   "id": "cc7cca28",
   "metadata": {},
   "outputs": [
    {
     "name": "stdout",
     "output_type": "stream",
     "text": [
      "<re.Match object; span=(0, 1), match='1'>\n",
      "<re.Match object; span=(1, 2), match='3'>\n",
      "<re.Match object; span=(2, 3), match='2'>\n",
      "<re.Match object; span=(3, 4), match='4'>\n",
      "<re.Match object; span=(5, 6), match='!'>\n",
      "<re.Match object; span=(6, 7), match='@'>\n",
      "<re.Match object; span=(8, 9), match='@'>\n",
      "<re.Match object; span=(9, 10), match='$'>\n",
      "<re.Match object; span=(10, 11), match='$'>\n",
      "<re.Match object; span=(11, 12), match='#'>\n",
      "<re.Match object; span=(13, 14), match='%'>\n",
      "<re.Match object; span=(14, 15), match='b'>\n",
      "<re.Match object; span=(15, 16), match='f'>\n",
      "<re.Match object; span=(16, 17), match='h'>\n",
      "<re.Match object; span=(19, 20), match='A'>\n",
      "<re.Match object; span=(20, 21), match='W'>\n",
      "<re.Match object; span=(22, 23), match='R'>\n",
      "<re.Match object; span=(23, 24), match='E'>\n",
      "<re.Match object; span=(24, 25), match='@'>\n",
      "<re.Match object; span=(25, 26), match='_'>\n",
      "<re.Match object; span=(26, 27), match='@'>\n",
      "<re.Match object; span=(27, 28), match='$'>\n",
      "<re.Match object; span=(28, 29), match='G'>\n",
      "<re.Match object; span=(29, 30), match='T'>\n"
     ]
    }
   ],
   "source": [
    "text = '1324 !@\\t@$$#\\r%bfh\\n AW\\vRE@_@$GT'\n",
    "\n",
    "pat = r'\\S'\n",
    "\n",
    "x = re.finditer(pat, text)\n",
    "\n",
    "for i in x:\n",
    "    print(i)"
   ]
  },
  {
   "cell_type": "code",
   "execution_count": 70,
   "id": "282d6e23",
   "metadata": {},
   "outputs": [
    {
     "name": "stdout",
     "output_type": "stream",
     "text": [
      "<re.Match object; span=(0, 3), match='cat'>\n",
      "<re.Match object; span=(20, 23), match='cat'>\n",
      "<re.Match object; span=(28, 31), match='cat'>\n",
      "<re.Match object; span=(56, 59), match='cat'>\n"
     ]
    }
   ],
   "source": [
    "text = 'catherine brought a cat and catherine takes care of the cat and she names it tom'\n",
    "\n",
    "pat = 'cat'\n",
    "\n",
    "x = re.finditer(pat, text)\n",
    "\n",
    "for i in x:\n",
    "    print(i)"
   ]
  },
  {
   "cell_type": "code",
   "execution_count": 73,
   "id": "a8e42f24",
   "metadata": {},
   "outputs": [
    {
     "name": "stdout",
     "output_type": "stream",
     "text": [
      "<re.Match object; span=(0, 3), match='cat'>\n",
      "<re.Match object; span=(20, 23), match='cat'>\n",
      "<re.Match object; span=(28, 31), match='cat'>\n",
      "<re.Match object; span=(56, 59), match='cat'>\n"
     ]
    }
   ],
   "source": [
    "text = 'catherine brought a cat and catherine takes care of the cat and she names it muscat'\n",
    "\n",
    "pat = r'\\bcat'\n",
    "\n",
    "x = re.finditer(pat, text)\n",
    "\n",
    "for i in x:\n",
    "    print(i)"
   ]
  },
  {
   "cell_type": "code",
   "execution_count": 74,
   "id": "8658d071",
   "metadata": {},
   "outputs": [
    {
     "name": "stdout",
     "output_type": "stream",
     "text": [
      "<re.Match object; span=(20, 23), match='cat'>\n",
      "<re.Match object; span=(56, 59), match='cat'>\n"
     ]
    }
   ],
   "source": [
    "text = 'catherine brought a cat and catherine takes care of the cat and she names it tom'\n",
    "\n",
    "pat = r'\\bcat\\b'\n",
    "\n",
    "x = re.finditer(pat, text)\n",
    "\n",
    "for i in x:\n",
    "    print(i)"
   ]
  },
  {
   "cell_type": "code",
   "execution_count": 75,
   "id": "24a28c19",
   "metadata": {},
   "outputs": [
    {
     "name": "stdout",
     "output_type": "stream",
     "text": [
      "<re.Match object; span=(20, 23), match='cat'>\n",
      "<re.Match object; span=(56, 59), match='cat'>\n",
      "<re.Match object; span=(80, 83), match='cat'>\n"
     ]
    }
   ],
   "source": [
    "text = 'catherine brought a cat and catherine takes care of the cat and she names it muscat'\n",
    "\n",
    "pat = r'cat\\b'\n",
    "\n",
    "x = re.finditer(pat, text)\n",
    "\n",
    "for i in x:\n",
    "    print(i)"
   ]
  },
  {
   "cell_type": "code",
   "execution_count": 78,
   "id": "5ee1c893",
   "metadata": {},
   "outputs": [
    {
     "name": "stdout",
     "output_type": "stream",
     "text": [
      "<re.Match object; span=(80, 83), match='cat'>\n"
     ]
    }
   ],
   "source": [
    "text = 'catherine brought a cat and catherine takes care of the cat and she names it muscat'\n",
    "\n",
    "pat = r'\\Bcat'\n",
    "\n",
    "x = re.finditer(pat, text)\n",
    "\n",
    "for i in x:\n",
    "    print(i)"
   ]
  },
  {
   "cell_type": "code",
   "execution_count": 79,
   "id": "e5a4c05a",
   "metadata": {},
   "outputs": [
    {
     "name": "stdout",
     "output_type": "stream",
     "text": [
      "<re.Match object; span=(0, 3), match='cat'>\n",
      "<re.Match object; span=(28, 31), match='cat'>\n"
     ]
    }
   ],
   "source": [
    "text = 'catherine brought a cat and catherine takes care of the cat and she names it muscat'\n",
    "\n",
    "pat = r'cat\\B'\n",
    "\n",
    "x = re.finditer(pat, text)\n",
    "\n",
    "for i in x:\n",
    "    print(i)"
   ]
  },
  {
   "cell_type": "code",
   "execution_count": 80,
   "id": "231b4d62",
   "metadata": {},
   "outputs": [],
   "source": [
    "text = 'catherine brought a cat and catherine takes care of the cat and she names it muscat'\n",
    "\n",
    "pat = r'\\Bcat\\B'\n",
    "\n",
    "x = re.finditer(pat, text)\n",
    "\n",
    "for i in x:\n",
    "    print(i)"
   ]
  },
  {
   "cell_type": "code",
   "execution_count": 81,
   "id": "f1d45d07",
   "metadata": {},
   "outputs": [
    {
     "name": "stdout",
     "output_type": "stream",
     "text": [
      "<re.Match object; span=(80, 83), match='cat'>\n"
     ]
    }
   ],
   "source": [
    "text = 'catherine brought a cat and catherine takes care of the cat and she names it muscater'\n",
    "\n",
    "pat = r'\\Bcat\\B'\n",
    "\n",
    "x = re.finditer(pat, text)\n",
    "\n",
    "for i in x:\n",
    "    print(i)"
   ]
  },
  {
   "cell_type": "code",
   "execution_count": null,
   "id": "89f01bc4",
   "metadata": {},
   "outputs": [],
   "source": []
  }
 ],
 "metadata": {
  "kernelspec": {
   "display_name": "Python 3 (ipykernel)",
   "language": "python",
   "name": "python3"
  },
  "language_info": {
   "codemirror_mode": {
    "name": "ipython",
    "version": 3
   },
   "file_extension": ".py",
   "mimetype": "text/x-python",
   "name": "python",
   "nbconvert_exporter": "python",
   "pygments_lexer": "ipython3",
   "version": "3.11.5"
  }
 },
 "nbformat": 4,
 "nbformat_minor": 5
}
