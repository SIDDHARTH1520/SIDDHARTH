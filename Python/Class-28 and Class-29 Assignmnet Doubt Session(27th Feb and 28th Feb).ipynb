{
 "cells": [
  {
   "cell_type": "code",
   "execution_count": null,
   "id": "cf6fc636",
   "metadata": {},
   "outputs": [],
   "source": [
    "3.#Write a python program to find below output:-\n",
    "\n",
    "#Input:- 'peter piper picked a peck of pickled peppers.'\n",
    "#Output:- 'peppers. pickled of peck a picked piper peter'\n"
   ]
  },
  {
   "cell_type": "code",
   "execution_count": 11,
   "id": "411cbac2",
   "metadata": {},
   "outputs": [
    {
     "name": "stdout",
     "output_type": "stream",
     "text": [
      "peppers.\n",
      "peppers. pickled of peck a picked piper peter \n"
     ]
    }
   ],
   "source": [
    "my_str =  'peter piper picked a peck of pickled peppers.'\n",
    "output = ''\n",
    "word = ''    \n",
    "for i in my_str:\n",
    "    if i ==' ':\n",
    "        output = word+' '+ output\n",
    "        word = ''\n",
    "\n",
    "    else:\n",
    "        word = word+i\n",
    "output = word+' '+ output \n",
    "print(word)\n",
    "print(output)"
   ]
  },
  {
   "cell_type": "code",
   "execution_count": 17,
   "id": "00f68ce2",
   "metadata": {},
   "outputs": [
    {
     "name": "stdout",
     "output_type": "stream",
     "text": [
      "peppers.\n",
      "pickled of peck a picked piper peter \n"
     ]
    }
   ],
   "source": [
    "my_str =  'peter piper picked a peck of pickled peppers.'\n",
    "output = ''\n",
    "word = ''    \n",
    "for i in my_str:\n",
    "    if i !=' ':\n",
    "        word = word+i\n",
    "    else:\n",
    "        output = word+' '+ output\n",
    "        word = ''\n",
    "        \n",
    "# output = word+' '+ output \n",
    "print(word)\n",
    "print(output)\n",
    "\n",
    "# word will going to store character one by one till you form a word\n",
    "# once the word is formed then we will add this word to the output and also we will empty this word variable again "
   ]
  },
  {
   "cell_type": "code",
   "execution_count": 16,
   "id": "ca6a07e6",
   "metadata": {},
   "outputs": [
    {
     "name": "stdout",
     "output_type": "stream",
     "text": [
      "peppers. pickled of peck a picked piper peter\n"
     ]
    }
   ],
   "source": [
    "my_str='peter piper picked a peck of pickled peppers.'\n",
    "\n",
    "str=''\n",
    "temp=''\n",
    "for i in range(-1,-(len(my_str)+1),-1):\n",
    "    if my_str[i]!=' ':\n",
    "        temp=my_str[i]+temp\n",
    "    else:\n",
    "        str=str+temp+' '\n",
    "        temp=''\n",
    "print(str+temp)   \n"
   ]
  },
  {
   "cell_type": "code",
   "execution_count": 15,
   "id": "266ba8f2",
   "metadata": {},
   "outputs": [
    {
     "name": "stdout",
     "output_type": "stream",
     "text": [
      "peppers.\n",
      " peter piper picked a peck of pickled peppers.\n"
     ]
    }
   ],
   "source": [
    "my_str =  'peter piper picked a peck of pickled peppers.'\n",
    "output = ''\n",
    "word = ''    \n",
    "for i in my_str:\n",
    "    if i !=' ':\n",
    "        word = word+i\n",
    "    else:\n",
    "        output = output + ' ' + word\n",
    "        word = ''\n",
    "        \n",
    "output = output + ' ' + word\n",
    "print(word)\n",
    "print(output)"
   ]
  },
  {
   "cell_type": "code",
   "execution_count": null,
   "id": "1b206863",
   "metadata": {},
   "outputs": [],
   "source": [
    "Q.7 Q. Write a python program to find below output using loop:-\n",
    "Input:- 'peter piper picked a peck of pickled peppers'\n",
    "Output:- 'retep repip dekcip a kcep fo delkcip sreppep'"
   ]
  },
  {
   "cell_type": "code",
   "execution_count": 21,
   "id": "27b50952",
   "metadata": {},
   "outputs": [
    {
     "name": "stdout",
     "output_type": "stream",
     "text": [
      " retep repip dekcip a kcep fo delkcip sreppep\n"
     ]
    }
   ],
   "source": [
    "my_str =  'peter piper picked a peck of pickled peppers'\n",
    "output = ''\n",
    "word = ''\n",
    "for i in my_str:\n",
    "    if i != ' ':\n",
    "        word = i + word \n",
    "    else:\n",
    "        output = output + ' '+ word\n",
    "        word = ''\n",
    "output = output + ' '+ word\n",
    "print(output)"
   ]
  },
  {
   "cell_type": "code",
   "execution_count": 22,
   "id": "9cc9cad9",
   "metadata": {},
   "outputs": [
    {
     "name": "stdout",
     "output_type": "stream",
     "text": [
      " retep repip dekcip a kcep fo delkcip sreppep\n"
     ]
    }
   ],
   "source": [
    "my_str =  'peter piper picked a peck of pickled peppers'\n",
    "output = ''\n",
    "word = ''\n",
    "reverse\n",
    "for i in my_str:\n",
    "    if i != ' ':\n",
    "        word = word + i\n",
    "        reverse = word[::-1]\n",
    "    else:\n",
    "        output = output + ' '+ reverse\n",
    "        word = ''\n",
    "output = output + ' '+ reverse\n",
    "print(output)"
   ]
  },
  {
   "cell_type": "code",
   "execution_count": 25,
   "id": "cff627b6",
   "metadata": {},
   "outputs": [
    {
     "data": {
      "text/plain": [
       "['peter', 'piper', 'picked', 'a', 'peck', 'of', 'pickled', 'peppers']"
      ]
     },
     "execution_count": 25,
     "metadata": {},
     "output_type": "execute_result"
    }
   ],
   "source": [
    "a = my_str.split()\n",
    "a"
   ]
  },
  {
   "cell_type": "code",
   "execution_count": 27,
   "id": "9f44ec66",
   "metadata": {},
   "outputs": [
    {
     "name": "stdout",
     "output_type": "stream",
     "text": [
      "peppers pickled of peck a picked piper peter \n"
     ]
    }
   ],
   "source": [
    "output = ''\n",
    "for i in a:\n",
    "    output = i + ' '+ output\n",
    "print(output)"
   ]
  },
  {
   "cell_type": "markdown",
   "id": "d79df6c1",
   "metadata": {},
   "source": [
    "#Write the code which takes one string from user and if it starts with small case letter then convert it to corresponding \n",
    "#capital letter otherwise if starts with capital letters then convert first character of every word in that string into capital."
   ]
  },
  {
   "cell_type": "code",
   "execution_count": 1,
   "id": "15880015",
   "metadata": {},
   "outputs": [
    {
     "name": "stdout",
     "output_type": "stream",
     "text": [
      "Enter a string: mayank atul ghai\n",
      "Mayank atul ghai\n"
     ]
    }
   ],
   "source": [
    "my_str = input('Enter a string: ')\n",
    "\n",
    "if my_str[0].islower():\n",
    "    print(my_str.capitalize())\n",
    "else:\n",
    "    print(my_str.title())"
   ]
  },
  {
   "cell_type": "code",
   "execution_count": 2,
   "id": "ce417b5d",
   "metadata": {},
   "outputs": [
    {
     "name": "stdout",
     "output_type": "stream",
     "text": [
      "Enter a string: Mayank atul ghai\n",
      "Mayank Atul Ghai\n"
     ]
    }
   ],
   "source": [
    "my_str = input('Enter a string: ')\n",
    "\n",
    "if my_str[0].islower():\n",
    "    print(my_str.capitalize())\n",
    "else:\n",
    "    print(my_str.title())"
   ]
  },
  {
   "cell_type": "code",
   "execution_count": 5,
   "id": "d9c81183",
   "metadata": {},
   "outputs": [
    {
     "name": "stdout",
     "output_type": "stream",
     "text": [
      "0\n",
      "6\n",
      "8\n",
      "12\n",
      "21\n",
      "29\n",
      "37\n",
      "39\n",
      "40\n"
     ]
    }
   ],
   "source": [
    "#Write a Python Program, to print all the indexes of all occurences of letter 'p' appeared in the string:-\n",
    "    \n",
    "#Input:- 'peter piper picked a peck of pickled peppers.'\n",
    "#Output:- \n",
    "# 0\n",
    "# 6\n",
    "# 8\n",
    "# 12\n",
    "# 21\n",
    "# 29\n",
    "# 37\n",
    "# 39\n",
    "# 40\n",
    "\n",
    "my_str = 'peter piper picked a peck of pickled peppers.'\n",
    "\n",
    "for i in range(len(my_str)):\n",
    "    if my_str[i] == 'p':\n",
    "        print(i)"
   ]
  },
  {
   "cell_type": "code",
   "execution_count": 7,
   "id": "a9ba58fc",
   "metadata": {},
   "outputs": [
    {
     "name": "stdout",
     "output_type": "stream",
     "text": [
      "9\n",
      "[0, 6, 8, 12, 21, 29, 37, 39, 40]\n"
     ]
    }
   ],
   "source": [
    "my_str = 'peter piper picked a peck of pickled peppers.'\n",
    "b = [] # to store the index of p in my_str\n",
    "print(my_str.count('p'))\n",
    "\n",
    "for i in range(len(my_str)):\n",
    "    if my_str[i] == 'p':\n",
    "        b.append(i)\n",
    "print(b)"
   ]
  },
  {
   "cell_type": "code",
   "execution_count": null,
   "id": "036fd0b9",
   "metadata": {},
   "outputs": [],
   "source": [
    "Input:- my_str = 'Peter Piper Picked A Peck Of Pickled Peppers.',\n",
    "sub_str = 'Pickl'\n",
    "Output:- 29\n"
   ]
  },
  {
   "cell_type": "code",
   "execution_count": 8,
   "id": "e8f2261f",
   "metadata": {},
   "outputs": [
    {
     "name": "stdout",
     "output_type": "stream",
     "text": [
      "29\n"
     ]
    }
   ],
   "source": [
    "my_str= 'Peter Piper Picked A Peck Of Pickled Peppers.'\n",
    "print(my_str.index('Pickl'))"
   ]
  },
  {
   "cell_type": "code",
   "execution_count": 9,
   "id": "dd153181",
   "metadata": {},
   "outputs": [
    {
     "name": "stdout",
     "output_type": "stream",
     "text": [
      "29\n"
     ]
    }
   ],
   "source": [
    "print(my_str.find('Pickl'))"
   ]
  },
  {
   "cell_type": "code",
   "execution_count": 11,
   "id": "4ef7f99e",
   "metadata": {},
   "outputs": [
    {
     "name": "stdout",
     "output_type": "stream",
     "text": [
      "29\n"
     ]
    }
   ],
   "source": [
    "# if else statement\n",
    "\n",
    "my_str= 'Peter Piper Picked A Peck Of Pickled Peppers.'\n",
    "sub_str = 'Pickl'\n",
    "\n",
    "if sub_str in my_str:\n",
    "    print(my_str.index(sub_str))\n",
    "else:\n",
    "    print('Sub_Str not found')"
   ]
  },
  {
   "cell_type": "code",
   "execution_count": 15,
   "id": "1a593f7f",
   "metadata": {},
   "outputs": [
    {
     "name": "stdout",
     "output_type": "stream",
     "text": [
      "sub_str not found\n"
     ]
    }
   ],
   "source": [
    "my_str= 'Peter Piper Picked A Peck Of Pickled Peppers.'\n",
    "sub_str = 'Picr'\n",
    "\n",
    "for i in range(len(my_str)):\n",
    "    if  my_str[i:(i+len(sub_str)):1] == sub_str:\n",
    "        print(i)\n",
    "else:\n",
    "    print('sub_str not found')"
   ]
  },
  {
   "cell_type": "code",
   "execution_count": 14,
   "id": "f0e741ac",
   "metadata": {},
   "outputs": [
    {
     "name": "stdout",
     "output_type": "stream",
     "text": [
      "Peter\n",
      "eter \n",
      "ter P\n",
      "er Pi\n",
      "r Pip\n",
      " Pipe\n",
      "Piper\n",
      "iper \n",
      "per P\n",
      "er Pi\n",
      "r Pic\n",
      " Pick\n",
      "Picke\n",
      "icked\n",
      "cked \n",
      "ked A\n",
      "ed A \n",
      "d A P\n",
      " A Pe\n",
      "A Pec\n",
      " Peck\n",
      "Peck \n",
      "eck O\n",
      "ck Of\n",
      "k Of \n",
      " Of P\n",
      "Of Pi\n",
      "f Pic\n",
      " Pick\n",
      "Pickl\n",
      "ickle\n",
      "ckled\n",
      "kled \n",
      "led P\n",
      "ed Pe\n",
      "d Pep\n",
      " Pepp\n",
      "Peppe\n",
      "epper\n",
      "ppers\n",
      "pers.\n",
      "ers.\n",
      "rs.\n",
      "s.\n",
      ".\n"
     ]
    }
   ],
   "source": [
    "for i in range(len(my_str)):\n",
    "    print(my_str[i:(i+len(sub_str)):1])\n",
    "    \n",
    "    my_str[starting_index:ending_index:step_size]"
   ]
  },
  {
   "cell_type": "code",
   "execution_count": null,
   "id": "16871e52",
   "metadata": {},
   "outputs": [],
   "source": [
    "print(my_str[1:(1+len(sub_str)):1])"
   ]
  },
  {
   "cell_type": "code",
   "execution_count": null,
   "id": "361b95fe",
   "metadata": {},
   "outputs": [],
   "source": [
    "my_str = \"Although 8 that way may not be obvious at first unless you're Dutch\"\n",
    "\n",
    "#Write the code to get the total count of 't' in above string. Use find() and index() method.\n",
    "print()\n",
    "print()\n",
    "\n",
    "#Write the code to get the index of '8' in my_str. Use find() and index() method.\n",
    "print()\n",
    "print()\n"
   ]
  },
  {
   "cell_type": "code",
   "execution_count": 35,
   "id": "fc9d9d2f",
   "metadata": {},
   "outputs": [
    {
     "name": "stdout",
     "output_type": "stream",
     "text": [
      "7\n"
     ]
    }
   ],
   "source": [
    "my_str = \"Although 8 that way may not be obvious at first unless you're Dutch\"\n",
    "\n",
    "# #Write the code to get the total count of 't' in above string. Use find() and index() method.\n",
    "# print()\n",
    "# print()\n",
    "\n",
    "ind = -1\n",
    "count = 0\n",
    "\n",
    "while True:\n",
    "    ind = my_str.find('t', ind+1)\n",
    "    \n",
    "    if ind == -1:\n",
    "        break\n",
    "    else:\n",
    "        count = count + 1\n",
    "print(count)"
   ]
  },
  {
   "cell_type": "code",
   "execution_count": null,
   "id": "eb3e8187",
   "metadata": {},
   "outputs": [],
   "source": [
    "ind = -1\n",
    "ind+1 = 0\n",
    "ind = my_str.find('t', 0) --->2\n",
    "count = 1\n",
    "\n",
    "ind = 2\n",
    "ind+1 = 3\n",
    "ind = my_str.find('t', 3) ----11\n",
    "count = 2\n",
    "\n",
    "ind = 11\n",
    "ind + 1 = 12\n",
    "ind = my_str.find('t', 12)\n",
    "count = 3\n",
    "\n",
    "ind = 14\n",
    "ind+1 = 15\n",
    "ind = my_str.find('t', 15) ---26\n",
    "count = 4\n",
    "\n",
    "ind = 26\n",
    "ind+1 = 27\n",
    "ind = my_str.find('t', 27) --- 40\n",
    "count = 5\n",
    "\n",
    "ind = 40\n",
    "ind+1 = 41\n",
    "ind = my_str.find('t', 41)"
   ]
  },
  {
   "cell_type": "code",
   "execution_count": 41,
   "id": "1de519d7",
   "metadata": {},
   "outputs": [
    {
     "data": {
      "text/plain": [
       "40"
      ]
     },
     "execution_count": 41,
     "metadata": {},
     "output_type": "execute_result"
    }
   ],
   "source": [
    "my_str.find('t', 27)"
   ]
  },
  {
   "cell_type": "code",
   "execution_count": 42,
   "id": "b6fa6730",
   "metadata": {},
   "outputs": [
    {
     "name": "stdout",
     "output_type": "stream",
     "text": [
      "Peter piper picked a peck of pickled peppers.\n"
     ]
    }
   ],
   "source": [
    "# Q. Write a python program to find below output using loop:-\n",
    "\n",
    "# Input:- 'Peter Piper Picked A Peck Of Pickled Peppers.'\n",
    "# Output:- 'Peter piper picked a peck of pickled peppers'\n",
    "\n",
    "my_str ='Peter Piper Picked A Peck Of Pickled Peppers.'\n",
    "print(my_str.capitalize())"
   ]
  },
  {
   "cell_type": "code",
   "execution_count": 51,
   "id": "8b1bc290",
   "metadata": {},
   "outputs": [
    {
     "name": "stdout",
     "output_type": "stream",
     "text": [
      "Peter \n",
      "Peter Piper \n",
      "Peter Piper Picked \n",
      "Peter Piper Picked A \n",
      "Peter Piper Picked A Peck \n",
      "Peter Piper Picked A Peck Of \n",
      "Peter Piper Picked A Peck Of Pickled \n",
      "Peter piper picked a peck of pickled peppers \n"
     ]
    }
   ],
   "source": [
    "my_str ='Peter Piper Picked A Peck Of Pickled Peppers.'\n",
    "output = ''\n",
    "start = 0\n",
    "for i in range(len(my_str)):\n",
    "    if my_str[i] == ' ':\n",
    "        output = output + my_str[start:i] + ' '\n",
    "        start = i+1\n",
    "        print(output)\n",
    "output = output + my_str[start:i] + ' '\n",
    "output = output[0].upper() + output[1:].lower()\n",
    "print(output)"
   ]
  },
  {
   "cell_type": "code",
   "execution_count": 49,
   "id": "a8f04a41",
   "metadata": {},
   "outputs": [
    {
     "data": {
      "text/plain": [
       "'Peter piper picked a peck of pickled peppers.'"
      ]
     },
     "execution_count": 49,
     "metadata": {},
     "output_type": "execute_result"
    }
   ],
   "source": [
    "output = my_str[0].upper()+ my_str[1:].lower()\n",
    "output"
   ]
  },
  {
   "cell_type": "code",
   "execution_count": 53,
   "id": "dadbe3ca",
   "metadata": {},
   "outputs": [
    {
     "name": "stdout",
     "output_type": "stream",
     "text": [
      "Enter a string: Python\n",
      "False\n",
      "--------------------\n",
      "False\n"
     ]
    }
   ],
   "source": [
    "#Take a string from user and check if it is:-\n",
    "#     1. alphanumeric\n",
    "#     2. alphabets\n",
    "#     3. digit\n",
    "#     4. all letters are in lower case\n",
    "#     5. all letters are in upper case\n",
    "#     6. in title case\n",
    "#     7. a space character\n",
    "#     8. numeric\n",
    "#     9. all number elements in string are decimal\n",
    "\n",
    "\n",
    "my_str = input('Enter a string: ')\n",
    "\n",
    "print(my_str.isnumeric())\n",
    "print('--------------------')\n",
    "print(my_str.isdecimal())"
   ]
  },
  {
   "cell_type": "code",
   "execution_count": 64,
   "id": "45b05ed6",
   "metadata": {},
   "outputs": [
    {
     "data": {
      "text/plain": [
       "'*****************Peck************************'"
      ]
     },
     "execution_count": 64,
     "metadata": {},
     "output_type": "execute_result"
    }
   ],
   "source": [
    "#Write a python program to find below output (implements rjust and ljust):-\n",
    "\n",
    "#Input:- 'Peter Piper Picked A Peck Of Pickled Peppers.', sub_str = 'Peck', \n",
    "#Output:- '*********************Peck********************'\n",
    "\n",
    "\n",
    "# without loop \n",
    "\n",
    "my_str = 'Peter Piper Picked A Peck Of Pickled Peppers.'\n",
    "sub_str = 'Peck'\n",
    "\n",
    "a= sub_str.rjust(my_str.find(sub_str), \"*\")\n",
    "b = a.ljust(len(my_str), '*')\n",
    "b"
   ]
  },
  {
   "cell_type": "code",
   "execution_count": 65,
   "id": "ef97b4ef",
   "metadata": {},
   "outputs": [
    {
     "data": {
      "text/plain": [
       "21"
      ]
     },
     "execution_count": 65,
     "metadata": {},
     "output_type": "execute_result"
    }
   ],
   "source": [
    "my_str.find(sub_str)"
   ]
  },
  {
   "cell_type": "code",
   "execution_count": 66,
   "id": "52208933",
   "metadata": {},
   "outputs": [
    {
     "data": {
      "text/plain": [
       "45"
      ]
     },
     "execution_count": 66,
     "metadata": {},
     "output_type": "execute_result"
    }
   ],
   "source": [
    "len(my_str)"
   ]
  },
  {
   "cell_type": "code",
   "execution_count": 67,
   "id": "2a7de355",
   "metadata": {},
   "outputs": [
    {
     "data": {
      "text/plain": [
       "'Peter Piper Picked A Peck Of Pickled Peppers.'"
      ]
     },
     "execution_count": 67,
     "metadata": {},
     "output_type": "execute_result"
    }
   ],
   "source": [
    "my_str "
   ]
  },
  {
   "cell_type": "code",
   "execution_count": 68,
   "id": "73c944ea",
   "metadata": {},
   "outputs": [
    {
     "data": {
      "text/plain": [
       "'Peck'"
      ]
     },
     "execution_count": 68,
     "metadata": {},
     "output_type": "execute_result"
    }
   ],
   "source": [
    "sub_str"
   ]
  },
  {
   "cell_type": "code",
   "execution_count": 69,
   "id": "229b35c1",
   "metadata": {},
   "outputs": [
    {
     "name": "stdout",
     "output_type": "stream",
     "text": [
      "Pete\n",
      "eter\n",
      "ter \n",
      "er P\n",
      "r Pi\n",
      " Pip\n",
      "Pipe\n",
      "iper\n",
      "per \n",
      "er P\n",
      "r Pi\n",
      " Pic\n",
      "Pick\n",
      "icke\n",
      "cked\n",
      "ked \n",
      "ed A\n",
      "d A \n",
      " A P\n",
      "A Pe\n",
      " Pec\n",
      "Peck\n",
      "eck \n",
      "ck O\n",
      "k Of\n",
      " Of \n",
      "Of P\n",
      "f Pi\n",
      " Pic\n",
      "Pick\n",
      "ickl\n",
      "ckle\n",
      "kled\n",
      "led \n",
      "ed P\n",
      "d Pe\n",
      " Pep\n",
      "Pepp\n",
      "eppe\n",
      "pper\n",
      "pers\n",
      "ers.\n",
      "rs.\n",
      "s.\n",
      ".\n"
     ]
    }
   ],
   "source": [
    "for i in range(len(my_str)):\n",
    "    print(my_str[i:(i+len(sub_str)):1])"
   ]
  },
  {
   "cell_type": "code",
   "execution_count": 99,
   "id": "b6067e93",
   "metadata": {},
   "outputs": [
    {
     "name": "stdout",
     "output_type": "stream",
     "text": [
      "21\n",
      "*********************Peck********************\n"
     ]
    }
   ],
   "source": [
    "my_str = 'Peter Piper Picked A Peck Of Pickled Peppers.'\n",
    "out_str = ''\n",
    "i= 0\n",
    "while i<len(my_str):\n",
    "    if my_str[i:(i+len(sub_str)):1] == sub_str:\n",
    "        out_str = out_str+sub_str\n",
    "        print(i)\n",
    "        i = (i+len(sub_str))\n",
    "    else:\n",
    "        out_str = out_str + '*'\n",
    "        i = i+1\n",
    "print(out_str)"
   ]
  },
  {
   "cell_type": "code",
   "execution_count": 100,
   "id": "eceef6fe",
   "metadata": {},
   "outputs": [
    {
     "data": {
      "text/plain": [
       "'Peter Piper Picked A Peck Of Pickled Peppers.'"
      ]
     },
     "execution_count": 100,
     "metadata": {},
     "output_type": "execute_result"
    }
   ],
   "source": [
    "my_str"
   ]
  },
  {
   "cell_type": "code",
   "execution_count": 101,
   "id": "50ff568c",
   "metadata": {},
   "outputs": [
    {
     "data": {
      "text/plain": [
       "45"
      ]
     },
     "execution_count": 101,
     "metadata": {},
     "output_type": "execute_result"
    }
   ],
   "source": [
    "len(my_str)"
   ]
  },
  {
   "cell_type": "code",
   "execution_count": 102,
   "id": "6af02bcf",
   "metadata": {},
   "outputs": [
    {
     "data": {
      "text/plain": [
       "45"
      ]
     },
     "execution_count": 102,
     "metadata": {},
     "output_type": "execute_result"
    }
   ],
   "source": [
    "len(out_str)"
   ]
  },
  {
   "cell_type": "code",
   "execution_count": 106,
   "id": "4f1779c0",
   "metadata": {},
   "outputs": [
    {
     "data": {
      "text/plain": [
       "['This', ' is', ' Python class']"
      ]
     },
     "execution_count": 106,
     "metadata": {},
     "output_type": "execute_result"
    }
   ],
   "source": [
    "# Q. Write a python program to find below output using loop:-\n",
    "# Input:- 'This is Python class', sep = ' is',\n",
    "# Output:- ['This', 'is', 'Python class']\n",
    "\n",
    "    \n",
    "# split \n",
    "my_str = 'This is Python class'\n",
    "sep = ' is'\n",
    "lst = my_str.split(sep)\n",
    "lst.insert(1,' is')\n",
    "lst"
   ]
  },
  {
   "cell_type": "code",
   "execution_count": 121,
   "id": "47f3da7c",
   "metadata": {},
   "outputs": [
    {
     "name": "stdout",
     "output_type": "stream",
     "text": [
      "['This']\n",
      "['This', 'is']\n",
      "['This', 'is', 'Python class']\n"
     ]
    }
   ],
   "source": [
    "my_str = 'This is Python class'\n",
    "my_str1 = ''\n",
    "output = []\n",
    "\n",
    "sep = 'is'\n",
    "\n",
    "for i in my_str:\n",
    "    if i != ' ':\n",
    "        my_str1 = my_str1 + i\n",
    "    else:\n",
    "        if sep not in output:\n",
    "            output = output + [my_str1]\n",
    "            my_str1 = ''\n",
    "            print(output)\n",
    "        else:\n",
    "            my_str1 = my_str1+' '\n",
    "output = output+[my_str1]\n",
    "print(output)"
   ]
  },
  {
   "cell_type": "code",
   "execution_count": null,
   "id": "0503a3b5",
   "metadata": {},
   "outputs": [],
   "source": [
    "Write a Python program to get a sorted list in increasing order of last element in each tuple in a given list using loop.\n",
    "Input:- [(5,4),(9,1),(2,3),(5,9),(7,6),(5,5)]\n",
    "output:- [(9,1),(2,3),(5,4),(5,5),(7,6),(5,9)]\n"
   ]
  },
  {
   "cell_type": "code",
   "execution_count": 123,
   "id": "51585de3",
   "metadata": {},
   "outputs": [],
   "source": [
    "lst =  [(5,4),(9,1),(2,3),(5,9),(7,6),(5,5)]"
   ]
  },
  {
   "cell_type": "code",
   "execution_count": 139,
   "id": "2f1b883f",
   "metadata": {},
   "outputs": [
    {
     "name": "stdout",
     "output_type": "stream",
     "text": [
      "[(5, 4), (9, 1), (2, 3), (5, 9), (7, 6), (5, 5)]\n",
      "0 0\n",
      "---------------------------\n",
      "[(9, 1), (5, 4), (2, 3), (5, 9), (7, 6), (5, 5)]\n",
      "0 1\n",
      "---------------------------\n",
      "[(9, 1), (2, 3), (5, 4), (5, 9), (7, 6), (5, 5)]\n",
      "0 2\n",
      "---------------------------\n",
      "[(9, 1), (2, 3), (5, 4), (5, 9), (7, 6), (5, 5)]\n",
      "0 3\n",
      "---------------------------\n",
      "[(9, 1), (2, 3), (5, 4), (7, 6), (5, 9), (5, 5)]\n",
      "0 4\n",
      "---------------------------\n",
      "[(9, 1), (2, 3), (5, 4), (7, 6), (5, 5), (5, 9)]\n",
      "1 0\n",
      "---------------------------\n",
      "[(9, 1), (2, 3), (5, 4), (7, 6), (5, 5), (5, 9)]\n",
      "1 1\n",
      "---------------------------\n",
      "[(9, 1), (2, 3), (5, 4), (7, 6), (5, 5), (5, 9)]\n",
      "1 2\n",
      "---------------------------\n",
      "[(9, 1), (2, 3), (5, 4), (7, 6), (5, 5), (5, 9)]\n",
      "1 3\n",
      "---------------------------\n",
      "[(9, 1), (2, 3), (5, 4), (5, 5), (7, 6), (5, 9)]\n",
      "2 0\n",
      "---------------------------\n",
      "[(9, 1), (2, 3), (5, 4), (5, 5), (7, 6), (5, 9)]\n",
      "2 1\n",
      "---------------------------\n",
      "[(9, 1), (2, 3), (5, 4), (5, 5), (7, 6), (5, 9)]\n",
      "2 2\n",
      "---------------------------\n",
      "[(9, 1), (2, 3), (5, 4), (5, 5), (7, 6), (5, 9)]\n",
      "3 0\n",
      "---------------------------\n",
      "[(9, 1), (2, 3), (5, 4), (5, 5), (7, 6), (5, 9)]\n",
      "3 1\n",
      "---------------------------\n",
      "[(9, 1), (2, 3), (5, 4), (5, 5), (7, 6), (5, 9)]\n",
      "4 0\n",
      "---------------------------\n",
      "[(9, 1), (2, 3), (5, 4), (5, 5), (7, 6), (5, 9)]\n"
     ]
    }
   ],
   "source": [
    "# using bubble sort\n",
    "\n",
    "lst =  [(5,4),(9,1),(2,3),(5,9),(7,6),(5,5)]\n",
    "\n",
    "for i in range(len(lst)): #[0,1,2,3,4,5]\n",
    "    for j in range(len(lst)-i-1): #[0,1,2,3,4]\n",
    "        print(lst)\n",
    "        if lst[j][-1] > lst[j+1][-1]:\n",
    "            lst[j], lst[j+1] = lst[j+1], lst[j] # swapping concept\n",
    "print(lst)\n"
   ]
  },
  {
   "cell_type": "code",
   "execution_count": 140,
   "id": "c4f24dc8",
   "metadata": {},
   "outputs": [
    {
     "data": {
      "text/plain": [
       "(9, 1)"
      ]
     },
     "execution_count": 140,
     "metadata": {},
     "output_type": "execute_result"
    }
   ],
   "source": [
    "lst[0]"
   ]
  },
  {
   "cell_type": "code",
   "execution_count": 141,
   "id": "ed7d5bc6",
   "metadata": {},
   "outputs": [
    {
     "data": {
      "text/plain": [
       "1"
      ]
     },
     "execution_count": 141,
     "metadata": {},
     "output_type": "execute_result"
    }
   ],
   "source": [
    "lst[0][-1]"
   ]
  },
  {
   "cell_type": "code",
   "execution_count": null,
   "id": "c810ce69",
   "metadata": {},
   "outputs": [],
   "source": []
  }
 ],
 "metadata": {
  "kernelspec": {
   "display_name": "Python 3 (ipykernel)",
   "language": "python",
   "name": "python3"
  },
  "language_info": {
   "codemirror_mode": {
    "name": "ipython",
    "version": 3
   },
   "file_extension": ".py",
   "mimetype": "text/x-python",
   "name": "python",
   "nbconvert_exporter": "python",
   "pygments_lexer": "ipython3",
   "version": "3.11.5"
  }
 },
 "nbformat": 4,
 "nbformat_minor": 5
}
