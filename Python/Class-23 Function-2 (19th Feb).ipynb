{
 "cells": [
  {
   "cell_type": "markdown",
   "id": "249dbe92",
   "metadata": {},
   "source": [
    "### Type of Arguments \n",
    "\n",
    "- 1. Required Positional Argument \n",
    "- 2. Default argument\n",
    "- 3. Keyworded argument \n",
    "- 4. Variable length argument (*args)\n",
    "- 5. Keyworded Variable length argument (*kwargs)"
   ]
  },
  {
   "cell_type": "markdown",
   "id": "1ee26842",
   "metadata": {},
   "source": [
    "#### 1. Required Positional Argument \n",
    "\n",
    "- The number of variables inside the function declaration and the function call should be the same \n",
    "- The value passed from the argument are taken by the parameters\n",
    "- It should be in a sequenece as they are positioned which means the order matters\n",
    "- The variable in function call and in function declaration may be same or different, it doesn't matter"
   ]
  },
  {
   "cell_type": "code",
   "execution_count": 2,
   "id": "45e22ad7",
   "metadata": {},
   "outputs": [
    {
     "name": "stdout",
     "output_type": "stream",
     "text": [
      "1\n",
      "3\n"
     ]
    },
    {
     "data": {
      "text/plain": [
       "4"
      ]
     },
     "execution_count": 2,
     "metadata": {},
     "output_type": "execute_result"
    }
   ],
   "source": [
    "def add(x, y):\n",
    "    print(x)\n",
    "    print(y)\n",
    "    c = x+y\n",
    "    return c\n",
    "\n",
    "add(1,3)"
   ]
  },
  {
   "cell_type": "code",
   "execution_count": 3,
   "id": "657b97ef",
   "metadata": {},
   "outputs": [
    {
     "name": "stdout",
     "output_type": "stream",
     "text": [
      "3\n",
      "1\n"
     ]
    },
    {
     "data": {
      "text/plain": [
       "4"
      ]
     },
     "execution_count": 3,
     "metadata": {},
     "output_type": "execute_result"
    }
   ],
   "source": [
    "add(3,1)"
   ]
  },
  {
   "cell_type": "code",
   "execution_count": 4,
   "id": "78a93a57",
   "metadata": {},
   "outputs": [
    {
     "ename": "TypeError",
     "evalue": "add() missing 1 required positional argument: 'y'",
     "output_type": "error",
     "traceback": [
      "\u001b[1;31m---------------------------------------------------------------------------\u001b[0m",
      "\u001b[1;31mTypeError\u001b[0m                                 Traceback (most recent call last)",
      "Cell \u001b[1;32mIn[4], line 1\u001b[0m\n\u001b[1;32m----> 1\u001b[0m add(\u001b[38;5;241m1\u001b[39m)\n",
      "\u001b[1;31mTypeError\u001b[0m: add() missing 1 required positional argument: 'y'"
     ]
    }
   ],
   "source": [
    "add(1)"
   ]
  },
  {
   "cell_type": "code",
   "execution_count": 5,
   "id": "80d8438e",
   "metadata": {
    "scrolled": true
   },
   "outputs": [
    {
     "ename": "TypeError",
     "evalue": "add() takes 2 positional arguments but 3 were given",
     "output_type": "error",
     "traceback": [
      "\u001b[1;31m---------------------------------------------------------------------------\u001b[0m",
      "\u001b[1;31mTypeError\u001b[0m                                 Traceback (most recent call last)",
      "Cell \u001b[1;32mIn[5], line 1\u001b[0m\n\u001b[1;32m----> 1\u001b[0m add(\u001b[38;5;241m1\u001b[39m,\u001b[38;5;241m2\u001b[39m,\u001b[38;5;241m3\u001b[39m)\n",
      "\u001b[1;31mTypeError\u001b[0m: add() takes 2 positional arguments but 3 were given"
     ]
    }
   ],
   "source": [
    "add(1,2,3)"
   ]
  },
  {
   "cell_type": "code",
   "execution_count": 6,
   "id": "a23146c7",
   "metadata": {
    "scrolled": true
   },
   "outputs": [
    {
     "name": "stdout",
     "output_type": "stream",
     "text": [
      "1\n",
      "2\n"
     ]
    },
    {
     "data": {
      "text/plain": [
       "3"
      ]
     },
     "execution_count": 6,
     "metadata": {},
     "output_type": "execute_result"
    }
   ],
   "source": [
    "def add(x, y):\n",
    "    print(x)\n",
    "    print(y)\n",
    "    c = x+y\n",
    "    return c\n",
    "\n",
    "\n",
    "x = 1\n",
    "y = 2\n",
    "add(x, y)"
   ]
  },
  {
   "cell_type": "code",
   "execution_count": 7,
   "id": "3e6c98db",
   "metadata": {},
   "outputs": [
    {
     "name": "stdout",
     "output_type": "stream",
     "text": [
      "1\n",
      "2\n"
     ]
    },
    {
     "data": {
      "text/plain": [
       "3"
      ]
     },
     "execution_count": 7,
     "metadata": {},
     "output_type": "execute_result"
    }
   ],
   "source": [
    "def add(x, y):\n",
    "    print(x)\n",
    "    print(y)\n",
    "    c = x+y\n",
    "    return c\n",
    "\n",
    "\n",
    "a = 1\n",
    "b = 2\n",
    "add(a, b)"
   ]
  },
  {
   "cell_type": "markdown",
   "id": "e6eafb03",
   "metadata": {},
   "source": [
    "### 2. Default arguments \n",
    "\n",
    "- When we assign any value to a variable in the function declaration itself, it it becomes a default argument \n",
    "- If we dont pass any value for the default argument, then it will take the default value that we have already assigned while declaring or defining the function \n",
    "- If we pass any value to the default argument, then it will take the last assigned value \n",
    "- The number of variable passed as an argument can be equal to or less than the number of variable passed as parametrs\n",
    "    - If the number of argument passed is less than the number of parametrs then it will take the default value that we have assigned default argument \n",
    "    - If the number of arguments are equal to the number of parameters then it will act as positional argument means it will take the value and assign it in a sequence \n",
    "- Default argument should be decalred after the positional argument, if we are going to define default argument before the positional argument, it will give us an error "
   ]
  },
  {
   "cell_type": "code",
   "execution_count": 8,
   "id": "0c403cd8",
   "metadata": {},
   "outputs": [],
   "source": [
    "def add(x, y = 10):\n",
    "    return x+y"
   ]
  },
  {
   "cell_type": "code",
   "execution_count": 9,
   "id": "866d4b27",
   "metadata": {},
   "outputs": [
    {
     "data": {
      "text/plain": [
       "11"
      ]
     },
     "execution_count": 9,
     "metadata": {},
     "output_type": "execute_result"
    }
   ],
   "source": [
    "add(1)\n",
    "# Here x = 1 and y = 10"
   ]
  },
  {
   "cell_type": "code",
   "execution_count": 10,
   "id": "128424d4",
   "metadata": {},
   "outputs": [
    {
     "data": {
      "text/plain": [
       "3"
      ]
     },
     "execution_count": 10,
     "metadata": {},
     "output_type": "execute_result"
    }
   ],
   "source": [
    "add(1,2)\n",
    "# Here x = 1 and y = 2"
   ]
  },
  {
   "cell_type": "code",
   "execution_count": 12,
   "id": "07d97aac",
   "metadata": {},
   "outputs": [
    {
     "ename": "SyntaxError",
     "evalue": "non-default argument follows default argument (40711452.py, line 1)",
     "output_type": "error",
     "traceback": [
      "\u001b[1;36m  Cell \u001b[1;32mIn[12], line 1\u001b[1;36m\u001b[0m\n\u001b[1;33m    def add(x = 1, y):\u001b[0m\n\u001b[1;37m                   ^\u001b[0m\n\u001b[1;31mSyntaxError\u001b[0m\u001b[1;31m:\u001b[0m non-default argument follows default argument\n"
     ]
    }
   ],
   "source": [
    "def add(x = 1, y):\n",
    "    return x+y"
   ]
  },
  {
   "cell_type": "code",
   "execution_count": 11,
   "id": "1d45bdf9",
   "metadata": {
    "scrolled": true
   },
   "outputs": [
    {
     "ename": "TypeError",
     "evalue": "add() takes from 1 to 2 positional arguments but 3 were given",
     "output_type": "error",
     "traceback": [
      "\u001b[1;31m---------------------------------------------------------------------------\u001b[0m",
      "\u001b[1;31mTypeError\u001b[0m                                 Traceback (most recent call last)",
      "Cell \u001b[1;32mIn[11], line 1\u001b[0m\n\u001b[1;32m----> 1\u001b[0m add(\u001b[38;5;241m1\u001b[39m,\u001b[38;5;241m2\u001b[39m,\u001b[38;5;241m3\u001b[39m)\n",
      "\u001b[1;31mTypeError\u001b[0m: add() takes from 1 to 2 positional arguments but 3 were given"
     ]
    }
   ],
   "source": [
    "add(1,2,3)"
   ]
  },
  {
   "cell_type": "code",
   "execution_count": 13,
   "id": "d91a689d",
   "metadata": {},
   "outputs": [
    {
     "ename": "SyntaxError",
     "evalue": "non-default argument follows default argument (2374642636.py, line 1)",
     "output_type": "error",
     "traceback": [
      "\u001b[1;36m  Cell \u001b[1;32mIn[13], line 1\u001b[1;36m\u001b[0m\n\u001b[1;33m    def mul(x, y= 10 ,z):\u001b[0m\n\u001b[1;37m                      ^\u001b[0m\n\u001b[1;31mSyntaxError\u001b[0m\u001b[1;31m:\u001b[0m non-default argument follows default argument\n"
     ]
    }
   ],
   "source": [
    "def mul(x, y= 10 ,z):\n",
    "    return x*y*z"
   ]
  },
  {
   "cell_type": "code",
   "execution_count": 15,
   "id": "bc795eeb",
   "metadata": {},
   "outputs": [],
   "source": [
    "def mul(x=1,y= 2, z = 3):\n",
    "    return x*y*z"
   ]
  },
  {
   "cell_type": "code",
   "execution_count": 16,
   "id": "4807b7c8",
   "metadata": {},
   "outputs": [
    {
     "data": {
      "text/plain": [
       "6"
      ]
     },
     "execution_count": 16,
     "metadata": {},
     "output_type": "execute_result"
    }
   ],
   "source": [
    "mul()\n",
    "#Here x = 1, y = 2, z = 3"
   ]
  },
  {
   "cell_type": "code",
   "execution_count": 17,
   "id": "db72b8d5",
   "metadata": {},
   "outputs": [
    {
     "data": {
      "text/plain": [
       "60"
      ]
     },
     "execution_count": 17,
     "metadata": {},
     "output_type": "execute_result"
    }
   ],
   "source": [
    "mul(10)\n",
    "# Herer x = 10, y = 2, z = 3"
   ]
  },
  {
   "cell_type": "code",
   "execution_count": 18,
   "id": "1345d606",
   "metadata": {},
   "outputs": [
    {
     "data": {
      "text/plain": [
       "18"
      ]
     },
     "execution_count": 18,
     "metadata": {},
     "output_type": "execute_result"
    }
   ],
   "source": [
    "mul(2,3)\n",
    "#Here x = 2, y = 3, z = 3"
   ]
  },
  {
   "cell_type": "code",
   "execution_count": 19,
   "id": "932e4943",
   "metadata": {},
   "outputs": [
    {
     "data": {
      "text/plain": [
       "24"
      ]
     },
     "execution_count": 19,
     "metadata": {},
     "output_type": "execute_result"
    }
   ],
   "source": [
    "mul(2,3,4)\n",
    "#Here x = 2, y = 3, z=4"
   ]
  },
  {
   "cell_type": "code",
   "execution_count": 22,
   "id": "81a6d55c",
   "metadata": {},
   "outputs": [],
   "source": [
    "def div(x,y=1):\n",
    "    return x//y"
   ]
  },
  {
   "cell_type": "code",
   "execution_count": 23,
   "id": "2aadb78d",
   "metadata": {},
   "outputs": [
    {
     "data": {
      "text/plain": [
       "4"
      ]
     },
     "execution_count": 23,
     "metadata": {},
     "output_type": "execute_result"
    }
   ],
   "source": [
    "div(8,2)"
   ]
  },
  {
   "cell_type": "code",
   "execution_count": 24,
   "id": "3a89d8a6",
   "metadata": {},
   "outputs": [
    {
     "data": {
      "text/plain": [
       "16"
      ]
     },
     "execution_count": 24,
     "metadata": {},
     "output_type": "execute_result"
    }
   ],
   "source": [
    "div(16)"
   ]
  },
  {
   "cell_type": "markdown",
   "id": "296233be",
   "metadata": {},
   "source": [
    "### 3. Keyworded arguments \n",
    "\n",
    "- When we assign any value to a variable in the function call, then it is known as keyworded arguments\n",
    "- The value name(variable_name) for the keyworded argument should be same in both the function call as well as in the function decalartion\n",
    "- For keyworded arguments the position or the order doesnot matter \n",
    "- Keyworded argument should be placed after the positional argument\n",
    "- We can use positional argument, keyworded argument and default argument in only one order ->positional argument, keyworded argument, default argument"
   ]
  },
  {
   "cell_type": "code",
   "execution_count": 25,
   "id": "9d562ca3",
   "metadata": {},
   "outputs": [],
   "source": [
    "def course(a, b):\n",
    "    print(a)\n",
    "    print(b)"
   ]
  },
  {
   "cell_type": "code",
   "execution_count": 26,
   "id": "1ab75c02",
   "metadata": {},
   "outputs": [
    {
     "name": "stdout",
     "output_type": "stream",
     "text": [
      "MCA\n",
      "MBA\n"
     ]
    }
   ],
   "source": [
    "course('MCA',b = 'MBA')"
   ]
  },
  {
   "cell_type": "code",
   "execution_count": 27,
   "id": "54bda07f",
   "metadata": {},
   "outputs": [
    {
     "ename": "TypeError",
     "evalue": "course() got an unexpected keyword argument 'c'",
     "output_type": "error",
     "traceback": [
      "\u001b[1;31m---------------------------------------------------------------------------\u001b[0m",
      "\u001b[1;31mTypeError\u001b[0m                                 Traceback (most recent call last)",
      "Cell \u001b[1;32mIn[27], line 1\u001b[0m\n\u001b[1;32m----> 1\u001b[0m course(\u001b[38;5;124m'\u001b[39m\u001b[38;5;124mMCA\u001b[39m\u001b[38;5;124m'\u001b[39m, c\u001b[38;5;241m=\u001b[39m \u001b[38;5;124m'\u001b[39m\u001b[38;5;124mB.Tech\u001b[39m\u001b[38;5;124m'\u001b[39m)\n",
      "\u001b[1;31mTypeError\u001b[0m: course() got an unexpected keyword argument 'c'"
     ]
    }
   ],
   "source": [
    "course('MCA', c= 'B.Tech')"
   ]
  },
  {
   "cell_type": "code",
   "execution_count": 28,
   "id": "2e9e3850",
   "metadata": {},
   "outputs": [
    {
     "name": "stdout",
     "output_type": "stream",
     "text": [
      "B.Tech\n",
      "MCA\n"
     ]
    }
   ],
   "source": [
    "course(b = 'MCA', a= 'B.Tech')"
   ]
  },
  {
   "cell_type": "code",
   "execution_count": 29,
   "id": "d8a6b343",
   "metadata": {},
   "outputs": [
    {
     "ename": "SyntaxError",
     "evalue": "positional argument follows keyword argument (3890548525.py, line 1)",
     "output_type": "error",
     "traceback": [
      "\u001b[1;36m  Cell \u001b[1;32mIn[29], line 1\u001b[1;36m\u001b[0m\n\u001b[1;33m    course(b ='MCA','MBA')\u001b[0m\n\u001b[1;37m                         ^\u001b[0m\n\u001b[1;31mSyntaxError\u001b[0m\u001b[1;31m:\u001b[0m positional argument follows keyword argument\n"
     ]
    }
   ],
   "source": [
    "course(b ='MCA','MBA')"
   ]
  },
  {
   "cell_type": "code",
   "execution_count": 36,
   "id": "7811b9fd",
   "metadata": {},
   "outputs": [],
   "source": [
    "# By chance if we have to use it follow point 4\n",
    "def add(a,c, b= 10):\n",
    "    return a+b+c"
   ]
  },
  {
   "cell_type": "code",
   "execution_count": 37,
   "id": "597582cd",
   "metadata": {},
   "outputs": [
    {
     "data": {
      "text/plain": [
       "13"
      ]
     },
     "execution_count": 37,
     "metadata": {},
     "output_type": "execute_result"
    }
   ],
   "source": [
    "add(1,c=2)\n",
    "#Here a = 1, c= 2, b = 10"
   ]
  },
  {
   "cell_type": "code",
   "execution_count": 38,
   "id": "9e2b7eb9",
   "metadata": {},
   "outputs": [
    {
     "ename": "SyntaxError",
     "evalue": "non-default argument follows default argument (4225509078.py, line 1)",
     "output_type": "error",
     "traceback": [
      "\u001b[1;36m  Cell \u001b[1;32mIn[38], line 1\u001b[1;36m\u001b[0m\n\u001b[1;33m    def add(a,b= 10, c):\u001b[0m\n\u001b[1;37m                     ^\u001b[0m\n\u001b[1;31mSyntaxError\u001b[0m\u001b[1;31m:\u001b[0m non-default argument follows default argument\n"
     ]
    }
   ],
   "source": [
    "def add(a,b= 10, c):\n",
    "    return a+b+c"
   ]
  },
  {
   "cell_type": "markdown",
   "id": "09ca76ed",
   "metadata": {},
   "source": [
    "### 4. Variable length argument (*args)\n",
    "\n",
    "- If we don't know the number of arguments that can be passed, then we will use a variable length argument\n",
    "- We will use an asterik (*) before a variable\n",
    "- It will store all the values inside a tuple (packing concept of tuples)\n",
    "- It should be declared in the function definition \n",
    "- It should be placed after the positional argument"
   ]
  },
  {
   "cell_type": "code",
   "execution_count": 39,
   "id": "d35b9cb9",
   "metadata": {},
   "outputs": [],
   "source": [
    "a = 1,2,3,4,5,6,7,8"
   ]
  },
  {
   "cell_type": "code",
   "execution_count": 40,
   "id": "37c8d495",
   "metadata": {},
   "outputs": [
    {
     "name": "stdout",
     "output_type": "stream",
     "text": [
      "(1, 2, 3, 4, 5, 6, 7, 8) <class 'tuple'>\n"
     ]
    }
   ],
   "source": [
    "print(a, type(a))"
   ]
  },
  {
   "cell_type": "code",
   "execution_count": 41,
   "id": "cf29b74f",
   "metadata": {},
   "outputs": [],
   "source": [
    "# Example without positional argument\n",
    "def add(*a):\n",
    "    sum = 0\n",
    "    for i in a:\n",
    "        sum = sum+i \n",
    "    return sum"
   ]
  },
  {
   "cell_type": "code",
   "execution_count": 42,
   "id": "9c00d198",
   "metadata": {},
   "outputs": [
    {
     "data": {
      "text/plain": [
       "15"
      ]
     },
     "execution_count": 42,
     "metadata": {},
     "output_type": "execute_result"
    }
   ],
   "source": [
    "add(1,2,3,4,5)\n",
    "\n",
    "# Here all the values will be store in variable a as tuple\n",
    "# I"
   ]
  },
  {
   "cell_type": "code",
   "execution_count": 43,
   "id": "fe21cd00",
   "metadata": {},
   "outputs": [],
   "source": [
    "# Example with postional argument\n",
    "def mul(a, *c):\n",
    "    m = a\n",
    "    \n",
    "    for i in c:\n",
    "        m = m*i\n",
    "    return m "
   ]
  },
  {
   "cell_type": "code",
   "execution_count": 45,
   "id": "b2342e88",
   "metadata": {},
   "outputs": [
    {
     "data": {
      "text/plain": [
       "5040"
      ]
     },
     "execution_count": 45,
     "metadata": {},
     "output_type": "execute_result"
    }
   ],
   "source": [
    "mul(1,2,3,4,5,6,7)\n",
    "# Here a =1,c = (3,4,5,6,7)"
   ]
  },
  {
   "cell_type": "code",
   "execution_count": 48,
   "id": "6a60fd1f",
   "metadata": {},
   "outputs": [
    {
     "ename": "SyntaxError",
     "evalue": "positional argument follows keyword argument (1495071307.py, line 1)",
     "output_type": "error",
     "traceback": [
      "\u001b[1;36m  Cell \u001b[1;32mIn[48], line 1\u001b[1;36m\u001b[0m\n\u001b[1;33m    mul(a = 1,2,3,4,5,6,7)\u001b[0m\n\u001b[1;37m                         ^\u001b[0m\n\u001b[1;31mSyntaxError\u001b[0m\u001b[1;31m:\u001b[0m positional argument follows keyword argument\n"
     ]
    }
   ],
   "source": [
    "mul(a = 1,2,3,4,5,6,7)\n",
    "# Here a =1,c = (3,4,5,6,7)"
   ]
  },
  {
   "cell_type": "markdown",
   "id": "8dcd7c10",
   "metadata": {},
   "source": [
    "### 5. Keyworded Variable length argument\n",
    "\n",
    "- When we don't know how many keyworded argument are there, then we will use keyworded variable length argument\n",
    "- It store the value as dictionary \n",
    "- The variable becomes the key and the values associated with the key will become the values for the keys"
   ]
  },
  {
   "cell_type": "markdown",
   "id": "27ab6589",
   "metadata": {},
   "source": [
    "### Syntax:\n",
    "\n",
    "    def function_name(**a):\n",
    "        code \n",
    "        code\n",
    "\n",
    "    function_name(key1 = value1, key2 = value2, key3 = value3.............)"
   ]
  },
  {
   "cell_type": "code",
   "execution_count": 49,
   "id": "9ff184c6",
   "metadata": {},
   "outputs": [],
   "source": [
    "def course(**a):\n",
    "    print(a, type(a))"
   ]
  },
  {
   "cell_type": "code",
   "execution_count": 50,
   "id": "1bed74d0",
   "metadata": {},
   "outputs": [
    {
     "name": "stdout",
     "output_type": "stream",
     "text": [
      "{'a': 'DS', 'b': 'DSAI', 'c': 'DSML', 'd': 'DSAIML', 'e': 'DSBFSI', 'f': 'DSMP'} <class 'dict'>\n"
     ]
    }
   ],
   "source": [
    "course(a='DS', b = \"DSAI\", c = 'DSML', d = 'DSAIML', e= \"DSBFSI\", f = 'DSMP')"
   ]
  },
  {
   "cell_type": "markdown",
   "id": "b56f8e0f",
   "metadata": {},
   "source": [
    "### Anonymous Functions or Lambda Function \n",
    "\n",
    "- The functions where we don't give any name are called as anonymous function or lambda function\n",
    "- __lambda__ keyword is used to declare an anonymous function \n",
    "\n",
    "    Syntax:\n",
    "        \n",
    "        (lambda parameter: operation) (arguments)"
   ]
  },
  {
   "cell_type": "code",
   "execution_count": 51,
   "id": "d188735e",
   "metadata": {},
   "outputs": [
    {
     "data": {
      "text/plain": [
       "3"
      ]
     },
     "execution_count": 51,
     "metadata": {},
     "output_type": "execute_result"
    }
   ],
   "source": [
    "# create a lambda function that will going to add two numbers\n",
    "\n",
    "(lambda x,y : x+y) (1,2)"
   ]
  },
  {
   "cell_type": "code",
   "execution_count": 52,
   "id": "8eb435ed",
   "metadata": {},
   "outputs": [],
   "source": [
    "def add(x,y):\n",
    "    return x+y"
   ]
  },
  {
   "cell_type": "markdown",
   "id": "786f9888",
   "metadata": {},
   "source": [
    "#### we can assign a lambda() function to a variable and then we can call the variable n number of times"
   ]
  },
  {
   "cell_type": "code",
   "execution_count": 53,
   "id": "56e3c65a",
   "metadata": {},
   "outputs": [],
   "source": [
    "add = (lambda x,y:x+y)"
   ]
  },
  {
   "cell_type": "code",
   "execution_count": 54,
   "id": "02a0cd19",
   "metadata": {},
   "outputs": [
    {
     "data": {
      "text/plain": [
       "3"
      ]
     },
     "execution_count": 54,
     "metadata": {},
     "output_type": "execute_result"
    }
   ],
   "source": [
    "add(1,2)"
   ]
  },
  {
   "cell_type": "code",
   "execution_count": 55,
   "id": "17ff8f58",
   "metadata": {},
   "outputs": [
    {
     "data": {
      "text/plain": [
       "9"
      ]
     },
     "execution_count": 55,
     "metadata": {},
     "output_type": "execute_result"
    }
   ],
   "source": [
    "add(2,7)"
   ]
  },
  {
   "cell_type": "code",
   "execution_count": 56,
   "id": "6790cc30",
   "metadata": {},
   "outputs": [
    {
     "data": {
      "text/plain": [
       "19"
      ]
     },
     "execution_count": 56,
     "metadata": {},
     "output_type": "execute_result"
    }
   ],
   "source": [
    "add(9,10)"
   ]
  },
  {
   "cell_type": "code",
   "execution_count": 57,
   "id": "5afb2f3d",
   "metadata": {},
   "outputs": [
    {
     "data": {
      "text/plain": [
       "31"
      ]
     },
     "execution_count": 57,
     "metadata": {},
     "output_type": "execute_result"
    }
   ],
   "source": [
    "add(15, 16)"
   ]
  },
  {
   "cell_type": "code",
   "execution_count": 58,
   "id": "31ec2f76",
   "metadata": {},
   "outputs": [
    {
     "data": {
      "text/plain": [
       "24"
      ]
     },
     "execution_count": 58,
     "metadata": {},
     "output_type": "execute_result"
    }
   ],
   "source": [
    "# Create a lambda function which will multiply 3 numbers \n",
    "mul = (lambda x,y,z : x*y*z)\n",
    "mul(2,3,4)"
   ]
  },
  {
   "cell_type": "code",
   "execution_count": 63,
   "id": "e5946c7e",
   "metadata": {},
   "outputs": [
    {
     "data": {
      "text/plain": [
       "9"
      ]
     },
     "execution_count": 63,
     "metadata": {},
     "output_type": "execute_result"
    }
   ],
   "source": [
    "# Create a lambda function that will take two argument and return the maximum among the two\n",
    "\n",
    "a = (lambda x,y:x if x>y else y)\n",
    "\n",
    "a(1,9)"
   ]
  },
  {
   "cell_type": "code",
   "execution_count": 66,
   "id": "a10b70bf",
   "metadata": {},
   "outputs": [
    {
     "data": {
      "text/plain": [
       "0.5"
      ]
     },
     "execution_count": 66,
     "metadata": {},
     "output_type": "execute_result"
    }
   ],
   "source": [
    "# Create a lambda function that takes three value from the user and returns the min among the three\n",
    "\n",
    "max_num = (lambda x,y,z:x if x<y and x<z else y if y<x and y<z else z)\n",
    "max_num(1,2,0.5)"
   ]
  },
  {
   "cell_type": "code",
   "execution_count": 68,
   "id": "e2edb19a",
   "metadata": {},
   "outputs": [
    {
     "data": {
      "text/plain": [
       "True"
      ]
     },
     "execution_count": 68,
     "metadata": {},
     "output_type": "execute_result"
    }
   ],
   "source": [
    "a=(lambda x,y,c : x if x<y else x<c or c )\n",
    "\n",
    "a(2,1,3)"
   ]
  },
  {
   "cell_type": "markdown",
   "id": "adc711f7",
   "metadata": {},
   "source": [
    "### Assignmnet Question "
   ]
  },
  {
   "cell_type": "code",
   "execution_count": 70,
   "id": "fdd4dd7b",
   "metadata": {},
   "outputs": [
    {
     "data": {
      "text/plain": [
       "array([[[99, 12, 17],\n",
       "        [48, 29, 47]],\n",
       "\n",
       "       [[18, 71, 66],\n",
       "        [44, 22, 69]]])"
      ]
     },
     "execution_count": 70,
     "metadata": {},
     "output_type": "execute_result"
    }
   ],
   "source": [
    "# 3-D \n",
    "layer, number of list in layer and element in each list\n",
    "\n",
    "import numpy as np\n",
    "arr = np.random.randint(10,100, 12)\n",
    "arr = arr.reshape(2,2,3)\n",
    "arr"
   ]
  },
  {
   "cell_type": "code",
   "execution_count": 80,
   "id": "e07ee273",
   "metadata": {},
   "outputs": [],
   "source": [
    "a = [] # store layer \n",
    "b = [] # store number of list\n",
    "c = [] # store element inside list\n",
    "\n",
    "for i in range(2):\n",
    "    for j in range(3): \n",
    "        for k in range(4): \n",
    "            c.append(i+j+k)\n",
    "        b.append(c)\n",
    "        c = [] # Cleaned the c list so that it can store next elemnts of the next list\n",
    "    a.append(b)\n",
    "    b= [] # cleaning the b list so that it can store layer \n"
   ]
  },
  {
   "cell_type": "code",
   "execution_count": 81,
   "id": "d4e3d669",
   "metadata": {},
   "outputs": [
    {
     "name": "stdout",
     "output_type": "stream",
     "text": [
      "[[[0, 1, 2, 3], [1, 2, 3, 4], [2, 3, 4, 5]], [[1, 2, 3, 4], [2, 3, 4, 5], [3, 4, 5, 6]]]\n"
     ]
    }
   ],
   "source": [
    "print(a)"
   ]
  },
  {
   "cell_type": "code",
   "execution_count": 82,
   "id": "23bf896a",
   "metadata": {},
   "outputs": [],
   "source": [
    "arr = np.array(a)"
   ]
  },
  {
   "cell_type": "code",
   "execution_count": 83,
   "id": "04c46364",
   "metadata": {},
   "outputs": [
    {
     "data": {
      "text/plain": [
       "array([[[0, 1, 2, 3],\n",
       "        [1, 2, 3, 4],\n",
       "        [2, 3, 4, 5]],\n",
       "\n",
       "       [[1, 2, 3, 4],\n",
       "        [2, 3, 4, 5],\n",
       "        [3, 4, 5, 6]]])"
      ]
     },
     "execution_count": 83,
     "metadata": {},
     "output_type": "execute_result"
    }
   ],
   "source": [
    "arr"
   ]
  },
  {
   "cell_type": "code",
   "execution_count": 86,
   "id": "f215a400",
   "metadata": {},
   "outputs": [
    {
     "data": {
      "text/plain": [
       "array([[25, 58, 48, 78],\n",
       "       [18, 38, 41, 70],\n",
       "       [75, 96, 92, 27]])"
      ]
     },
     "execution_count": 86,
     "metadata": {},
     "output_type": "execute_result"
    }
   ],
   "source": [
    "# 2-D\n",
    "\n",
    "import numpy as np\n",
    "arr = np.random.randint(10,100, 12)\n",
    "arr = arr.reshape(3,4)\n",
    "arr"
   ]
  },
  {
   "cell_type": "code",
   "execution_count": null,
   "id": "39c7c47d",
   "metadata": {},
   "outputs": [],
   "source": []
  }
 ],
 "metadata": {
  "kernelspec": {
   "display_name": "Python 3 (ipykernel)",
   "language": "python",
   "name": "python3"
  },
  "language_info": {
   "codemirror_mode": {
    "name": "ipython",
    "version": 3
   },
   "file_extension": ".py",
   "mimetype": "text/x-python",
   "name": "python",
   "nbconvert_exporter": "python",
   "pygments_lexer": "ipython3",
   "version": "3.11.5"
  }
 },
 "nbformat": 4,
 "nbformat_minor": 5
}
