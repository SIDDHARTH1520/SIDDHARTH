{
 "cells": [
  {
   "cell_type": "markdown",
   "id": "67eb436d",
   "metadata": {},
   "source": [
    "### Slicing\n",
    "\n",
    "- Fetch a sub-element from a list \n",
    "\n",
    "#### There are two types of Slicing\n",
    "\n",
    "    - Positive Slicing\n",
    "    - Negative Slicing"
   ]
  },
  {
   "cell_type": "code",
   "execution_count": 1,
   "id": "0aeb5ac5",
   "metadata": {},
   "outputs": [],
   "source": [
    "lst = [1,2,3,4,5,6,7,8,9,10]\n",
    "lst"
   ]
  },
  {
   "cell_type": "markdown",
   "id": "57501441",
   "metadata": {},
   "source": [
    "### Positive Slicing\n",
    "\n",
    "    Syntax:\n",
    "    \n",
    "     lst_name[starting_index: ending_index:step_size]\n",
    "     \n",
    "     where \n",
    "     - Starting index is the index from where we want to do the slicing, by default, starting index is zero (0)\n",
    "     - ending index is the index till which we want to do the slicing, as it is exculded we have to take n+1 value,\n",
    "     by default the ending index will go the end of the list \n",
    "     - Step-size is the jump that you want to do in the slicing, by default, the step-size is 1"
   ]
  },
  {
   "cell_type": "code",
   "execution_count": 2,
   "id": "f623b8a6",
   "metadata": {},
   "outputs": [],
   "source": [
    "lst"
   ]
  },
  {
   "cell_type": "code",
   "execution_count": 3,
   "id": "d18ea2f3",
   "metadata": {},
   "outputs": [],
   "source": [
    "lst[::]"
   ]
  },
  {
   "cell_type": "code",
   "execution_count": 4,
   "id": "f7a688bb",
   "metadata": {},
   "outputs": [],
   "source": [
    "lst[0::]"
   ]
  },
  {
   "cell_type": "code",
   "execution_count": 5,
   "id": "aaa7db6c",
   "metadata": {},
   "outputs": [],
   "source": [
    "lst[0:len(lst):]"
   ]
  },
  {
   "cell_type": "code",
   "execution_count": 6,
   "id": "2ff7b16c",
   "metadata": {},
   "outputs": [],
   "source": [
    "lst[0:len(lst):1]"
   ]
  },
  {
   "cell_type": "code",
   "execution_count": 7,
   "id": "597c2520",
   "metadata": {},
   "outputs": [],
   "source": [
    "lst[1::2]"
   ]
  },
  {
   "cell_type": "markdown",
   "id": "02301a05",
   "metadata": {},
   "source": [
    "### Negative Slicing\n",
    "\n",
    "    Syntax:\n",
    "    \n",
    "     lst_name[starting_index: ending_index:step_size]\n",
    "\n",
    "    "
   ]
  },
  {
   "cell_type": "code",
   "execution_count": 8,
   "id": "afd86ed4",
   "metadata": {},
   "outputs": [],
   "source": [
    "lst"
   ]
  },
  {
   "cell_type": "code",
   "execution_count": 9,
   "id": "01e3e8e4",
   "metadata": {},
   "outputs": [],
   "source": [
    "lst[::-1] # this is fetch the reverse list "
   ]
  },
  {
   "cell_type": "code",
   "execution_count": 10,
   "id": "062105b0",
   "metadata": {},
   "outputs": [],
   "source": [
    "lst"
   ]
  },
  {
   "cell_type": "code",
   "execution_count": 11,
   "id": "72c5006d",
   "metadata": {},
   "outputs": [],
   "source": [
    "lst[-3:-9:-1]"
   ]
  },
  {
   "cell_type": "code",
   "execution_count": 12,
   "id": "f573b272",
   "metadata": {},
   "outputs": [
    {
     "data": {
      "text/plain": [
       "[3, 4, 5, 6, 7, 8]"
      ]
     },
     "execution_count": 12,
     "metadata": {},
     "output_type": "execute_result"
    }
   ],
   "source": [
    "lst[-8:-2]"
   ]
  },
  {
   "cell_type": "code",
   "execution_count": 13,
   "id": "3da2847c",
   "metadata": {},
   "outputs": [
    {
     "data": {
      "text/plain": [
       "[1, 2, 3, 4, 5, 6, 7, 8, 9, 10]"
      ]
     },
     "execution_count": 13,
     "metadata": {},
     "output_type": "execute_result"
    }
   ],
   "source": [
    "lst[::] # by default value will be taken accordingly positive indexing"
   ]
  },
  {
   "cell_type": "code",
   "execution_count": 14,
   "id": "ba9100bd",
   "metadata": {},
   "outputs": [
    {
     "data": {
      "text/plain": [
       "[1, 2, 3, 4, 5, 6, 7, 8, 9, 10]"
      ]
     },
     "execution_count": 14,
     "metadata": {},
     "output_type": "execute_result"
    }
   ],
   "source": [
    "lst"
   ]
  },
  {
   "cell_type": "code",
   "execution_count": 15,
   "id": "6d31136d",
   "metadata": {},
   "outputs": [
    {
     "data": {
      "text/plain": [
       "[3, 4, 5, 6, 7, 8]"
      ]
     },
     "execution_count": 15,
     "metadata": {},
     "output_type": "execute_result"
    }
   ],
   "source": [
    "# positive indexing\n",
    "\n",
    "lst[2:8]"
   ]
  },
  {
   "cell_type": "code",
   "execution_count": 16,
   "id": "ca813d92",
   "metadata": {},
   "outputs": [
    {
     "data": {
      "text/plain": [
       "[3, 4, 5, 6, 7, 8]"
      ]
     },
     "execution_count": 16,
     "metadata": {},
     "output_type": "execute_result"
    }
   ],
   "source": [
    "# negative slicing\n",
    "lst[-8:-2]"
   ]
  },
  {
   "cell_type": "markdown",
   "id": "0e39dfc3",
   "metadata": {},
   "source": [
    "### Create a list"
   ]
  },
  {
   "cell_type": "markdown",
   "id": "1849daa1",
   "metadata": {},
   "source": [
    "#### Case -1 \n",
    "\n",
    "- When we know all the elements of a list"
   ]
  },
  {
   "cell_type": "code",
   "execution_count": 17,
   "id": "f4e83910",
   "metadata": {},
   "outputs": [
    {
     "name": "stdout",
     "output_type": "stream",
     "text": [
      "[1, 1.0, (10+2j), True, None, 'python', range(0, 5)] <class 'list'>\n"
     ]
    }
   ],
   "source": [
    "lst = [1,1.0, 10+2j, True, None, 'python', range(5)]\n",
    "print(lst, type(lst))"
   ]
  },
  {
   "cell_type": "markdown",
   "id": "a76c07fc",
   "metadata": {},
   "source": [
    "#### Case-2\n",
    "\n",
    "- Using list() function or typecasting\n",
    "- we always need an iterable that we want to typecast\n",
    "- list() function take an iterable as an argument and returns a list\n",
    "- Iterable - range, string, tuple, dictionary, set and frozenset\n",
    "- __Note:__ we can not use any numeric datatype (int, float, complex), boolean datatype nor None Datatype"
   ]
  },
  {
   "cell_type": "code",
   "execution_count": 18,
   "id": "d3e8daa6",
   "metadata": {},
   "outputs": [
    {
     "name": "stdout",
     "output_type": "stream",
     "text": [
      "Python <class 'str'>\n"
     ]
    }
   ],
   "source": [
    "my_str = 'Python'\n",
    "print(my_str, type(my_str))"
   ]
  },
  {
   "cell_type": "code",
   "execution_count": 19,
   "id": "21cbb168",
   "metadata": {},
   "outputs": [
    {
     "data": {
      "text/plain": [
       "['P', 'y', 't', 'h', 'o', 'n']"
      ]
     },
     "execution_count": 19,
     "metadata": {},
     "output_type": "execute_result"
    }
   ],
   "source": [
    "b = list(my_str)\n",
    "b"
   ]
  },
  {
   "cell_type": "code",
   "execution_count": 20,
   "id": "d35bb20b",
   "metadata": {},
   "outputs": [
    {
     "data": {
      "text/plain": [
       "range(0, 11)"
      ]
     },
     "execution_count": 20,
     "metadata": {},
     "output_type": "execute_result"
    }
   ],
   "source": [
    "a = range(11)\n",
    "a"
   ]
  },
  {
   "cell_type": "code",
   "execution_count": 21,
   "id": "a6274256",
   "metadata": {},
   "outputs": [
    {
     "data": {
      "text/plain": [
       "[0, 1, 2, 3, 4, 5, 6, 7, 8, 9, 10]"
      ]
     },
     "execution_count": 21,
     "metadata": {},
     "output_type": "execute_result"
    }
   ],
   "source": [
    "b = list(a)\n",
    "b"
   ]
  },
  {
   "cell_type": "code",
   "execution_count": 22,
   "id": "a06ecb0d",
   "metadata": {},
   "outputs": [
    {
     "name": "stdout",
     "output_type": "stream",
     "text": [
      "(1, 2, 3, 4, 5, 6) <class 'tuple'>\n"
     ]
    }
   ],
   "source": [
    "t = (1,2,3,4,5,6)\n",
    "print(t, type(t))"
   ]
  },
  {
   "cell_type": "code",
   "execution_count": 23,
   "id": "71535bc3",
   "metadata": {},
   "outputs": [
    {
     "name": "stdout",
     "output_type": "stream",
     "text": [
      "[1, 2, 3, 4, 5, 6] <class 'list'>\n"
     ]
    }
   ],
   "source": [
    "b = list(t)\n",
    "print(b, type(b))"
   ]
  },
  {
   "cell_type": "code",
   "execution_count": 24,
   "id": "5e324426",
   "metadata": {},
   "outputs": [
    {
     "name": "stdout",
     "output_type": "stream",
     "text": [
      "{1: 100, 2: 200, 3: 300, 4: 400} <class 'dict'>\n"
     ]
    }
   ],
   "source": [
    "d = {1:100, 2:200, 3:300, 4:400}\n",
    "print(d, type(d))"
   ]
  },
  {
   "cell_type": "code",
   "execution_count": 25,
   "id": "507d8743",
   "metadata": {},
   "outputs": [
    {
     "name": "stdout",
     "output_type": "stream",
     "text": [
      "[1, 2, 3, 4] <class 'list'>\n"
     ]
    }
   ],
   "source": [
    "lst = list(d)\n",
    "print(lst, type(lst))"
   ]
  },
  {
   "cell_type": "code",
   "execution_count": 26,
   "id": "7c5260c9",
   "metadata": {},
   "outputs": [
    {
     "name": "stdout",
     "output_type": "stream",
     "text": [
      "[100, 200, 300, 400] <class 'list'>\n"
     ]
    }
   ],
   "source": [
    "lst = list(d.values())\n",
    "print(lst, type(lst))"
   ]
  },
  {
   "cell_type": "code",
   "execution_count": 27,
   "id": "3675d0f3",
   "metadata": {},
   "outputs": [
    {
     "ename": "TypeError",
     "evalue": "'int' object is not iterable",
     "output_type": "error",
     "traceback": [
      "\u001b[1;31m---------------------------------------------------------------------------\u001b[0m",
      "\u001b[1;31mTypeError\u001b[0m                                 Traceback (most recent call last)",
      "Cell \u001b[1;32mIn[27], line 1\u001b[0m\n\u001b[1;32m----> 1\u001b[0m lst \u001b[38;5;241m=\u001b[39m \u001b[38;5;28mlist\u001b[39m(\u001b[38;5;241m1110\u001b[39m)\n\u001b[0;32m      2\u001b[0m \u001b[38;5;28mprint\u001b[39m(lst, \u001b[38;5;28mtype\u001b[39m(lst))\n",
      "\u001b[1;31mTypeError\u001b[0m: 'int' object is not iterable"
     ]
    }
   ],
   "source": [
    "lst = list(1110)\n",
    "print(lst, type(lst))"
   ]
  },
  {
   "cell_type": "code",
   "execution_count": 28,
   "id": "62ae6096",
   "metadata": {},
   "outputs": [
    {
     "ename": "TypeError",
     "evalue": "'float' object is not iterable",
     "output_type": "error",
     "traceback": [
      "\u001b[1;31m---------------------------------------------------------------------------\u001b[0m",
      "\u001b[1;31mTypeError\u001b[0m                                 Traceback (most recent call last)",
      "Cell \u001b[1;32mIn[28], line 1\u001b[0m\n\u001b[1;32m----> 1\u001b[0m lst \u001b[38;5;241m=\u001b[39m \u001b[38;5;28mlist\u001b[39m(\u001b[38;5;241m11.0\u001b[39m)\n\u001b[0;32m      2\u001b[0m \u001b[38;5;28mprint\u001b[39m(lst, \u001b[38;5;28mtype\u001b[39m(lst))\n",
      "\u001b[1;31mTypeError\u001b[0m: 'float' object is not iterable"
     ]
    }
   ],
   "source": [
    "lst = list(11.0)\n",
    "print(lst, type(lst))"
   ]
  },
  {
   "cell_type": "code",
   "execution_count": 29,
   "id": "040c75cd",
   "metadata": {},
   "outputs": [
    {
     "ename": "TypeError",
     "evalue": "'complex' object is not iterable",
     "output_type": "error",
     "traceback": [
      "\u001b[1;31m---------------------------------------------------------------------------\u001b[0m",
      "\u001b[1;31mTypeError\u001b[0m                                 Traceback (most recent call last)",
      "Cell \u001b[1;32mIn[29], line 1\u001b[0m\n\u001b[1;32m----> 1\u001b[0m lst \u001b[38;5;241m=\u001b[39m \u001b[38;5;28mlist\u001b[39m(\u001b[38;5;241m11\u001b[39m\u001b[38;5;241m+\u001b[39m\u001b[38;5;241m5\u001b[39mj)\n\u001b[0;32m      2\u001b[0m \u001b[38;5;28mprint\u001b[39m(lst, \u001b[38;5;28mtype\u001b[39m(lst))\n",
      "\u001b[1;31mTypeError\u001b[0m: 'complex' object is not iterable"
     ]
    }
   ],
   "source": [
    "lst = list(11+5j)\n",
    "print(lst, type(lst))"
   ]
  },
  {
   "cell_type": "code",
   "execution_count": 30,
   "id": "26accd7f",
   "metadata": {},
   "outputs": [
    {
     "ename": "TypeError",
     "evalue": "'bool' object is not iterable",
     "output_type": "error",
     "traceback": [
      "\u001b[1;31m---------------------------------------------------------------------------\u001b[0m",
      "\u001b[1;31mTypeError\u001b[0m                                 Traceback (most recent call last)",
      "Cell \u001b[1;32mIn[30], line 1\u001b[0m\n\u001b[1;32m----> 1\u001b[0m lst \u001b[38;5;241m=\u001b[39m \u001b[38;5;28mlist\u001b[39m(\u001b[38;5;28;01mTrue\u001b[39;00m)\n\u001b[0;32m      2\u001b[0m \u001b[38;5;28mprint\u001b[39m(lst, \u001b[38;5;28mtype\u001b[39m(lst))\n",
      "\u001b[1;31mTypeError\u001b[0m: 'bool' object is not iterable"
     ]
    }
   ],
   "source": [
    "lst = list(True)\n",
    "print(lst, type(lst))"
   ]
  },
  {
   "cell_type": "code",
   "execution_count": 31,
   "id": "a0adafd8",
   "metadata": {},
   "outputs": [
    {
     "ename": "TypeError",
     "evalue": "'NoneType' object is not iterable",
     "output_type": "error",
     "traceback": [
      "\u001b[1;31m---------------------------------------------------------------------------\u001b[0m",
      "\u001b[1;31mTypeError\u001b[0m                                 Traceback (most recent call last)",
      "Cell \u001b[1;32mIn[31], line 1\u001b[0m\n\u001b[1;32m----> 1\u001b[0m lst \u001b[38;5;241m=\u001b[39m \u001b[38;5;28mlist\u001b[39m(\u001b[38;5;28;01mNone\u001b[39;00m)\n\u001b[0;32m      2\u001b[0m \u001b[38;5;28mprint\u001b[39m(lst, \u001b[38;5;28mtype\u001b[39m(lst))\n",
      "\u001b[1;31mTypeError\u001b[0m: 'NoneType' object is not iterable"
     ]
    }
   ],
   "source": [
    "lst = list(None)\n",
    "print(lst, type(lst))"
   ]
  },
  {
   "cell_type": "markdown",
   "id": "421acc30",
   "metadata": {},
   "source": [
    "#### Case-3 \n",
    "\n",
    "\n",
    "- By talking input from the user "
   ]
  },
  {
   "cell_type": "code",
   "execution_count": 34,
   "id": "66445a65",
   "metadata": {},
   "outputs": [
    {
     "name": "stdout",
     "output_type": "stream",
     "text": [
      "Enter a list: 12345\n",
      "['1', '2', '3', '4', '5'] <class 'list'>\n"
     ]
    }
   ],
   "source": [
    "lst = list(input('Enter a list: '))\n",
    "print(lst, type(lst))"
   ]
  },
  {
   "cell_type": "code",
   "execution_count": 33,
   "id": "9f3561b5",
   "metadata": {},
   "outputs": [
    {
     "name": "stdout",
     "output_type": "stream",
     "text": [
      "Enter a value: Hello python\n",
      "['Hello', 'python'] <class 'list'>\n"
     ]
    }
   ],
   "source": [
    "s = input('Enter a value: ')\n",
    "lst = s.split()\n",
    "print(lst, type(lst))"
   ]
  },
  {
   "cell_type": "code",
   "execution_count": 35,
   "id": "2c37a90b",
   "metadata": {},
   "outputs": [
    {
     "name": "stdout",
     "output_type": "stream",
     "text": [
      "Enter different values seperated by a comma: 1,2,3,4,5\n",
      "['1', '2', '3', '4', '5'] <class 'list'>\n"
     ]
    }
   ],
   "source": [
    "s = input('Enter different values seperated by a comma: ')\n",
    "lst = s.split(',')\n",
    "print(lst, type(lst))"
   ]
  },
  {
   "cell_type": "markdown",
   "id": "8d302025",
   "metadata": {},
   "source": [
    "### Eval function \n",
    "\n",
    "- It will automatically evaluates the type of the value stored in a particular variable\n",
    "- The argument for an eval() function should always be a string"
   ]
  },
  {
   "cell_type": "code",
   "execution_count": 36,
   "id": "3ce132bb",
   "metadata": {},
   "outputs": [
    {
     "name": "stdout",
     "output_type": "stream",
     "text": [
      "10 <class 'int'>\n"
     ]
    }
   ],
   "source": [
    "a = '10'\n",
    "b = eval(a)\n",
    "print(b , type(b))"
   ]
  },
  {
   "cell_type": "code",
   "execution_count": 37,
   "id": "578d8251",
   "metadata": {},
   "outputs": [
    {
     "name": "stdout",
     "output_type": "stream",
     "text": [
      "Enter a number: 10\n",
      "10 <class 'int'>\n"
     ]
    }
   ],
   "source": [
    "num = eval(input('Enter a number: '))\n",
    "print(num, type(num))"
   ]
  },
  {
   "cell_type": "code",
   "execution_count": null,
   "id": "2b33578b",
   "metadata": {},
   "outputs": [],
   "source": [
    "num = eval(input('Enter a number: '))\n",
    "print(num, type(num))"
   ]
  },
  {
   "cell_type": "code",
   "execution_count": 38,
   "id": "ab66a7c2",
   "metadata": {},
   "outputs": [
    {
     "name": "stdout",
     "output_type": "stream",
     "text": [
      "Enter a value: 10.0\n",
      "10.0 <class 'float'>\n"
     ]
    }
   ],
   "source": [
    "a = eval(input('Enter a value: '))\n",
    "print(a, type(a))"
   ]
  },
  {
   "cell_type": "code",
   "execution_count": 39,
   "id": "edf04bee",
   "metadata": {},
   "outputs": [
    {
     "name": "stdout",
     "output_type": "stream",
     "text": [
      "Enter a value: 4+8j\n",
      "(4+8j) <class 'complex'>\n"
     ]
    }
   ],
   "source": [
    "a = eval(input('Enter a value: '))\n",
    "print(a, type(a))"
   ]
  },
  {
   "cell_type": "code",
   "execution_count": 40,
   "id": "17bdaf5f",
   "metadata": {},
   "outputs": [
    {
     "name": "stdout",
     "output_type": "stream",
     "text": [
      "Enter a value: True\n",
      "True <class 'bool'>\n"
     ]
    }
   ],
   "source": [
    "a = eval(input('Enter a value: '))\n",
    "print(a, type(a))"
   ]
  },
  {
   "cell_type": "code",
   "execution_count": 41,
   "id": "a4fe1e5d",
   "metadata": {},
   "outputs": [
    {
     "name": "stdout",
     "output_type": "stream",
     "text": [
      "Enter a value: None\n",
      "None <class 'NoneType'>\n"
     ]
    }
   ],
   "source": [
    "a = eval(input('Enter a value: '))\n",
    "print(a, type(a))"
   ]
  },
  {
   "cell_type": "code",
   "execution_count": 44,
   "id": "61db4bc4",
   "metadata": {},
   "outputs": [
    {
     "name": "stdout",
     "output_type": "stream",
     "text": [
      "Enter a value : mayank\n"
     ]
    },
    {
     "ename": "NameError",
     "evalue": "name 'mayank' is not defined",
     "output_type": "error",
     "traceback": [
      "\u001b[1;31m---------------------------------------------------------------------------\u001b[0m",
      "\u001b[1;31mNameError\u001b[0m                                 Traceback (most recent call last)",
      "Cell \u001b[1;32mIn[44], line 1\u001b[0m\n\u001b[1;32m----> 1\u001b[0m a \u001b[38;5;241m=\u001b[39m \u001b[38;5;28meval\u001b[39m(\u001b[38;5;28minput\u001b[39m(\u001b[38;5;124m'\u001b[39m\u001b[38;5;124mEnter a value : \u001b[39m\u001b[38;5;124m'\u001b[39m))\n\u001b[0;32m      2\u001b[0m \u001b[38;5;28mprint\u001b[39m(a, \u001b[38;5;28mtype\u001b[39m(a))\n",
      "File \u001b[1;32m<string>:1\u001b[0m\n",
      "\u001b[1;31mNameError\u001b[0m: name 'mayank' is not defined"
     ]
    }
   ],
   "source": [
    "a = eval(input('Enter a value : '))\n",
    "print(a, type(a))"
   ]
  },
  {
   "cell_type": "code",
   "execution_count": 42,
   "id": "a5bf132c",
   "metadata": {},
   "outputs": [
    {
     "name": "stdout",
     "output_type": "stream",
     "text": [
      "Enter a value : 'mayank'\n",
      "'mayank' <class 'str'>\n"
     ]
    }
   ],
   "source": [
    "a = input('Enter a value : ')\n",
    "print(a, type(a))"
   ]
  },
  {
   "cell_type": "code",
   "execution_count": 45,
   "id": "58dafee8",
   "metadata": {},
   "outputs": [
    {
     "name": "stdout",
     "output_type": "stream",
     "text": [
      "Enter a value: 10\n",
      "10 is a even number\n"
     ]
    }
   ],
   "source": [
    "a = eval(input('Enter a value: '))\n",
    "if type(a) == int:\n",
    "    if a % 2 == 0:\n",
    "        print(f'{a} is a even number')\n",
    "    else:\n",
    "        print(f'{a} is a odd number')\n",
    "else:\n",
    "    print('The input is not an integer')"
   ]
  },
  {
   "cell_type": "code",
   "execution_count": 46,
   "id": "8d9a309b",
   "metadata": {},
   "outputs": [
    {
     "name": "stdout",
     "output_type": "stream",
     "text": [
      "Enter a value: 10.0\n",
      "The input is not an integer\n"
     ]
    }
   ],
   "source": [
    "a = eval(input('Enter a value: '))\n",
    "if type(a) == int:\n",
    "    if a % 2 == 0:\n",
    "        print(f'{a} is a even number')\n",
    "    else:\n",
    "        print(f'{a} is a odd number')\n",
    "else:\n",
    "    print('The input is not an integer')\n",
    "    "
   ]
  },
  {
   "cell_type": "markdown",
   "id": "f23e5f22",
   "metadata": {},
   "source": [
    "#### Case -4 \n",
    "\n",
    "##### List Comprehension \n",
    "\n",
    "    - It is used to create simple list quickly"
   ]
  },
  {
   "cell_type": "code",
   "execution_count": 1,
   "id": "da7998bb",
   "metadata": {},
   "outputs": [
    {
     "name": "stdout",
     "output_type": "stream",
     "text": [
      "[1, 2, 3, 4, 5, 6, 7, 8, 9, 10, 11, 12, 13, 14, 15, 16, 17, 18, 19, 20, 21, 22, 23, 24, 25, 26, 27, 28, 29, 30, 31, 32, 33, 34, 35, 36, 37, 38, 39, 40, 41, 42, 43, 44, 45, 46, 47, 48, 49, 50]\n"
     ]
    }
   ],
   "source": [
    "# Conventional way of Creating a list having elements from 1 to 50 in it\n",
    "\n",
    "# Create an empty list \n",
    "a = []\n",
    "\n",
    "# We will iterate over the range from 1 to 50\n",
    "for i in range(1, 51):\n",
    "    # appening each element inside a list one by one\n",
    "    a = a + [i] # or a += [i]\n",
    "\n",
    "print(a)"
   ]
  },
  {
   "cell_type": "code",
   "execution_count": 2,
   "id": "ca99f2f8",
   "metadata": {},
   "outputs": [
    {
     "name": "stdout",
     "output_type": "stream",
     "text": [
      "[1, 2, 3, 4, 5, 6, 7, 8, 9, 10, 11, 12, 13, 14, 15, 16, 17, 18, 19, 20, 21, 22, 23, 24, 25, 26, 27, 28, 29, 30, 31, 32, 33, 34, 35, 36, 37, 38, 39, 40, 41, 42, 43, 44, 45, 46, 47, 48, 49, 50]\n"
     ]
    }
   ],
   "source": [
    "# list comprehenison\n",
    "a = [i for i in range(1, 51)]\n",
    "print(a)"
   ]
  },
  {
   "cell_type": "code",
   "execution_count": 3,
   "id": "630118af",
   "metadata": {},
   "outputs": [
    {
     "name": "stdout",
     "output_type": "stream",
     "text": [
      "[2, 4, 6, 8, 10, 12, 14, 16, 18, 20, 22, 24, 26, 28, 30, 32, 34, 36, 38, 40, 42, 44, 46, 48, 50]\n"
     ]
    }
   ],
   "source": [
    "# With the help of the conventional way create a list having even elements from list a \n",
    "\n",
    "b=[]\n",
    "for i in a:\n",
    "    if i%2==0:\n",
    "        b+=[i]\n",
    "print(b)\n"
   ]
  },
  {
   "cell_type": "markdown",
   "id": "ad7cd8d4",
   "metadata": {},
   "source": [
    "Syntax: \n",
    "    \n",
    "    If single condition we have to check\n",
    "    \n",
    "    list_name = [element for element in iterable condition_if_there_is_any]"
   ]
  },
  {
   "cell_type": "code",
   "execution_count": 50,
   "id": "f848fb09",
   "metadata": {},
   "outputs": [
    {
     "name": "stdout",
     "output_type": "stream",
     "text": [
      "[2, 4, 6, 8, 10, 12, 14, 16, 18, 20, 22, 24, 26, 28, 30, 32, 34, 36, 38, 40, 42, 44, 46, 48, 50]\n"
     ]
    }
   ],
   "source": [
    "even_lst = [i for i in a if i%2==0]\n",
    "print(even_lst)"
   ]
  },
  {
   "cell_type": "code",
   "execution_count": 4,
   "id": "d2177362",
   "metadata": {},
   "outputs": [
    {
     "name": "stdout",
     "output_type": "stream",
     "text": [
      "[1, 2, 3, 4, 5, 6, 7, 8, 9, 10, 11, 12, 13, 14, 15, 16, 17, 18, 19, 20, 21, 22, 23, 24, 25, 26, 27, 28, 29, 30, 31, 32, 33, 34, 35, 36, 37, 38, 39, 40, 41, 42, 43, 44, 45, 46, 47, 48, 49, 50]\n"
     ]
    }
   ],
   "source": [
    "print(a)"
   ]
  },
  {
   "cell_type": "code",
   "execution_count": 5,
   "id": "188bc7cb",
   "metadata": {},
   "outputs": [
    {
     "name": "stdout",
     "output_type": "stream",
     "text": [
      "[1, 3, 5, 7, 9, 11, 13, 15, 17, 19, 21, 23, 25, 27, 29, 31, 33, 35, 37, 39, 41, 43, 45, 47, 49]\n"
     ]
    }
   ],
   "source": [
    "# With the help of the conventional way and the list comprehension create a list having odd elements from list a \n",
    "\n",
    "# Conventional waay\n",
    "odd_lst = []\n",
    "\n",
    "for i in a:\n",
    "    if i%2 == 0:\n",
    "        continue\n",
    "    else:\n",
    "        odd_lst+= [i]\n",
    "print(odd_lst)\n"
   ]
  },
  {
   "cell_type": "code",
   "execution_count": 7,
   "id": "e3719d60",
   "metadata": {},
   "outputs": [
    {
     "name": "stdout",
     "output_type": "stream",
     "text": [
      "[1, 3, 5, 7, 9, 11, 13, 15, 17, 19, 21, 23, 25, 27, 29, 31, 33, 35, 37, 39, 41, 43, 45, 47, 49]\n"
     ]
    }
   ],
   "source": [
    "# List comprehension\n",
    "\n",
    "odd_lst = [i for i in a if i%2 !=0]\n",
    "print(odd_lst)"
   ]
  },
  {
   "cell_type": "markdown",
   "id": "7e19e09e",
   "metadata": {},
   "source": [
    "Syntax:\n",
    "    \n",
    "    If we want to check two conditions \n",
    "    \n",
    "    lst_name = [element_1 if condition_1 else element_2 for element in iterable ]"
   ]
  },
  {
   "cell_type": "code",
   "execution_count": 9,
   "id": "58f70d80",
   "metadata": {},
   "outputs": [
    {
     "name": "stdout",
     "output_type": "stream",
     "text": [
      "[1, 2, 3, 4, 5, 6, 7, 8, 9, 10, 11, 12, 13, 14, 15, 16, 17, 18, 19, 20, 21, 22, 23, 24, 25, 26, 27, 28, 29, 30, 31, 32, 33, 34, 35, 36, 37, 38, 39, 40, 41, 42, 43, 44, 45, 46, 47, 48, 49, 50]\n"
     ]
    }
   ],
   "source": [
    "print(a)"
   ]
  },
  {
   "cell_type": "markdown",
   "id": "45f113dd",
   "metadata": {},
   "source": [
    "### create a list which is going to give the square of a number if the number is even and a cube of a number if the number is odd"
   ]
  },
  {
   "cell_type": "code",
   "execution_count": 10,
   "id": "e714c6bb",
   "metadata": {},
   "outputs": [
    {
     "name": "stdout",
     "output_type": "stream",
     "text": [
      "[1, 4, 27, 16, 125, 36, 343, 64, 729, 100, 1331, 144, 2197, 196, 3375, 256, 4913, 324, 6859, 400, 9261, 484, 12167, 576, 15625, 676, 19683, 784, 24389, 900, 29791, 1024, 35937, 1156, 42875, 1296, 50653, 1444, 59319, 1600, 68921, 1764, 79507, 1936, 91125, 2116, 103823, 2304, 117649, 2500]\n"
     ]
    }
   ],
   "source": [
    "# conventional way \n",
    "\n",
    "c = []\n",
    "for i in a:\n",
    "    if i%2 == 0:\n",
    "        c += [i**2]\n",
    "    else:\n",
    "        c += [i**3]\n",
    "print(c)\n"
   ]
  },
  {
   "cell_type": "code",
   "execution_count": 12,
   "id": "4522c342",
   "metadata": {},
   "outputs": [
    {
     "name": "stdout",
     "output_type": "stream",
     "text": [
      "[1, 4, 27, 16, 125, 36, 343, 64, 729, 100, 1331, 144, 2197, 196, 3375, 256, 4913, 324, 6859, 400, 9261, 484, 12167, 576, 15625, 676, 19683, 784, 24389, 900, 29791, 1024, 35937, 1156, 42875, 1296, 50653, 1444, 59319, 1600, 68921, 1764, 79507, 1936, 91125, 2116, 103823, 2304, 117649, 2500]\n"
     ]
    }
   ],
   "source": [
    "# list comprehension\n",
    "\n",
    "print([i**2 if i%2==0 else i**3 for i in a])\n"
   ]
  },
  {
   "cell_type": "code",
   "execution_count": 14,
   "id": "39f4e579",
   "metadata": {},
   "outputs": [
    {
     "name": "stdout",
     "output_type": "stream",
     "text": [
      "['A', 'B', 'C', 'D', 'E', 'F', 'G', 'H', 'I', 'J', 'K', 'L', 'M', 'N', 'O', 'P', 'Q', 'R', 'S', 'T', 'U', 'V', 'W', 'X', 'Y', 'Z']\n"
     ]
    }
   ],
   "source": [
    "# Create a list of letter From A to Z using conventional way \n",
    "a=[]\n",
    "for i in range(65,91):\n",
    "    a=a+[chr(i)]\n",
    "print(a)"
   ]
  },
  {
   "cell_type": "code",
   "execution_count": 15,
   "id": "62e26bba",
   "metadata": {},
   "outputs": [
    {
     "name": "stdout",
     "output_type": "stream",
     "text": [
      "['A', 'B', 'C', 'D', 'E', 'F', 'G', 'H', 'I', 'J', 'K', 'L', 'M', 'N', 'O', 'P', 'Q', 'R', 'S', 'T', 'U', 'V', 'W', 'X', 'Y', 'Z']\n"
     ]
    }
   ],
   "source": [
    "a=[]\n",
    "for i in range(ord('A'), ord('Z')+1):\n",
    "    a=a+[chr(i)]\n",
    "print(a)"
   ]
  },
  {
   "cell_type": "code",
   "execution_count": 16,
   "id": "38da86a1",
   "metadata": {},
   "outputs": [
    {
     "name": "stdout",
     "output_type": "stream",
     "text": [
      "['A', 'B', 'C', 'D', 'E', 'F', 'G', 'H', 'I', 'J', 'K', 'L', 'M', 'N', 'O', 'P', 'Q', 'R', 'S', 'T', 'U', 'V', 'W', 'X', 'Y', 'Z']\n"
     ]
    }
   ],
   "source": [
    "# Create a list of letter From A to Z using list Comprehension\n",
    "\n",
    "c = [ chr(i) for i in range(65, 91)]\n",
    "print(c)\n"
   ]
  },
  {
   "cell_type": "code",
   "execution_count": 21,
   "id": "5759e739",
   "metadata": {},
   "outputs": [
    {
     "name": "stdout",
     "output_type": "stream",
     "text": [
      "['A', 'B', 'C', 'D', 'E', 'F', 'G', 'H', 'I', 'J', 'K', 'L', 'M', 'N', 'O', 'P', 'Q', 'R', 'S', 'T', 'U', 'V', 'W', 'X', 'Y', 'Z']\n"
     ]
    }
   ],
   "source": [
    "c = [ chr(i) for i in range(ord(\"A\"), ord(\"Z\")+1)] \n",
    "print(c)"
   ]
  },
  {
   "cell_type": "code",
   "execution_count": 22,
   "id": "18cf49ad",
   "metadata": {},
   "outputs": [
    {
     "data": {
      "text/plain": [
       "65"
      ]
     },
     "execution_count": 22,
     "metadata": {},
     "output_type": "execute_result"
    }
   ],
   "source": [
    "ord('A')"
   ]
  },
  {
   "cell_type": "code",
   "execution_count": 27,
   "id": "267f08b0",
   "metadata": {},
   "outputs": [
    {
     "data": {
      "text/plain": [
       "90"
      ]
     },
     "execution_count": 27,
     "metadata": {},
     "output_type": "execute_result"
    }
   ],
   "source": [
    "ord('Z')"
   ]
  },
  {
   "cell_type": "code",
   "execution_count": 23,
   "id": "46cc3193",
   "metadata": {
    "scrolled": true
   },
   "outputs": [
    {
     "data": {
      "text/plain": [
       "91"
      ]
     },
     "execution_count": 23,
     "metadata": {},
     "output_type": "execute_result"
    }
   ],
   "source": [
    "ord('Z')+1"
   ]
  },
  {
   "cell_type": "code",
   "execution_count": null,
   "id": "9869e455",
   "metadata": {},
   "outputs": [],
   "source": [
    "range(65, 91)"
   ]
  },
  {
   "cell_type": "code",
   "execution_count": 26,
   "id": "673b5ed8",
   "metadata": {},
   "outputs": [
    {
     "name": "stdout",
     "output_type": "stream",
     "text": [
      "['A', 'B', 'C', 'D', 'E', 'F', 'G', 'H', 'I', 'J', 'K', 'L', 'M', 'N', 'O', 'P', 'Q', 'R', 'S', 'T', 'U', 'V', 'W', 'X', 'Y', 'Z']\n"
     ]
    }
   ],
   "source": [
    "a=[]\n",
    "for i in range(ord(\"A\"), ord(\"Z\")+1):\n",
    "    a=a+[chr(i)]\n",
    "print(a)\n"
   ]
  },
  {
   "cell_type": "markdown",
   "id": "aceeab0c",
   "metadata": {},
   "source": [
    "Advantages \n",
    "\n",
    "1. Readability \n",
    "2. Concise Code \n",
    "3. Improved Performance\n",
    "4. Fast execution\n",
    "\n",
    "Disadvantage \n",
    "\n",
    "1. Limited to simple Operations\n",
    "2. Nested Comprehsion\n",
    "3. Readability trade off \n",
    "4. Debugging challenge "
   ]
  },
  {
   "cell_type": "code",
   "execution_count": 28,
   "id": "8825873c",
   "metadata": {},
   "outputs": [
    {
     "name": "stdout",
     "output_type": "stream",
     "text": [
      "[0, 1, 2, 3, 4, 5, 6, 7, 8, 9, 10, 11, 12, 13, 14, 15, 16, 17, 18, 19, 20]\n"
     ]
    }
   ],
   "source": [
    "lst = []\n",
    "\n",
    "for i in range(21):\n",
    "    lst += [i]\n",
    "\n",
    "print(lst)"
   ]
  },
  {
   "cell_type": "code",
   "execution_count": 30,
   "id": "4d008e76",
   "metadata": {},
   "outputs": [
    {
     "data": {
      "text/plain": [
       "[0, 1, 2, 3, 4, 5, 6, 7, 8, 9, 10, 11, 12, 13, 14, 15, 16, 17, 18, 19, 20]"
      ]
     },
     "execution_count": 30,
     "metadata": {},
     "output_type": "execute_result"
    }
   ],
   "source": [
    "lst = [i for i in range(21)]\n",
    "lst"
   ]
  },
  {
   "cell_type": "code",
   "execution_count": 31,
   "id": "5105e209",
   "metadata": {},
   "outputs": [
    {
     "name": "stdout",
     "output_type": "stream",
     "text": [
      "['__add__', '__class__', '__class_getitem__', '__contains__', '__delattr__', '__delitem__', '__dir__', '__doc__', '__eq__', '__format__', '__ge__', '__getattribute__', '__getitem__', '__getstate__', '__gt__', '__hash__', '__iadd__', '__imul__', '__init__', '__init_subclass__', '__iter__', '__le__', '__len__', '__lt__', '__mul__', '__ne__', '__new__', '__reduce__', '__reduce_ex__', '__repr__', '__reversed__', '__rmul__', '__setattr__', '__setitem__', '__sizeof__', '__str__', '__subclasshook__', 'append', 'clear', 'copy', 'count', 'extend', 'index', 'insert', 'pop', 'remove', 'reverse', 'sort']\n"
     ]
    }
   ],
   "source": [
    "print(dir(list))"
   ]
  },
  {
   "cell_type": "code",
   "execution_count": 32,
   "id": "97aa276f",
   "metadata": {},
   "outputs": [
    {
     "name": "stdout",
     "output_type": "stream",
     "text": [
      "['__add__', '__class__', '__contains__', '__delattr__', '__dir__', '__doc__', '__eq__', '__format__', '__ge__', '__getattribute__', '__getitem__', '__getnewargs__', '__getstate__', '__gt__', '__hash__', '__init__', '__init_subclass__', '__iter__', '__le__', '__len__', '__lt__', '__mod__', '__mul__', '__ne__', '__new__', '__reduce__', '__reduce_ex__', '__repr__', '__rmod__', '__rmul__', '__setattr__', '__sizeof__', '__str__', '__subclasshook__', 'capitalize', 'casefold', 'center', 'count', 'encode', 'endswith', 'expandtabs', 'find', 'format', 'format_map', 'index', 'isalnum', 'isalpha', 'isascii', 'isdecimal', 'isdigit', 'isidentifier', 'islower', 'isnumeric', 'isprintable', 'isspace', 'istitle', 'isupper', 'join', 'ljust', 'lower', 'lstrip', 'maketrans', 'partition', 'removeprefix', 'removesuffix', 'replace', 'rfind', 'rindex', 'rjust', 'rpartition', 'rsplit', 'rstrip', 'split', 'splitlines', 'startswith', 'strip', 'swapcase', 'title', 'translate', 'upper', 'zfill']\n"
     ]
    }
   ],
   "source": [
    "print(dir(str))"
   ]
  },
  {
   "cell_type": "code",
   "execution_count": null,
   "id": "5be4fa76",
   "metadata": {},
   "outputs": [],
   "source": []
  }
 ],
 "metadata": {
  "kernelspec": {
   "display_name": "Python 3 (ipykernel)",
   "language": "python",
   "name": "python3"
  },
  "language_info": {
   "codemirror_mode": {
    "name": "ipython",
    "version": 3
   },
   "file_extension": ".py",
   "mimetype": "text/x-python",
   "name": "python",
   "nbconvert_exporter": "python",
   "pygments_lexer": "ipython3",
   "version": "3.11.5"
  }
 },
 "nbformat": 4,
 "nbformat_minor": 5
}
