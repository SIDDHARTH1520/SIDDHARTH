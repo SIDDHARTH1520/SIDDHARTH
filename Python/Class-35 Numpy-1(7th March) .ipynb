{
 "cells": [
  {
   "cell_type": "markdown",
   "id": "f3b4e59d",
   "metadata": {},
   "source": [
    "### Numpy \n",
    "\n",
    "- Numpy is a Python library, we call it a Python library because it supportsd python syntax\n",
    "- Numpy stands for Numerical Python \n",
    "- Numpy is used to perform advanced numerical computation on larger dataset\n",
    "- By using numpy, we can perform complex operations with less lines of code \n",
    "- Numpy provides a very useful data-structure known as __Array__"
   ]
  },
  {
   "cell_type": "markdown",
   "id": "55d6406b",
   "metadata": {},
   "source": [
    "### How to import Numpy ?"
   ]
  },
  {
   "cell_type": "code",
   "execution_count": 1,
   "id": "5a498d4a",
   "metadata": {},
   "outputs": [],
   "source": [
    "import numpy as np"
   ]
  },
  {
   "cell_type": "code",
   "execution_count": 2,
   "id": "1b0cc7c3",
   "metadata": {},
   "outputs": [
    {
     "name": "stdout",
     "output_type": "stream",
     "text": [
      "['ALLOW_THREADS', 'AxisError', 'BUFSIZE', 'CLIP', 'ComplexWarning', 'DataSource', 'ERR_CALL', 'ERR_DEFAULT', 'ERR_IGNORE', 'ERR_LOG', 'ERR_PRINT', 'ERR_RAISE', 'ERR_WARN', 'FLOATING_POINT_SUPPORT', 'FPE_DIVIDEBYZERO', 'FPE_INVALID', 'FPE_OVERFLOW', 'FPE_UNDERFLOW', 'False_', 'Inf', 'Infinity', 'MAXDIMS', 'MAY_SHARE_BOUNDS', 'MAY_SHARE_EXACT', 'ModuleDeprecationWarning', 'NAN', 'NINF', 'NZERO', 'NaN', 'PINF', 'PZERO', 'RAISE', 'RankWarning', 'SHIFT_DIVIDEBYZERO', 'SHIFT_INVALID', 'SHIFT_OVERFLOW', 'SHIFT_UNDERFLOW', 'ScalarType', 'Tester', 'TooHardError', 'True_', 'UFUNC_BUFSIZE_DEFAULT', 'UFUNC_PYVALS_NAME', 'VisibleDeprecationWarning', 'WRAP', '_CopyMode', '_NoValue', '_UFUNC_API', '__NUMPY_SETUP__', '__all__', '__builtins__', '__cached__', '__config__', '__deprecated_attrs__', '__dir__', '__doc__', '__expired_functions__', '__file__', '__former_attrs__', '__future_scalars__', '__getattr__', '__git_version__', '__loader__', '__mkl_version__', '__name__', '__package__', '__path__', '__spec__', '__version__', '_add_newdoc_ufunc', '_builtins', '_distributor_init', '_financial_names', '_get_promotion_state', '_globals', '_int_extended_msg', '_mat', '_no_nep50_warning', '_pyinstaller_hooks_dir', '_pytesttester', '_set_promotion_state', '_specific_msg', '_version', 'abs', 'absolute', 'add', 'add_docstring', 'add_newdoc', 'add_newdoc_ufunc', 'all', 'allclose', 'alltrue', 'amax', 'amin', 'angle', 'any', 'append', 'apply_along_axis', 'apply_over_axes', 'arange', 'arccos', 'arccosh', 'arcsin', 'arcsinh', 'arctan', 'arctan2', 'arctanh', 'argmax', 'argmin', 'argpartition', 'argsort', 'argwhere', 'around', 'array', 'array2string', 'array_equal', 'array_equiv', 'array_repr', 'array_split', 'array_str', 'asanyarray', 'asarray', 'asarray_chkfinite', 'ascontiguousarray', 'asfarray', 'asfortranarray', 'asmatrix', 'atleast_1d', 'atleast_2d', 'atleast_3d', 'average', 'bartlett', 'base_repr', 'binary_repr', 'bincount', 'bitwise_and', 'bitwise_not', 'bitwise_or', 'bitwise_xor', 'blackman', 'block', 'bmat', 'bool_', 'broadcast', 'broadcast_arrays', 'broadcast_shapes', 'broadcast_to', 'busday_count', 'busday_offset', 'busdaycalendar', 'byte', 'byte_bounds', 'bytes_', 'c_', 'can_cast', 'cast', 'cbrt', 'cdouble', 'ceil', 'cfloat', 'char', 'character', 'chararray', 'choose', 'clip', 'clongdouble', 'clongfloat', 'column_stack', 'common_type', 'compare_chararrays', 'compat', 'complex128', 'complex64', 'complex_', 'complexfloating', 'compress', 'concatenate', 'conj', 'conjugate', 'convolve', 'copy', 'copysign', 'copyto', 'corrcoef', 'correlate', 'cos', 'cosh', 'count_nonzero', 'cov', 'cross', 'csingle', 'ctypeslib', 'cumprod', 'cumproduct', 'cumsum', 'datetime64', 'datetime_as_string', 'datetime_data', 'deg2rad', 'degrees', 'delete', 'deprecate', 'deprecate_with_doc', 'diag', 'diag_indices', 'diag_indices_from', 'diagflat', 'diagonal', 'diff', 'digitize', 'disp', 'divide', 'divmod', 'dot', 'double', 'dsplit', 'dstack', 'dtype', 'e', 'ediff1d', 'einsum', 'einsum_path', 'emath', 'empty', 'empty_like', 'equal', 'errstate', 'euler_gamma', 'exp', 'exp2', 'expand_dims', 'expm1', 'extract', 'eye', 'fabs', 'fastCopyAndTranspose', 'fft', 'fill_diagonal', 'find_common_type', 'finfo', 'fix', 'flatiter', 'flatnonzero', 'flexible', 'flip', 'fliplr', 'flipud', 'float16', 'float32', 'float64', 'float_', 'float_power', 'floating', 'floor', 'floor_divide', 'fmax', 'fmin', 'fmod', 'format_float_positional', 'format_float_scientific', 'format_parser', 'frexp', 'from_dlpack', 'frombuffer', 'fromfile', 'fromfunction', 'fromiter', 'frompyfunc', 'fromregex', 'fromstring', 'full', 'full_like', 'gcd', 'generic', 'genfromtxt', 'geomspace', 'get_array_wrap', 'get_include', 'get_printoptions', 'getbufsize', 'geterr', 'geterrcall', 'geterrobj', 'gradient', 'greater', 'greater_equal', 'half', 'hamming', 'hanning', 'heaviside', 'histogram', 'histogram2d', 'histogram_bin_edges', 'histogramdd', 'hsplit', 'hstack', 'hypot', 'i0', 'identity', 'iinfo', 'imag', 'in1d', 'index_exp', 'indices', 'inexact', 'inf', 'info', 'infty', 'inner', 'insert', 'int16', 'int32', 'int64', 'int8', 'int_', 'intc', 'integer', 'interp', 'intersect1d', 'intp', 'invert', 'is_busday', 'isclose', 'iscomplex', 'iscomplexobj', 'isfinite', 'isfortran', 'isin', 'isinf', 'isnan', 'isnat', 'isneginf', 'isposinf', 'isreal', 'isrealobj', 'isscalar', 'issctype', 'issubclass_', 'issubdtype', 'issubsctype', 'iterable', 'ix_', 'kaiser', 'kron', 'lcm', 'ldexp', 'left_shift', 'less', 'less_equal', 'lexsort', 'lib', 'linalg', 'linspace', 'little_endian', 'load', 'loadtxt', 'log', 'log10', 'log1p', 'log2', 'logaddexp', 'logaddexp2', 'logical_and', 'logical_not', 'logical_or', 'logical_xor', 'logspace', 'longcomplex', 'longdouble', 'longfloat', 'longlong', 'lookfor', 'ma', 'mask_indices', 'mat', 'math', 'matmul', 'matrix', 'max', 'maximum', 'maximum_sctype', 'may_share_memory', 'mean', 'median', 'memmap', 'meshgrid', 'mgrid', 'min', 'min_scalar_type', 'minimum', 'mintypecode', 'mkl', 'mod', 'modf', 'moveaxis', 'msort', 'multiply', 'nan', 'nan_to_num', 'nanargmax', 'nanargmin', 'nancumprod', 'nancumsum', 'nanmax', 'nanmean', 'nanmedian', 'nanmin', 'nanpercentile', 'nanprod', 'nanquantile', 'nanstd', 'nansum', 'nanvar', 'nbytes', 'ndarray', 'ndenumerate', 'ndim', 'ndindex', 'nditer', 'negative', 'nested_iters', 'newaxis', 'nextafter', 'nonzero', 'not_equal', 'numarray', 'number', 'obj2sctype', 'object_', 'ogrid', 'oldnumeric', 'ones', 'ones_like', 'outer', 'packbits', 'pad', 'partition', 'percentile', 'pi', 'piecewise', 'place', 'poly', 'poly1d', 'polyadd', 'polyder', 'polydiv', 'polyfit', 'polyint', 'polymul', 'polynomial', 'polysub', 'polyval', 'positive', 'power', 'printoptions', 'prod', 'product', 'promote_types', 'ptp', 'put', 'put_along_axis', 'putmask', 'quantile', 'r_', 'rad2deg', 'radians', 'random', 'ravel', 'ravel_multi_index', 'real', 'real_if_close', 'rec', 'recarray', 'recfromcsv', 'recfromtxt', 'reciprocal', 'record', 'remainder', 'repeat', 'require', 'reshape', 'resize', 'result_type', 'right_shift', 'rint', 'roll', 'rollaxis', 'roots', 'rot90', 'round', 'round_', 'row_stack', 's_', 'safe_eval', 'save', 'savetxt', 'savez', 'savez_compressed', 'sctype2char', 'sctypeDict', 'sctypes', 'searchsorted', 'select', 'set_numeric_ops', 'set_printoptions', 'set_string_function', 'setbufsize', 'setdiff1d', 'seterr', 'seterrcall', 'seterrobj', 'setxor1d', 'shape', 'shares_memory', 'short', 'show_config', 'show_runtime', 'sign', 'signbit', 'signedinteger', 'sin', 'sinc', 'single', 'singlecomplex', 'sinh', 'size', 'sometrue', 'sort', 'sort_complex', 'source', 'spacing', 'split', 'sqrt', 'square', 'squeeze', 'stack', 'std', 'str_', 'string_', 'subtract', 'sum', 'swapaxes', 'take', 'take_along_axis', 'tan', 'tanh', 'tensordot', 'test', 'testing', 'tile', 'timedelta64', 'trace', 'tracemalloc_domain', 'transpose', 'trapz', 'tri', 'tril', 'tril_indices', 'tril_indices_from', 'trim_zeros', 'triu', 'triu_indices', 'triu_indices_from', 'true_divide', 'trunc', 'typecodes', 'typename', 'ubyte', 'ufunc', 'uint', 'uint16', 'uint32', 'uint64', 'uint8', 'uintc', 'uintp', 'ulonglong', 'unicode_', 'union1d', 'unique', 'unpackbits', 'unravel_index', 'unsignedinteger', 'unwrap', 'use_hugepage', 'ushort', 'vander', 'var', 'vdot', 'vectorize', 'version', 'void', 'vsplit', 'vstack', 'where', 'who', 'zeros', 'zeros_like']\n"
     ]
    }
   ],
   "source": [
    "print(dir(np))"
   ]
  },
  {
   "cell_type": "code",
   "execution_count": 3,
   "id": "2594e63d",
   "metadata": {},
   "outputs": [
    {
     "name": "stdout",
     "output_type": "stream",
     "text": [
      "[1, 2, 3, 4, 5] <class 'list'>\n"
     ]
    }
   ],
   "source": [
    "lst = [1,2,3,4,5]\n",
    "print(lst,type(lst))"
   ]
  },
  {
   "cell_type": "code",
   "execution_count": 4,
   "id": "c314791c",
   "metadata": {},
   "outputs": [
    {
     "name": "stdout",
     "output_type": "stream",
     "text": [
      "[1 2 3 4 5] <class 'numpy.ndarray'>\n"
     ]
    }
   ],
   "source": [
    "a = np.array(lst)\n",
    "print(a, type(a))"
   ]
  },
  {
   "cell_type": "code",
   "execution_count": 5,
   "id": "7ce3fbaf",
   "metadata": {},
   "outputs": [
    {
     "data": {
      "text/plain": [
       "1"
      ]
     },
     "execution_count": 5,
     "metadata": {},
     "output_type": "execute_result"
    }
   ],
   "source": [
    "a.ndim"
   ]
  },
  {
   "cell_type": "markdown",
   "id": "a0aa03d9",
   "metadata": {},
   "source": [
    "### Version "
   ]
  },
  {
   "cell_type": "code",
   "execution_count": 6,
   "id": "85a30e09",
   "metadata": {},
   "outputs": [
    {
     "data": {
      "text/plain": [
       "'1.24.3'"
      ]
     },
     "execution_count": 6,
     "metadata": {},
     "output_type": "execute_result"
    }
   ],
   "source": [
    "np.__version__"
   ]
  },
  {
   "cell_type": "markdown",
   "id": "6ce7d4cf",
   "metadata": {},
   "source": [
    "### How to install numpy ?"
   ]
  },
  {
   "cell_type": "code",
   "execution_count": 7,
   "id": "d11c7fbb",
   "metadata": {},
   "outputs": [
    {
     "name": "stdout",
     "output_type": "stream",
     "text": [
      "Requirement already satisfied: Numpy in c:\\users\\mayank\\anaconda3\\lib\\site-packages (1.24.3)Note: you may need to restart the kernel to use updated packages.\n",
      "\n"
     ]
    }
   ],
   "source": [
    "pip install Numpy"
   ]
  },
  {
   "cell_type": "markdown",
   "id": "3c9c7746",
   "metadata": {},
   "source": [
    "##### conda update numpy in the anaconda prompt"
   ]
  },
  {
   "cell_type": "markdown",
   "id": "63edbec3",
   "metadata": {},
   "source": [
    "### Array \n",
    "\n",
    "- An array is a collection of homogenous elements (same datatype elements)"
   ]
  },
  {
   "cell_type": "code",
   "execution_count": 8,
   "id": "5a0c0629",
   "metadata": {},
   "outputs": [
    {
     "data": {
      "text/plain": [
       "array([ 1,  2,  3,  4,  5,  6,  7,  8,  9, 10])"
      ]
     },
     "execution_count": 8,
     "metadata": {},
     "output_type": "execute_result"
    }
   ],
   "source": [
    "lst = [1,2,3,4,5,6,7,8,9,10]\n",
    "arr = np.array(lst)\n",
    "arr"
   ]
  },
  {
   "cell_type": "code",
   "execution_count": 9,
   "id": "88fde57e",
   "metadata": {},
   "outputs": [
    {
     "data": {
      "text/plain": [
       "numpy.ndarray"
      ]
     },
     "execution_count": 9,
     "metadata": {},
     "output_type": "execute_result"
    }
   ],
   "source": [
    "type(arr)"
   ]
  },
  {
   "cell_type": "markdown",
   "id": "e7bc98cd",
   "metadata": {},
   "source": [
    "### List vs Array \n",
    "\n",
    "- With the help of array, we can easily perform some operations that we could not easily perform over the list \n",
    "- Arrays are faster as compared to the list"
   ]
  },
  {
   "cell_type": "code",
   "execution_count": 10,
   "id": "334864fb",
   "metadata": {},
   "outputs": [
    {
     "data": {
      "text/plain": [
       "[1, 2, 3, 4, 5, 6, 7, 8, 9, 10]"
      ]
     },
     "execution_count": 10,
     "metadata": {},
     "output_type": "execute_result"
    }
   ],
   "source": [
    "lst = [i for i in range(1,11)]\n",
    "lst"
   ]
  },
  {
   "cell_type": "code",
   "execution_count": 11,
   "id": "4cb3781c",
   "metadata": {},
   "outputs": [
    {
     "name": "stdout",
     "output_type": "stream",
     "text": [
      "[5, 10, 15, 20, 25, 30, 35, 40, 45, 50]\n"
     ]
    }
   ],
   "source": [
    "# Multiple each element of this list with a number\n",
    "\n",
    "for i in range(len(lst)):\n",
    "    lst[i] *= 5\n",
    "\n",
    "print(lst)"
   ]
  },
  {
   "cell_type": "code",
   "execution_count": 13,
   "id": "a8da9cfb",
   "metadata": {},
   "outputs": [
    {
     "data": {
      "text/plain": [
       "array([ 5, 10, 15, 20, 25, 30, 35, 40, 45, 50])"
      ]
     },
     "execution_count": 13,
     "metadata": {},
     "output_type": "execute_result"
    }
   ],
   "source": [
    "# multiple each element of the array with a number\n",
    "\n",
    "lst = [i for i in range(1,11)]\n",
    "arr = np.array(lst)\n",
    "arr = arr*5\n",
    "arr"
   ]
  },
  {
   "cell_type": "markdown",
   "id": "8b369255",
   "metadata": {},
   "source": [
    "### Array are faster than list"
   ]
  },
  {
   "cell_type": "code",
   "execution_count": 14,
   "id": "503212b5",
   "metadata": {},
   "outputs": [],
   "source": [
    "import time "
   ]
  },
  {
   "cell_type": "code",
   "execution_count": 15,
   "id": "86c8451f",
   "metadata": {},
   "outputs": [
    {
     "name": "stdout",
     "output_type": "stream",
     "text": [
      "0.005502462387084961\n"
     ]
    }
   ],
   "source": [
    "st = time.time()\n",
    "\n",
    "lst = [i*5 for i in range(100000)]\n",
    "\n",
    "end = time.time()\n",
    "\n",
    "tt = end-st\n",
    "print(tt)"
   ]
  },
  {
   "cell_type": "code",
   "execution_count": 16,
   "id": "4daab84d",
   "metadata": {},
   "outputs": [
    {
     "name": "stdout",
     "output_type": "stream",
     "text": [
      "0.002833843231201172\n"
     ]
    }
   ],
   "source": [
    "st = time.time()\n",
    "\n",
    "arr = np.arange(100000)\n",
    "arr = arr*5\n",
    "\n",
    "end = time.time()\n",
    "\n",
    "tt = end-st\n",
    "print(tt)"
   ]
  },
  {
   "cell_type": "markdown",
   "id": "02e19d06",
   "metadata": {},
   "source": [
    "### Why arrays are faster than a list?\n",
    "\n",
    "- On list, we have to use loop to perform some operation over it\n",
    "- Loops makes the process slow \n",
    "- Arrays use vectorised operation by using array broadcasting and this process is much faster than loops\n",
    "- A list is a collection of heterogenous elements\n",
    "- A list has to store a lot of information for each element seperately because each element behaves differently in a list\n",
    "- This is the main reason that makes the process slow\n",
    "- An array is a collection of homogenous elements, it does not store extra information for each element seperately"
   ]
  },
  {
   "cell_type": "code",
   "execution_count": null,
   "id": "43eb1b6f",
   "metadata": {},
   "outputs": [],
   "source": [
    "v = (ai+bj+ck)*5\n",
    "v = (ai+bj+ck)*(5i+5j+5k)\n",
    "v = (5a, 5b, 5c)\n",
    "\n",
    "i.i = 1, j.j = 1, k.k = 1 but i.j = 0, j.k = 0 i.k = 0"
   ]
  },
  {
   "cell_type": "markdown",
   "id": "e709ef9c",
   "metadata": {},
   "source": [
    "### Array upcasting\n",
    "\n",
    "- When we pass heterogeous elements in an array, then it converts all the elements to one datatype and this process is called array upcasting\n",
    "\n",
    "##### int<float<complex<string<object"
   ]
  },
  {
   "cell_type": "code",
   "execution_count": 17,
   "id": "07e5ecd5",
   "metadata": {},
   "outputs": [
    {
     "data": {
      "text/plain": [
       "array([1, 2, 3, 4, 5])"
      ]
     },
     "execution_count": 17,
     "metadata": {},
     "output_type": "execute_result"
    }
   ],
   "source": [
    "arr = np.array([1,2,3,4,5])\n",
    "arr"
   ]
  },
  {
   "cell_type": "code",
   "execution_count": 18,
   "id": "a3ea61b2",
   "metadata": {},
   "outputs": [
    {
     "data": {
      "text/plain": [
       "dtype('int32')"
      ]
     },
     "execution_count": 18,
     "metadata": {},
     "output_type": "execute_result"
    }
   ],
   "source": [
    "arr.dtype"
   ]
  },
  {
   "cell_type": "code",
   "execution_count": 19,
   "id": "fbe44845",
   "metadata": {},
   "outputs": [
    {
     "data": {
      "text/plain": [
       "array([1., 2., 3., 4., 5.])"
      ]
     },
     "execution_count": 19,
     "metadata": {},
     "output_type": "execute_result"
    }
   ],
   "source": [
    "arr = np.array([1,2.0,3,4,5])\n",
    "arr"
   ]
  },
  {
   "cell_type": "code",
   "execution_count": 20,
   "id": "38fb3bf0",
   "metadata": {},
   "outputs": [
    {
     "data": {
      "text/plain": [
       "dtype('float64')"
      ]
     },
     "execution_count": 20,
     "metadata": {},
     "output_type": "execute_result"
    }
   ],
   "source": [
    "arr.dtype"
   ]
  },
  {
   "cell_type": "code",
   "execution_count": 21,
   "id": "b09ff0a5",
   "metadata": {},
   "outputs": [
    {
     "data": {
      "text/plain": [
       "array([1.+0.j, 2.+0.j, 3.+9.j, 4.+0.j, 5.+0.j])"
      ]
     },
     "execution_count": 21,
     "metadata": {},
     "output_type": "execute_result"
    }
   ],
   "source": [
    "arr = np.array([1,2.0,3+9j,4,5])\n",
    "arr"
   ]
  },
  {
   "cell_type": "code",
   "execution_count": 22,
   "id": "30895201",
   "metadata": {},
   "outputs": [
    {
     "data": {
      "text/plain": [
       "dtype('complex128')"
      ]
     },
     "execution_count": 22,
     "metadata": {},
     "output_type": "execute_result"
    }
   ],
   "source": [
    "arr.dtype"
   ]
  },
  {
   "cell_type": "code",
   "execution_count": 24,
   "id": "4504f326",
   "metadata": {},
   "outputs": [
    {
     "data": {
      "text/plain": [
       "array(['1', '2.0', '(3+9j)', '4', '5'], dtype='<U64')"
      ]
     },
     "execution_count": 24,
     "metadata": {},
     "output_type": "execute_result"
    }
   ],
   "source": [
    "arr = np.array([1,2.0,3+9j,'4',5])\n",
    "arr"
   ]
  },
  {
   "cell_type": "code",
   "execution_count": 25,
   "id": "a3eb501a",
   "metadata": {},
   "outputs": [
    {
     "data": {
      "text/plain": [
       "dtype('<U64')"
      ]
     },
     "execution_count": 25,
     "metadata": {},
     "output_type": "execute_result"
    }
   ],
   "source": [
    "arr.dtype"
   ]
  },
  {
   "cell_type": "code",
   "execution_count": 26,
   "id": "313aa3a6",
   "metadata": {},
   "outputs": [
    {
     "data": {
      "text/plain": [
       "array([1, 2.0, (3+9j), '4', 5], dtype=object)"
      ]
     },
     "execution_count": 26,
     "metadata": {},
     "output_type": "execute_result"
    }
   ],
   "source": [
    "arr = np.array([1,2.0,3+9j,'4',5], dtype = object)\n",
    "arr"
   ]
  },
  {
   "cell_type": "code",
   "execution_count": 27,
   "id": "7f1208c3",
   "metadata": {},
   "outputs": [
    {
     "name": "stdout",
     "output_type": "stream",
     "text": [
      "1 <class 'int'>\n",
      "2.0 <class 'float'>\n",
      "(3+9j) <class 'complex'>\n",
      "4 <class 'str'>\n",
      "5 <class 'int'>\n"
     ]
    }
   ],
   "source": [
    "for i in arr:\n",
    "    print(i, type(i))"
   ]
  },
  {
   "cell_type": "code",
   "execution_count": 28,
   "id": "4b6b4767",
   "metadata": {},
   "outputs": [
    {
     "data": {
      "text/plain": [
       "dtype('O')"
      ]
     },
     "execution_count": 28,
     "metadata": {},
     "output_type": "execute_result"
    }
   ],
   "source": [
    "arr.dtype"
   ]
  },
  {
   "cell_type": "markdown",
   "id": "7c2e7efb",
   "metadata": {},
   "source": [
    "### Creating different kinds of array "
   ]
  },
  {
   "cell_type": "markdown",
   "id": "6253be60",
   "metadata": {},
   "source": [
    "### np.arange()\n",
    "\n",
    "- it creates an array of numbers\n",
    "\n",
    "Syntax:\n",
    "        \n",
    "        np.arange(start, stop, step_size)\n",
    "        stop value - excluded\n",
    "        step-size = 1"
   ]
  },
  {
   "cell_type": "code",
   "execution_count": 32,
   "id": "62e8531d",
   "metadata": {},
   "outputs": [
    {
     "data": {
      "text/plain": [
       "array([ 1,  2,  3,  4,  5,  6,  7,  8,  9, 10])"
      ]
     },
     "execution_count": 32,
     "metadata": {},
     "output_type": "execute_result"
    }
   ],
   "source": [
    "# Create an array that has number for 1 to 10\n",
    "\n",
    "arr = np.arange(1,11,1)\n",
    "arr"
   ]
  },
  {
   "cell_type": "code",
   "execution_count": 33,
   "id": "8dd3d2bb",
   "metadata": {},
   "outputs": [
    {
     "data": {
      "text/plain": [
       "array([ 1,  2,  3,  4,  5,  6,  7,  8,  9, 10])"
      ]
     },
     "execution_count": 33,
     "metadata": {},
     "output_type": "execute_result"
    }
   ],
   "source": [
    "lst = [i for i in range(1,11,1)]\n",
    "arr = np.array(lst)\n",
    "arr"
   ]
  },
  {
   "cell_type": "markdown",
   "id": "05725ffa",
   "metadata": {},
   "source": [
    "### np.linspace\n",
    "\n",
    "- It creates an array of equally spaced values within a range of values \n",
    "\n",
    "Syntax:\n",
    "    \n",
    "    np.linspace(start, stop, number of values)\n",
    "    \n",
    "    By default, in linspace both my start and stop are included \n",
    "    By default, linspace will return the answer in float"
   ]
  },
  {
   "cell_type": "code",
   "execution_count": 34,
   "id": "b27b0742",
   "metadata": {},
   "outputs": [
    {
     "data": {
      "text/plain": [
       "array([1. , 1.5, 2. , 2.5, 3. ])"
      ]
     },
     "execution_count": 34,
     "metadata": {},
     "output_type": "execute_result"
    }
   ],
   "source": [
    "# Create an array of 5 elements equally spaced from each other between 1 and 3\n",
    "\n",
    "arr = np.linspace(1,3,5)\n",
    "arr"
   ]
  },
  {
   "cell_type": "code",
   "execution_count": 35,
   "id": "5d927d46",
   "metadata": {},
   "outputs": [
    {
     "data": {
      "text/plain": [
       "array([1.        , 1.04081633, 1.08163265, 1.12244898, 1.16326531,\n",
       "       1.20408163, 1.24489796, 1.28571429, 1.32653061, 1.36734694,\n",
       "       1.40816327, 1.44897959, 1.48979592, 1.53061224, 1.57142857,\n",
       "       1.6122449 , 1.65306122, 1.69387755, 1.73469388, 1.7755102 ,\n",
       "       1.81632653, 1.85714286, 1.89795918, 1.93877551, 1.97959184,\n",
       "       2.02040816, 2.06122449, 2.10204082, 2.14285714, 2.18367347,\n",
       "       2.2244898 , 2.26530612, 2.30612245, 2.34693878, 2.3877551 ,\n",
       "       2.42857143, 2.46938776, 2.51020408, 2.55102041, 2.59183673,\n",
       "       2.63265306, 2.67346939, 2.71428571, 2.75510204, 2.79591837,\n",
       "       2.83673469, 2.87755102, 2.91836735, 2.95918367, 3.        ])"
      ]
     },
     "execution_count": 35,
     "metadata": {},
     "output_type": "execute_result"
    }
   ],
   "source": [
    "# Create an array of 50 elements equally spaced from each other between 1 and 3\n",
    "\n",
    "arr = np.linspace(1,3,50)\n",
    "arr"
   ]
  },
  {
   "cell_type": "code",
   "execution_count": 36,
   "id": "a53825d6",
   "metadata": {},
   "outputs": [
    {
     "data": {
      "text/plain": [
       "0.04081632000000002"
      ]
     },
     "execution_count": 36,
     "metadata": {},
     "output_type": "execute_result"
    }
   ],
   "source": [
    "1.08163265-1.04081633"
   ]
  },
  {
   "cell_type": "code",
   "execution_count": 37,
   "id": "88bac15c",
   "metadata": {},
   "outputs": [
    {
     "data": {
      "text/plain": [
       "0.040816329999999956"
      ]
     },
     "execution_count": 37,
     "metadata": {},
     "output_type": "execute_result"
    }
   ],
   "source": [
    "1.04081633-1"
   ]
  },
  {
   "cell_type": "code",
   "execution_count": 38,
   "id": "877bf1bf",
   "metadata": {},
   "outputs": [
    {
     "data": {
      "text/plain": [
       "array([  1.        ,   3.02040816,   5.04081633,   7.06122449,\n",
       "         9.08163265,  11.10204082,  13.12244898,  15.14285714,\n",
       "        17.16326531,  19.18367347,  21.20408163,  23.2244898 ,\n",
       "        25.24489796,  27.26530612,  29.28571429,  31.30612245,\n",
       "        33.32653061,  35.34693878,  37.36734694,  39.3877551 ,\n",
       "        41.40816327,  43.42857143,  45.44897959,  47.46938776,\n",
       "        49.48979592,  51.51020408,  53.53061224,  55.55102041,\n",
       "        57.57142857,  59.59183673,  61.6122449 ,  63.63265306,\n",
       "        65.65306122,  67.67346939,  69.69387755,  71.71428571,\n",
       "        73.73469388,  75.75510204,  77.7755102 ,  79.79591837,\n",
       "        81.81632653,  83.83673469,  85.85714286,  87.87755102,\n",
       "        89.89795918,  91.91836735,  93.93877551,  95.95918367,\n",
       "        97.97959184, 100.        ])"
      ]
     },
     "execution_count": 38,
     "metadata": {},
     "output_type": "execute_result"
    }
   ],
   "source": [
    "# Create an array of 50 elements equally spaced from each other between 1 and 100\n",
    "\n",
    "arr = np.linspace(1,100,50)\n",
    "arr"
   ]
  },
  {
   "cell_type": "markdown",
   "id": "6690beeb",
   "metadata": {},
   "source": [
    "### np.zeros\n",
    "\n",
    "- It returns an array of the given shape where all the elements in the array are zeros \n",
    "\n",
    "Syntax:\n",
    "    \n",
    "    np.zeros((row, column))\n",
    "    \n",
    "    By default, it will return answer in flaot"
   ]
  },
  {
   "cell_type": "code",
   "execution_count": 45,
   "id": "448b8a03",
   "metadata": {},
   "outputs": [
    {
     "data": {
      "text/plain": [
       "array([[0., 0., 0.],\n",
       "       [0., 0., 0.],\n",
       "       [0., 0., 0.]])"
      ]
     },
     "execution_count": 45,
     "metadata": {},
     "output_type": "execute_result"
    }
   ],
   "source": [
    "# create a 3*3 matrix (3 rows and 3 columns) having all the values as 0 \n",
    "\n",
    "arr = np.zeros((3,3))\n",
    "arr"
   ]
  },
  {
   "cell_type": "code",
   "execution_count": 43,
   "id": "ea916cbe",
   "metadata": {},
   "outputs": [
    {
     "data": {
      "text/plain": [
       "array([[0, 0, 0],\n",
       "       [0, 0, 0],\n",
       "       [0, 0, 0]])"
      ]
     },
     "execution_count": 43,
     "metadata": {},
     "output_type": "execute_result"
    }
   ],
   "source": [
    "arr = np.zeros((3,3), dtype = int)\n",
    "arr"
   ]
  },
  {
   "cell_type": "markdown",
   "id": "7c8fa84b",
   "metadata": {},
   "source": [
    "### np.ones\n",
    "\n",
    "- It returns an array of the given shape where all the elements in the array are ones\n",
    "\n",
    "Syntax:\n",
    "    \n",
    "    np.ones((row, column))\n",
    "    \n",
    "    By default, it will return answer in flaot"
   ]
  },
  {
   "cell_type": "code",
   "execution_count": 47,
   "id": "e91e597a",
   "metadata": {},
   "outputs": [
    {
     "data": {
      "text/plain": [
       "array([[1., 1., 1.],\n",
       "       [1., 1., 1.],\n",
       "       [1., 1., 1.],\n",
       "       [1., 1., 1.]])"
      ]
     },
     "execution_count": 47,
     "metadata": {},
     "output_type": "execute_result"
    }
   ],
   "source": [
    "# Create a 4*3 matrix with all the elements inside the array as 1's\n",
    "\n",
    "arr = np.ones((4,3))\n",
    "arr"
   ]
  },
  {
   "cell_type": "code",
   "execution_count": 48,
   "id": "29a02c40",
   "metadata": {},
   "outputs": [
    {
     "data": {
      "text/plain": [
       "array([[1, 1, 1],\n",
       "       [1, 1, 1],\n",
       "       [1, 1, 1],\n",
       "       [1, 1, 1]])"
      ]
     },
     "execution_count": 48,
     "metadata": {},
     "output_type": "execute_result"
    }
   ],
   "source": [
    "arr = np.ones((4,3), dtype = int)\n",
    "arr"
   ]
  },
  {
   "cell_type": "markdown",
   "id": "960ae0c5",
   "metadata": {},
   "source": [
    "### np.full()\n",
    "\n",
    "- It returns an array of the given shape and a given a value \n",
    "\n",
    "Syntax:\n",
    "    \n",
    "    np.full((rows, column), value)"
   ]
  },
  {
   "cell_type": "code",
   "execution_count": 49,
   "id": "b4da1480",
   "metadata": {},
   "outputs": [
    {
     "data": {
      "text/plain": [
       "array([[5, 5, 5],\n",
       "       [5, 5, 5],\n",
       "       [5, 5, 5]])"
      ]
     },
     "execution_count": 49,
     "metadata": {},
     "output_type": "execute_result"
    }
   ],
   "source": [
    "# create a 3*3 matrix having all the elements value as 5\n",
    "\n",
    "arr = np.full((3,3), 5)\n",
    "arr"
   ]
  },
  {
   "cell_type": "code",
   "execution_count": 50,
   "id": "785d51fa",
   "metadata": {},
   "outputs": [
    {
     "data": {
      "text/plain": [
       "array([[5., 5., 5.],\n",
       "       [5., 5., 5.],\n",
       "       [5., 5., 5.]])"
      ]
     },
     "execution_count": 50,
     "metadata": {},
     "output_type": "execute_result"
    }
   ],
   "source": [
    "arr = np.full((3,3), 5.0)\n",
    "arr"
   ]
  },
  {
   "cell_type": "code",
   "execution_count": 51,
   "id": "21df8043",
   "metadata": {},
   "outputs": [
    {
     "data": {
      "text/plain": [
       "array([[5.+9.j, 5.+9.j, 5.+9.j],\n",
       "       [5.+9.j, 5.+9.j, 5.+9.j],\n",
       "       [5.+9.j, 5.+9.j, 5.+9.j]])"
      ]
     },
     "execution_count": 51,
     "metadata": {},
     "output_type": "execute_result"
    }
   ],
   "source": [
    "arr = np.full((3,3), 5.0+9j)\n",
    "arr"
   ]
  },
  {
   "cell_type": "code",
   "execution_count": 55,
   "id": "d15e755a",
   "metadata": {},
   "outputs": [
    {
     "data": {
      "text/plain": [
       "array([[5, 5, 5],\n",
       "       [5, 5, 5],\n",
       "       [5, 5, 5]])"
      ]
     },
     "execution_count": 55,
     "metadata": {},
     "output_type": "execute_result"
    }
   ],
   "source": [
    "# create a 3*3 matrix having all the values a 5\n",
    "\n",
    "arr = (np.ones((3,3), dtype = int))*5\n",
    "arr"
   ]
  },
  {
   "cell_type": "markdown",
   "id": "c9a4e077",
   "metadata": {},
   "source": [
    "### np.eye()\n",
    "\n",
    "- It returns an identity matrix\n",
    "- In a an identity matrix, the diagonal's elements are going to 1's and the non-diagonal elements are 0's\n",
    "\n",
    "Syntax:\n",
    "    \n",
    "    np.eye(rows, columns)"
   ]
  },
  {
   "cell_type": "code",
   "execution_count": 56,
   "id": "036e9dc8",
   "metadata": {},
   "outputs": [
    {
     "data": {
      "text/plain": [
       "array([[1., 0., 0.],\n",
       "       [0., 1., 0.],\n",
       "       [0., 0., 1.],\n",
       "       [0., 0., 0.]])"
      ]
     },
     "execution_count": 56,
     "metadata": {},
     "output_type": "execute_result"
    }
   ],
   "source": [
    "arr = np.eye(4,3)\n",
    "arr"
   ]
  },
  {
   "cell_type": "code",
   "execution_count": 57,
   "id": "797486da",
   "metadata": {},
   "outputs": [
    {
     "data": {
      "text/plain": [
       "array([[1., 0., 0., 0.],\n",
       "       [0., 1., 0., 0.],\n",
       "       [0., 0., 1., 0.],\n",
       "       [0., 0., 0., 1.]])"
      ]
     },
     "execution_count": 57,
     "metadata": {},
     "output_type": "execute_result"
    }
   ],
   "source": [
    "# create a 4*4 identity matrix\n",
    "\n",
    "arr = np.eye(4,4)\n",
    "arr"
   ]
  },
  {
   "cell_type": "code",
   "execution_count": 62,
   "id": "9af0d710",
   "metadata": {},
   "outputs": [
    {
     "data": {
      "text/plain": [
       "array([[1, 0, 0, 0],\n",
       "       [0, 1, 0, 0],\n",
       "       [0, 0, 1, 0],\n",
       "       [0, 0, 0, 1]])"
      ]
     },
     "execution_count": 62,
     "metadata": {},
     "output_type": "execute_result"
    }
   ],
   "source": [
    "# create a 4*4 identity matrix\n",
    "\n",
    "arr = np.eye(4,4, dtype = int)\n",
    "arr"
   ]
  },
  {
   "cell_type": "markdown",
   "id": "cd9e31f9",
   "metadata": {},
   "source": [
    "### np.zeros_like()\n",
    "\n",
    "- It will return an array of 0's of the given shape\n"
   ]
  },
  {
   "cell_type": "code",
   "execution_count": 64,
   "id": "bdbf9ad7",
   "metadata": {},
   "outputs": [
    {
     "data": {
      "text/plain": [
       "array([[1, 2, 3],\n",
       "       [4, 5, 6]])"
      ]
     },
     "execution_count": 64,
     "metadata": {},
     "output_type": "execute_result"
    }
   ],
   "source": [
    "arr = np.array([[1,2,3], [4,5,6]])\n",
    "arr"
   ]
  },
  {
   "cell_type": "code",
   "execution_count": 65,
   "id": "8d745d19",
   "metadata": {},
   "outputs": [
    {
     "data": {
      "text/plain": [
       "array([[0, 0, 0],\n",
       "       [0, 0, 0]])"
      ]
     },
     "execution_count": 65,
     "metadata": {},
     "output_type": "execute_result"
    }
   ],
   "source": [
    "arr = np.zeros_like(arr)\n",
    "arr"
   ]
  },
  {
   "cell_type": "markdown",
   "id": "b4ae94da",
   "metadata": {},
   "source": [
    "### np.ones_like()\n",
    "\n",
    "- It will return an array of 1's of the given shape"
   ]
  },
  {
   "cell_type": "code",
   "execution_count": 67,
   "id": "d7780894",
   "metadata": {},
   "outputs": [
    {
     "data": {
      "text/plain": [
       "array([[1, 2, 3],\n",
       "       [4, 5, 6]])"
      ]
     },
     "execution_count": 67,
     "metadata": {},
     "output_type": "execute_result"
    }
   ],
   "source": [
    "arr = np.array([[1,2,3], [4,5,6]])\n",
    "arr"
   ]
  },
  {
   "cell_type": "code",
   "execution_count": 68,
   "id": "084e6eaa",
   "metadata": {},
   "outputs": [
    {
     "data": {
      "text/plain": [
       "array([[1, 1, 1],\n",
       "       [1, 1, 1]])"
      ]
     },
     "execution_count": 68,
     "metadata": {},
     "output_type": "execute_result"
    }
   ],
   "source": [
    "arr1 = np.ones_like(arr)\n",
    "arr1"
   ]
  },
  {
   "cell_type": "markdown",
   "id": "811b9fd9",
   "metadata": {},
   "source": [
    "### np.full_like()\n",
    "\n",
    "- It will return an arry of the given shape and a given value\n",
    "\n",
    "Syntax:\n",
    "        \n",
    "        np.full_like(arr, value)"
   ]
  },
  {
   "cell_type": "code",
   "execution_count": 70,
   "id": "40826ba9",
   "metadata": {},
   "outputs": [
    {
     "data": {
      "text/plain": [
       "array([[1, 2, 3],\n",
       "       [4, 5, 6]])"
      ]
     },
     "execution_count": 70,
     "metadata": {},
     "output_type": "execute_result"
    }
   ],
   "source": [
    "arr = np.array([[1,2,3], [4,5,6]])\n",
    "arr"
   ]
  },
  {
   "cell_type": "code",
   "execution_count": 71,
   "id": "61b1b4b3",
   "metadata": {},
   "outputs": [
    {
     "data": {
      "text/plain": [
       "array([[6, 6, 6],\n",
       "       [6, 6, 6]])"
      ]
     },
     "execution_count": 71,
     "metadata": {},
     "output_type": "execute_result"
    }
   ],
   "source": [
    "arr = np.full_like(arr, 6)\n",
    "arr"
   ]
  },
  {
   "cell_type": "markdown",
   "id": "d6dd73a8",
   "metadata": {},
   "source": [
    "### np.diagonal()\n",
    "\n",
    "- It returns the prinicpal diagonal from an array "
   ]
  },
  {
   "cell_type": "code",
   "execution_count": 75,
   "id": "c6d7707e",
   "metadata": {},
   "outputs": [
    {
     "data": {
      "text/plain": [
       "array([35, 25, 83, 60, 75, 33, 90, 60, 52, 37, 43, 40, 80, 40, 40, 22, 70,\n",
       "       29, 30, 92, 14, 22, 53, 86, 19, 96, 82, 20, 13, 30, 13, 83, 89, 78,\n",
       "       51, 14])"
      ]
     },
     "execution_count": 75,
     "metadata": {},
     "output_type": "execute_result"
    }
   ],
   "source": [
    "arr = np.random.randint(10,100,36)\n",
    "arr"
   ]
  },
  {
   "cell_type": "code",
   "execution_count": 76,
   "id": "8cfe56a3",
   "metadata": {},
   "outputs": [
    {
     "data": {
      "text/plain": [
       "array([[35, 25, 83, 60, 75, 33],\n",
       "       [90, 60, 52, 37, 43, 40],\n",
       "       [80, 40, 40, 22, 70, 29],\n",
       "       [30, 92, 14, 22, 53, 86],\n",
       "       [19, 96, 82, 20, 13, 30],\n",
       "       [13, 83, 89, 78, 51, 14]])"
      ]
     },
     "execution_count": 76,
     "metadata": {},
     "output_type": "execute_result"
    }
   ],
   "source": [
    "arr = arr.reshape(6,6)\n",
    "arr"
   ]
  },
  {
   "cell_type": "code",
   "execution_count": 77,
   "id": "1d037edb",
   "metadata": {},
   "outputs": [
    {
     "data": {
      "text/plain": [
       "array([35, 60, 40, 22, 13, 14])"
      ]
     },
     "execution_count": 77,
     "metadata": {},
     "output_type": "execute_result"
    }
   ],
   "source": [
    "z = np.diagonal(arr)\n",
    "z"
   ]
  },
  {
   "cell_type": "code",
   "execution_count": 80,
   "id": "243c6122",
   "metadata": {},
   "outputs": [
    {
     "data": {
      "text/plain": [
       "array([83, 37, 70, 86])"
      ]
     },
     "execution_count": 80,
     "metadata": {},
     "output_type": "execute_result"
    }
   ],
   "source": [
    "z = np.diagonal(arr, offset = 2)\n",
    "z"
   ]
  },
  {
   "cell_type": "code",
   "execution_count": 81,
   "id": "59cc04b8",
   "metadata": {},
   "outputs": [
    {
     "data": {
      "text/plain": [
       "array([30, 96, 89])"
      ]
     },
     "execution_count": 81,
     "metadata": {},
     "output_type": "execute_result"
    }
   ],
   "source": [
    "z = np.diagonal(arr, offset = -3)\n",
    "z"
   ]
  },
  {
   "cell_type": "markdown",
   "id": "8e562123",
   "metadata": {},
   "source": [
    "### np.diag()\n",
    "\n",
    "- it returns a diagonal array \n",
    "- in a diagonal array, the diagonals are non -zero elements rest every element is a zero\n",
    "\n",
    "Syntax:\n",
    "\n",
    "    np.diag(elements that i want to have as diagonals)"
   ]
  },
  {
   "cell_type": "code",
   "execution_count": 82,
   "id": "ef7ea600",
   "metadata": {},
   "outputs": [
    {
     "data": {
      "text/plain": [
       "array([[1, 0, 0, 0, 0, 0, 0],\n",
       "       [0, 2, 0, 0, 0, 0, 0],\n",
       "       [0, 0, 3, 0, 0, 0, 0],\n",
       "       [0, 0, 0, 4, 0, 0, 0],\n",
       "       [0, 0, 0, 0, 5, 0, 0],\n",
       "       [0, 0, 0, 0, 0, 6, 0],\n",
       "       [0, 0, 0, 0, 0, 0, 7]])"
      ]
     },
     "execution_count": 82,
     "metadata": {},
     "output_type": "execute_result"
    }
   ],
   "source": [
    "arr = np.diag([1,2,3,4,5,6,7])\n",
    "arr"
   ]
  },
  {
   "cell_type": "code",
   "execution_count": 83,
   "id": "0409f15f",
   "metadata": {},
   "outputs": [
    {
     "data": {
      "text/plain": [
       "array([[17, 98, 56, 84, 93],\n",
       "       [60, 80, 39, 61, 66],\n",
       "       [10, 53, 13, 54, 16],\n",
       "       [22, 28, 37, 28, 18],\n",
       "       [24, 83, 78, 84, 98]])"
      ]
     },
     "execution_count": 83,
     "metadata": {},
     "output_type": "execute_result"
    }
   ],
   "source": [
    "arr = np.random.randint(10,100,25).reshape(5,5)\n",
    "arr"
   ]
  },
  {
   "cell_type": "code",
   "execution_count": 85,
   "id": "84cd99b0",
   "metadata": {},
   "outputs": [
    {
     "data": {
      "text/plain": [
       "array([[17,  0,  0,  0,  0],\n",
       "       [ 0, 80,  0,  0,  0],\n",
       "       [ 0,  0, 13,  0,  0],\n",
       "       [ 0,  0,  0, 28,  0],\n",
       "       [ 0,  0,  0,  0, 98]])"
      ]
     },
     "execution_count": 85,
     "metadata": {},
     "output_type": "execute_result"
    }
   ],
   "source": [
    "arr1 = np.diag(np.diagonal(arr))\n",
    "arr1"
   ]
  },
  {
   "cell_type": "markdown",
   "id": "3a6007fb",
   "metadata": {},
   "source": [
    "### np.trace()\n",
    "\n",
    "- It returns the sum of the diagonal elements "
   ]
  },
  {
   "cell_type": "code",
   "execution_count": 86,
   "id": "bdea872c",
   "metadata": {},
   "outputs": [
    {
     "data": {
      "text/plain": [
       "array([[34, 30, 93, 56, 25],\n",
       "       [79, 78, 25, 21, 28],\n",
       "       [51, 94, 98, 65, 87],\n",
       "       [61, 97, 48, 76, 23],\n",
       "       [71, 50, 98, 21, 25]])"
      ]
     },
     "execution_count": 86,
     "metadata": {},
     "output_type": "execute_result"
    }
   ],
   "source": [
    "arr = np.random.randint(10,100,25).reshape(5,5)\n",
    "arr"
   ]
  },
  {
   "cell_type": "code",
   "execution_count": 93,
   "id": "92dcb9b9",
   "metadata": {},
   "outputs": [
    {
     "data": {
      "text/plain": [
       "242"
      ]
     },
     "execution_count": 93,
     "metadata": {},
     "output_type": "execute_result"
    }
   ],
   "source": [
    "a = np.trace(arr, offset = -1)\n",
    "a"
   ]
  },
  {
   "cell_type": "code",
   "execution_count": 95,
   "id": "7d5f8f93",
   "metadata": {},
   "outputs": [
    {
     "data": {
      "text/plain": [
       "242"
      ]
     },
     "execution_count": 95,
     "metadata": {},
     "output_type": "execute_result"
    }
   ],
   "source": [
    "b = np.diagonal(arr, offset = -1).sum()\n",
    "b"
   ]
  },
  {
   "cell_type": "markdown",
   "id": "52bcf401",
   "metadata": {},
   "source": [
    "### Attributes \n",
    "\n",
    "- These are the characterstics or properties of an object, which are storing some kind of information in them "
   ]
  },
  {
   "cell_type": "markdown",
   "id": "1445674f",
   "metadata": {},
   "source": [
    "### Shape \n",
    "\n",
    "- This tells us about the shape of array "
   ]
  },
  {
   "cell_type": "code",
   "execution_count": 96,
   "id": "76c96b2b",
   "metadata": {},
   "outputs": [
    {
     "data": {
      "text/plain": [
       "array([0.47363352, 0.00424235, 0.83333729, 0.44979177, 0.12925194,\n",
       "       0.38898215, 0.87866394, 0.18669305, 0.06764751, 0.56196286,\n",
       "       0.10056544, 0.86849104, 0.89109507, 0.90266816, 0.10893365,\n",
       "       0.42899936, 0.72446588, 0.39502107, 0.39672511, 0.78569699,\n",
       "       0.10266587, 0.94489799, 0.97297604, 0.91601493])"
      ]
     },
     "execution_count": 96,
     "metadata": {},
     "output_type": "execute_result"
    }
   ],
   "source": [
    "arr = np.random.random(24) # random.random will generate 24 values between 0 and 1\n",
    "arr"
   ]
  },
  {
   "cell_type": "code",
   "execution_count": 99,
   "id": "3d627dbf",
   "metadata": {},
   "outputs": [
    {
     "data": {
      "text/plain": [
       "(24,)"
      ]
     },
     "execution_count": 99,
     "metadata": {},
     "output_type": "execute_result"
    }
   ],
   "source": [
    "arr.shape"
   ]
  },
  {
   "cell_type": "code",
   "execution_count": 100,
   "id": "ce3c91d8",
   "metadata": {},
   "outputs": [
    {
     "data": {
      "text/plain": [
       "array([[60, 22, 96, 51, 76],\n",
       "       [21, 65, 65, 28, 23],\n",
       "       [68, 77, 27, 46, 72],\n",
       "       [94, 32, 99, 13, 23],\n",
       "       [71, 48, 96, 97, 39]])"
      ]
     },
     "execution_count": 100,
     "metadata": {},
     "output_type": "execute_result"
    }
   ],
   "source": [
    "arr = np.random.randint(10,100,25).reshape(5,5)\n",
    "arr"
   ]
  },
  {
   "cell_type": "code",
   "execution_count": 101,
   "id": "3905199e",
   "metadata": {},
   "outputs": [
    {
     "data": {
      "text/plain": [
       "(5, 5)"
      ]
     },
     "execution_count": 101,
     "metadata": {},
     "output_type": "execute_result"
    }
   ],
   "source": [
    "arr.shape"
   ]
  },
  {
   "cell_type": "markdown",
   "id": "f70b459f",
   "metadata": {},
   "source": [
    "### Reshape \n",
    "\n",
    "- It reshapes an array as per the given shape \n",
    "- It returns a new array of the given shape, it does not make any changes in the existing array"
   ]
  },
  {
   "cell_type": "code",
   "execution_count": 105,
   "id": "c0f0877b",
   "metadata": {},
   "outputs": [
    {
     "data": {
      "text/plain": [
       "array([0.98369635, 0.54550894, 0.709021  , 0.91411086, 0.93198367,\n",
       "       0.4779879 , 0.48964756, 0.89161001, 0.4753533 , 0.44447413,\n",
       "       0.13837145, 0.74412783, 0.22506871, 0.3669813 , 0.36334451,\n",
       "       0.84865891, 0.13664072, 0.82461803, 0.49775566, 0.05762445,\n",
       "       0.77416594, 0.86271795, 0.04049603, 0.87188003, 0.86627779])"
      ]
     },
     "execution_count": 105,
     "metadata": {},
     "output_type": "execute_result"
    }
   ],
   "source": [
    "arr = np.random.random(25) # random.random will generate 24 values between 0 and 1\n",
    "arr"
   ]
  },
  {
   "cell_type": "code",
   "execution_count": 106,
   "id": "b3bd65d6",
   "metadata": {},
   "outputs": [
    {
     "data": {
      "text/plain": [
       "(25,)"
      ]
     },
     "execution_count": 106,
     "metadata": {},
     "output_type": "execute_result"
    }
   ],
   "source": [
    "arr.shape"
   ]
  },
  {
   "cell_type": "code",
   "execution_count": 107,
   "id": "911bd493",
   "metadata": {},
   "outputs": [
    {
     "data": {
      "text/plain": [
       "array([[0.98369635, 0.54550894, 0.709021  , 0.91411086, 0.93198367],\n",
       "       [0.4779879 , 0.48964756, 0.89161001, 0.4753533 , 0.44447413],\n",
       "       [0.13837145, 0.74412783, 0.22506871, 0.3669813 , 0.36334451],\n",
       "       [0.84865891, 0.13664072, 0.82461803, 0.49775566, 0.05762445],\n",
       "       [0.77416594, 0.86271795, 0.04049603, 0.87188003, 0.86627779]])"
      ]
     },
     "execution_count": 107,
     "metadata": {},
     "output_type": "execute_result"
    }
   ],
   "source": [
    "arr1 = arr.reshape(5,5)\n",
    "arr1"
   ]
  },
  {
   "cell_type": "code",
   "execution_count": 108,
   "id": "ad88a88c",
   "metadata": {},
   "outputs": [
    {
     "data": {
      "text/plain": [
       "(5, 5)"
      ]
     },
     "execution_count": 108,
     "metadata": {},
     "output_type": "execute_result"
    }
   ],
   "source": [
    "arr1.shape"
   ]
  },
  {
   "cell_type": "code",
   "execution_count": 109,
   "id": "d41de5f9",
   "metadata": {},
   "outputs": [
    {
     "ename": "ValueError",
     "evalue": "cannot reshape array of size 25 into shape (5,6)",
     "output_type": "error",
     "traceback": [
      "\u001b[1;31m---------------------------------------------------------------------------\u001b[0m",
      "\u001b[1;31mValueError\u001b[0m                                Traceback (most recent call last)",
      "Cell \u001b[1;32mIn[109], line 1\u001b[0m\n\u001b[1;32m----> 1\u001b[0m arr1 \u001b[38;5;241m=\u001b[39m arr\u001b[38;5;241m.\u001b[39mreshape(\u001b[38;5;241m5\u001b[39m,\u001b[38;5;241m6\u001b[39m)\n\u001b[0;32m      2\u001b[0m arr1\n",
      "\u001b[1;31mValueError\u001b[0m: cannot reshape array of size 25 into shape (5,6)"
     ]
    }
   ],
   "source": [
    "arr1 = arr.reshape(5,6)\n",
    "arr1"
   ]
  },
  {
   "cell_type": "code",
   "execution_count": 110,
   "id": "d7a67eda",
   "metadata": {
    "scrolled": true
   },
   "outputs": [
    {
     "data": {
      "text/plain": [
       "array([0.49111611, 0.73049864, 0.70656864, 0.72034008, 0.21436307,\n",
       "       0.40092756, 0.33007038, 0.29142874, 0.16515129, 0.34797384,\n",
       "       0.21459067, 0.15660914])"
      ]
     },
     "execution_count": 110,
     "metadata": {},
     "output_type": "execute_result"
    }
   ],
   "source": [
    "arr = np.random.random(12) # random.random will generate 24 values between 0 and 1\n",
    "arr"
   ]
  },
  {
   "cell_type": "code",
   "execution_count": 116,
   "id": "01c14ec5",
   "metadata": {
    "scrolled": true
   },
   "outputs": [
    {
     "data": {
      "text/plain": [
       "(12,)"
      ]
     },
     "execution_count": 116,
     "metadata": {},
     "output_type": "execute_result"
    }
   ],
   "source": [
    "arr.shape"
   ]
  },
  {
   "cell_type": "code",
   "execution_count": 117,
   "id": "7b85742d",
   "metadata": {},
   "outputs": [
    {
     "data": {
      "text/plain": [
       "1"
      ]
     },
     "execution_count": 117,
     "metadata": {},
     "output_type": "execute_result"
    }
   ],
   "source": [
    "arr.ndim"
   ]
  },
  {
   "cell_type": "code",
   "execution_count": 111,
   "id": "1728ab24",
   "metadata": {},
   "outputs": [
    {
     "data": {
      "text/plain": [
       "array([[0.49111611, 0.73049864, 0.70656864, 0.72034008, 0.21436307,\n",
       "        0.40092756],\n",
       "       [0.33007038, 0.29142874, 0.16515129, 0.34797384, 0.21459067,\n",
       "        0.15660914]])"
      ]
     },
     "execution_count": 111,
     "metadata": {},
     "output_type": "execute_result"
    }
   ],
   "source": [
    "arr1 = arr.reshape(2,6)\n",
    "arr1"
   ]
  },
  {
   "cell_type": "code",
   "execution_count": 112,
   "id": "a2686995",
   "metadata": {},
   "outputs": [
    {
     "data": {
      "text/plain": [
       "array([[0.49111611, 0.73049864, 0.70656864, 0.72034008],\n",
       "       [0.21436307, 0.40092756, 0.33007038, 0.29142874],\n",
       "       [0.16515129, 0.34797384, 0.21459067, 0.15660914]])"
      ]
     },
     "execution_count": 112,
     "metadata": {},
     "output_type": "execute_result"
    }
   ],
   "source": [
    "arr2 = arr.reshape(3,4)\n",
    "arr2"
   ]
  },
  {
   "cell_type": "code",
   "execution_count": 113,
   "id": "a9b6bf71",
   "metadata": {},
   "outputs": [
    {
     "data": {
      "text/plain": [
       "array([[0.49111611, 0.73049864],\n",
       "       [0.70656864, 0.72034008],\n",
       "       [0.21436307, 0.40092756],\n",
       "       [0.33007038, 0.29142874],\n",
       "       [0.16515129, 0.34797384],\n",
       "       [0.21459067, 0.15660914]])"
      ]
     },
     "execution_count": 113,
     "metadata": {},
     "output_type": "execute_result"
    }
   ],
   "source": [
    "arr3 = arr.reshape(6,2)\n",
    "arr3"
   ]
  },
  {
   "cell_type": "code",
   "execution_count": 114,
   "id": "4035cfec",
   "metadata": {},
   "outputs": [
    {
     "data": {
      "text/plain": [
       "array([[[0.49111611, 0.73049864],\n",
       "        [0.70656864, 0.72034008],\n",
       "        [0.21436307, 0.40092756]],\n",
       "\n",
       "       [[0.33007038, 0.29142874],\n",
       "        [0.16515129, 0.34797384],\n",
       "        [0.21459067, 0.15660914]]])"
      ]
     },
     "execution_count": 114,
     "metadata": {},
     "output_type": "execute_result"
    }
   ],
   "source": [
    "arr4 = arr.reshape(2,3,2)\n",
    "arr4"
   ]
  },
  {
   "cell_type": "code",
   "execution_count": 115,
   "id": "72aed893",
   "metadata": {},
   "outputs": [
    {
     "data": {
      "text/plain": [
       "3"
      ]
     },
     "execution_count": 115,
     "metadata": {},
     "output_type": "execute_result"
    }
   ],
   "source": [
    "arr4.ndim"
   ]
  },
  {
   "cell_type": "markdown",
   "id": "16eee422",
   "metadata": {},
   "source": [
    "### dtype \n",
    "\n",
    "- This tells us about the datatype stored in the array "
   ]
  },
  {
   "cell_type": "code",
   "execution_count": 118,
   "id": "1e6b6cb0",
   "metadata": {},
   "outputs": [
    {
     "data": {
      "text/plain": [
       "array([0.49111611, 0.73049864, 0.70656864, 0.72034008, 0.21436307,\n",
       "       0.40092756, 0.33007038, 0.29142874, 0.16515129, 0.34797384,\n",
       "       0.21459067, 0.15660914])"
      ]
     },
     "execution_count": 118,
     "metadata": {},
     "output_type": "execute_result"
    }
   ],
   "source": [
    "arr"
   ]
  },
  {
   "cell_type": "code",
   "execution_count": 119,
   "id": "07ab113f",
   "metadata": {},
   "outputs": [
    {
     "data": {
      "text/plain": [
       "dtype('float64')"
      ]
     },
     "execution_count": 119,
     "metadata": {},
     "output_type": "execute_result"
    }
   ],
   "source": [
    "arr.dtype"
   ]
  },
  {
   "cell_type": "code",
   "execution_count": 120,
   "id": "8e5871ed",
   "metadata": {},
   "outputs": [
    {
     "data": {
      "text/plain": [
       "array([[30, 59, 30, 82, 83],\n",
       "       [17, 79, 83, 50, 55],\n",
       "       [30, 61, 76, 23, 64],\n",
       "       [13, 75, 37, 52, 21],\n",
       "       [16, 80, 65, 30, 57]])"
      ]
     },
     "execution_count": 120,
     "metadata": {},
     "output_type": "execute_result"
    }
   ],
   "source": [
    "arr = np.random.randint(10,100,25).reshape(5,5)\n",
    "arr"
   ]
  },
  {
   "cell_type": "code",
   "execution_count": 121,
   "id": "4da5fbfb",
   "metadata": {},
   "outputs": [
    {
     "data": {
      "text/plain": [
       "dtype('int32')"
      ]
     },
     "execution_count": 121,
     "metadata": {},
     "output_type": "execute_result"
    }
   ],
   "source": [
    "arr.dtype"
   ]
  },
  {
   "cell_type": "markdown",
   "id": "c32e7685",
   "metadata": {},
   "source": [
    "### Dimensionality \n",
    "\n",
    "- This tells us about the dimension of an array"
   ]
  },
  {
   "cell_type": "code",
   "execution_count": 122,
   "id": "54334deb",
   "metadata": {},
   "outputs": [
    {
     "data": {
      "text/plain": [
       "array([0.15497821, 0.0976501 , 0.91140478, 0.68528132, 0.23659293,\n",
       "       0.89616887, 0.33098804, 0.76637801, 0.44612253, 0.15492973,\n",
       "       0.36875698, 0.32637817])"
      ]
     },
     "execution_count": 122,
     "metadata": {},
     "output_type": "execute_result"
    }
   ],
   "source": [
    "arr = np.random.random(12) # random.random will generate 24 values between 0 and 1\n",
    "arr"
   ]
  },
  {
   "cell_type": "code",
   "execution_count": 123,
   "id": "5118110b",
   "metadata": {},
   "outputs": [
    {
     "data": {
      "text/plain": [
       "1"
      ]
     },
     "execution_count": 123,
     "metadata": {},
     "output_type": "execute_result"
    }
   ],
   "source": [
    "arr.ndim"
   ]
  },
  {
   "cell_type": "code",
   "execution_count": 124,
   "id": "6d3851f6",
   "metadata": {},
   "outputs": [
    {
     "data": {
      "text/plain": [
       "array([[26, 36, 65, 16, 68],\n",
       "       [35, 85, 60, 27, 97],\n",
       "       [14, 55, 96, 86, 54],\n",
       "       [25, 39, 14, 10, 60],\n",
       "       [81, 43, 80, 71, 66]])"
      ]
     },
     "execution_count": 124,
     "metadata": {},
     "output_type": "execute_result"
    }
   ],
   "source": [
    "arr = np.random.randint(10,100,25).reshape(5,5)\n",
    "arr"
   ]
  },
  {
   "cell_type": "code",
   "execution_count": 125,
   "id": "a3991cb7",
   "metadata": {},
   "outputs": [
    {
     "data": {
      "text/plain": [
       "2"
      ]
     },
     "execution_count": 125,
     "metadata": {},
     "output_type": "execute_result"
    }
   ],
   "source": [
    "arr.ndim"
   ]
  },
  {
   "cell_type": "code",
   "execution_count": 126,
   "id": "59198e24",
   "metadata": {},
   "outputs": [
    {
     "data": {
      "text/plain": [
       "array([[[32, 98, 11, 87, 80, 49],\n",
       "        [18, 90, 30, 35, 63, 35],\n",
       "        [88, 21, 45, 82, 87, 51]],\n",
       "\n",
       "       [[45, 38, 45, 23, 38, 79],\n",
       "        [21, 94, 85, 20, 40, 86],\n",
       "        [91, 69, 46, 15, 73, 19]]])"
      ]
     },
     "execution_count": 126,
     "metadata": {},
     "output_type": "execute_result"
    }
   ],
   "source": [
    "arr = np.random.randint(10,100,36).reshape(2,3,6)\n",
    "arr"
   ]
  },
  {
   "cell_type": "code",
   "execution_count": 127,
   "id": "4abe7ab5",
   "metadata": {},
   "outputs": [
    {
     "data": {
      "text/plain": [
       "3"
      ]
     },
     "execution_count": 127,
     "metadata": {},
     "output_type": "execute_result"
    }
   ],
   "source": [
    "arr.ndim"
   ]
  },
  {
   "cell_type": "markdown",
   "id": "6c8c9736",
   "metadata": {},
   "source": [
    "### Create a 1-D array, 2D array and 3D array "
   ]
  },
  {
   "cell_type": "markdown",
   "id": "489312a0",
   "metadata": {},
   "source": [
    "list -- 1D array \n",
    "list of a list or 2 1D array ---- 2D\n",
    "2 2D --- 3D\n",
    "2 3D --- 4D"
   ]
  },
  {
   "cell_type": "code",
   "execution_count": 129,
   "id": "511e1c68",
   "metadata": {},
   "outputs": [
    {
     "data": {
      "text/plain": [
       "array([1, 2, 3, 4])"
      ]
     },
     "execution_count": 129,
     "metadata": {},
     "output_type": "execute_result"
    }
   ],
   "source": [
    "a = np.array([1,2,3,4])\n",
    "a"
   ]
  },
  {
   "cell_type": "code",
   "execution_count": 130,
   "id": "f7210e0f",
   "metadata": {},
   "outputs": [
    {
     "data": {
      "text/plain": [
       "1"
      ]
     },
     "execution_count": 130,
     "metadata": {},
     "output_type": "execute_result"
    }
   ],
   "source": [
    "a.ndim"
   ]
  },
  {
   "cell_type": "code",
   "execution_count": 131,
   "id": "f639a2da",
   "metadata": {},
   "outputs": [
    {
     "data": {
      "text/plain": [
       "array([[1, 2, 3],\n",
       "       [3, 4, 5]])"
      ]
     },
     "execution_count": 131,
     "metadata": {},
     "output_type": "execute_result"
    }
   ],
   "source": [
    "b = np.array([[1,2,3], [3,4,5]])\n",
    "b"
   ]
  },
  {
   "cell_type": "code",
   "execution_count": 132,
   "id": "b302b542",
   "metadata": {},
   "outputs": [
    {
     "data": {
      "text/plain": [
       "2"
      ]
     },
     "execution_count": 132,
     "metadata": {},
     "output_type": "execute_result"
    }
   ],
   "source": [
    "b.ndim"
   ]
  },
  {
   "cell_type": "code",
   "execution_count": 133,
   "id": "b49d8205",
   "metadata": {},
   "outputs": [
    {
     "data": {
      "text/plain": [
       "array([[[1, 2, 3],\n",
       "        [3, 4, 5]],\n",
       "\n",
       "       [[4, 5, 6],\n",
       "        [6, 7, 8]]])"
      ]
     },
     "execution_count": 133,
     "metadata": {},
     "output_type": "execute_result"
    }
   ],
   "source": [
    "c = np.array([[[1,2,3],[3,4,5]],\n",
    "              [[4,5,6], [6,7,8]]])\n",
    "c"
   ]
  },
  {
   "cell_type": "code",
   "execution_count": 134,
   "id": "6b734851",
   "metadata": {},
   "outputs": [
    {
     "data": {
      "text/plain": [
       "3"
      ]
     },
     "execution_count": 134,
     "metadata": {},
     "output_type": "execute_result"
    }
   ],
   "source": [
    "c.ndim"
   ]
  },
  {
   "cell_type": "code",
   "execution_count": 135,
   "id": "2eb640a6",
   "metadata": {},
   "outputs": [
    {
     "data": {
      "text/plain": [
       "(2, 2, 3)"
      ]
     },
     "execution_count": 135,
     "metadata": {},
     "output_type": "execute_result"
    }
   ],
   "source": [
    "c.shape"
   ]
  },
  {
   "cell_type": "code",
   "execution_count": 137,
   "id": "96754bd3",
   "metadata": {},
   "outputs": [
    {
     "data": {
      "text/plain": [
       "array([[[1, 2],\n",
       "        [3, 3]],\n",
       "\n",
       "       [[4, 5],\n",
       "        [4, 5]],\n",
       "\n",
       "       [[6, 6],\n",
       "        [7, 8]]])"
      ]
     },
     "execution_count": 137,
     "metadata": {},
     "output_type": "execute_result"
    }
   ],
   "source": [
    "d = c.reshape(3,2,2)\n",
    "d"
   ]
  },
  {
   "cell_type": "code",
   "execution_count": 138,
   "id": "f65f39ed",
   "metadata": {},
   "outputs": [
    {
     "data": {
      "text/plain": [
       "3"
      ]
     },
     "execution_count": 138,
     "metadata": {},
     "output_type": "execute_result"
    }
   ],
   "source": [
    "d.ndim"
   ]
  },
  {
   "cell_type": "code",
   "execution_count": 139,
   "id": "783bf817",
   "metadata": {},
   "outputs": [
    {
     "data": {
      "text/plain": [
       "(3, 2, 2)"
      ]
     },
     "execution_count": 139,
     "metadata": {},
     "output_type": "execute_result"
    }
   ],
   "source": [
    "d.shape"
   ]
  },
  {
   "cell_type": "code",
   "execution_count": 146,
   "id": "401f3e82",
   "metadata": {},
   "outputs": [],
   "source": [
    "a = np.array([[[1,2,3,4], [4,5,6,7]],\n",
    "     [[1,2,3,5], [4,5,6,8]]])"
   ]
  },
  {
   "cell_type": "code",
   "execution_count": 147,
   "id": "515a9da1",
   "metadata": {},
   "outputs": [
    {
     "data": {
      "text/plain": [
       "array([[[1, 2, 3, 4],\n",
       "        [4, 5, 6, 7]],\n",
       "\n",
       "       [[1, 2, 3, 5],\n",
       "        [4, 5, 6, 8]]])"
      ]
     },
     "execution_count": 147,
     "metadata": {},
     "output_type": "execute_result"
    }
   ],
   "source": [
    "a"
   ]
  },
  {
   "cell_type": "code",
   "execution_count": null,
   "id": "7cb279b1",
   "metadata": {},
   "outputs": [],
   "source": []
  }
 ],
 "metadata": {
  "kernelspec": {
   "display_name": "Python 3 (ipykernel)",
   "language": "python",
   "name": "python3"
  },
  "language_info": {
   "codemirror_mode": {
    "name": "ipython",
    "version": 3
   },
   "file_extension": ".py",
   "mimetype": "text/x-python",
   "name": "python",
   "nbconvert_exporter": "python",
   "pygments_lexer": "ipython3",
   "version": "3.11.5"
  }
 },
 "nbformat": 4,
 "nbformat_minor": 5
}
