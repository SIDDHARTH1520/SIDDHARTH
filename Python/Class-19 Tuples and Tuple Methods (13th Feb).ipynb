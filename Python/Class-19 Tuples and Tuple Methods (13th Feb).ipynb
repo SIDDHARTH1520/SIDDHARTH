{
 "cells": [
  {
   "cell_type": "markdown",
   "id": "06da128e",
   "metadata": {},
   "source": [
    "### Tuples \n",
    "\n",
    "- Anything written inside the () or round brackets are called as tuple\n",
    "- Like list, here the elements are seperated by a comma\n",
    "- A tuple is a container datatype that can have multiple elements or values in it\n",
    "- A tuple can contain heterogenous (different kind) of elements in it\n",
    "- A tuple can also have duplicate value in it \n",
    "- Unlike list, tuple are immutable i.e. we can not modify them, once they are declared."
   ]
  },
  {
   "cell_type": "code",
   "execution_count": 1,
   "id": "c4ea5a95",
   "metadata": {},
   "outputs": [
    {
     "name": "stdout",
     "output_type": "stream",
     "text": [
      "(1, 2, 3, 4, 5) <class 'tuple'>\n"
     ]
    }
   ],
   "source": [
    "t = (1,2,3,4,5)\n",
    "print(t, type(t))"
   ]
  },
  {
   "cell_type": "code",
   "execution_count": 3,
   "id": "16b35ea4",
   "metadata": {},
   "outputs": [
    {
     "name": "stdout",
     "output_type": "stream",
     "text": [
      "1 <class 'int'>\n"
     ]
    }
   ],
   "source": [
    "t = (1)\n",
    "print(t, type(t))"
   ]
  },
  {
   "cell_type": "code",
   "execution_count": 4,
   "id": "b09a3222",
   "metadata": {},
   "outputs": [
    {
     "name": "stdout",
     "output_type": "stream",
     "text": [
      "(1,) <class 'tuple'>\n"
     ]
    }
   ],
   "source": [
    "t = (1,)\n",
    "print(t, type(t))"
   ]
  },
  {
   "cell_type": "code",
   "execution_count": 5,
   "id": "dad27591",
   "metadata": {},
   "outputs": [
    {
     "name": "stdout",
     "output_type": "stream",
     "text": [
      "(1, 2.0, True, (5+8j), 'python', range(0, 5), None, [1, 2, 3], (1, 2, 3), {1: 100, 2: 200}) <class 'tuple'>\n"
     ]
    }
   ],
   "source": [
    "t = (1, 2.0, True, 5+8j, 'python', range(5), None, [1,2,3], (1,2,3), {1:100, 2:200})\n",
    "print(t, type(t))"
   ]
  },
  {
   "cell_type": "markdown",
   "id": "2512f2d5",
   "metadata": {},
   "source": [
    "### List vs Tuple \n",
    "\n",
    "- List are mutable whereas tuple are immutable "
   ]
  },
  {
   "cell_type": "code",
   "execution_count": 6,
   "id": "5329aa0f",
   "metadata": {},
   "outputs": [],
   "source": [
    "lst = [1,2,3,4,5]\n",
    "t = (1,2,3,4,5)"
   ]
  },
  {
   "cell_type": "code",
   "execution_count": 7,
   "id": "79e56960",
   "metadata": {},
   "outputs": [
    {
     "name": "stdout",
     "output_type": "stream",
     "text": [
      "[1, 2, 3, 4, 5] (1, 2, 3, 4, 5)\n"
     ]
    }
   ],
   "source": [
    "print(lst, t)"
   ]
  },
  {
   "cell_type": "code",
   "execution_count": 8,
   "id": "48c73689",
   "metadata": {},
   "outputs": [],
   "source": [
    "# Assigning the 5th index in the list as 0\n",
    "lst[4] = 0"
   ]
  },
  {
   "cell_type": "code",
   "execution_count": 9,
   "id": "280470cc",
   "metadata": {},
   "outputs": [
    {
     "data": {
      "text/plain": [
       "[1, 2, 3, 4, 0]"
      ]
     },
     "execution_count": 9,
     "metadata": {},
     "output_type": "execute_result"
    }
   ],
   "source": [
    "lst"
   ]
  },
  {
   "cell_type": "code",
   "execution_count": 10,
   "id": "da308390",
   "metadata": {},
   "outputs": [
    {
     "ename": "TypeError",
     "evalue": "'tuple' object does not support item assignment",
     "output_type": "error",
     "traceback": [
      "\u001b[1;31m---------------------------------------------------------------------------\u001b[0m",
      "\u001b[1;31mTypeError\u001b[0m                                 Traceback (most recent call last)",
      "Cell \u001b[1;32mIn[10], line 1\u001b[0m\n\u001b[1;32m----> 1\u001b[0m t[\u001b[38;5;241m4\u001b[39m] \u001b[38;5;241m=\u001b[39m \u001b[38;5;241m0\u001b[39m\n",
      "\u001b[1;31mTypeError\u001b[0m: 'tuple' object does not support item assignment"
     ]
    }
   ],
   "source": [
    "t[4] = 0"
   ]
  },
  {
   "cell_type": "code",
   "execution_count": 11,
   "id": "9eaf61ba",
   "metadata": {},
   "outputs": [
    {
     "data": {
      "text/plain": [
       "2498956168464"
      ]
     },
     "execution_count": 11,
     "metadata": {},
     "output_type": "execute_result"
    }
   ],
   "source": [
    "id(t)"
   ]
  },
  {
   "cell_type": "code",
   "execution_count": 14,
   "id": "01d7ddec",
   "metadata": {
    "scrolled": true
   },
   "outputs": [
    {
     "ename": "TypeError",
     "evalue": "can only concatenate tuple (not \"int\") to tuple",
     "output_type": "error",
     "traceback": [
      "\u001b[1;31m---------------------------------------------------------------------------\u001b[0m",
      "\u001b[1;31mTypeError\u001b[0m                                 Traceback (most recent call last)",
      "Cell \u001b[1;32mIn[14], line 1\u001b[0m\n\u001b[1;32m----> 1\u001b[0m t \u001b[38;5;241m=\u001b[39m t[\u001b[38;5;241m0\u001b[39m:\u001b[38;5;241m4\u001b[39m]\u001b[38;5;241m+\u001b[39m(\u001b[38;5;241m0\u001b[39m)\n",
      "\u001b[1;31mTypeError\u001b[0m: can only concatenate tuple (not \"int\") to tuple"
     ]
    }
   ],
   "source": [
    "t = t[0:4]+(0)"
   ]
  },
  {
   "cell_type": "code",
   "execution_count": 17,
   "id": "0bdd9bd5",
   "metadata": {},
   "outputs": [
    {
     "data": {
      "text/plain": [
       "(1, 2, 3, 4, 0)"
      ]
     },
     "execution_count": 17,
     "metadata": {},
     "output_type": "execute_result"
    }
   ],
   "source": [
    "t = t[0:4]+(0,)\n",
    "t"
   ]
  },
  {
   "cell_type": "code",
   "execution_count": 18,
   "id": "d709b4c5",
   "metadata": {},
   "outputs": [
    {
     "data": {
      "text/plain": [
       "2498969851504"
      ]
     },
     "execution_count": 18,
     "metadata": {},
     "output_type": "execute_result"
    }
   ],
   "source": [
    "id(t)"
   ]
  },
  {
   "cell_type": "markdown",
   "id": "3fe68168",
   "metadata": {},
   "source": [
    "### Immutable \n",
    "\n",
    "- We cannot modify the object once the declaration is done\n",
    "- Item assignment is not allowed\n",
    "- If you want to make a change, we have to create a new object for that which means a new memory location is being allocated to the new object and it will be completely different from the previous one"
   ]
  },
  {
   "cell_type": "code",
   "execution_count": 25,
   "id": "5fe02e0c",
   "metadata": {},
   "outputs": [
    {
     "name": "stdout",
     "output_type": "stream",
     "text": [
      "140731431351768 <class 'tuple'>\n",
      "(1,) 2498959176560\n",
      "(1, 2) 2498980664768\n",
      "(1, 2, 3) 2498973468096\n",
      "(1, 2, 3, 4) 2498973361360\n"
     ]
    }
   ],
   "source": [
    "t = (1,2,3,4)\n",
    "new_tuple = ()\n",
    "print(id(new_tuple), type(new_tuple))\n",
    "\n",
    "for i in t:\n",
    "    new_tuple = new_tuple + (i,)\n",
    "    print(new_tuple, id(new_tuple))"
   ]
  },
  {
   "cell_type": "code",
   "execution_count": 21,
   "id": "2cf83f12",
   "metadata": {},
   "outputs": [
    {
     "name": "stdout",
     "output_type": "stream",
     "text": [
      "2498973368080 2498973361520\n"
     ]
    }
   ],
   "source": [
    "print(id(t), id(new_tuple))"
   ]
  },
  {
   "cell_type": "code",
   "execution_count": 22,
   "id": "41a75722",
   "metadata": {},
   "outputs": [
    {
     "name": "stdout",
     "output_type": "stream",
     "text": [
      "2498973938368 2498973938112\n"
     ]
    }
   ],
   "source": [
    "lst = [1,2,3]\n",
    "\n",
    "lst1 = lst+[1]\n",
    "print(id(lst), id(lst1))"
   ]
  },
  {
   "cell_type": "code",
   "execution_count": 23,
   "id": "2a6804e9",
   "metadata": {},
   "outputs": [
    {
     "name": "stdout",
     "output_type": "stream",
     "text": [
      "[1, 2, 3, 1] 2498973938368\n"
     ]
    }
   ],
   "source": [
    "lst.append(1)\n",
    "print(lst, id(lst))"
   ]
  },
  {
   "cell_type": "markdown",
   "id": "2bc83df2",
   "metadata": {},
   "source": [
    "### Operations in Tuples\n",
    "\n",
    "- Length\n",
    "- Concatenation \n",
    "- Repetition \n",
    "- Indexing and Slicing"
   ]
  },
  {
   "cell_type": "markdown",
   "id": "6f61b9c2",
   "metadata": {},
   "source": [
    "### Length \n",
    "\n",
    "- It returns the number of elements inside a tuple"
   ]
  },
  {
   "cell_type": "code",
   "execution_count": 26,
   "id": "c5fb9815",
   "metadata": {},
   "outputs": [],
   "source": [
    "t = (1, 2.0, True, 5+8j, 'python', range(5), None, [1,2,3], (1,2,3), {1:100, 2:200})"
   ]
  },
  {
   "cell_type": "code",
   "execution_count": 27,
   "id": "75e4e074",
   "metadata": {},
   "outputs": [
    {
     "data": {
      "text/plain": [
       "10"
      ]
     },
     "execution_count": 27,
     "metadata": {},
     "output_type": "execute_result"
    }
   ],
   "source": [
    "len(t)"
   ]
  },
  {
   "cell_type": "markdown",
   "id": "3a227ae8",
   "metadata": {},
   "source": [
    "### Concatenation\n",
    "\n",
    "- Joining or adding two or more tuples together are known as concatenation "
   ]
  },
  {
   "cell_type": "code",
   "execution_count": 29,
   "id": "3922d9ac",
   "metadata": {},
   "outputs": [
    {
     "ename": "TypeError",
     "evalue": "can only concatenate tuple (not \"list\") to tuple",
     "output_type": "error",
     "traceback": [
      "\u001b[1;31m---------------------------------------------------------------------------\u001b[0m",
      "\u001b[1;31mTypeError\u001b[0m                                 Traceback (most recent call last)",
      "Cell \u001b[1;32mIn[29], line 4\u001b[0m\n\u001b[0;32m      1\u001b[0m t \u001b[38;5;241m=\u001b[39m (\u001b[38;5;241m1\u001b[39m,\u001b[38;5;241m2\u001b[39m,\u001b[38;5;241m3\u001b[39m,\u001b[38;5;241m4\u001b[39m)\n\u001b[0;32m      2\u001b[0m t_1 \u001b[38;5;241m=\u001b[39m ([\u001b[38;5;241m1\u001b[39m,\u001b[38;5;241m2\u001b[39m,\u001b[38;5;241m3\u001b[39m])\n\u001b[1;32m----> 4\u001b[0m t\u001b[38;5;241m+\u001b[39mt_1\n",
      "\u001b[1;31mTypeError\u001b[0m: can only concatenate tuple (not \"list\") to tuple"
     ]
    }
   ],
   "source": [
    "t = (1,2,3,4)\n",
    "t_1 = ([1,2,3])\n",
    "\n",
    "t+t_1"
   ]
  },
  {
   "cell_type": "code",
   "execution_count": 30,
   "id": "420e5050",
   "metadata": {},
   "outputs": [
    {
     "data": {
      "text/plain": [
       "(1, 2, 3, 4, [1, 2, 3])"
      ]
     },
     "execution_count": 30,
     "metadata": {},
     "output_type": "execute_result"
    }
   ],
   "source": [
    "t = (1,2,3,4)\n",
    "t_1 = ([1,2,3],)\n",
    "\n",
    "t+t_1"
   ]
  },
  {
   "cell_type": "markdown",
   "id": "4c3c6b5a",
   "metadata": {},
   "source": [
    "### Repetition \n",
    "\n",
    "-(*) Operator is used to perform repition over a tuple"
   ]
  },
  {
   "cell_type": "code",
   "execution_count": 31,
   "id": "0d672cc4",
   "metadata": {},
   "outputs": [
    {
     "data": {
      "text/plain": [
       "(1, 2, 3, 4)"
      ]
     },
     "execution_count": 31,
     "metadata": {},
     "output_type": "execute_result"
    }
   ],
   "source": [
    "t "
   ]
  },
  {
   "cell_type": "code",
   "execution_count": 32,
   "id": "e0c11ceb",
   "metadata": {},
   "outputs": [
    {
     "data": {
      "text/plain": [
       "(1, 2, 3, 4, 1, 2, 3, 4, 1, 2, 3, 4, 1, 2, 3, 4)"
      ]
     },
     "execution_count": 32,
     "metadata": {},
     "output_type": "execute_result"
    }
   ],
   "source": [
    "t*4"
   ]
  },
  {
   "cell_type": "markdown",
   "id": "85ee8542",
   "metadata": {},
   "source": [
    "### Indexing and Slicing\n",
    "\n",
    "- A tuple is an ordered collection if data because each element in a tuple is stored at a particular index\n",
    "- A tuple is also called a sequential datatype because it follows indexing\n",
    "- A  tuple supports both +ve and -ve indexing"
   ]
  },
  {
   "cell_type": "markdown",
   "id": "2fe438c6",
   "metadata": {},
   "source": [
    "### Positive Indexing\n",
    "\n",
    "- +ve indexing starts from left to right\n",
    "- By default, start from 0 \n",
    "- the index of the last element in a tuple is going to be len(tuple)-1\n",
    "\n",
    "\n",
    "### Negative Indexing\n",
    "\n",
    "- -ve indexing starts from right to left \n",
    "- By default, it starts with -1\n",
    "- The index of the last element in a tuple in -ve indexing is going to be -len(tuple)"
   ]
  },
  {
   "cell_type": "code",
   "execution_count": 40,
   "id": "1c6e85b0",
   "metadata": {},
   "outputs": [],
   "source": [
    "t = (1, 2.0, True, 5+8j, 'python', range(5), None, [1,2,3], (1,2,3), {1:100, 2:200})"
   ]
  },
  {
   "cell_type": "code",
   "execution_count": 34,
   "id": "3657e0f3",
   "metadata": {},
   "outputs": [
    {
     "data": {
      "text/plain": [
       "1"
      ]
     },
     "execution_count": 34,
     "metadata": {},
     "output_type": "execute_result"
    }
   ],
   "source": [
    "t[0]"
   ]
  },
  {
   "cell_type": "code",
   "execution_count": 35,
   "id": "1e443486",
   "metadata": {},
   "outputs": [
    {
     "data": {
      "text/plain": [
       "{1: 100, 2: 200}"
      ]
     },
     "execution_count": 35,
     "metadata": {},
     "output_type": "execute_result"
    }
   ],
   "source": [
    "t[len(t)-1]"
   ]
  },
  {
   "cell_type": "code",
   "execution_count": 41,
   "id": "be244a50",
   "metadata": {},
   "outputs": [
    {
     "data": {
      "text/plain": [
       "range(0, 5)"
      ]
     },
     "execution_count": 41,
     "metadata": {},
     "output_type": "execute_result"
    }
   ],
   "source": [
    "t[5]"
   ]
  },
  {
   "cell_type": "code",
   "execution_count": 47,
   "id": "b725bbb9",
   "metadata": {},
   "outputs": [
    {
     "ename": "IndexError",
     "evalue": "tuple index out of range",
     "output_type": "error",
     "traceback": [
      "\u001b[1;31m---------------------------------------------------------------------------\u001b[0m",
      "\u001b[1;31mIndexError\u001b[0m                                Traceback (most recent call last)",
      "Cell \u001b[1;32mIn[47], line 1\u001b[0m\n\u001b[1;32m----> 1\u001b[0m t[\u001b[38;5;241m11\u001b[39m]\n",
      "\u001b[1;31mIndexError\u001b[0m: tuple index out of range"
     ]
    }
   ],
   "source": [
    "t[11]"
   ]
  },
  {
   "cell_type": "markdown",
   "id": "a2bf2448",
   "metadata": {},
   "source": [
    "#### - Ve indexing"
   ]
  },
  {
   "cell_type": "code",
   "execution_count": 45,
   "id": "1bea31fa",
   "metadata": {},
   "outputs": [
    {
     "data": {
      "text/plain": [
       "{1: 100, 2: 200}"
      ]
     },
     "execution_count": 45,
     "metadata": {},
     "output_type": "execute_result"
    }
   ],
   "source": [
    "t[-1]"
   ]
  },
  {
   "cell_type": "code",
   "execution_count": 46,
   "id": "59ec584b",
   "metadata": {},
   "outputs": [
    {
     "ename": "IndexError",
     "evalue": "tuple index out of range",
     "output_type": "error",
     "traceback": [
      "\u001b[1;31m---------------------------------------------------------------------------\u001b[0m",
      "\u001b[1;31mIndexError\u001b[0m                                Traceback (most recent call last)",
      "Cell \u001b[1;32mIn[46], line 1\u001b[0m\n\u001b[1;32m----> 1\u001b[0m t[\u001b[38;5;241m-\u001b[39m\u001b[38;5;241m11\u001b[39m]\n",
      "\u001b[1;31mIndexError\u001b[0m: tuple index out of range"
     ]
    }
   ],
   "source": [
    "t[-11]"
   ]
  },
  {
   "cell_type": "markdown",
   "id": "1aab5035",
   "metadata": {},
   "source": [
    "### Slicing \n",
    "\n",
    "    Syntax:\n",
    "    \n",
    "    tuple_name[starting_index: ending_index(n+1): step_size]\n",
    "    \n",
    "    where\n",
    "    Starting index, by default value is 0\n",
    "    Ending index, as it is  excluded so we have to take till the end of the tuple\n",
    "    Step-size, by default will ve 1"
   ]
  },
  {
   "cell_type": "code",
   "execution_count": 53,
   "id": "65b3218c",
   "metadata": {},
   "outputs": [],
   "source": [
    "t = (10,20,30,20,10)"
   ]
  },
  {
   "cell_type": "markdown",
   "id": "a4797003",
   "metadata": {},
   "source": [
    "t = (10,20,30,20,10)\n",
    "                            \n",
    "    \n",
    "                            (10,20,30,20,10)\n",
    "                             -5 -4 -3 -2 -1"
   ]
  },
  {
   "cell_type": "code",
   "execution_count": 49,
   "id": "6265d0a2",
   "metadata": {},
   "outputs": [
    {
     "data": {
      "text/plain": [
       "(20, 30, 20, 10)"
      ]
     },
     "execution_count": 49,
     "metadata": {},
     "output_type": "execute_result"
    }
   ],
   "source": [
    "t[1:]"
   ]
  },
  {
   "cell_type": "code",
   "execution_count": 50,
   "id": "b11f2444",
   "metadata": {},
   "outputs": [
    {
     "data": {
      "text/plain": [
       "(20, 30, 20)"
      ]
     },
     "execution_count": 50,
     "metadata": {},
     "output_type": "execute_result"
    }
   ],
   "source": [
    "t[1:4]"
   ]
  },
  {
   "cell_type": "code",
   "execution_count": 51,
   "id": "6e7c6bea",
   "metadata": {},
   "outputs": [
    {
     "data": {
      "text/plain": [
       "(10, 20, 30, 20, 10)"
      ]
     },
     "execution_count": 51,
     "metadata": {},
     "output_type": "execute_result"
    }
   ],
   "source": [
    "t[::-1]"
   ]
  },
  {
   "cell_type": "code",
   "execution_count": 52,
   "id": "aca2de8c",
   "metadata": {},
   "outputs": [
    {
     "data": {
      "text/plain": [
       "(10, 20, 30, 20)"
      ]
     },
     "execution_count": 52,
     "metadata": {},
     "output_type": "execute_result"
    }
   ],
   "source": [
    "t[-5:-1] # t[-5]+t[-4]+t[-3]+t[-2] 10,20,30,20"
   ]
  },
  {
   "cell_type": "code",
   "execution_count": 54,
   "id": "aef0421c",
   "metadata": {},
   "outputs": [],
   "source": [
    "t = (1, 2.0, True, 5+8j, 'python', range(5), None, [1,2,3], (1,2,3), {1:100, 2:200})"
   ]
  },
  {
   "cell_type": "code",
   "execution_count": 55,
   "id": "d71cda1e",
   "metadata": {},
   "outputs": [
    {
     "data": {
      "text/plain": [
       "(1, 2.0, True, (5+8j), 'python')"
      ]
     },
     "execution_count": 55,
     "metadata": {},
     "output_type": "execute_result"
    }
   ],
   "source": [
    "t[0:5]"
   ]
  },
  {
   "cell_type": "code",
   "execution_count": 56,
   "id": "f02d69da",
   "metadata": {},
   "outputs": [
    {
     "data": {
      "text/plain": [
       "(1,\n",
       " 2.0,\n",
       " True,\n",
       " (5+8j),\n",
       " 'python',\n",
       " range(0, 5),\n",
       " None,\n",
       " [1, 2, 3],\n",
       " (1, 2, 3),\n",
       " {1: 100, 2: 200})"
      ]
     },
     "execution_count": 56,
     "metadata": {},
     "output_type": "execute_result"
    }
   ],
   "source": [
    "t[-len(t):]"
   ]
  },
  {
   "cell_type": "code",
   "execution_count": 57,
   "id": "7c05335e",
   "metadata": {},
   "outputs": [
    {
     "data": {
      "text/plain": [
       "(1, True, 'python', None, (1, 2, 3))"
      ]
     },
     "execution_count": 57,
     "metadata": {},
     "output_type": "execute_result"
    }
   ],
   "source": [
    "t[-len(t)::2]"
   ]
  },
  {
   "cell_type": "markdown",
   "id": "c322d6e6",
   "metadata": {},
   "source": [
    "### How to create a Tuple "
   ]
  },
  {
   "cell_type": "markdown",
   "id": "65725bdb",
   "metadata": {},
   "source": [
    "#### Case-1 When we already know the elements"
   ]
  },
  {
   "cell_type": "code",
   "execution_count": 59,
   "id": "6c1bb553",
   "metadata": {},
   "outputs": [],
   "source": [
    "t = (1, 2.0, True, 5+8j, 'python', range(5), None, [1,2,3], (1,2,3), {1:100, 2:200})"
   ]
  },
  {
   "cell_type": "code",
   "execution_count": 60,
   "id": "308331d4",
   "metadata": {},
   "outputs": [
    {
     "name": "stdout",
     "output_type": "stream",
     "text": [
      "(1, 2.0, True, (5+8j), 'python', range(0, 5), None, [1, 2, 3], (1, 2, 3), {1: 100, 2: 200}) <class 'tuple'>\n"
     ]
    }
   ],
   "source": [
    "print(t, type(t))"
   ]
  },
  {
   "cell_type": "markdown",
   "id": "510e6f6e",
   "metadata": {},
   "source": [
    "#### Case-2 \n",
    "\n",
    "- Typecasting\n",
    "- tuple() function is used to convert an iterable object to a tuple datatype \n",
    "- tuple() function is not applicable on int, float, complex, bool, None"
   ]
  },
  {
   "cell_type": "code",
   "execution_count": 61,
   "id": "370d7ece",
   "metadata": {},
   "outputs": [
    {
     "ename": "TypeError",
     "evalue": "'int' object is not iterable",
     "output_type": "error",
     "traceback": [
      "\u001b[1;31m---------------------------------------------------------------------------\u001b[0m",
      "\u001b[1;31mTypeError\u001b[0m                                 Traceback (most recent call last)",
      "Cell \u001b[1;32mIn[61], line 2\u001b[0m\n\u001b[0;32m      1\u001b[0m a \u001b[38;5;241m=\u001b[39m \u001b[38;5;241m11\u001b[39m\n\u001b[1;32m----> 2\u001b[0m b \u001b[38;5;241m=\u001b[39m \u001b[38;5;28mtuple\u001b[39m(a)\n",
      "\u001b[1;31mTypeError\u001b[0m: 'int' object is not iterable"
     ]
    }
   ],
   "source": [
    "a = 11\n",
    "b = tuple(a)"
   ]
  },
  {
   "cell_type": "code",
   "execution_count": 64,
   "id": "1e6d0d2a",
   "metadata": {},
   "outputs": [
    {
     "name": "stdout",
     "output_type": "stream",
     "text": [
      "('m', 'a', 'y', 'a', 'n', 'k') <class 'tuple'>\n"
     ]
    }
   ],
   "source": [
    "string = 'mayank'\n",
    "b = tuple(string)\n",
    "print(b, type(b))"
   ]
  },
  {
   "cell_type": "markdown",
   "id": "c91e3a70",
   "metadata": {},
   "source": [
    "### Case-3 \n",
    "\n",
    "Using loop "
   ]
  },
  {
   "cell_type": "code",
   "execution_count": 65,
   "id": "b18d8137",
   "metadata": {
    "scrolled": true
   },
   "outputs": [
    {
     "name": "stdout",
     "output_type": "stream",
     "text": [
      "140731431351768 <class 'tuple'>\n",
      "(1,) 2498959175264\n",
      "(1, 2) 2498982117952\n",
      "(1, 2, 3) 2498976150336\n",
      "(1, 2, 3, 4) 2498987168112\n"
     ]
    }
   ],
   "source": [
    "t = (1,2,3,4)\n",
    "new_tuple = ()\n",
    "print(id(new_tuple), type(new_tuple))\n",
    "\n",
    "for i in t:\n",
    "    new_tuple = new_tuple + (i,)\n",
    "    print(new_tuple, id(new_tuple))"
   ]
  },
  {
   "cell_type": "code",
   "execution_count": 74,
   "id": "14631214",
   "metadata": {
    "scrolled": false
   },
   "outputs": [
    {
     "name": "stdout",
     "output_type": "stream",
     "text": [
      "(0,) 2498983742192\n",
      "(0, 1) 2498983471296\n",
      "(0, 1, 2) 2498975734272\n",
      "(0, 1, 2, 3) 2498978317392\n",
      "(0, 1, 2, 3, 4) 2498969847664\n",
      "(0, 1, 2, 3, 4, 5) 2498977602656\n"
     ]
    }
   ],
   "source": [
    "i = 0\n",
    "new_t = ()\n",
    "while i<=5:\n",
    "    new_t += (i,)\n",
    "    print(new_t, id(new_t))\n",
    "    i += 1"
   ]
  },
  {
   "cell_type": "markdown",
   "id": "9823a36f",
   "metadata": {},
   "source": [
    "#### Case-4\n",
    "\n",
    "- Tuple comprehension \n",
    "- Tuple comprehension is easiest way to create a generator object"
   ]
  },
  {
   "cell_type": "code",
   "execution_count": 66,
   "id": "898d45d0",
   "metadata": {},
   "outputs": [
    {
     "name": "stdout",
     "output_type": "stream",
     "text": [
      "<generator object <genexpr> at 0x00000245D69F4EE0>\n"
     ]
    }
   ],
   "source": [
    "t = (i for i in range(1,11))\n",
    "print(t)"
   ]
  },
  {
   "cell_type": "markdown",
   "id": "0ea48a0a",
   "metadata": {},
   "source": [
    "### Case-5\n",
    "\n",
    "Create a tuple using a single element"
   ]
  },
  {
   "cell_type": "code",
   "execution_count": 67,
   "id": "90c94a1e",
   "metadata": {},
   "outputs": [
    {
     "name": "stdout",
     "output_type": "stream",
     "text": [
      "(1,) <class 'tuple'>\n"
     ]
    }
   ],
   "source": [
    "t = (1,)\n",
    "print(t, type(t))"
   ]
  },
  {
   "cell_type": "markdown",
   "id": "863c1d9d",
   "metadata": {},
   "source": [
    "#### Case-6 (Non-convential way)\n",
    "\n",
    "- When we assign multiple values to a single variale, then by default, python stores all the element or value in a a tuple and this process is known as packing the variable "
   ]
  },
  {
   "cell_type": "code",
   "execution_count": 71,
   "id": "218af6a7",
   "metadata": {},
   "outputs": [],
   "source": [
    "a = 10,20,30,40,50,10,20,30 "
   ]
  },
  {
   "cell_type": "code",
   "execution_count": 72,
   "id": "ea6bc57a",
   "metadata": {},
   "outputs": [
    {
     "name": "stdout",
     "output_type": "stream",
     "text": [
      "(10, 20, 30, 40, 50, 10, 20, 30) <class 'tuple'>\n"
     ]
    }
   ],
   "source": [
    "print(a, type(a))"
   ]
  },
  {
   "cell_type": "markdown",
   "id": "30cf7b53",
   "metadata": {},
   "source": [
    "### Packing and Unpacking\n",
    "\n",
    "#### Packing\n",
    "\n",
    "    - If we assign multiple values toa single variable, this process is knowns as packing\n",
    "    - In python, tuple supports Packing"
   ]
  },
  {
   "cell_type": "code",
   "execution_count": 75,
   "id": "deeb6631",
   "metadata": {},
   "outputs": [
    {
     "name": "stdout",
     "output_type": "stream",
     "text": [
      "('Mayank', 29, 'Benagluru', 96000) <class 'tuple'>\n"
     ]
    }
   ],
   "source": [
    "emp_detail = 'Mayank', 29, 'Benagluru', 96000\n",
    "print(emp_detail, type(emp_detail))"
   ]
  },
  {
   "cell_type": "markdown",
   "id": "94723cb4",
   "metadata": {},
   "source": [
    "### Unpacking\n",
    "\n",
    "- Assigning value to multiple variables from a single variable, this is known as unpacking\n",
    "- Order in which we have packed the values is importamt"
   ]
  },
  {
   "cell_type": "code",
   "execution_count": 76,
   "id": "665fd5d9",
   "metadata": {},
   "outputs": [],
   "source": [
    "Name, age, City, salary = emp_detail"
   ]
  },
  {
   "cell_type": "code",
   "execution_count": 77,
   "id": "978fab9c",
   "metadata": {},
   "outputs": [
    {
     "data": {
      "text/plain": [
       "'Mayank'"
      ]
     },
     "execution_count": 77,
     "metadata": {},
     "output_type": "execute_result"
    }
   ],
   "source": [
    "Name"
   ]
  },
  {
   "cell_type": "code",
   "execution_count": 78,
   "id": "d083682f",
   "metadata": {},
   "outputs": [
    {
     "data": {
      "text/plain": [
       "29"
      ]
     },
     "execution_count": 78,
     "metadata": {},
     "output_type": "execute_result"
    }
   ],
   "source": [
    "age"
   ]
  },
  {
   "cell_type": "code",
   "execution_count": 79,
   "id": "ed9af031",
   "metadata": {},
   "outputs": [
    {
     "data": {
      "text/plain": [
       "'Benagluru'"
      ]
     },
     "execution_count": 79,
     "metadata": {},
     "output_type": "execute_result"
    }
   ],
   "source": [
    "City"
   ]
  },
  {
   "cell_type": "code",
   "execution_count": 80,
   "id": "6c5df386",
   "metadata": {},
   "outputs": [
    {
     "data": {
      "text/plain": [
       "96000"
      ]
     },
     "execution_count": 80,
     "metadata": {},
     "output_type": "execute_result"
    }
   ],
   "source": [
    "salary"
   ]
  },
  {
   "cell_type": "code",
   "execution_count": 81,
   "id": "d690380c",
   "metadata": {},
   "outputs": [],
   "source": [
    "Name, salary, age, city = emp_detail"
   ]
  },
  {
   "cell_type": "code",
   "execution_count": 82,
   "id": "14e184fd",
   "metadata": {},
   "outputs": [
    {
     "data": {
      "text/plain": [
       "'Mayank'"
      ]
     },
     "execution_count": 82,
     "metadata": {},
     "output_type": "execute_result"
    }
   ],
   "source": [
    "Name"
   ]
  },
  {
   "cell_type": "code",
   "execution_count": 83,
   "id": "95f142f9",
   "metadata": {},
   "outputs": [
    {
     "data": {
      "text/plain": [
       "'Benagluru'"
      ]
     },
     "execution_count": 83,
     "metadata": {},
     "output_type": "execute_result"
    }
   ],
   "source": [
    "age"
   ]
  },
  {
   "cell_type": "code",
   "execution_count": 84,
   "id": "8184b507",
   "metadata": {},
   "outputs": [
    {
     "data": {
      "text/plain": [
       "96000"
      ]
     },
     "execution_count": 84,
     "metadata": {},
     "output_type": "execute_result"
    }
   ],
   "source": [
    "city"
   ]
  },
  {
   "cell_type": "code",
   "execution_count": 85,
   "id": "1c0c9e76",
   "metadata": {},
   "outputs": [
    {
     "data": {
      "text/plain": [
       "29"
      ]
     },
     "execution_count": 85,
     "metadata": {},
     "output_type": "execute_result"
    }
   ],
   "source": [
    "salary"
   ]
  },
  {
   "cell_type": "markdown",
   "id": "2e115eb2",
   "metadata": {},
   "source": [
    "### Methods"
   ]
  },
  {
   "cell_type": "code",
   "execution_count": 86,
   "id": "b980815f",
   "metadata": {},
   "outputs": [
    {
     "name": "stdout",
     "output_type": "stream",
     "text": [
      "['__add__', '__class__', '__class_getitem__', '__contains__', '__delattr__', '__dir__', '__doc__', '__eq__', '__format__', '__ge__', '__getattribute__', '__getitem__', '__getnewargs__', '__getstate__', '__gt__', '__hash__', '__init__', '__init_subclass__', '__iter__', '__le__', '__len__', '__lt__', '__mul__', '__ne__', '__new__', '__reduce__', '__reduce_ex__', '__repr__', '__rmul__', '__setattr__', '__sizeof__', '__str__', '__subclasshook__', 'count', 'index']\n"
     ]
    }
   ],
   "source": [
    "print(dir(tuple))"
   ]
  },
  {
   "cell_type": "markdown",
   "id": "d6075d37",
   "metadata": {},
   "source": [
    "### Count\n",
    "\n",
    "- It counts the number of occurance of an element inside a tuple\n",
    "\n",
    "    Syntax:\n",
    "        \n",
    "        t.count(element)"
   ]
  },
  {
   "cell_type": "code",
   "execution_count": 88,
   "id": "231a08ca",
   "metadata": {},
   "outputs": [],
   "source": [
    "import numpy as np"
   ]
  },
  {
   "cell_type": "code",
   "execution_count": 91,
   "id": "59ed2d8c",
   "metadata": {},
   "outputs": [
    {
     "name": "stdout",
     "output_type": "stream",
     "text": [
      "(4, 3, 4, 8, 6, 4, 6, 2, 8, 1, 8, 2, 5, 5, 1, 9, 7, 6, 9, 4, 6, 9, 5, 1, 5, 7, 1)\n"
     ]
    }
   ],
   "source": [
    "a = np.random.randint(1,10,27) # if we wish to create random values between a range\n",
    "t = tuple(a)\n",
    "print(t)"
   ]
  },
  {
   "cell_type": "code",
   "execution_count": 92,
   "id": "f541a721",
   "metadata": {},
   "outputs": [
    {
     "data": {
      "text/plain": [
       "4"
      ]
     },
     "execution_count": 92,
     "metadata": {},
     "output_type": "execute_result"
    }
   ],
   "source": [
    "t.count(4)"
   ]
  },
  {
   "cell_type": "code",
   "execution_count": 93,
   "id": "bbe17988",
   "metadata": {},
   "outputs": [
    {
     "data": {
      "text/plain": [
       "3"
      ]
     },
     "execution_count": 93,
     "metadata": {},
     "output_type": "execute_result"
    }
   ],
   "source": [
    "t.count(8)"
   ]
  },
  {
   "cell_type": "code",
   "execution_count": 94,
   "id": "0086886c",
   "metadata": {},
   "outputs": [
    {
     "data": {
      "text/plain": [
       "0"
      ]
     },
     "execution_count": 94,
     "metadata": {},
     "output_type": "execute_result"
    }
   ],
   "source": [
    "t.count(12)"
   ]
  },
  {
   "cell_type": "markdown",
   "id": "621ab71b",
   "metadata": {},
   "source": [
    "### Index\n",
    "\n",
    "\n",
    "- It returns the index of the first occurance of the specified character in the tuple\n",
    "- If the value not found, it will throw an error\n",
    "\n",
    "    Syntax:\n",
    "        \n",
    "        t.index(element)\n",
    "        t.index(element, starting_index)\n",
    "        t.index(element, starting_index, ending_index)"
   ]
  },
  {
   "cell_type": "code",
   "execution_count": 96,
   "id": "b7ffaa12",
   "metadata": {},
   "outputs": [
    {
     "name": "stdout",
     "output_type": "stream",
     "text": [
      "(4, 3, 4, 8, 6, 4, 6, 2, 8, 1, 8, 2, 5, 5, 1, 9, 7, 6, 9, 4, 6, 9, 5, 1, 5, 7, 1)\n"
     ]
    }
   ],
   "source": [
    "print(t)"
   ]
  },
  {
   "cell_type": "code",
   "execution_count": 97,
   "id": "8321ded6",
   "metadata": {},
   "outputs": [
    {
     "data": {
      "text/plain": [
       "0"
      ]
     },
     "execution_count": 97,
     "metadata": {},
     "output_type": "execute_result"
    }
   ],
   "source": [
    "t.index(4)"
   ]
  },
  {
   "cell_type": "code",
   "execution_count": 98,
   "id": "62af8402",
   "metadata": {},
   "outputs": [
    {
     "data": {
      "text/plain": [
       "2"
      ]
     },
     "execution_count": 98,
     "metadata": {},
     "output_type": "execute_result"
    }
   ],
   "source": [
    "t.index(4, 1)"
   ]
  },
  {
   "cell_type": "code",
   "execution_count": 100,
   "id": "220c817b",
   "metadata": {},
   "outputs": [
    {
     "data": {
      "text/plain": [
       "19"
      ]
     },
     "execution_count": 100,
     "metadata": {},
     "output_type": "execute_result"
    }
   ],
   "source": [
    "t.index(4, 6, 27)"
   ]
  },
  {
   "cell_type": "code",
   "execution_count": 101,
   "id": "671360a5",
   "metadata": {
    "scrolled": true
   },
   "outputs": [
    {
     "ename": "ValueError",
     "evalue": "tuple.index(x): x not in tuple",
     "output_type": "error",
     "traceback": [
      "\u001b[1;31m---------------------------------------------------------------------------\u001b[0m",
      "\u001b[1;31mValueError\u001b[0m                                Traceback (most recent call last)",
      "Cell \u001b[1;32mIn[101], line 1\u001b[0m\n\u001b[1;32m----> 1\u001b[0m t\u001b[38;5;241m.\u001b[39mindex(\u001b[38;5;241m12\u001b[39m)\n",
      "\u001b[1;31mValueError\u001b[0m: tuple.index(x): x not in tuple"
     ]
    }
   ],
   "source": [
    "t.index(12)"
   ]
  },
  {
   "cell_type": "code",
   "execution_count": null,
   "id": "75d1e475",
   "metadata": {},
   "outputs": [],
   "source": [
    "for i, j in enumerate(lst):\n",
    "    if j == 1 and j == True:\n",
    "        print(f'The index of 1 or True is {i} ')\n"
   ]
  },
  {
   "cell_type": "markdown",
   "id": "4991a07f",
   "metadata": {},
   "source": [
    "Declare a boolean value and store it in a variable.\n",
    "Check the type and print the id of the same."
   ]
  },
  {
   "cell_type": "code",
   "execution_count": 102,
   "id": "46468357",
   "metadata": {},
   "outputs": [
    {
     "name": "stdout",
     "output_type": "stream",
     "text": [
      "<class 'bool'> 140731429825056\n"
     ]
    }
   ],
   "source": [
    "a = True \n",
    "print(type(a), id(a))"
   ]
  },
  {
   "cell_type": "code",
   "execution_count": null,
   "id": "3fd271f0",
   "metadata": {},
   "outputs": [],
   "source": []
  }
 ],
 "metadata": {
  "kernelspec": {
   "display_name": "Python 3 (ipykernel)",
   "language": "python",
   "name": "python3"
  },
  "language_info": {
   "codemirror_mode": {
    "name": "ipython",
    "version": 3
   },
   "file_extension": ".py",
   "mimetype": "text/x-python",
   "name": "python",
   "nbconvert_exporter": "python",
   "pygments_lexer": "ipython3",
   "version": "3.11.5"
  }
 },
 "nbformat": 4,
 "nbformat_minor": 5
}
