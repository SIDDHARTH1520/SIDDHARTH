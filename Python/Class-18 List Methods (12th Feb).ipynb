{
 "cells": [
  {
   "cell_type": "markdown",
   "id": "0443e068",
   "metadata": {},
   "source": [
    "### List Methods"
   ]
  },
  {
   "cell_type": "code",
   "execution_count": 1,
   "id": "a55d32e4",
   "metadata": {},
   "outputs": [
    {
     "name": "stdout",
     "output_type": "stream",
     "text": [
      "['__add__', '__class__', '__class_getitem__', '__contains__', '__delattr__', '__delitem__', '__dir__', '__doc__', '__eq__', '__format__', '__ge__', '__getattribute__', '__getitem__', '__getstate__', '__gt__', '__hash__', '__iadd__', '__imul__', '__init__', '__init_subclass__', '__iter__', '__le__', '__len__', '__lt__', '__mul__', '__ne__', '__new__', '__reduce__', '__reduce_ex__', '__repr__', '__reversed__', '__rmul__', '__setattr__', '__setitem__', '__sizeof__', '__str__', '__subclasshook__', 'append', 'clear', 'copy', 'count', 'extend', 'index', 'insert', 'pop', 'remove', 'reverse', 'sort']\n"
     ]
    }
   ],
   "source": [
    "print(dir(list))"
   ]
  },
  {
   "cell_type": "markdown",
   "id": "d37c222d",
   "metadata": {},
   "source": [
    "### append()\n",
    "\n",
    "- It adds the element at the end of the list\n",
    "- It will take exactly one argument "
   ]
  },
  {
   "cell_type": "code",
   "execution_count": 2,
   "id": "0b089290",
   "metadata": {},
   "outputs": [],
   "source": [
    "lst = [1,2,3,4,5]"
   ]
  },
  {
   "cell_type": "code",
   "execution_count": 3,
   "id": "0daa1bc4",
   "metadata": {},
   "outputs": [],
   "source": [
    "lst.append(1)"
   ]
  },
  {
   "cell_type": "code",
   "execution_count": 4,
   "id": "82097b78",
   "metadata": {},
   "outputs": [
    {
     "data": {
      "text/plain": [
       "[1, 2, 3, 4, 5, 1]"
      ]
     },
     "execution_count": 4,
     "metadata": {},
     "output_type": "execute_result"
    }
   ],
   "source": [
    "lst"
   ]
  },
  {
   "cell_type": "code",
   "execution_count": 5,
   "id": "94857841",
   "metadata": {},
   "outputs": [
    {
     "data": {
      "text/plain": [
       "[123]"
      ]
     },
     "execution_count": 5,
     "metadata": {},
     "output_type": "execute_result"
    }
   ],
   "source": [
    "lst = [] #empty list\n",
    "lst.append(123)\n",
    "lst"
   ]
  },
  {
   "cell_type": "code",
   "execution_count": 6,
   "id": "428f40f6",
   "metadata": {},
   "outputs": [],
   "source": [
    "lst.append('mayank')\n",
    "lst.append(None)\n",
    "lst.append(True)\n",
    "lst.append([1,2,3])\n",
    "lst.append((1,2,3))\n",
    "lst.append({1:100, 2:200})"
   ]
  },
  {
   "cell_type": "code",
   "execution_count": 7,
   "id": "bdcb5de5",
   "metadata": {},
   "outputs": [
    {
     "data": {
      "text/plain": [
       "[123, 'mayank', None, True, [1, 2, 3], (1, 2, 3), {1: 100, 2: 200}]"
      ]
     },
     "execution_count": 7,
     "metadata": {},
     "output_type": "execute_result"
    }
   ],
   "source": [
    "lst"
   ]
  },
  {
   "cell_type": "code",
   "execution_count": 8,
   "id": "00f2ee98",
   "metadata": {},
   "outputs": [
    {
     "ename": "TypeError",
     "evalue": "list.append() takes exactly one argument (3 given)",
     "output_type": "error",
     "traceback": [
      "\u001b[1;31m---------------------------------------------------------------------------\u001b[0m",
      "\u001b[1;31mTypeError\u001b[0m                                 Traceback (most recent call last)",
      "Cell \u001b[1;32mIn[8], line 1\u001b[0m\n\u001b[1;32m----> 1\u001b[0m lst\u001b[38;5;241m.\u001b[39mappend(\u001b[38;5;241m1\u001b[39m,\u001b[38;5;241m2\u001b[39m,\u001b[38;5;241m3\u001b[39m)\n",
      "\u001b[1;31mTypeError\u001b[0m: list.append() takes exactly one argument (3 given)"
     ]
    }
   ],
   "source": [
    "lst.append(1,2,3)"
   ]
  },
  {
   "cell_type": "code",
   "execution_count": 9,
   "id": "d9a95c11",
   "metadata": {},
   "outputs": [
    {
     "name": "stdout",
     "output_type": "stream",
     "text": [
      "[1, 2, 3, 4, 5, 6, 7, 8, 9, 10]\n"
     ]
    }
   ],
   "source": [
    "# create a program to append all the number from 1-10 in a list using append method\n",
    "\n",
    "a = [] #created an empty list that will store the element that we will append\n",
    "\n",
    "for i in range(1,11):\n",
    "    a.append(i)\n",
    "    \n",
    "print(a)"
   ]
  },
  {
   "cell_type": "code",
   "execution_count": 10,
   "id": "0c28646c",
   "metadata": {},
   "outputs": [
    {
     "name": "stdout",
     "output_type": "stream",
     "text": [
      "[2, 4, 6, 8, 10]\n",
      "[1, 3, 5, 7, 9]\n"
     ]
    }
   ],
   "source": [
    "# create a program to append all the number from 1-10 in a two list even and odd using append method\n",
    "\n",
    "even = []\n",
    "odd = []\n",
    "for i in range(1,11):\n",
    "    if(i%2==0):\n",
    "        even.append(i)\n",
    "    else:\n",
    "        odd.append(i)\n",
    "    \n",
    "print(even)\n",
    "print(odd)\n"
   ]
  },
  {
   "cell_type": "markdown",
   "id": "9c2c4174",
   "metadata": {},
   "source": [
    "### list comprehension "
   ]
  },
  {
   "cell_type": "code",
   "execution_count": 12,
   "id": "1992d9f8",
   "metadata": {},
   "outputs": [
    {
     "name": "stdout",
     "output_type": "stream",
     "text": [
      "[2, 4, 6, 8, 10]\n",
      "[1, 3, 5, 7, 9]\n"
     ]
    }
   ],
   "source": [
    "even = [i for i in range(1,11) if(i%2==0) ]\n",
    "\n",
    "odd = [i  for i in range(1,11) if(i%2!=0)]\n",
    "\n",
    "print(even)\n",
    "print(odd)"
   ]
  },
  {
   "cell_type": "markdown",
   "id": "9c28c60b",
   "metadata": {},
   "source": [
    "### extend()\n",
    "\n",
    "- It takes an iterable as an argument (string, list, tuple, dictionary, set or a frozenset)\n",
    "- It adds the element of the iterable to the list one by one "
   ]
  },
  {
   "cell_type": "code",
   "execution_count": 13,
   "id": "939b37f1",
   "metadata": {},
   "outputs": [
    {
     "data": {
      "text/plain": [
       "[123, 'mayank', None, True, [1, 2, 3], (1, 2, 3), {1: 100, 2: 200}]"
      ]
     },
     "execution_count": 13,
     "metadata": {},
     "output_type": "execute_result"
    }
   ],
   "source": [
    "lst"
   ]
  },
  {
   "cell_type": "code",
   "execution_count": 14,
   "id": "2106021c",
   "metadata": {},
   "outputs": [
    {
     "data": {
      "text/plain": [
       "[123,\n",
       " 'mayank',\n",
       " None,\n",
       " True,\n",
       " [1, 2, 3],\n",
       " (1, 2, 3),\n",
       " {1: 100, 2: 200},\n",
       " 'p',\n",
       " 'y',\n",
       " 't',\n",
       " 'h',\n",
       " 'o',\n",
       " 'n']"
      ]
     },
     "execution_count": 14,
     "metadata": {},
     "output_type": "execute_result"
    }
   ],
   "source": [
    "lst.extend('python')\n",
    "lst"
   ]
  },
  {
   "cell_type": "code",
   "execution_count": 15,
   "id": "3f2efc54",
   "metadata": {},
   "outputs": [
    {
     "ename": "TypeError",
     "evalue": "'int' object is not iterable",
     "output_type": "error",
     "traceback": [
      "\u001b[1;31m---------------------------------------------------------------------------\u001b[0m",
      "\u001b[1;31mTypeError\u001b[0m                                 Traceback (most recent call last)",
      "Cell \u001b[1;32mIn[15], line 1\u001b[0m\n\u001b[1;32m----> 1\u001b[0m lst\u001b[38;5;241m.\u001b[39mextend(\u001b[38;5;241m12\u001b[39m)\n",
      "\u001b[1;31mTypeError\u001b[0m: 'int' object is not iterable"
     ]
    }
   ],
   "source": [
    "lst.extend(12)"
   ]
  },
  {
   "cell_type": "code",
   "execution_count": 16,
   "id": "a5e25ca8",
   "metadata": {},
   "outputs": [
    {
     "data": {
      "text/plain": [
       "[123,\n",
       " 'mayank',\n",
       " None,\n",
       " True,\n",
       " [1, 2, 3],\n",
       " (1, 2, 3),\n",
       " {1: 100, 2: 200},\n",
       " 'p',\n",
       " 'y',\n",
       " 't',\n",
       " 'h',\n",
       " 'o',\n",
       " 'n',\n",
       " 1,\n",
       " 2,\n",
       " 3,\n",
       " 4,\n",
       " 5]"
      ]
     },
     "execution_count": 16,
     "metadata": {},
     "output_type": "execute_result"
    }
   ],
   "source": [
    "lst.extend([1,2,3,4,5])\n",
    "lst"
   ]
  },
  {
   "cell_type": "code",
   "execution_count": 17,
   "id": "bbcd6bce",
   "metadata": {},
   "outputs": [],
   "source": [
    "lst.append([1,2,3,4,5])"
   ]
  },
  {
   "cell_type": "code",
   "execution_count": 18,
   "id": "1172045b",
   "metadata": {},
   "outputs": [
    {
     "data": {
      "text/plain": [
       "[123,\n",
       " 'mayank',\n",
       " None,\n",
       " True,\n",
       " [1, 2, 3],\n",
       " (1, 2, 3),\n",
       " {1: 100, 2: 200},\n",
       " 'p',\n",
       " 'y',\n",
       " 't',\n",
       " 'h',\n",
       " 'o',\n",
       " 'n',\n",
       " 1,\n",
       " 2,\n",
       " 3,\n",
       " 4,\n",
       " 5,\n",
       " [1, 2, 3, 4, 5]]"
      ]
     },
     "execution_count": 18,
     "metadata": {},
     "output_type": "execute_result"
    }
   ],
   "source": [
    "lst"
   ]
  },
  {
   "cell_type": "code",
   "execution_count": 19,
   "id": "904cde1e",
   "metadata": {},
   "outputs": [
    {
     "name": "stdout",
     "output_type": "stream",
     "text": [
      "[1, 2, 3, 4, 5, 'm', 'a', 'y', 'a', 'n', 'k']\n"
     ]
    }
   ],
   "source": [
    "# How exactly extend function is happening\n",
    "\n",
    "# lst.extend('mayank')\n",
    "\n",
    "temp = 'mayank' # the argument is stored in a temporary variable\n",
    "\n",
    "lst = [1,2,3,4,5]\n",
    "\n",
    "for i in temp:\n",
    "    lst.append(i)\n",
    "\n",
    "del(temp)\n",
    "\n",
    "print(lst)\n"
   ]
  },
  {
   "cell_type": "markdown",
   "id": "856cf01c",
   "metadata": {},
   "source": [
    "### index()\n",
    "\n",
    "- It returns the index of the first occurance of an element from left to right\n",
    "- If the element is not found, then it will return a value error "
   ]
  },
  {
   "cell_type": "code",
   "execution_count": 22,
   "id": "5ae77ff4",
   "metadata": {},
   "outputs": [],
   "source": [
    "lst = [123,\n",
    " 'mayank',\n",
    " None,\n",
    " True,\n",
    " [1, 2, 3],\n",
    " (1, 2, 3),\n",
    " {1: 100, 2: 200},\n",
    " 'p',\n",
    " 'y',\n",
    " 't',\n",
    " 'h',\n",
    " 'o',\n",
    " 'n',\n",
    " 1,\n",
    " 2,\n",
    " 3,\n",
    " 4,\n",
    " 5,\n",
    " [1, 2, 3, 4, 5]]"
   ]
  },
  {
   "cell_type": "code",
   "execution_count": 23,
   "id": "c9138861",
   "metadata": {},
   "outputs": [
    {
     "name": "stdout",
     "output_type": "stream",
     "text": [
      "[123, 'mayank', None, True, [1, 2, 3], (1, 2, 3), {1: 100, 2: 200}, 'p', 'y', 't', 'h', 'o', 'n', 1, 2, 3, 4, 5, [1, 2, 3, 4, 5]]\n"
     ]
    }
   ],
   "source": [
    "print(lst)"
   ]
  },
  {
   "cell_type": "code",
   "execution_count": 28,
   "id": "b430d5d0",
   "metadata": {},
   "outputs": [
    {
     "data": {
      "text/plain": [
       "True"
      ]
     },
     "execution_count": 28,
     "metadata": {},
     "output_type": "execute_result"
    }
   ],
   "source": [
    "bool(1)"
   ]
  },
  {
   "cell_type": "code",
   "execution_count": 24,
   "id": "73501370",
   "metadata": {},
   "outputs": [
    {
     "data": {
      "text/plain": [
       "3"
      ]
     },
     "execution_count": 24,
     "metadata": {},
     "output_type": "execute_result"
    }
   ],
   "source": [
    "lst.index(1)"
   ]
  },
  {
   "cell_type": "code",
   "execution_count": 25,
   "id": "1cdbff2b",
   "metadata": {},
   "outputs": [
    {
     "data": {
      "text/plain": [
       "7"
      ]
     },
     "execution_count": 25,
     "metadata": {},
     "output_type": "execute_result"
    }
   ],
   "source": [
    "lst.index('p')"
   ]
  },
  {
   "cell_type": "code",
   "execution_count": 26,
   "id": "7049b7ef",
   "metadata": {},
   "outputs": [
    {
     "data": {
      "text/plain": [
       "17"
      ]
     },
     "execution_count": 26,
     "metadata": {},
     "output_type": "execute_result"
    }
   ],
   "source": [
    "lst.index(5)"
   ]
  },
  {
   "cell_type": "code",
   "execution_count": 29,
   "id": "0d355a47",
   "metadata": {},
   "outputs": [
    {
     "ename": "ValueError",
     "evalue": "'m' is not in list",
     "output_type": "error",
     "traceback": [
      "\u001b[1;31m---------------------------------------------------------------------------\u001b[0m",
      "\u001b[1;31mValueError\u001b[0m                                Traceback (most recent call last)",
      "Cell \u001b[1;32mIn[29], line 1\u001b[0m\n\u001b[1;32m----> 1\u001b[0m lst\u001b[38;5;241m.\u001b[39mindex(\u001b[38;5;124m'\u001b[39m\u001b[38;5;124mm\u001b[39m\u001b[38;5;124m'\u001b[39m)\n",
      "\u001b[1;31mValueError\u001b[0m: 'm' is not in list"
     ]
    }
   ],
   "source": [
    "lst.index('m')"
   ]
  },
  {
   "cell_type": "code",
   "execution_count": 30,
   "id": "0e523300",
   "metadata": {},
   "outputs": [
    {
     "data": {
      "text/plain": [
       "3"
      ]
     },
     "execution_count": 30,
     "metadata": {},
     "output_type": "execute_result"
    }
   ],
   "source": [
    "lst.index(True)\n",
    "\n",
    "# compiler is converting all the boolean value into 2 value True - 1 and false- 0 "
   ]
  },
  {
   "cell_type": "code",
   "execution_count": 31,
   "id": "064ebf72",
   "metadata": {},
   "outputs": [
    {
     "data": {
      "text/plain": [
       "True"
      ]
     },
     "execution_count": 31,
     "metadata": {},
     "output_type": "execute_result"
    }
   ],
   "source": [
    "bool(123)"
   ]
  },
  {
   "cell_type": "code",
   "execution_count": 32,
   "id": "f8afd403",
   "metadata": {},
   "outputs": [
    {
     "ename": "TypeError",
     "evalue": "'builtin_function_or_method' object is not subscriptable",
     "output_type": "error",
     "traceback": [
      "\u001b[1;31m---------------------------------------------------------------------------\u001b[0m",
      "\u001b[1;31mTypeError\u001b[0m                                 Traceback (most recent call last)",
      "Cell \u001b[1;32mIn[32], line 1\u001b[0m\n\u001b[1;32m----> 1\u001b[0m lst\u001b[38;5;241m.\u001b[39mindex[\u001b[38;5;241m5\u001b[39m]\n",
      "\u001b[1;31mTypeError\u001b[0m: 'builtin_function_or_method' object is not subscriptable"
     ]
    }
   ],
   "source": [
    "lst.index[5]"
   ]
  },
  {
   "cell_type": "code",
   "execution_count": 33,
   "id": "05fc1136",
   "metadata": {},
   "outputs": [],
   "source": [
    "lst = [1,1.0,True, 'm', 'y', 'n', 'python', [1,2,3]]\n",
    "string = 'mayank'"
   ]
  },
  {
   "cell_type": "code",
   "execution_count": 35,
   "id": "5551ef46",
   "metadata": {},
   "outputs": [
    {
     "data": {
      "text/plain": [
       "3"
      ]
     },
     "execution_count": 35,
     "metadata": {},
     "output_type": "execute_result"
    }
   ],
   "source": [
    "lst.index('m')"
   ]
  },
  {
   "cell_type": "code",
   "execution_count": 36,
   "id": "f3a44c68",
   "metadata": {},
   "outputs": [
    {
     "data": {
      "text/plain": [
       "0"
      ]
     },
     "execution_count": 36,
     "metadata": {},
     "output_type": "execute_result"
    }
   ],
   "source": [
    "string.index('m')"
   ]
  },
  {
   "cell_type": "code",
   "execution_count": 37,
   "id": "a4641cad",
   "metadata": {},
   "outputs": [
    {
     "ename": "ValueError",
     "evalue": "'p' is not in list",
     "output_type": "error",
     "traceback": [
      "\u001b[1;31m---------------------------------------------------------------------------\u001b[0m",
      "\u001b[1;31mValueError\u001b[0m                                Traceback (most recent call last)",
      "Cell \u001b[1;32mIn[37], line 1\u001b[0m\n\u001b[1;32m----> 1\u001b[0m lst\u001b[38;5;241m.\u001b[39mindex(\u001b[38;5;124m'\u001b[39m\u001b[38;5;124mp\u001b[39m\u001b[38;5;124m'\u001b[39m)\n",
      "\u001b[1;31mValueError\u001b[0m: 'p' is not in list"
     ]
    }
   ],
   "source": [
    "lst.index('p')"
   ]
  },
  {
   "cell_type": "markdown",
   "id": "2347d640",
   "metadata": {},
   "source": [
    "Syntax:\n",
    "    \n",
    "    lst.index(element, starting)\n",
    "    lst.index(element, starting,ending)"
   ]
  },
  {
   "cell_type": "code",
   "execution_count": 41,
   "id": "1c859f04",
   "metadata": {},
   "outputs": [
    {
     "ename": "ValueError",
     "evalue": "'p' is not in list",
     "output_type": "error",
     "traceback": [
      "\u001b[1;31m---------------------------------------------------------------------------\u001b[0m",
      "\u001b[1;31mValueError\u001b[0m                                Traceback (most recent call last)",
      "Cell \u001b[1;32mIn[41], line 1\u001b[0m\n\u001b[1;32m----> 1\u001b[0m lst\u001b[38;5;241m.\u001b[39mindex(\u001b[38;5;124m'\u001b[39m\u001b[38;5;124mp\u001b[39m\u001b[38;5;124m'\u001b[39m, \u001b[38;5;241m-\u001b[39m\u001b[38;5;241m1\u001b[39m, \u001b[38;5;241m-\u001b[39m\u001b[38;5;28mlen\u001b[39m(lst))\n",
      "\u001b[1;31mValueError\u001b[0m: 'p' is not in list"
     ]
    }
   ],
   "source": [
    "lst.index('p', -1, -len(lst))"
   ]
  },
  {
   "cell_type": "code",
   "execution_count": 42,
   "id": "4292f710",
   "metadata": {},
   "outputs": [
    {
     "ename": "ValueError",
     "evalue": "'m' is not in list",
     "output_type": "error",
     "traceback": [
      "\u001b[1;31m---------------------------------------------------------------------------\u001b[0m",
      "\u001b[1;31mValueError\u001b[0m                                Traceback (most recent call last)",
      "Cell \u001b[1;32mIn[42], line 1\u001b[0m\n\u001b[1;32m----> 1\u001b[0m lst\u001b[38;5;241m.\u001b[39mindex(\u001b[38;5;124m'\u001b[39m\u001b[38;5;124mm\u001b[39m\u001b[38;5;124m'\u001b[39m, \u001b[38;5;241m-\u001b[39m\u001b[38;5;241m1\u001b[39m, \u001b[38;5;241m-\u001b[39m\u001b[38;5;28mlen\u001b[39m(lst))\n",
      "\u001b[1;31mValueError\u001b[0m: 'm' is not in list"
     ]
    }
   ],
   "source": [
    "lst.index('m', -1, -len(lst))"
   ]
  },
  {
   "cell_type": "code",
   "execution_count": 43,
   "id": "d9c8cc07",
   "metadata": {},
   "outputs": [
    {
     "data": {
      "text/plain": [
       "3"
      ]
     },
     "execution_count": 43,
     "metadata": {},
     "output_type": "execute_result"
    }
   ],
   "source": [
    "lst.index('m', -len(lst), -1)"
   ]
  },
  {
   "cell_type": "markdown",
   "id": "9153aa15",
   "metadata": {},
   "source": [
    "### Count\n",
    "\n",
    "- It counts the number of occurance of that particular element inisde a list"
   ]
  },
  {
   "cell_type": "code",
   "execution_count": 54,
   "id": "355d4df3",
   "metadata": {},
   "outputs": [],
   "source": [
    "lst = [1,2,3,4,6, 8, 10, 3.0, False, 'mayank', (5-9j), True, None, 2]"
   ]
  },
  {
   "cell_type": "code",
   "execution_count": 45,
   "id": "8062cc73",
   "metadata": {},
   "outputs": [
    {
     "data": {
      "text/plain": [
       "2"
      ]
     },
     "execution_count": 45,
     "metadata": {},
     "output_type": "execute_result"
    }
   ],
   "source": [
    "lst.count(1)"
   ]
  },
  {
   "cell_type": "code",
   "execution_count": 55,
   "id": "5916a5f8",
   "metadata": {},
   "outputs": [
    {
     "data": {
      "text/plain": [
       "2"
      ]
     },
     "execution_count": 55,
     "metadata": {},
     "output_type": "execute_result"
    }
   ],
   "source": [
    "lst.count(3.0)"
   ]
  },
  {
   "cell_type": "code",
   "execution_count": 52,
   "id": "4d525342",
   "metadata": {},
   "outputs": [
    {
     "data": {
      "text/plain": [
       "2"
      ]
     },
     "execution_count": 52,
     "metadata": {},
     "output_type": "execute_result"
    }
   ],
   "source": [
    "lst.count(2)"
   ]
  },
  {
   "cell_type": "code",
   "execution_count": 48,
   "id": "4b79707e",
   "metadata": {},
   "outputs": [
    {
     "data": {
      "text/plain": [
       "2"
      ]
     },
     "execution_count": 48,
     "metadata": {},
     "output_type": "execute_result"
    }
   ],
   "source": [
    "lst.count(True)"
   ]
  },
  {
   "cell_type": "code",
   "execution_count": 49,
   "id": "b4fca098",
   "metadata": {},
   "outputs": [
    {
     "data": {
      "text/plain": [
       "1"
      ]
     },
     "execution_count": 49,
     "metadata": {},
     "output_type": "execute_result"
    }
   ],
   "source": [
    "lst.count(False)"
   ]
  },
  {
   "cell_type": "code",
   "execution_count": 75,
   "id": "d8ff8d68",
   "metadata": {},
   "outputs": [
    {
     "data": {
      "text/plain": [
       "4"
      ]
     },
     "execution_count": 75,
     "metadata": {},
     "output_type": "execute_result"
    }
   ],
   "source": [
    "lst = [1,1.0, True, 1+0j]\n",
    "\n",
    "lst.count(1)"
   ]
  },
  {
   "cell_type": "code",
   "execution_count": 72,
   "id": "2a31def2",
   "metadata": {},
   "outputs": [
    {
     "data": {
      "text/plain": [
       "4"
      ]
     },
     "execution_count": 72,
     "metadata": {},
     "output_type": "execute_result"
    }
   ],
   "source": [
    "lst.count(1.0)"
   ]
  },
  {
   "cell_type": "code",
   "execution_count": 73,
   "id": "1a64591f",
   "metadata": {},
   "outputs": [
    {
     "data": {
      "text/plain": [
       "4"
      ]
     },
     "execution_count": 73,
     "metadata": {},
     "output_type": "execute_result"
    }
   ],
   "source": [
    "lst.count(True)"
   ]
  },
  {
   "cell_type": "code",
   "execution_count": 74,
   "id": "6a22912d",
   "metadata": {
    "scrolled": true
   },
   "outputs": [
    {
     "data": {
      "text/plain": [
       "4"
      ]
     },
     "execution_count": 74,
     "metadata": {},
     "output_type": "execute_result"
    }
   ],
   "source": [
    "lst.count(1+0j)"
   ]
  },
  {
   "cell_type": "code",
   "execution_count": 65,
   "id": "07765634",
   "metadata": {},
   "outputs": [
    {
     "data": {
      "text/plain": [
       "True"
      ]
     },
     "execution_count": 65,
     "metadata": {},
     "output_type": "execute_result"
    }
   ],
   "source": [
    "0 == 0+0j"
   ]
  },
  {
   "cell_type": "code",
   "execution_count": 67,
   "id": "f2ebe74d",
   "metadata": {},
   "outputs": [
    {
     "data": {
      "text/plain": [
       "True"
      ]
     },
     "execution_count": 67,
     "metadata": {},
     "output_type": "execute_result"
    }
   ],
   "source": [
    "2 == 2.0"
   ]
  },
  {
   "cell_type": "code",
   "execution_count": 70,
   "id": "11b5acb9",
   "metadata": {
    "scrolled": false
   },
   "outputs": [
    {
     "data": {
      "text/plain": [
       "0"
      ]
     },
     "execution_count": 70,
     "metadata": {},
     "output_type": "execute_result"
    }
   ],
   "source": [
    "lst.count(5)"
   ]
  },
  {
   "cell_type": "code",
   "execution_count": 91,
   "id": "f2c7fc5c",
   "metadata": {},
   "outputs": [],
   "source": [
    "lst = [1,2,3,4,6, 8, 10, 3.0, False, 'mayank', (5-9j), True, None, 2]"
   ]
  },
  {
   "cell_type": "code",
   "execution_count": 78,
   "id": "41604653",
   "metadata": {},
   "outputs": [
    {
     "ename": "TypeError",
     "evalue": "list.count() takes exactly one argument (2 given)",
     "output_type": "error",
     "traceback": [
      "\u001b[1;31m---------------------------------------------------------------------------\u001b[0m",
      "\u001b[1;31mTypeError\u001b[0m                                 Traceback (most recent call last)",
      "Cell \u001b[1;32mIn[78], line 1\u001b[0m\n\u001b[1;32m----> 1\u001b[0m lst\u001b[38;5;241m.\u001b[39mcount(\u001b[38;5;241m1\u001b[39m, \u001b[38;5;241m0\u001b[39m)\n",
      "\u001b[1;31mTypeError\u001b[0m: list.count() takes exactly one argument (2 given)"
     ]
    }
   ],
   "source": [
    "lst.count(1, 0)"
   ]
  },
  {
   "cell_type": "code",
   "execution_count": null,
   "id": "9d7f32f4",
   "metadata": {},
   "outputs": [],
   "source": [
    "lst.index()"
   ]
  },
  {
   "cell_type": "code",
   "execution_count": null,
   "id": "be75ab58",
   "metadata": {},
   "outputs": [],
   "source": [
    "lst.count()"
   ]
  },
  {
   "cell_type": "markdown",
   "id": "461aaf22",
   "metadata": {},
   "source": [
    "### pop()\n",
    "\n",
    "- It returns the element available at a particular index and removes the element from the list\n",
    "- We need to give the element index as an argument\n",
    "- By default, it returns and removes the last element\n",
    "- For invalid index, it returns an index error "
   ]
  },
  {
   "cell_type": "code",
   "execution_count": 79,
   "id": "7db1aec8",
   "metadata": {},
   "outputs": [
    {
     "data": {
      "text/plain": [
       "[1, 2, 3, 4, 6, 8, 10, 3.0, False, 'mayank', (5-9j), True, None, 2]"
      ]
     },
     "execution_count": 79,
     "metadata": {},
     "output_type": "execute_result"
    }
   ],
   "source": [
    "lst"
   ]
  },
  {
   "cell_type": "markdown",
   "id": "4c95dbe6",
   "metadata": {},
   "source": [
    "### Syntax:\n",
    "    lst.pop(index)"
   ]
  },
  {
   "cell_type": "code",
   "execution_count": 80,
   "id": "cb40dad0",
   "metadata": {},
   "outputs": [
    {
     "name": "stdout",
     "output_type": "stream",
     "text": [
      "3\n",
      "[1, 2, 4, 6, 8, 10, 3.0, False, 'mayank', (5-9j), True, None, 2]\n"
     ]
    }
   ],
   "source": [
    "x = lst.pop(2)\n",
    "print(x)\n",
    "print(lst)"
   ]
  },
  {
   "cell_type": "code",
   "execution_count": 81,
   "id": "03a5d088",
   "metadata": {},
   "outputs": [
    {
     "name": "stdout",
     "output_type": "stream",
     "text": [
      "2\n",
      "[1, 2, 4, 6, 8, 10, 3.0, False, 'mayank', (5-9j), True, None]\n"
     ]
    }
   ],
   "source": [
    "x = lst.pop()\n",
    "print(x)\n",
    "print(lst)"
   ]
  },
  {
   "cell_type": "code",
   "execution_count": 82,
   "id": "b7ff2af3",
   "metadata": {},
   "outputs": [],
   "source": [
    "lst.append(x)"
   ]
  },
  {
   "cell_type": "code",
   "execution_count": 83,
   "id": "6f79cb4c",
   "metadata": {},
   "outputs": [
    {
     "data": {
      "text/plain": [
       "[1, 2, 4, 6, 8, 10, 3.0, False, 'mayank', (5-9j), True, None, 2]"
      ]
     },
     "execution_count": 83,
     "metadata": {},
     "output_type": "execute_result"
    }
   ],
   "source": [
    "lst"
   ]
  },
  {
   "cell_type": "code",
   "execution_count": 85,
   "id": "e2af7b78",
   "metadata": {},
   "outputs": [
    {
     "ename": "TypeError",
     "evalue": "'float' object cannot be interpreted as an integer",
     "output_type": "error",
     "traceback": [
      "\u001b[1;31m---------------------------------------------------------------------------\u001b[0m",
      "\u001b[1;31mTypeError\u001b[0m                                 Traceback (most recent call last)",
      "Cell \u001b[1;32mIn[85], line 1\u001b[0m\n\u001b[1;32m----> 1\u001b[0m lst\u001b[38;5;241m.\u001b[39mpop(\u001b[38;5;241m2.0\u001b[39m)\n",
      "\u001b[1;31mTypeError\u001b[0m: 'float' object cannot be interpreted as an integer"
     ]
    }
   ],
   "source": [
    "lst.pop(2.0)"
   ]
  },
  {
   "cell_type": "code",
   "execution_count": 86,
   "id": "3c45939d",
   "metadata": {},
   "outputs": [
    {
     "ename": "IndexError",
     "evalue": "pop index out of range",
     "output_type": "error",
     "traceback": [
      "\u001b[1;31m---------------------------------------------------------------------------\u001b[0m",
      "\u001b[1;31mIndexError\u001b[0m                                Traceback (most recent call last)",
      "Cell \u001b[1;32mIn[86], line 1\u001b[0m\n\u001b[1;32m----> 1\u001b[0m lst\u001b[38;5;241m.\u001b[39mpop(\u001b[38;5;241m15\u001b[39m)\n",
      "\u001b[1;31mIndexError\u001b[0m: pop index out of range"
     ]
    }
   ],
   "source": [
    "lst.pop(15)"
   ]
  },
  {
   "cell_type": "code",
   "execution_count": 87,
   "id": "22f157f4",
   "metadata": {},
   "outputs": [
    {
     "data": {
      "text/plain": [
       "[1, 2, 4, 6, 8, 10, 3.0, False, 'mayank', (5-9j), True, None, 2]"
      ]
     },
     "execution_count": 87,
     "metadata": {},
     "output_type": "execute_result"
    }
   ],
   "source": [
    "lst"
   ]
  },
  {
   "cell_type": "code",
   "execution_count": 88,
   "id": "905dae35",
   "metadata": {},
   "outputs": [],
   "source": [
    "x = lst.pop(lst.index(10))\n",
    "# THIS WILL REMOVE THE FIRST OCCURANCE OF 10 "
   ]
  },
  {
   "cell_type": "code",
   "execution_count": 89,
   "id": "8adcdcca",
   "metadata": {},
   "outputs": [
    {
     "data": {
      "text/plain": [
       "10"
      ]
     },
     "execution_count": 89,
     "metadata": {},
     "output_type": "execute_result"
    }
   ],
   "source": [
    "x"
   ]
  },
  {
   "cell_type": "code",
   "execution_count": 92,
   "id": "ac3de9eb",
   "metadata": {},
   "outputs": [],
   "source": [
    "x = lst.pop(lst.index(10))\n",
    "# lst.index will be executed first giving the index of the first occurance of the element from left to right\n",
    "# Now pop will use this index as an arguement and remove and return the elemnet at this index"
   ]
  },
  {
   "cell_type": "code",
   "execution_count": 93,
   "id": "7ce79948",
   "metadata": {},
   "outputs": [
    {
     "data": {
      "text/plain": [
       "10"
      ]
     },
     "execution_count": 93,
     "metadata": {},
     "output_type": "execute_result"
    }
   ],
   "source": [
    "x"
   ]
  },
  {
   "cell_type": "code",
   "execution_count": 99,
   "id": "578f9649",
   "metadata": {},
   "outputs": [
    {
     "name": "stdout",
     "output_type": "stream",
     "text": [
      "The index of 1 or True is 0 \n",
      "The index of 1 or True is 10 \n"
     ]
    }
   ],
   "source": [
    "for i, j in enumerate(lst):\n",
    "    if j == 1 and j == True:\n",
    "        print(f'The index of 1 or True is {i} ')"
   ]
  },
  {
   "cell_type": "markdown",
   "id": "51f85929",
   "metadata": {},
   "source": [
    "### remove()\n",
    "\n",
    "- It removes the first occurance of a specified element from left to right\n",
    "- If the element is not found, then it will throw a value error"
   ]
  },
  {
   "cell_type": "code",
   "execution_count": 106,
   "id": "93e4c169",
   "metadata": {},
   "outputs": [],
   "source": [
    "lst = [1, True, 'hello', 'Python', False, 5-5j, {1:100, 2:200}, (1,2,3)]"
   ]
  },
  {
   "cell_type": "code",
   "execution_count": 101,
   "id": "dc257cbe",
   "metadata": {},
   "outputs": [
    {
     "data": {
      "text/plain": [
       "[True, 'hello', 'Python', False, (5-5j), {1: 100, 2: 200}, (1, 2, 3)]"
      ]
     },
     "execution_count": 101,
     "metadata": {},
     "output_type": "execute_result"
    }
   ],
   "source": [
    "lst"
   ]
  },
  {
   "cell_type": "code",
   "execution_count": 102,
   "id": "291abd69",
   "metadata": {},
   "outputs": [],
   "source": [
    "lst.remove('Python')"
   ]
  },
  {
   "cell_type": "code",
   "execution_count": 103,
   "id": "ee553563",
   "metadata": {},
   "outputs": [
    {
     "data": {
      "text/plain": [
       "[True, 'hello', False, (5-5j), {1: 100, 2: 200}, (1, 2, 3)]"
      ]
     },
     "execution_count": 103,
     "metadata": {},
     "output_type": "execute_result"
    }
   ],
   "source": [
    "lst"
   ]
  },
  {
   "cell_type": "code",
   "execution_count": 107,
   "id": "fbb31517",
   "metadata": {},
   "outputs": [],
   "source": [
    "lst.remove(True)"
   ]
  },
  {
   "cell_type": "code",
   "execution_count": 108,
   "id": "d1366364",
   "metadata": {},
   "outputs": [
    {
     "data": {
      "text/plain": [
       "[True, 'hello', 'Python', False, (5-5j), {1: 100, 2: 200}, (1, 2, 3)]"
      ]
     },
     "execution_count": 108,
     "metadata": {},
     "output_type": "execute_result"
    }
   ],
   "source": [
    "lst"
   ]
  },
  {
   "cell_type": "code",
   "execution_count": 109,
   "id": "8a05a849",
   "metadata": {},
   "outputs": [
    {
     "ename": "ValueError",
     "evalue": "list.remove(x): x not in list",
     "output_type": "error",
     "traceback": [
      "\u001b[1;31m---------------------------------------------------------------------------\u001b[0m",
      "\u001b[1;31mValueError\u001b[0m                                Traceback (most recent call last)",
      "Cell \u001b[1;32mIn[109], line 1\u001b[0m\n\u001b[1;32m----> 1\u001b[0m lst\u001b[38;5;241m.\u001b[39mremove(\u001b[38;5;124m'\u001b[39m\u001b[38;5;124mmayank\u001b[39m\u001b[38;5;124m'\u001b[39m)\n",
      "\u001b[1;31mValueError\u001b[0m: list.remove(x): x not in list"
     ]
    }
   ],
   "source": [
    "lst.remove('mayank')"
   ]
  },
  {
   "cell_type": "markdown",
   "id": "e4347de0",
   "metadata": {},
   "source": [
    "### reverse()\n",
    "\n",
    "- It will reverse the list\n",
    "- It makes changes in the existing list only"
   ]
  },
  {
   "cell_type": "code",
   "execution_count": 110,
   "id": "22bb9da7",
   "metadata": {},
   "outputs": [
    {
     "data": {
      "text/plain": [
       "[True, 'hello', 'Python', False, (5-5j), {1: 100, 2: 200}, (1, 2, 3)]"
      ]
     },
     "execution_count": 110,
     "metadata": {},
     "output_type": "execute_result"
    }
   ],
   "source": [
    "lst"
   ]
  },
  {
   "cell_type": "code",
   "execution_count": 111,
   "id": "1b6983f5",
   "metadata": {},
   "outputs": [
    {
     "data": {
      "text/plain": [
       "2880425862016"
      ]
     },
     "execution_count": 111,
     "metadata": {},
     "output_type": "execute_result"
    }
   ],
   "source": [
    "id(lst)"
   ]
  },
  {
   "cell_type": "code",
   "execution_count": 112,
   "id": "e956f4b4",
   "metadata": {},
   "outputs": [],
   "source": [
    "lst.reverse()"
   ]
  },
  {
   "cell_type": "code",
   "execution_count": 113,
   "id": "0c59d468",
   "metadata": {},
   "outputs": [
    {
     "data": {
      "text/plain": [
       "[(1, 2, 3), {1: 100, 2: 200}, (5-5j), False, 'Python', 'hello', True]"
      ]
     },
     "execution_count": 113,
     "metadata": {},
     "output_type": "execute_result"
    }
   ],
   "source": [
    "lst"
   ]
  },
  {
   "cell_type": "code",
   "execution_count": 114,
   "id": "f8567a4b",
   "metadata": {},
   "outputs": [
    {
     "data": {
      "text/plain": [
       "2880425862016"
      ]
     },
     "execution_count": 114,
     "metadata": {},
     "output_type": "execute_result"
    }
   ],
   "source": [
    "id(lst)"
   ]
  },
  {
   "cell_type": "markdown",
   "id": "f1d56898",
   "metadata": {},
   "source": [
    "### sort()\n",
    "\n",
    "- It will sort the list in ascending or descending order \n",
    "- By default, it will sort the list in the ascending order\n",
    "- It will make the changes in the existing list"
   ]
  },
  {
   "cell_type": "markdown",
   "id": "2e0acf38",
   "metadata": {},
   "source": [
    "#### Ascending Order\n",
    "\n"
   ]
  },
  {
   "cell_type": "code",
   "execution_count": 118,
   "id": "d42cec85",
   "metadata": {},
   "outputs": [],
   "source": [
    "lst = [100, 78, 65, 102, 200, 80, 34, 14]"
   ]
  },
  {
   "cell_type": "code",
   "execution_count": 119,
   "id": "1bebf648",
   "metadata": {},
   "outputs": [
    {
     "data": {
      "text/plain": [
       "2880412353792"
      ]
     },
     "execution_count": 119,
     "metadata": {},
     "output_type": "execute_result"
    }
   ],
   "source": [
    "id(lst)"
   ]
  },
  {
   "cell_type": "code",
   "execution_count": 120,
   "id": "d98bd3be",
   "metadata": {},
   "outputs": [],
   "source": [
    "lst.sort()"
   ]
  },
  {
   "cell_type": "code",
   "execution_count": 121,
   "id": "1750d992",
   "metadata": {},
   "outputs": [
    {
     "data": {
      "text/plain": [
       "[14, 34, 65, 78, 80, 100, 102, 200]"
      ]
     },
     "execution_count": 121,
     "metadata": {},
     "output_type": "execute_result"
    }
   ],
   "source": [
    "lst"
   ]
  },
  {
   "cell_type": "code",
   "execution_count": 122,
   "id": "55fc0e26",
   "metadata": {},
   "outputs": [
    {
     "data": {
      "text/plain": [
       "2880412353792"
      ]
     },
     "execution_count": 122,
     "metadata": {},
     "output_type": "execute_result"
    }
   ],
   "source": [
    "id(lst)"
   ]
  },
  {
   "cell_type": "markdown",
   "id": "31b22217",
   "metadata": {},
   "source": [
    "### Descending Order"
   ]
  },
  {
   "cell_type": "code",
   "execution_count": 123,
   "id": "cafbb5af",
   "metadata": {},
   "outputs": [
    {
     "data": {
      "text/plain": [
       "[14, 34, 65, 78, 80, 100, 102, 200]"
      ]
     },
     "execution_count": 123,
     "metadata": {},
     "output_type": "execute_result"
    }
   ],
   "source": [
    "lst"
   ]
  },
  {
   "cell_type": "code",
   "execution_count": 124,
   "id": "a1f2b1ab",
   "metadata": {},
   "outputs": [],
   "source": [
    "lst.sort(reverse = True)"
   ]
  },
  {
   "cell_type": "code",
   "execution_count": 125,
   "id": "4faf8adc",
   "metadata": {},
   "outputs": [
    {
     "data": {
      "text/plain": [
       "[200, 102, 100, 80, 78, 65, 34, 14]"
      ]
     },
     "execution_count": 125,
     "metadata": {},
     "output_type": "execute_result"
    }
   ],
   "source": [
    "lst"
   ]
  },
  {
   "cell_type": "code",
   "execution_count": 126,
   "id": "91601f87",
   "metadata": {},
   "outputs": [],
   "source": [
    "lst = ['b', 'z', 'a']"
   ]
  },
  {
   "cell_type": "code",
   "execution_count": 127,
   "id": "57cfdbfa",
   "metadata": {},
   "outputs": [],
   "source": [
    "lst.sort()"
   ]
  },
  {
   "cell_type": "code",
   "execution_count": 128,
   "id": "564f9b0e",
   "metadata": {},
   "outputs": [
    {
     "data": {
      "text/plain": [
       "['a', 'b', 'z']"
      ]
     },
     "execution_count": 128,
     "metadata": {},
     "output_type": "execute_result"
    }
   ],
   "source": [
    "lst"
   ]
  },
  {
   "cell_type": "markdown",
   "id": "d94fb405",
   "metadata": {},
   "source": [
    "### insert()\n",
    "\n",
    "- It is used to insert an element at a particular index\n",
    "- The previous element at that index where you wish to insert the new_element will be shifted to the right\n",
    "\n",
    "    Syntax:\n",
    "    \n",
    "        \n",
    "        lst.insert(index, element)"
   ]
  },
  {
   "cell_type": "code",
   "execution_count": 136,
   "id": "221763fe",
   "metadata": {},
   "outputs": [],
   "source": [
    "lst = [1,2,3,4,5]"
   ]
  },
  {
   "cell_type": "code",
   "execution_count": 137,
   "id": "27b6b85e",
   "metadata": {},
   "outputs": [],
   "source": [
    "lst.insert(2, 'mayank')"
   ]
  },
  {
   "cell_type": "code",
   "execution_count": 138,
   "id": "6c56ac0d",
   "metadata": {},
   "outputs": [
    {
     "data": {
      "text/plain": [
       "[1, 2, 'mayank', 3, 4, 5]"
      ]
     },
     "execution_count": 138,
     "metadata": {},
     "output_type": "execute_result"
    }
   ],
   "source": [
    "lst"
   ]
  },
  {
   "cell_type": "code",
   "execution_count": 139,
   "id": "f2d0a965",
   "metadata": {},
   "outputs": [],
   "source": [
    "lst.insert(len(lst), 'python')"
   ]
  },
  {
   "cell_type": "code",
   "execution_count": 140,
   "id": "ab97a700",
   "metadata": {},
   "outputs": [
    {
     "data": {
      "text/plain": [
       "[1, 2, 'mayank', 3, 4, 5, 'python']"
      ]
     },
     "execution_count": 140,
     "metadata": {},
     "output_type": "execute_result"
    }
   ],
   "source": [
    "lst"
   ]
  },
  {
   "cell_type": "code",
   "execution_count": 141,
   "id": "1c942871",
   "metadata": {},
   "outputs": [],
   "source": [
    "lst.insert(-1, 'java')"
   ]
  },
  {
   "cell_type": "code",
   "execution_count": 142,
   "id": "f1770189",
   "metadata": {},
   "outputs": [
    {
     "data": {
      "text/plain": [
       "[1, 2, 'mayank', 3, 4, 5, 'java', 'python']"
      ]
     },
     "execution_count": 142,
     "metadata": {},
     "output_type": "execute_result"
    }
   ],
   "source": [
    "lst"
   ]
  },
  {
   "cell_type": "code",
   "execution_count": 143,
   "id": "41828da3",
   "metadata": {},
   "outputs": [],
   "source": [
    "lst.insert(50, 'Data')\n",
    "lst.insert(25, 'Science')"
   ]
  },
  {
   "cell_type": "code",
   "execution_count": 144,
   "id": "2121bef0",
   "metadata": {},
   "outputs": [
    {
     "data": {
      "text/plain": [
       "[1, 2, 'mayank', 3, 4, 5, 'java', 'python', 'Data', 'Science']"
      ]
     },
     "execution_count": 144,
     "metadata": {},
     "output_type": "execute_result"
    }
   ],
   "source": [
    "lst"
   ]
  },
  {
   "cell_type": "code",
   "execution_count": 146,
   "id": "b21ec4a4",
   "metadata": {},
   "outputs": [],
   "source": [
    " lst.insert(-20, 'learnbay')\n"
   ]
  },
  {
   "cell_type": "code",
   "execution_count": 147,
   "id": "55ae0cab",
   "metadata": {},
   "outputs": [
    {
     "data": {
      "text/plain": [
       "['learnbay', 1, 2, 'mayank', 3, 4, 5, 'java', 'python', 'Data', 'Science']"
      ]
     },
     "execution_count": 147,
     "metadata": {},
     "output_type": "execute_result"
    }
   ],
   "source": [
    "lst"
   ]
  },
  {
   "cell_type": "code",
   "execution_count": 148,
   "id": "0db66019",
   "metadata": {},
   "outputs": [],
   "source": [
    "lst.insert(-2, 'Rahul')"
   ]
  },
  {
   "cell_type": "code",
   "execution_count": 150,
   "id": "4005691d",
   "metadata": {},
   "outputs": [
    {
     "name": "stdout",
     "output_type": "stream",
     "text": [
      "['learnbay', 1, 2, 'mayank', 3, 4, 5, 'java', 'python', 'Rahul', 'Data', 'Science']\n"
     ]
    }
   ],
   "source": [
    "print(lst)"
   ]
  },
  {
   "cell_type": "code",
   "execution_count": 151,
   "id": "0cc34c0f",
   "metadata": {},
   "outputs": [
    {
     "name": "stdout",
     "output_type": "stream",
     "text": [
      "[1, 'baba', 'raja', 2, 5]\n"
     ]
    }
   ],
   "source": [
    "lst=[1, 'raja', 2, 5]\n",
    "lst.insert(1,'baba')\n",
    "print(lst)\n"
   ]
  },
  {
   "cell_type": "code",
   "execution_count": 152,
   "id": "8dd5e429",
   "metadata": {},
   "outputs": [
    {
     "data": {
      "text/plain": [
       "[1, 'baba', 'raja', 2, 5]"
      ]
     },
     "execution_count": 152,
     "metadata": {},
     "output_type": "execute_result"
    }
   ],
   "source": [
    "lst"
   ]
  },
  {
   "cell_type": "code",
   "execution_count": 153,
   "id": "0dc8b297",
   "metadata": {},
   "outputs": [
    {
     "data": {
      "text/plain": [
       "5"
      ]
     },
     "execution_count": 153,
     "metadata": {},
     "output_type": "execute_result"
    }
   ],
   "source": [
    "len(lst)"
   ]
  },
  {
   "cell_type": "markdown",
   "id": "c8ad90b7",
   "metadata": {},
   "source": [
    "### copy()\n",
    "\n",
    "- It copies the element from one list and returns a new list with all the same elements "
   ]
  },
  {
   "cell_type": "code",
   "execution_count": 154,
   "id": "baa6621f",
   "metadata": {},
   "outputs": [],
   "source": [
    "lst = [1,2,3,4,5]"
   ]
  },
  {
   "cell_type": "code",
   "execution_count": 155,
   "id": "d5006974",
   "metadata": {},
   "outputs": [],
   "source": [
    "# aliasing ---> giving another name or a nickname\n",
    "x = lst ----> # Shallow copy"
   ]
  },
  {
   "cell_type": "code",
   "execution_count": 156,
   "id": "961d839f",
   "metadata": {},
   "outputs": [
    {
     "data": {
      "text/plain": [
       "[1, 2, 3, 4, 5]"
      ]
     },
     "execution_count": 156,
     "metadata": {},
     "output_type": "execute_result"
    }
   ],
   "source": [
    "x"
   ]
  },
  {
   "cell_type": "code",
   "execution_count": 158,
   "id": "a2e375d9",
   "metadata": {},
   "outputs": [
    {
     "data": {
      "text/plain": [
       "[1, 2, 3, 4, 5]"
      ]
     },
     "execution_count": 158,
     "metadata": {},
     "output_type": "execute_result"
    }
   ],
   "source": [
    "lst"
   ]
  },
  {
   "cell_type": "code",
   "execution_count": 159,
   "id": "d96d924f",
   "metadata": {},
   "outputs": [
    {
     "data": {
      "text/plain": [
       "2880426143616"
      ]
     },
     "execution_count": 159,
     "metadata": {},
     "output_type": "execute_result"
    }
   ],
   "source": [
    "id(x)"
   ]
  },
  {
   "cell_type": "code",
   "execution_count": 160,
   "id": "68e45761",
   "metadata": {},
   "outputs": [
    {
     "data": {
      "text/plain": [
       "2880426143616"
      ]
     },
     "execution_count": 160,
     "metadata": {},
     "output_type": "execute_result"
    }
   ],
   "source": [
    "id(lst)"
   ]
  },
  {
   "cell_type": "code",
   "execution_count": 162,
   "id": "c50c84a5",
   "metadata": {},
   "outputs": [],
   "source": [
    "lst1 = lst.copy() # Deep copy"
   ]
  },
  {
   "cell_type": "code",
   "execution_count": 163,
   "id": "76c87467",
   "metadata": {},
   "outputs": [
    {
     "data": {
      "text/plain": [
       "[1, 2, 3, 4, 5]"
      ]
     },
     "execution_count": 163,
     "metadata": {},
     "output_type": "execute_result"
    }
   ],
   "source": [
    "lst"
   ]
  },
  {
   "cell_type": "code",
   "execution_count": 164,
   "id": "ca464637",
   "metadata": {},
   "outputs": [
    {
     "data": {
      "text/plain": [
       "[1, 2, 3, 4, 5]"
      ]
     },
     "execution_count": 164,
     "metadata": {},
     "output_type": "execute_result"
    }
   ],
   "source": [
    "lst1"
   ]
  },
  {
   "cell_type": "code",
   "execution_count": 165,
   "id": "1546c884",
   "metadata": {},
   "outputs": [
    {
     "data": {
      "text/plain": [
       "2880426143616"
      ]
     },
     "execution_count": 165,
     "metadata": {},
     "output_type": "execute_result"
    }
   ],
   "source": [
    "id(lst)"
   ]
  },
  {
   "cell_type": "code",
   "execution_count": 167,
   "id": "71c9063f",
   "metadata": {},
   "outputs": [
    {
     "data": {
      "text/plain": [
       "2880426847936"
      ]
     },
     "execution_count": 167,
     "metadata": {},
     "output_type": "execute_result"
    }
   ],
   "source": [
    "id(lst1)"
   ]
  },
  {
   "cell_type": "code",
   "execution_count": 168,
   "id": "e05411e9",
   "metadata": {},
   "outputs": [],
   "source": [
    "lst1[0] = 100"
   ]
  },
  {
   "cell_type": "code",
   "execution_count": 169,
   "id": "f5c87c2f",
   "metadata": {},
   "outputs": [
    {
     "data": {
      "text/plain": [
       "[100, 2, 3, 4, 5]"
      ]
     },
     "execution_count": 169,
     "metadata": {},
     "output_type": "execute_result"
    }
   ],
   "source": [
    "lst1"
   ]
  },
  {
   "cell_type": "code",
   "execution_count": 170,
   "id": "ed205503",
   "metadata": {},
   "outputs": [
    {
     "data": {
      "text/plain": [
       "[1, 2, 3, 4, 5]"
      ]
     },
     "execution_count": 170,
     "metadata": {},
     "output_type": "execute_result"
    }
   ],
   "source": [
    "lst"
   ]
  },
  {
   "cell_type": "code",
   "execution_count": 171,
   "id": "023c1962",
   "metadata": {},
   "outputs": [],
   "source": [
    "lst[0] = 50"
   ]
  },
  {
   "cell_type": "code",
   "execution_count": 172,
   "id": "1af75bbd",
   "metadata": {},
   "outputs": [
    {
     "data": {
      "text/plain": [
       "[50, 2, 3, 4, 5]"
      ]
     },
     "execution_count": 172,
     "metadata": {},
     "output_type": "execute_result"
    }
   ],
   "source": [
    "lst"
   ]
  },
  {
   "cell_type": "code",
   "execution_count": 173,
   "id": "ffd67bb1",
   "metadata": {},
   "outputs": [
    {
     "data": {
      "text/plain": [
       "[100, 2, 3, 4, 5]"
      ]
     },
     "execution_count": 173,
     "metadata": {},
     "output_type": "execute_result"
    }
   ],
   "source": [
    "lst1"
   ]
  },
  {
   "cell_type": "code",
   "execution_count": 174,
   "id": "90fc0ff0",
   "metadata": {},
   "outputs": [
    {
     "data": {
      "text/plain": [
       "[50, 2, 3, 4, 5]"
      ]
     },
     "execution_count": 174,
     "metadata": {},
     "output_type": "execute_result"
    }
   ],
   "source": [
    "x"
   ]
  },
  {
   "cell_type": "code",
   "execution_count": 176,
   "id": "e97e9bdf",
   "metadata": {},
   "outputs": [
    {
     "name": "stdout",
     "output_type": "stream",
     "text": [
      "[2, 4, 6, 8, 10]\n",
      "[1, 3, 5, 7, 9]\n"
     ]
    }
   ],
   "source": [
    "a=[]\n",
    "b=[]\n",
    "for i in range(1,11):\n",
    "    if i%2==0:\n",
    "        a.append(i)\n",
    "    else:\n",
    "        b.append(i)\n",
    "print(a)    \n",
    "print(b)\n"
   ]
  },
  {
   "cell_type": "code",
   "execution_count": null,
   "id": "fe46b9e0",
   "metadata": {},
   "outputs": [],
   "source": [
    "lst.copy()"
   ]
  },
  {
   "cell_type": "code",
   "execution_count": null,
   "id": "31000b29",
   "metadata": {},
   "outputs": [],
   "source": [
    "lst.insert()"
   ]
  },
  {
   "cell_type": "code",
   "execution_count": null,
   "id": "4da1ddf2",
   "metadata": {},
   "outputs": [],
   "source": [
    "id()"
   ]
  },
  {
   "cell_type": "code",
   "execution_count": null,
   "id": "ab6ddc77",
   "metadata": {},
   "outputs": [],
   "source": [
    "lst.pop(lst.index(10))\n"
   ]
  },
  {
   "cell_type": "code",
   "execution_count": null,
   "id": "2f823b90",
   "metadata": {},
   "outputs": [],
   "source": [
    "a = 10+5j ---> 1\n",
    "b = 10+6j"
   ]
  },
  {
   "cell_type": "code",
   "execution_count": null,
   "id": "9a04c52b",
   "metadata": {},
   "outputs": [],
   "source": [
    "c = a ---> 1"
   ]
  },
  {
   "cell_type": "markdown",
   "id": "8e0e22bc",
   "metadata": {},
   "source": [
    "### append and extend\n",
    "\n",
    "- appemd will take one element ---> int, float, complex or any other data type ---> it will consider it a 1 element\n",
    "- extend ---as the name suggest will help to extend the list ---> iterable object so what ever the element are there in the iterable object it will extend the list with those elements\n",
    "\n",
    "    - string ---> char\n",
    "    - list ---> different elements\n",
    "    - tuple ---> different elements \n",
    "    - set --> unique elements\n",
    "    - frozeset ---> unique eleemnts\n",
    "    - dictionary---> key"
   ]
  },
  {
   "cell_type": "code",
   "execution_count": 177,
   "id": "7db99d7e",
   "metadata": {},
   "outputs": [],
   "source": [
    "lst = [1,2,3,4,5]"
   ]
  },
  {
   "cell_type": "code",
   "execution_count": 178,
   "id": "0d448858",
   "metadata": {},
   "outputs": [],
   "source": [
    "d = {1:100, 2:200}"
   ]
  },
  {
   "cell_type": "code",
   "execution_count": 179,
   "id": "b7370c9d",
   "metadata": {},
   "outputs": [],
   "source": [
    "lst.extend(d)"
   ]
  },
  {
   "cell_type": "code",
   "execution_count": 180,
   "id": "8bd71f1b",
   "metadata": {},
   "outputs": [
    {
     "data": {
      "text/plain": [
       "[1, 2, 3, 4, 5, 1, 2]"
      ]
     },
     "execution_count": 180,
     "metadata": {},
     "output_type": "execute_result"
    }
   ],
   "source": [
    "lst"
   ]
  },
  {
   "cell_type": "code",
   "execution_count": null,
   "id": "2002c474",
   "metadata": {},
   "outputs": [],
   "source": []
  },
  {
   "cell_type": "code",
   "execution_count": null,
   "id": "28962c9e",
   "metadata": {},
   "outputs": [],
   "source": []
  },
  {
   "cell_type": "code",
   "execution_count": 192,
   "id": "125dcf30",
   "metadata": {},
   "outputs": [],
   "source": [
    "my_str = 'Rohan'"
   ]
  },
  {
   "cell_type": "code",
   "execution_count": 193,
   "id": "683fb574",
   "metadata": {},
   "outputs": [
    {
     "data": {
      "text/plain": [
       "2880426219312"
      ]
     },
     "execution_count": 193,
     "metadata": {},
     "output_type": "execute_result"
    }
   ],
   "source": [
    "id(my_str)"
   ]
  },
  {
   "cell_type": "code",
   "execution_count": null,
   "id": "acffae7b",
   "metadata": {},
   "outputs": [],
   "source": []
  },
  {
   "cell_type": "code",
   "execution_count": 194,
   "id": "c2b70210",
   "metadata": {},
   "outputs": [],
   "source": [
    "lst = list(my_str)"
   ]
  },
  {
   "cell_type": "code",
   "execution_count": 195,
   "id": "2debc3f0",
   "metadata": {},
   "outputs": [
    {
     "data": {
      "text/plain": [
       "['R', 'o', 'h', 'a', 'n']"
      ]
     },
     "execution_count": 195,
     "metadata": {},
     "output_type": "execute_result"
    }
   ],
   "source": [
    "lst"
   ]
  },
  {
   "cell_type": "code",
   "execution_count": 196,
   "id": "25ac7c40",
   "metadata": {},
   "outputs": [
    {
     "ename": "TypeError",
     "evalue": "'str' object does not support item assignment",
     "output_type": "error",
     "traceback": [
      "\u001b[1;31m---------------------------------------------------------------------------\u001b[0m",
      "\u001b[1;31mTypeError\u001b[0m                                 Traceback (most recent call last)",
      "Cell \u001b[1;32mIn[196], line 1\u001b[0m\n\u001b[1;32m----> 1\u001b[0m my_str[\u001b[38;5;241m0\u001b[39m] \u001b[38;5;241m=\u001b[39m \u001b[38;5;124m'\u001b[39m\u001b[38;5;124mS\u001b[39m\u001b[38;5;124m'\u001b[39m\n",
      "\u001b[1;31mTypeError\u001b[0m: 'str' object does not support item assignment"
     ]
    }
   ],
   "source": [
    "my_str[0] = 'S'"
   ]
  },
  {
   "cell_type": "code",
   "execution_count": 197,
   "id": "619769e3",
   "metadata": {},
   "outputs": [],
   "source": [
    "lst[0] = 'S'"
   ]
  },
  {
   "cell_type": "code",
   "execution_count": 198,
   "id": "320b15ff",
   "metadata": {},
   "outputs": [
    {
     "data": {
      "text/plain": [
       "['S', 'o', 'h', 'a', 'n']"
      ]
     },
     "execution_count": 198,
     "metadata": {},
     "output_type": "execute_result"
    }
   ],
   "source": [
    "lst"
   ]
  },
  {
   "cell_type": "code",
   "execution_count": 199,
   "id": "c4d53cc4",
   "metadata": {},
   "outputs": [],
   "source": [
    "my_str = 'S'+my_str[1:]"
   ]
  },
  {
   "cell_type": "code",
   "execution_count": 200,
   "id": "5c9b36d0",
   "metadata": {},
   "outputs": [
    {
     "data": {
      "text/plain": [
       "'Sohan'"
      ]
     },
     "execution_count": 200,
     "metadata": {},
     "output_type": "execute_result"
    }
   ],
   "source": [
    "my_str"
   ]
  },
  {
   "cell_type": "code",
   "execution_count": 201,
   "id": "134d31c4",
   "metadata": {},
   "outputs": [
    {
     "data": {
      "text/plain": [
       "2880426267504"
      ]
     },
     "execution_count": 201,
     "metadata": {},
     "output_type": "execute_result"
    }
   ],
   "source": [
    "id(my_str)"
   ]
  },
  {
   "cell_type": "code",
   "execution_count": null,
   "id": "272f1012",
   "metadata": {},
   "outputs": [],
   "source": []
  }
 ],
 "metadata": {
  "kernelspec": {
   "display_name": "Python 3 (ipykernel)",
   "language": "python",
   "name": "python3"
  },
  "language_info": {
   "codemirror_mode": {
    "name": "ipython",
    "version": 3
   },
   "file_extension": ".py",
   "mimetype": "text/x-python",
   "name": "python",
   "nbconvert_exporter": "python",
   "pygments_lexer": "ipython3",
   "version": "3.11.5"
  }
 },
 "nbformat": 4,
 "nbformat_minor": 5
}
