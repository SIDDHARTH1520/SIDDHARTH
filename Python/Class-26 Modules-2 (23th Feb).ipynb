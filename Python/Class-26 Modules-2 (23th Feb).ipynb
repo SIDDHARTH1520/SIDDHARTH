{
 "cells": [
  {
   "cell_type": "markdown",
   "id": "76764143",
   "metadata": {},
   "source": [
    "### User-Defined Modules \n",
    "\n",
    "- A user defined module is going to be save with an extension of .py (python executable file)\n",
    "- The files in the module contains function declaration"
   ]
  },
  {
   "cell_type": "code",
   "execution_count": 1,
   "id": "c14305b6",
   "metadata": {},
   "outputs": [
    {
     "name": "stdout",
     "output_type": "stream",
     "text": [
      " Volume in drive C is Windows\n",
      " Volume Serial Number is 2E31-173E\n",
      "\n",
      " Directory of C:\\Users\\Mayank\n",
      "\n",
      "23-02-2024  20:10    <DIR>          .\n",
      "09-10-2023  10:35    <DIR>          ..\n",
      "07-10-2023  17:59    <DIR>          .anaconda\n",
      "14-02-2024  19:43    <DIR>          .conda\n",
      "07-10-2023  17:59                25 .condarc\n",
      "07-10-2023  17:59    <DIR>          .continuum\n",
      "23-02-2024  20:10    <DIR>          .ipynb_checkpoints\n",
      "07-10-2023  20:06    <DIR>          .ipython\n",
      "03-12-2023  09:22    <DIR>          .jupyter\n",
      "21-10-2023  20:16    <DIR>          .matplotlib\n",
      "07-10-2023  17:36    <DIR>          .ms-ad\n",
      "02-11-2023  10:27    <DIR>          .vscode\n",
      "11-02-2024  12:51    <DIR>          __pycache__\n",
      "16-01-2024  20:31    <DIR>          anaconda3\n",
      "05-01-2024  14:57    <DIR>          CampusX\n",
      "07-10-2023  17:24    <DIR>          Contacts\n",
      "25-10-2023  10:46    <DIR>          Documents\n",
      "21-02-2024  22:13    <DIR>          Downloads\n",
      "07-10-2023  17:24    <DIR>          Favorites\n",
      "07-10-2023  17:24    <DIR>          Links\n",
      "07-10-2023  17:24    <DIR>          Music\n",
      "21-02-2024  18:02    <DIR>          OneDrive\n",
      "10-02-2024  15:10    <DIR>          Python Class files\n",
      "07-10-2023  17:24    <DIR>          Saved Games\n",
      "09-10-2023  10:29    <DIR>          Searches\n",
      "21-02-2024  21:43            34,884 Untitled2.ipynb\n",
      "23-02-2024  20:10               896 Untitled3.ipynb\n",
      "25-01-2024  19:00    <DIR>          Videos\n",
      "               3 File(s)         35,805 bytes\n",
      "              25 Dir(s)  101,337,477,120 bytes free\n"
     ]
    }
   ],
   "source": [
    "ls"
   ]
  },
  {
   "cell_type": "markdown",
   "id": "b9d35f75",
   "metadata": {},
   "source": [
    "#### After creating a user defined module "
   ]
  },
  {
   "cell_type": "code",
   "execution_count": 2,
   "id": "150c0e01",
   "metadata": {},
   "outputs": [
    {
     "name": "stdout",
     "output_type": "stream",
     "text": [
      " Volume in drive C is Windows\n",
      " Volume Serial Number is 2E31-173E\n",
      "\n",
      " Directory of C:\\Users\\Mayank\n",
      "\n",
      "23-02-2024  20:14    <DIR>          .\n",
      "09-10-2023  10:35    <DIR>          ..\n",
      "07-10-2023  17:59    <DIR>          .anaconda\n",
      "14-02-2024  19:43    <DIR>          .conda\n",
      "07-10-2023  17:59                25 .condarc\n",
      "07-10-2023  17:59    <DIR>          .continuum\n",
      "23-02-2024  20:10    <DIR>          .ipynb_checkpoints\n",
      "07-10-2023  20:06    <DIR>          .ipython\n",
      "03-12-2023  09:22    <DIR>          .jupyter\n",
      "21-10-2023  20:16    <DIR>          .matplotlib\n",
      "07-10-2023  17:36    <DIR>          .ms-ad\n",
      "02-11-2023  10:27    <DIR>          .vscode\n",
      "11-02-2024  12:51    <DIR>          __pycache__\n",
      "16-01-2024  20:31    <DIR>          anaconda3\n",
      "05-01-2024  14:57    <DIR>          CampusX\n",
      "07-10-2023  17:24    <DIR>          Contacts\n",
      "25-10-2023  10:46    <DIR>          Documents\n",
      "21-02-2024  22:13    <DIR>          Downloads\n",
      "07-10-2023  17:24    <DIR>          Favorites\n",
      "07-10-2023  17:24    <DIR>          Links\n",
      "23-02-2024  20:14                58 module_1.py\n",
      "07-10-2023  17:24    <DIR>          Music\n",
      "21-02-2024  18:02    <DIR>          OneDrive\n",
      "10-02-2024  15:10    <DIR>          Python Class files\n",
      "07-10-2023  17:24    <DIR>          Saved Games\n",
      "09-10-2023  10:29    <DIR>          Searches\n",
      "21-02-2024  21:43            34,884 Untitled2.ipynb\n",
      "23-02-2024  20:12             2,996 Untitled3.ipynb\n",
      "25-01-2024  19:00    <DIR>          Videos\n",
      "               4 File(s)         37,963 bytes\n",
      "              25 Dir(s)  101,333,536,768 bytes free\n"
     ]
    }
   ],
   "source": [
    "ls"
   ]
  },
  {
   "cell_type": "code",
   "execution_count": 3,
   "id": "15a16341",
   "metadata": {},
   "outputs": [],
   "source": [
    "import module_1"
   ]
  },
  {
   "cell_type": "code",
   "execution_count": 4,
   "id": "05ce7ad3",
   "metadata": {},
   "outputs": [
    {
     "name": "stdout",
     "output_type": "stream",
     "text": [
      "['__builtins__', '__cached__', '__doc__', '__file__', '__loader__', '__name__', '__package__', '__spec__', 'add', 'sub']\n"
     ]
    }
   ],
   "source": [
    "print(dir(module_1))"
   ]
  },
  {
   "cell_type": "code",
   "execution_count": 5,
   "id": "7a1e3257",
   "metadata": {},
   "outputs": [
    {
     "data": {
      "text/plain": [
       "3"
      ]
     },
     "execution_count": 5,
     "metadata": {},
     "output_type": "execute_result"
    }
   ],
   "source": [
    "module_1.add(1,2)"
   ]
  },
  {
   "cell_type": "code",
   "execution_count": 6,
   "id": "2539cd82",
   "metadata": {},
   "outputs": [
    {
     "data": {
      "text/plain": [
       "1"
      ]
     },
     "execution_count": 6,
     "metadata": {},
     "output_type": "execute_result"
    }
   ],
   "source": [
    "module_1.sub(9,8)"
   ]
  },
  {
   "cell_type": "code",
   "execution_count": 7,
   "id": "88dac4ee",
   "metadata": {},
   "outputs": [],
   "source": [
    "from module_1 import * "
   ]
  },
  {
   "cell_type": "code",
   "execution_count": 8,
   "id": "7f143ee4",
   "metadata": {},
   "outputs": [
    {
     "name": "stdout",
     "output_type": "stream",
     "text": [
      "['In', 'Out', '_', '_5', '_6', '__', '___', '__builtin__', '__builtins__', '__doc__', '__loader__', '__name__', '__package__', '__spec__', '_dh', '_exit_code', '_i', '_i1', '_i2', '_i3', '_i4', '_i5', '_i6', '_i7', '_i8', '_ih', '_ii', '_iii', '_oh', 'add', 'exit', 'get_ipython', 'module_1', 'open', 'quit', 'sub']\n"
     ]
    }
   ],
   "source": [
    "print(dir())"
   ]
  },
  {
   "cell_type": "code",
   "execution_count": 9,
   "id": "6ba9188e",
   "metadata": {},
   "outputs": [
    {
     "data": {
      "text/plain": [
       "3"
      ]
     },
     "execution_count": 9,
     "metadata": {},
     "output_type": "execute_result"
    }
   ],
   "source": [
    "add(1,2)"
   ]
  },
  {
   "cell_type": "code",
   "execution_count": 10,
   "id": "14e02e21",
   "metadata": {},
   "outputs": [
    {
     "data": {
      "text/plain": [
       "-1"
      ]
     },
     "execution_count": 10,
     "metadata": {},
     "output_type": "execute_result"
    }
   ],
   "source": [
    "sub(7,8)"
   ]
  },
  {
   "cell_type": "code",
   "execution_count": 11,
   "id": "4802a3c9",
   "metadata": {},
   "outputs": [
    {
     "name": "stdout",
     "output_type": "stream",
     "text": [
      " Volume in drive C is Windows\n",
      " Volume Serial Number is 2E31-173E\n",
      "\n",
      " Directory of C:\\Users\\Mayank\n",
      "\n",
      "23-02-2024  20:21    <DIR>          .\n",
      "09-10-2023  10:35    <DIR>          ..\n",
      "07-10-2023  17:59    <DIR>          .anaconda\n",
      "14-02-2024  19:43    <DIR>          .conda\n",
      "07-10-2023  17:59                25 .condarc\n",
      "07-10-2023  17:59    <DIR>          .continuum\n",
      "23-02-2024  20:10    <DIR>          .ipynb_checkpoints\n",
      "07-10-2023  20:06    <DIR>          .ipython\n",
      "03-12-2023  09:22    <DIR>          .jupyter\n",
      "21-10-2023  20:16    <DIR>          .matplotlib\n",
      "07-10-2023  17:36    <DIR>          .ms-ad\n",
      "02-11-2023  10:27    <DIR>          .vscode\n",
      "23-02-2024  20:16    <DIR>          __pycache__\n",
      "16-01-2024  20:31    <DIR>          anaconda3\n",
      "05-01-2024  14:57    <DIR>          CampusX\n",
      "07-10-2023  17:24    <DIR>          Contacts\n",
      "25-10-2023  10:46    <DIR>          Documents\n",
      "21-02-2024  22:13    <DIR>          Downloads\n",
      "07-10-2023  17:24    <DIR>          Favorites\n",
      "07-10-2023  17:24    <DIR>          Links\n",
      "23-02-2024  20:21               232 module_2.py\n",
      "07-10-2023  17:24    <DIR>          Music\n",
      "21-02-2024  18:02    <DIR>          OneDrive\n",
      "10-02-2024  15:10    <DIR>          Python Class files\n",
      "07-10-2023  17:24    <DIR>          Saved Games\n",
      "09-10-2023  10:29    <DIR>          Searches\n",
      "21-02-2024  21:43            34,884 Untitled2.ipynb\n",
      "23-02-2024  20:18             7,867 Untitled3.ipynb\n",
      "25-01-2024  19:00    <DIR>          Videos\n",
      "               4 File(s)         43,008 bytes\n",
      "              25 Dir(s)  101,085,024,256 bytes free\n"
     ]
    }
   ],
   "source": [
    "ls"
   ]
  },
  {
   "cell_type": "code",
   "execution_count": 25,
   "id": "9569f7f3",
   "metadata": {},
   "outputs": [],
   "source": [
    "import module_2"
   ]
  },
  {
   "cell_type": "code",
   "execution_count": 26,
   "id": "cb49c29c",
   "metadata": {
    "scrolled": true
   },
   "outputs": [
    {
     "name": "stdout",
     "output_type": "stream",
     "text": [
      "['__builtins__', '__cached__', '__doc__', '__file__', '__loader__', '__name__', '__package__', '__spec__', 'add', 'expo', 'float_div', 'floor_div', 'modulus', 'multiply', 'sub']\n"
     ]
    }
   ],
   "source": [
    "print(dir(module_2))"
   ]
  },
  {
   "cell_type": "code",
   "execution_count": 27,
   "id": "983cef1e",
   "metadata": {},
   "outputs": [
    {
     "data": {
      "text/plain": [
       "0"
      ]
     },
     "execution_count": 27,
     "metadata": {},
     "output_type": "execute_result"
    }
   ],
   "source": [
    "module_2.modulus(100,2)"
   ]
  },
  {
   "cell_type": "code",
   "execution_count": 29,
   "id": "5f4abbce",
   "metadata": {},
   "outputs": [
    {
     "ename": "ZeroDivisionError",
     "evalue": "integer division or modulo by zero",
     "output_type": "error",
     "traceback": [
      "\u001b[1;31m---------------------------------------------------------------------------\u001b[0m",
      "\u001b[1;31mZeroDivisionError\u001b[0m                         Traceback (most recent call last)",
      "Cell \u001b[1;32mIn[29], line 1\u001b[0m\n\u001b[1;32m----> 1\u001b[0m module_2\u001b[38;5;241m.\u001b[39mfloat_div(\u001b[38;5;241m8\u001b[39m,\u001b[38;5;241m0\u001b[39m)\n",
      "File \u001b[1;32m~\\module_2.py:14\u001b[0m, in \u001b[0;36mfloat_div\u001b[1;34m(x, y)\u001b[0m\n\u001b[0;32m     13\u001b[0m \u001b[38;5;28;01mdef\u001b[39;00m \u001b[38;5;21mfloat_div\u001b[39m(x,y):\n\u001b[1;32m---> 14\u001b[0m     \u001b[38;5;28;01mreturn\u001b[39;00m x\u001b[38;5;241m/\u001b[39m\u001b[38;5;241m/\u001b[39my\n",
      "\u001b[1;31mZeroDivisionError\u001b[0m: integer division or modulo by zero"
     ]
    }
   ],
   "source": [
    "module_2.float_div(8,0)"
   ]
  },
  {
   "cell_type": "code",
   "execution_count": 41,
   "id": "5db8377c",
   "metadata": {},
   "outputs": [
    {
     "name": "stdout",
     "output_type": "stream",
     "text": [
      " Volume in drive C is Windows\n",
      " Volume Serial Number is 2E31-173E\n",
      "\n",
      " Directory of C:\\Users\\Mayank\n",
      "\n",
      "23-02-2024  21:05    <DIR>          .\n",
      "09-10-2023  10:35    <DIR>          ..\n",
      "07-10-2023  17:59    <DIR>          .anaconda\n",
      "14-02-2024  19:43    <DIR>          .conda\n",
      "07-10-2023  17:59                25 .condarc\n",
      "07-10-2023  17:59    <DIR>          .continuum\n",
      "23-02-2024  21:04    <DIR>          .ipynb_checkpoints\n",
      "07-10-2023  20:06    <DIR>          .ipython\n",
      "03-12-2023  09:22    <DIR>          .jupyter\n",
      "21-10-2023  20:16    <DIR>          .matplotlib\n",
      "07-10-2023  17:36    <DIR>          .ms-ad\n",
      "02-11-2023  10:27    <DIR>          .vscode\n",
      "23-02-2024  20:27    <DIR>          __pycache__\n",
      "16-01-2024  20:31    <DIR>          anaconda3\n",
      "05-01-2024  14:57    <DIR>          CampusX\n",
      "07-10-2023  17:24    <DIR>          Contacts\n",
      "25-10-2023  10:46    <DIR>          Documents\n",
      "21-02-2024  22:13    <DIR>          Downloads\n",
      "07-10-2023  17:24    <DIR>          Favorites\n",
      "23-02-2024  21:05                85 greet.py\n",
      "07-10-2023  17:24    <DIR>          Links\n",
      "23-02-2024  21:05               253 module_3.py\n",
      "07-10-2023  17:24    <DIR>          Music\n",
      "21-02-2024  18:02    <DIR>          OneDrive\n",
      "10-02-2024  15:10    <DIR>          Python Class files\n",
      "07-10-2023  17:24    <DIR>          Saved Games\n",
      "09-10-2023  10:29    <DIR>          Searches\n",
      "23-02-2024  20:29             2,593 Untitled.ipynb\n",
      "23-02-2024  21:04                72 Untitled1.ipynb\n",
      "21-02-2024  21:43            34,884 Untitled2.ipynb\n",
      "23-02-2024  20:50            12,472 Untitled3.ipynb\n",
      "25-01-2024  19:00    <DIR>          Videos\n",
      "               7 File(s)         50,384 bytes\n",
      "              25 Dir(s)  98,293,579,776 bytes free\n"
     ]
    }
   ],
   "source": [
    "ls"
   ]
  },
  {
   "cell_type": "code",
   "execution_count": 43,
   "id": "1d6c3e88",
   "metadata": {},
   "outputs": [],
   "source": [
    "import module_3"
   ]
  },
  {
   "cell_type": "code",
   "execution_count": 44,
   "id": "65378cbb",
   "metadata": {},
   "outputs": [
    {
     "name": "stdout",
     "output_type": "stream",
     "text": [
      "['__builtins__', '__cached__', '__doc__', '__file__', '__loader__', '__name__', '__package__', '__spec__', 'add', 'expo', 'float_div', 'floor_div', 'greet', 'modulus', 'multiply', 'sub']\n"
     ]
    }
   ],
   "source": [
    "print(dir(module_3))"
   ]
  },
  {
   "cell_type": "code",
   "execution_count": 45,
   "id": "f5177042",
   "metadata": {},
   "outputs": [
    {
     "name": "stdout",
     "output_type": "stream",
     "text": [
      "Hello everyone!\n",
      "    Welcome to Python classes by Maynak\n"
     ]
    }
   ],
   "source": [
    "module_3.greet()"
   ]
  },
  {
   "cell_type": "code",
   "execution_count": null,
   "id": "879746c9",
   "metadata": {},
   "outputs": [],
   "source": [
    "if __name__ == \"__main__\"\n",
    "\n",
    "- This is a python constructor and is used to determine whether the python script are being run as the main file \n",
    "or if it is being imported as a module in another script"
   ]
  },
  {
   "cell_type": "code",
   "execution_count": 46,
   "id": "c8c2b0f4",
   "metadata": {},
   "outputs": [
    {
     "name": "stdout",
     "output_type": "stream",
     "text": [
      " Volume in drive C is Windows\n",
      " Volume Serial Number is 2E31-173E\n",
      "\n",
      " Directory of C:\\Users\\Mayank\n",
      "\n",
      "23-02-2024  21:19    <DIR>          .\n",
      "09-10-2023  10:35    <DIR>          ..\n",
      "07-10-2023  17:59    <DIR>          .anaconda\n",
      "14-02-2024  19:43    <DIR>          .conda\n",
      "07-10-2023  17:59                25 .condarc\n",
      "07-10-2023  17:59    <DIR>          .continuum\n",
      "23-02-2024  21:16    <DIR>          .ipynb_checkpoints\n",
      "07-10-2023  20:06    <DIR>          .ipython\n",
      "03-12-2023  09:22    <DIR>          .jupyter\n",
      "21-10-2023  20:16    <DIR>          .matplotlib\n",
      "07-10-2023  17:36    <DIR>          .ms-ad\n",
      "02-11-2023  10:27    <DIR>          .vscode\n",
      "23-02-2024  21:06    <DIR>          __pycache__\n",
      "16-01-2024  20:31    <DIR>          anaconda3\n",
      "05-01-2024  14:57    <DIR>          CampusX\n",
      "07-10-2023  17:24    <DIR>          Contacts\n",
      "25-10-2023  10:46    <DIR>          Documents\n",
      "21-02-2024  22:13    <DIR>          Downloads\n",
      "07-10-2023  17:24    <DIR>          Favorites\n",
      "23-02-2024  21:06                86 greet.py\n",
      "07-10-2023  17:24    <DIR>          Links\n",
      "23-02-2024  21:19               165 main.py\n",
      "23-02-2024  21:06               253 module_3.py\n",
      "07-10-2023  17:24    <DIR>          Music\n",
      "21-02-2024  18:02    <DIR>          OneDrive\n",
      "10-02-2024  15:10    <DIR>          Python Class files\n",
      "07-10-2023  17:24    <DIR>          Saved Games\n",
      "09-10-2023  10:29    <DIR>          Searches\n",
      "23-02-2024  20:29             2,593 Untitled.ipynb\n",
      "23-02-2024  21:04                72 Untitled1.ipynb\n",
      "21-02-2024  21:43            34,884 Untitled2.ipynb\n",
      "23-02-2024  21:12            15,652 Untitled3.ipynb\n",
      "23-02-2024  21:16                72 Untitled4.ipynb\n",
      "25-01-2024  19:00    <DIR>          Videos\n",
      "               9 File(s)         53,802 bytes\n",
      "              25 Dir(s)  98,281,402,368 bytes free\n"
     ]
    }
   ],
   "source": [
    "ls"
   ]
  },
  {
   "cell_type": "code",
   "execution_count": 47,
   "id": "51e06368",
   "metadata": {},
   "outputs": [],
   "source": [
    "import main"
   ]
  },
  {
   "cell_type": "code",
   "execution_count": 48,
   "id": "78cc00d2",
   "metadata": {},
   "outputs": [
    {
     "name": "stdout",
     "output_type": "stream",
     "text": [
      "Enter a Number: 10\n",
      "ENter a second number: 20\n",
      "1020\n"
     ]
    }
   ],
   "source": [
    "%run main.py"
   ]
  },
  {
   "cell_type": "code",
   "execution_count": 49,
   "id": "2e6382da",
   "metadata": {},
   "outputs": [
    {
     "name": "stdout",
     "output_type": "stream",
     "text": [
      " Volume in drive C is Windows\n",
      " Volume Serial Number is 2E31-173E\n",
      "\n",
      " Directory of C:\\Users\\Mayank\n",
      "\n",
      "23-02-2024  21:20    <DIR>          .\n",
      "09-10-2023  10:35    <DIR>          ..\n",
      "07-10-2023  17:59    <DIR>          .anaconda\n",
      "14-02-2024  19:43    <DIR>          .conda\n",
      "07-10-2023  17:59                25 .condarc\n",
      "07-10-2023  17:59    <DIR>          .continuum\n",
      "23-02-2024  21:16    <DIR>          .ipynb_checkpoints\n",
      "07-10-2023  20:06    <DIR>          .ipython\n",
      "03-12-2023  09:22    <DIR>          .jupyter\n",
      "21-10-2023  20:16    <DIR>          .matplotlib\n",
      "07-10-2023  17:36    <DIR>          .ms-ad\n",
      "02-11-2023  10:27    <DIR>          .vscode\n",
      "23-02-2024  21:19    <DIR>          __pycache__\n",
      "16-01-2024  20:31    <DIR>          anaconda3\n",
      "05-01-2024  14:57    <DIR>          CampusX\n",
      "07-10-2023  17:24    <DIR>          Contacts\n",
      "25-10-2023  10:46    <DIR>          Documents\n",
      "21-02-2024  22:13    <DIR>          Downloads\n",
      "07-10-2023  17:24    <DIR>          Favorites\n",
      "23-02-2024  21:06                86 greet.py\n",
      "07-10-2023  17:24    <DIR>          Links\n",
      "23-02-2024  21:20               197 main.py\n",
      "23-02-2024  21:06               253 module_3.py\n",
      "07-10-2023  17:24    <DIR>          Music\n",
      "21-02-2024  18:02    <DIR>          OneDrive\n",
      "10-02-2024  15:10    <DIR>          Python Class files\n",
      "07-10-2023  17:24    <DIR>          Saved Games\n",
      "09-10-2023  10:29    <DIR>          Searches\n",
      "23-02-2024  20:29             2,593 Untitled.ipynb\n",
      "23-02-2024  21:04                72 Untitled1.ipynb\n",
      "21-02-2024  21:43            34,884 Untitled2.ipynb\n",
      "23-02-2024  21:20            18,729 Untitled3.ipynb\n",
      "23-02-2024  21:16                72 Untitled4.ipynb\n",
      "25-01-2024  19:00    <DIR>          Videos\n",
      "               9 File(s)         56,911 bytes\n",
      "              25 Dir(s)  98,311,680,000 bytes free\n"
     ]
    }
   ],
   "source": [
    "ls"
   ]
  },
  {
   "cell_type": "code",
   "execution_count": 50,
   "id": "4898bd3b",
   "metadata": {},
   "outputs": [],
   "source": [
    "import main"
   ]
  },
  {
   "cell_type": "code",
   "execution_count": 51,
   "id": "57785b46",
   "metadata": {},
   "outputs": [
    {
     "name": "stdout",
     "output_type": "stream",
     "text": [
      "Hello everyone!\n",
      "    Welcome to Python classes by Maynak\n",
      "Enter a Number: 10\n",
      "ENter a second number: 20\n",
      "30\n"
     ]
    }
   ],
   "source": [
    "%run main.py"
   ]
  },
  {
   "cell_type": "code",
   "execution_count": 54,
   "id": "d0277371",
   "metadata": {},
   "outputs": [
    {
     "name": "stdout",
     "output_type": "stream",
     "text": [
      " Volume in drive C is Windows\n",
      " Volume Serial Number is 2E31-173E\n",
      "\n",
      " Directory of C:\\Users\\Mayank\n",
      "\n",
      "23-02-2024  21:23    <DIR>          .\n",
      "09-10-2023  10:35    <DIR>          ..\n",
      "07-10-2023  17:59    <DIR>          .anaconda\n",
      "14-02-2024  19:43    <DIR>          .conda\n",
      "07-10-2023  17:59                25 .condarc\n",
      "07-10-2023  17:59    <DIR>          .continuum\n",
      "23-02-2024  21:16    <DIR>          .ipynb_checkpoints\n",
      "07-10-2023  20:06    <DIR>          .ipython\n",
      "03-12-2023  09:22    <DIR>          .jupyter\n",
      "21-10-2023  20:16    <DIR>          .matplotlib\n",
      "07-10-2023  17:36    <DIR>          .ms-ad\n",
      "02-11-2023  10:27    <DIR>          .vscode\n",
      "23-02-2024  21:19    <DIR>          __pycache__\n",
      "16-01-2024  20:31    <DIR>          anaconda3\n",
      "05-01-2024  14:57    <DIR>          CampusX\n",
      "07-10-2023  17:24    <DIR>          Contacts\n",
      "25-10-2023  10:46    <DIR>          Documents\n",
      "21-02-2024  22:13    <DIR>          Downloads\n",
      "07-10-2023  17:24    <DIR>          Favorites\n",
      "23-02-2024  21:06                86 greet.py\n",
      "07-10-2023  17:24    <DIR>          Links\n",
      "23-02-2024  21:23               193 main.py\n",
      "23-02-2024  21:22               193 main_1.py\n",
      "23-02-2024  21:06               253 module_3.py\n",
      "07-10-2023  17:24    <DIR>          Music\n",
      "21-02-2024  18:02    <DIR>          OneDrive\n",
      "10-02-2024  15:10    <DIR>          Python Class files\n",
      "07-10-2023  17:24    <DIR>          Saved Games\n",
      "09-10-2023  10:29    <DIR>          Searches\n",
      "23-02-2024  20:29             2,593 Untitled.ipynb\n",
      "23-02-2024  21:04                72 Untitled1.ipynb\n",
      "21-02-2024  21:43            34,884 Untitled2.ipynb\n",
      "23-02-2024  21:22            21,747 Untitled3.ipynb\n",
      "23-02-2024  21:16                72 Untitled4.ipynb\n",
      "25-01-2024  19:00    <DIR>          Videos\n",
      "              10 File(s)         60,118 bytes\n",
      "              25 Dir(s)  98,309,251,072 bytes free\n"
     ]
    }
   ],
   "source": [
    "ls"
   ]
  },
  {
   "cell_type": "code",
   "execution_count": 55,
   "id": "77d4bbbc",
   "metadata": {},
   "outputs": [
    {
     "name": "stdout",
     "output_type": "stream",
     "text": [
      "Hello everyone!\n",
      "    Welcome to Python classes by Maynak\n"
     ]
    }
   ],
   "source": [
    "import main_1"
   ]
  },
  {
   "cell_type": "code",
   "execution_count": 56,
   "id": "9874bae4",
   "metadata": {},
   "outputs": [
    {
     "name": "stdout",
     "output_type": "stream",
     "text": [
      "Hello everyone!\n",
      "    Welcome to Python classes by Maynak\n",
      "Enter a Number: 10\n",
      "ENter a second number: 20\n",
      "30\n"
     ]
    }
   ],
   "source": [
    "%run main_1.py"
   ]
  },
  {
   "cell_type": "code",
   "execution_count": 57,
   "id": "2f7da11b",
   "metadata": {},
   "outputs": [],
   "source": [
    "%run module_3.py"
   ]
  },
  {
   "cell_type": "code",
   "execution_count": 58,
   "id": "e566f00f",
   "metadata": {},
   "outputs": [
    {
     "name": "stdout",
     "output_type": "stream",
     "text": [
      " Volume in drive C is Windows\n",
      " Volume Serial Number is 2E31-173E\n",
      "\n",
      " Directory of C:\\Users\\Mayank\n",
      "\n",
      "23-02-2024  21:31    <DIR>          .\n",
      "09-10-2023  10:35    <DIR>          ..\n",
      "07-10-2023  17:59    <DIR>          .anaconda\n",
      "14-02-2024  19:43    <DIR>          .conda\n",
      "07-10-2023  17:59                25 .condarc\n",
      "07-10-2023  17:59    <DIR>          .continuum\n",
      "23-02-2024  21:16    <DIR>          .ipynb_checkpoints\n",
      "07-10-2023  20:06    <DIR>          .ipython\n",
      "03-12-2023  09:22    <DIR>          .jupyter\n",
      "21-10-2023  20:16    <DIR>          .matplotlib\n",
      "07-10-2023  17:36    <DIR>          .ms-ad\n",
      "02-11-2023  10:27    <DIR>          .vscode\n",
      "23-02-2024  21:23    <DIR>          __pycache__\n",
      "16-01-2024  20:31    <DIR>          anaconda3\n",
      "05-01-2024  14:57    <DIR>          CampusX\n",
      "07-10-2023  17:24    <DIR>          Contacts\n",
      "25-10-2023  10:46    <DIR>          Documents\n",
      "23-02-2024  21:30    <DIR>          Downloads\n",
      "07-10-2023  17:24    <DIR>          Favorites\n",
      "23-02-2024  21:06                86 greet.py\n",
      "07-10-2023  17:24    <DIR>          Links\n",
      "23-02-2024  21:23               193 main.py\n",
      "23-02-2024  21:22               193 main_1.py\n",
      "23-02-2024  21:31               253 module_3.py\n",
      "07-10-2023  17:24    <DIR>          Music\n",
      "21-02-2024  18:02    <DIR>          OneDrive\n",
      "10-02-2024  15:10    <DIR>          Python Class files\n",
      "07-10-2023  17:24    <DIR>          Saved Games\n",
      "09-10-2023  10:29    <DIR>          Searches\n",
      "23-02-2024  20:29             2,593 Untitled.ipynb\n",
      "23-02-2024  21:04                72 Untitled1.ipynb\n",
      "21-02-2024  21:43            34,884 Untitled2.ipynb\n",
      "23-02-2024  21:28            25,154 Untitled3.ipynb\n",
      "23-02-2024  21:16                72 Untitled4.ipynb\n",
      "25-01-2024  19:00    <DIR>          Videos\n",
      "              10 File(s)         63,525 bytes\n",
      "              25 Dir(s)  98,272,448,512 bytes free\n"
     ]
    }
   ],
   "source": [
    "ls"
   ]
  },
  {
   "cell_type": "code",
   "execution_count": 60,
   "id": "22a32259",
   "metadata": {},
   "outputs": [],
   "source": [
    "import main_1"
   ]
  },
  {
   "cell_type": "code",
   "execution_count": 61,
   "id": "85b2be80",
   "metadata": {},
   "outputs": [
    {
     "name": "stdout",
     "output_type": "stream",
     "text": [
      "Hello everyone!\n",
      "    Welcome to Python classes by Maynak\n",
      "Enter a Number: 20\n",
      "ENter a second number: 30\n",
      "50\n"
     ]
    }
   ],
   "source": [
    "%run main_1.py"
   ]
  },
  {
   "cell_type": "markdown",
   "id": "214838d4",
   "metadata": {},
   "source": [
    "### Namespace\n",
    "\n",
    "- A namespace is mapping from name(identifers) to object, variable and functions\n",
    "\n",
    "\n",
    "#### Types of Namespaces \n",
    "\n",
    "- Built-in Namespace\n",
    "- Global Namespace\n",
    "- Local Namespace"
   ]
  },
  {
   "cell_type": "markdown",
   "id": "f122bbc7",
   "metadata": {},
   "source": [
    "#### Built-in Namespaces \n",
    "\n",
    "- It refers to the namespace that contains the name of all the built-in functions, excepetion and the variables that are available to us without the need of explicit import statement"
   ]
  },
  {
   "cell_type": "code",
   "execution_count": 62,
   "id": "ccf8b8d9",
   "metadata": {},
   "outputs": [
    {
     "name": "stdout",
     "output_type": "stream",
     "text": [
      "['ArithmeticError', 'AssertionError', 'AttributeError', 'BaseException', 'BaseExceptionGroup', 'BlockingIOError', 'BrokenPipeError', 'BufferError', 'BytesWarning', 'ChildProcessError', 'ConnectionAbortedError', 'ConnectionError', 'ConnectionRefusedError', 'ConnectionResetError', 'DeprecationWarning', 'EOFError', 'Ellipsis', 'EncodingWarning', 'EnvironmentError', 'Exception', 'ExceptionGroup', 'False', 'FileExistsError', 'FileNotFoundError', 'FloatingPointError', 'FutureWarning', 'GeneratorExit', 'IOError', 'ImportError', 'ImportWarning', 'IndentationError', 'IndexError', 'InterruptedError', 'IsADirectoryError', 'KeyError', 'KeyboardInterrupt', 'LookupError', 'MemoryError', 'ModuleNotFoundError', 'NameError', 'None', 'NotADirectoryError', 'NotImplemented', 'NotImplementedError', 'OSError', 'OverflowError', 'PendingDeprecationWarning', 'PermissionError', 'ProcessLookupError', 'RecursionError', 'ReferenceError', 'ResourceWarning', 'RuntimeError', 'RuntimeWarning', 'StopAsyncIteration', 'StopIteration', 'SyntaxError', 'SyntaxWarning', 'SystemError', 'SystemExit', 'TabError', 'TimeoutError', 'True', 'TypeError', 'UnboundLocalError', 'UnicodeDecodeError', 'UnicodeEncodeError', 'UnicodeError', 'UnicodeTranslateError', 'UnicodeWarning', 'UserWarning', 'ValueError', 'Warning', 'WindowsError', 'ZeroDivisionError', '__IPYTHON__', '__build_class__', '__debug__', '__doc__', '__import__', '__loader__', '__name__', '__package__', '__spec__', 'abs', 'aiter', 'all', 'anext', 'any', 'ascii', 'bin', 'bool', 'breakpoint', 'bytearray', 'bytes', 'callable', 'chr', 'classmethod', 'compile', 'complex', 'copyright', 'credits', 'delattr', 'dict', 'dir', 'display', 'divmod', 'enumerate', 'eval', 'exec', 'execfile', 'filter', 'float', 'format', 'frozenset', 'get_ipython', 'getattr', 'globals', 'hasattr', 'hash', 'help', 'hex', 'id', 'input', 'int', 'isinstance', 'issubclass', 'iter', 'len', 'license', 'list', 'locals', 'map', 'max', 'memoryview', 'min', 'next', 'object', 'oct', 'open', 'ord', 'pow', 'print', 'property', 'range', 'repr', 'reversed', 'round', 'runfile', 'set', 'setattr', 'slice', 'sorted', 'staticmethod', 'str', 'sum', 'super', 'tuple', 'type', 'vars', 'zip']\n"
     ]
    }
   ],
   "source": [
    "print(dir(__builtins__))"
   ]
  },
  {
   "cell_type": "markdown",
   "id": "b368e837",
   "metadata": {},
   "source": [
    "#### Global Namespace\n",
    "\n",
    "- It refers to a namespace that is going to have all the names that are defined within a particular function or code\n",
    "- this namespace includes variable name, function name, class name and object name"
   ]
  },
  {
   "cell_type": "code",
   "execution_count": 63,
   "id": "8d9fb2c8",
   "metadata": {},
   "outputs": [
    {
     "name": "stdout",
     "output_type": "stream",
     "text": [
      "['In', 'Out', '_', '_10', '_21', '_22', '_23', '_27', '_32', '_33', '_34', '_35', '_36', '_38', '_39', '_40', '_5', '_6', '_9', '__', '___', '__builtin__', '__builtins__', '__doc__', '__loader__', '__name__', '__nonzero__', '__package__', '__spec__', '_dh', '_exit_code', '_i', '_i1', '_i10', '_i11', '_i12', '_i13', '_i14', '_i15', '_i16', '_i17', '_i18', '_i19', '_i2', '_i20', '_i21', '_i22', '_i23', '_i24', '_i25', '_i26', '_i27', '_i28', '_i29', '_i3', '_i30', '_i31', '_i32', '_i33', '_i34', '_i35', '_i36', '_i37', '_i38', '_i39', '_i4', '_i40', '_i41', '_i42', '_i43', '_i44', '_i45', '_i46', '_i47', '_i48', '_i49', '_i5', '_i50', '_i51', '_i52', '_i53', '_i54', '_i55', '_i56', '_i57', '_i58', '_i59', '_i6', '_i60', '_i61', '_i62', '_i63', '_i7', '_i8', '_i9', '_ih', '_ii', '_iii', '_oh', 'a', 'add', 'b', 'c', 'exit', 'expo', 'float_div', 'floor_div', 'get_ipython', 'greet', 'main', 'main_1', 'module_1', 'module_2', 'module_3', 'modulus', 'multiply', 'open', 'quit', 'sub']\n"
     ]
    }
   ],
   "source": [
    "print(dir())"
   ]
  },
  {
   "cell_type": "markdown",
   "id": "49b8e951",
   "metadata": {},
   "source": [
    "#### Local Namespace \n",
    "\n",
    "- This namespace is going to contain names defined within a particular function or code\n",
    "- Everytime a function is being called, a new local namespace is being created for the future scope"
   ]
  },
  {
   "cell_type": "code",
   "execution_count": 64,
   "id": "4b2ba0c7",
   "metadata": {},
   "outputs": [],
   "source": [
    "import keyword"
   ]
  },
  {
   "cell_type": "code",
   "execution_count": 65,
   "id": "ebee9c6c",
   "metadata": {},
   "outputs": [
    {
     "name": "stdout",
     "output_type": "stream",
     "text": [
      "['False', 'None', 'True', 'and', 'as', 'assert', 'async', 'await', 'break', 'class', 'continue', 'def', 'del', 'elif', 'else', 'except', 'finally', 'for', 'from', 'global', 'if', 'import', 'in', 'is', 'lambda', 'nonlocal', 'not', 'or', 'pass', 'raise', 'return', 'try', 'while', 'with', 'yield']\n"
     ]
    }
   ],
   "source": [
    "print(keyword.kwlist)"
   ]
  },
  {
   "cell_type": "code",
   "execution_count": null,
   "id": "01e408b7",
   "metadata": {},
   "outputs": [],
   "source": []
  }
 ],
 "metadata": {
  "kernelspec": {
   "display_name": "Python 3 (ipykernel)",
   "language": "python",
   "name": "python3"
  },
  "language_info": {
   "codemirror_mode": {
    "name": "ipython",
    "version": 3
   },
   "file_extension": ".py",
   "mimetype": "text/x-python",
   "name": "python",
   "nbconvert_exporter": "python",
   "pygments_lexer": "ipython3",
   "version": "3.11.5"
  }
 },
 "nbformat": 4,
 "nbformat_minor": 5
}
