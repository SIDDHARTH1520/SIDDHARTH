{
 "cells": [
  {
   "cell_type": "markdown",
   "id": "ed9a7b46",
   "metadata": {},
   "source": [
    "### Case-5  \n",
    "\n",
    "- By taking the input from user as well"
   ]
  },
  {
   "cell_type": "code",
   "execution_count": 1,
   "id": "515ae00d",
   "metadata": {},
   "outputs": [
    {
     "name": "stdout",
     "output_type": "stream",
     "text": [
      "Enter a dictionary: {1:100, 2:200, 3:300}\n",
      "{1:100, 2:200, 3:300} <class 'str'>\n"
     ]
    }
   ],
   "source": [
    "d = input(\"Enter a dictionary: \")\n",
    "print(d, type(d))"
   ]
  },
  {
   "cell_type": "code",
   "execution_count": 2,
   "id": "e7b6120d",
   "metadata": {},
   "outputs": [
    {
     "name": "stdout",
     "output_type": "stream",
     "text": [
      "Enter a dictionary: {1:100, 2:200, 3:300}\n",
      "{1: 100, 2: 200, 3: 300} <class 'dict'>\n"
     ]
    }
   ],
   "source": [
    "d = eval(input(\"Enter a dictionary: \"))\n",
    "print(d, type(d))"
   ]
  },
  {
   "cell_type": "code",
   "execution_count": 3,
   "id": "db87255e",
   "metadata": {},
   "outputs": [
    {
     "name": "stdout",
     "output_type": "stream",
     "text": [
      "Enter a key: 1\n",
      "Enter a value: 100\n",
      "Enter a key: 2\n",
      "Enter a value: 200\n",
      "Enter a key: 3\n",
      "Enter a value: 300\n",
      "Enter a key: 4\n",
      "Enter a value: 400\n",
      "{1: 100, 2: 200, 3: 300, 4: 400}\n"
     ]
    }
   ],
   "source": [
    "# we have to create two empty list that will store the keys and the values and at the end we can zip them together\n",
    "keys = []\n",
    "values = []\n",
    "\n",
    "# take the input from the user\n",
    "for i in range(4):\n",
    "    a = eval(input('Enter a key: '))\n",
    "    keys.append(a)\n",
    "    \n",
    "    b = eval(input('Enter a value: '))\n",
    "    values.append(b)\n",
    "    \n",
    "# zip both the list and typecast the result to a dictionary\n",
    "z = dict(zip(keys, values))\n",
    "print(z)"
   ]
  },
  {
   "cell_type": "code",
   "execution_count": 6,
   "id": "6e8d936d",
   "metadata": {},
   "outputs": [
    {
     "name": "stdout",
     "output_type": "stream",
     "text": [
      "Enter a key: 'Name'\n",
      "Enter a value: ['Mayank', 'Abha', 'Rishabh', 'Geetika']\n",
      "Enter a key: \"Age\"\n",
      "Enter a value: [29, 28, 28, 27]\n",
      "Enter a key: 'Salary'\n",
      "Enter a value: [96000, 75000, 100000, 65000]\n",
      "Enter a key: 'City'\n",
      "Enter a value: ['Goa', 'Pune', 'Bhopal', 'Noida']\n",
      "{'Name': ['Mayank', 'Abha', 'Rishabh', 'Geetika'], 'Age': [29, 28, 28, 27], 'Salary': [96000, 75000, 100000, 65000], 'City': ['Goa', 'Pune', 'Bhopal', 'Noida']}\n"
     ]
    }
   ],
   "source": [
    "# we have to create two empty list that will store the keys and the values and at the end we can zip them together\n",
    "keys = []\n",
    "values = []\n",
    "\n",
    "# take the input from the user\n",
    "for i in range(4):\n",
    "    a = eval(input('Enter a key: '))\n",
    "    keys.append(a)\n",
    "    \n",
    "    b = eval(input('Enter a value: '))\n",
    "    values.append(b)\n",
    "    \n",
    "# zip both the list and typecast the result to a dictionary\n",
    "z = dict(zip(keys, values))\n",
    "print(z)"
   ]
  },
  {
   "cell_type": "markdown",
   "id": "7f8029b6",
   "metadata": {},
   "source": [
    "#### Case-6 \n",
    "\n",
    "- Dictionary Comprehension\n",
    "\n",
    "    Syntax:\n",
    "    \n",
    "    {i: operation in i for i in range()}"
   ]
  },
  {
   "cell_type": "code",
   "execution_count": 7,
   "id": "a397a6e4",
   "metadata": {},
   "outputs": [
    {
     "name": "stdout",
     "output_type": "stream",
     "text": [
      "{1: 1, 2: 4, 3: 9, 4: 16, 5: 25, 6: 36, 7: 49, 8: 64, 9: 81, 10: 100}\n"
     ]
    }
   ],
   "source": [
    "# Create a dictionary taking number as the key and their squares as the values\n",
    "\n",
    "d = {i:i**2 for i in range(1,11)}\n",
    "print(d)"
   ]
  },
  {
   "cell_type": "code",
   "execution_count": 8,
   "id": "05427342",
   "metadata": {},
   "outputs": [
    {
     "name": "stdout",
     "output_type": "stream",
     "text": [
      "{1: 1, 3: 9, 5: 25, 7: 49, 9: 81}\n"
     ]
    }
   ],
   "source": [
    "# Create a dictionary taking number as the key and their squares as the values and will give the answer only for odd value\n",
    "\n",
    "d = {i:i**2 for i in range(1,11) if i%2 != 0}\n",
    "print(d)"
   ]
  },
  {
   "cell_type": "code",
   "execution_count": 10,
   "id": "b6101f25",
   "metadata": {},
   "outputs": [
    {
     "name": "stdout",
     "output_type": "stream",
     "text": [
      "{'A': 65, 'B': 66, 'C': 67, 'D': 68, 'E': 69, 'F': 70, 'G': 71, 'H': 72, 'I': 73, 'J': 74, 'K': 75, 'L': 76, 'M': 77, 'N': 78, 'O': 79, 'P': 80, 'Q': 81, 'R': 82, 'S': 83, 'T': 84, 'U': 85, 'V': 86, 'W': 87, 'X': 88, 'Y': 89, 'Z': 90}\n"
     ]
    }
   ],
   "source": [
    "# create a dictionary where the Capitals letters are the keys and their associated ASCII value are the values \n",
    "\n",
    "d1 = {chr(i):i for i in range(ord('A'),ord('Z')+1)}\n",
    "print(d1)\n"
   ]
  },
  {
   "cell_type": "code",
   "execution_count": 12,
   "id": "7c8537e9",
   "metadata": {},
   "outputs": [
    {
     "name": "stdout",
     "output_type": "stream",
     "text": [
      "{'A': 65, 'B': 66, 'C': 67, 'D': 68, 'E': 69, 'F': 70, 'G': 71, 'H': 72, 'I': 73, 'J': 74, 'K': 75, 'L': 76, 'M': 77, 'N': 78, 'O': 79, 'P': 80, 'Q': 81, 'R': 82, 'S': 83, 'T': 84, 'U': 85, 'V': 86, 'W': 87, 'X': 88, 'Y': 89, 'Z': 90}\n"
     ]
    }
   ],
   "source": [
    "d={chr(i):ord(chr(i)) for i in range(65,91)}\n",
    "print(d)"
   ]
  },
  {
   "cell_type": "code",
   "execution_count": 13,
   "id": "06073c43",
   "metadata": {},
   "outputs": [
    {
     "data": {
      "text/plain": [
       "{'Name': ['Mayank', 'Abha', 'Rishabh', 'Geetika'],\n",
       " 'Age': [29, 28, 28, 27],\n",
       " 'Salary': [96000, 75000, 100000, 65000],\n",
       " 'City': ['Goa', 'Pune', 'Bhopal', 'Noida']}"
      ]
     },
     "execution_count": 13,
     "metadata": {},
     "output_type": "execute_result"
    }
   ],
   "source": [
    "z"
   ]
  },
  {
   "cell_type": "code",
   "execution_count": 14,
   "id": "3fa6ae0c",
   "metadata": {},
   "outputs": [
    {
     "data": {
      "text/html": [
       "<div>\n",
       "<style scoped>\n",
       "    .dataframe tbody tr th:only-of-type {\n",
       "        vertical-align: middle;\n",
       "    }\n",
       "\n",
       "    .dataframe tbody tr th {\n",
       "        vertical-align: top;\n",
       "    }\n",
       "\n",
       "    .dataframe thead th {\n",
       "        text-align: right;\n",
       "    }\n",
       "</style>\n",
       "<table border=\"1\" class=\"dataframe\">\n",
       "  <thead>\n",
       "    <tr style=\"text-align: right;\">\n",
       "      <th></th>\n",
       "      <th>Name</th>\n",
       "      <th>Age</th>\n",
       "      <th>Salary</th>\n",
       "      <th>City</th>\n",
       "    </tr>\n",
       "  </thead>\n",
       "  <tbody>\n",
       "    <tr>\n",
       "      <th>0</th>\n",
       "      <td>Mayank</td>\n",
       "      <td>29</td>\n",
       "      <td>96000</td>\n",
       "      <td>Goa</td>\n",
       "    </tr>\n",
       "    <tr>\n",
       "      <th>1</th>\n",
       "      <td>Abha</td>\n",
       "      <td>28</td>\n",
       "      <td>75000</td>\n",
       "      <td>Pune</td>\n",
       "    </tr>\n",
       "    <tr>\n",
       "      <th>2</th>\n",
       "      <td>Rishabh</td>\n",
       "      <td>28</td>\n",
       "      <td>100000</td>\n",
       "      <td>Bhopal</td>\n",
       "    </tr>\n",
       "    <tr>\n",
       "      <th>3</th>\n",
       "      <td>Geetika</td>\n",
       "      <td>27</td>\n",
       "      <td>65000</td>\n",
       "      <td>Noida</td>\n",
       "    </tr>\n",
       "  </tbody>\n",
       "</table>\n",
       "</div>"
      ],
      "text/plain": [
       "      Name  Age  Salary    City\n",
       "0   Mayank   29   96000     Goa\n",
       "1     Abha   28   75000    Pune\n",
       "2  Rishabh   28  100000  Bhopal\n",
       "3  Geetika   27   65000   Noida"
      ]
     },
     "execution_count": 14,
     "metadata": {},
     "output_type": "execute_result"
    }
   ],
   "source": [
    "import pandas as pd\n",
    "pd.DataFrame(z)"
   ]
  },
  {
   "cell_type": "markdown",
   "id": "b28612fc",
   "metadata": {},
   "source": [
    "### Nested Dictionary \n",
    "\n",
    "- A dictionary within another dictionary is known as Nested Dictionary\n",
    "- In nested dictionary a dictionary is mappend to a key of another dictionary \n",
    "\n",
    "    Syntax:\n",
    "     \n",
    "         {key:{Key:value}}"
   ]
  },
  {
   "cell_type": "code",
   "execution_count": 15,
   "id": "e880362e",
   "metadata": {},
   "outputs": [],
   "source": [
    "emp_1 = {'Name':'Rajesh', 'age':32, 'ID':101, 'salary':45000}\n",
    "emp_2 = {'Name':'Pooja', 'age':26, 'ID':102, 'salary':48000}\n",
    "emp_3 = {'Name':'Nishi', 'age':26, 'ID':103, 'salary':50000}"
   ]
  },
  {
   "cell_type": "code",
   "execution_count": 16,
   "id": "2d2ee9bd",
   "metadata": {},
   "outputs": [],
   "source": [
    "emp_detail = {'emp_1_detail':emp_1, 'emp_2_detail':emp_2, 'emp_3_detail':emp_3}"
   ]
  },
  {
   "cell_type": "code",
   "execution_count": 18,
   "id": "3648fab8",
   "metadata": {},
   "outputs": [
    {
     "data": {
      "text/plain": [
       "{'emp_1_detail': {'Name': 'Rajesh', 'age': 32, 'ID': 101, 'salary': 45000},\n",
       " 'emp_2_detail': {'Name': 'Pooja', 'age': 26, 'ID': 102, 'salary': 48000},\n",
       " 'emp_3_detail': {'Name': 'Nishi', 'age': 26, 'ID': 103, 'salary': 50000}}"
      ]
     },
     "execution_count": 18,
     "metadata": {},
     "output_type": "execute_result"
    }
   ],
   "source": [
    "emp_detail"
   ]
  },
  {
   "cell_type": "code",
   "execution_count": 19,
   "id": "6ba56f6b",
   "metadata": {},
   "outputs": [
    {
     "data": {
      "text/plain": [
       "{'Name': 'Rajesh', 'age': 32, 'ID': 101, 'salary': 45000}"
      ]
     },
     "execution_count": 19,
     "metadata": {},
     "output_type": "execute_result"
    }
   ],
   "source": [
    "# Fetch out the details of the first employee\n",
    "emp_detail['emp_1_detail']"
   ]
  },
  {
   "cell_type": "code",
   "execution_count": 20,
   "id": "8bfba206",
   "metadata": {},
   "outputs": [
    {
     "name": "stdout",
     "output_type": "stream",
     "text": [
      "{'Name': 'Rajesh', 'age': 32, 'ID': 101, 'salary': 45000}\n",
      "{'Name': 'Pooja', 'age': 26, 'ID': 102, 'salary': 48000}\n",
      "{'Name': 'Nishi', 'age': 26, 'ID': 103, 'salary': 50000}\n"
     ]
    }
   ],
   "source": [
    "for i in emp_detail:\n",
    "    print(emp_detail[i])"
   ]
  },
  {
   "cell_type": "code",
   "execution_count": 21,
   "id": "6abf6621",
   "metadata": {},
   "outputs": [
    {
     "name": "stdout",
     "output_type": "stream",
     "text": [
      "Rajesh\n",
      "Pooja\n",
      "Nishi\n"
     ]
    }
   ],
   "source": [
    "# Fetch out the Names of all the employee\n",
    "\n",
    "for i in emp_detail:\n",
    "    print(emp_detail[i]['Name'])"
   ]
  },
  {
   "cell_type": "markdown",
   "id": "92cd419e",
   "metadata": {},
   "source": [
    "### Dictionary are Mutable"
   ]
  },
  {
   "cell_type": "code",
   "execution_count": 22,
   "id": "38cbeb66",
   "metadata": {},
   "outputs": [
    {
     "data": {
      "text/plain": [
       "{'emp_1_detail': {'Name': 'Rajesh', 'age': 32, 'ID': 101, 'salary': 45000},\n",
       " 'emp_2_detail': {'Name': 'Pooja', 'age': 26, 'ID': 102, 'salary': 48000},\n",
       " 'emp_3_detail': {'Name': 'Nishi', 'age': 26, 'ID': 103, 'salary': 50000}}"
      ]
     },
     "execution_count": 22,
     "metadata": {},
     "output_type": "execute_result"
    }
   ],
   "source": [
    "emp_detail"
   ]
  },
  {
   "cell_type": "code",
   "execution_count": 23,
   "id": "aa287830",
   "metadata": {},
   "outputs": [],
   "source": [
    "emp_detail['emp_1_detail'] = {'Name': 'Mayank', 'age': 29, 'ID': 26, 'salary': 45000}"
   ]
  },
  {
   "cell_type": "code",
   "execution_count": 24,
   "id": "ceaafa5f",
   "metadata": {},
   "outputs": [
    {
     "data": {
      "text/plain": [
       "{'emp_1_detail': {'Name': 'Mayank', 'age': 29, 'ID': 26, 'salary': 45000},\n",
       " 'emp_2_detail': {'Name': 'Pooja', 'age': 26, 'ID': 102, 'salary': 48000},\n",
       " 'emp_3_detail': {'Name': 'Nishi', 'age': 26, 'ID': 103, 'salary': 50000}}"
      ]
     },
     "execution_count": 24,
     "metadata": {},
     "output_type": "execute_result"
    }
   ],
   "source": [
    "emp_detail"
   ]
  },
  {
   "cell_type": "code",
   "execution_count": 25,
   "id": "eab63517",
   "metadata": {},
   "outputs": [],
   "source": [
    "emp_detail['emp_1_detail']['Name'] = 'Rajesh'"
   ]
  },
  {
   "cell_type": "code",
   "execution_count": 26,
   "id": "dbff7824",
   "metadata": {},
   "outputs": [
    {
     "data": {
      "text/plain": [
       "{'emp_1_detail': {'Name': 'Rajesh', 'age': 29, 'ID': 26, 'salary': 45000},\n",
       " 'emp_2_detail': {'Name': 'Pooja', 'age': 26, 'ID': 102, 'salary': 48000},\n",
       " 'emp_3_detail': {'Name': 'Nishi', 'age': 26, 'ID': 103, 'salary': 50000}}"
      ]
     },
     "execution_count": 26,
     "metadata": {},
     "output_type": "execute_result"
    }
   ],
   "source": [
    "emp_detail"
   ]
  },
  {
   "cell_type": "markdown",
   "id": "6ffec0b0",
   "metadata": {},
   "source": [
    "#### How to iterate over a nested dictionary ?"
   ]
  },
  {
   "cell_type": "code",
   "execution_count": 29,
   "id": "3c26e29b",
   "metadata": {},
   "outputs": [
    {
     "data": {
      "text/plain": [
       "{'emp_1_detail': {'Name': 'Rajesh', 'age': 29, 'ID': 26, 'salary': 45000},\n",
       " 'emp_2_detail': {'Name': 'Pooja', 'age': 26, 'ID': 102, 'salary': 48000},\n",
       " 'emp_3_detail': {'Name': 'Nishi', 'age': 26, 'ID': 103, 'salary': 50000}}"
      ]
     },
     "execution_count": 29,
     "metadata": {},
     "output_type": "execute_result"
    }
   ],
   "source": [
    "emp_detail"
   ]
  },
  {
   "cell_type": "code",
   "execution_count": 31,
   "id": "db67e9ee",
   "metadata": {},
   "outputs": [
    {
     "name": "stdout",
     "output_type": "stream",
     "text": [
      "emp_1_detail\n",
      "emp_2_detail\n",
      "emp_3_detail\n"
     ]
    }
   ],
   "source": [
    "# here we are iterating over the keys of emp_detail\n",
    "for i in emp_detail:\n",
    "    print(i)"
   ]
  },
  {
   "cell_type": "code",
   "execution_count": 32,
   "id": "405dd970",
   "metadata": {},
   "outputs": [
    {
     "name": "stdout",
     "output_type": "stream",
     "text": [
      "{'Name': 'Rajesh', 'age': 29, 'ID': 26, 'salary': 45000}\n",
      "{'Name': 'Pooja', 'age': 26, 'ID': 102, 'salary': 48000}\n",
      "{'Name': 'Nishi', 'age': 26, 'ID': 103, 'salary': 50000}\n"
     ]
    }
   ],
   "source": [
    "# here we are iterating over the values of emp_detail\n",
    "for i in emp_detail:\n",
    "    print(emp_detail[i])"
   ]
  },
  {
   "cell_type": "code",
   "execution_count": 36,
   "id": "ebbc898c",
   "metadata": {},
   "outputs": [
    {
     "name": "stdout",
     "output_type": "stream",
     "text": [
      "Rajesh 29 45000 26\n",
      "Pooja 26 48000 102\n",
      "Nishi 26 50000 103\n"
     ]
    }
   ],
   "source": [
    "# fetch out the names , age , salary and ID of all the employee\n",
    "\n",
    "for i in emp_detail:\n",
    "    print(emp_detail[i]['Name'],emp_detail[i]['age'], emp_detail[i]['salary'], emp_detail[i]['ID'] )"
   ]
  },
  {
   "cell_type": "code",
   "execution_count": 40,
   "id": "41ea38d9",
   "metadata": {},
   "outputs": [],
   "source": [
    "emp_1 = {'Name':'Rajesh', 'age':32, 'ID':101, 'salary':45000,'city':'Cochin'}\n",
    "emp_2 = {'Name':'Pooja', 'age':26, 'ID':102, 'salary':48000, }\n",
    "emp_3 = {'Name':'Nishi', 'age':26, 'ID':103, 'salary':50000,}"
   ]
  },
  {
   "cell_type": "code",
   "execution_count": 41,
   "id": "53dfcdec",
   "metadata": {},
   "outputs": [],
   "source": [
    "emp_detail = {'emp_1_detail':emp_1, 'emp_2_detail':emp_2, 'emp_3_detail':emp_3}"
   ]
  },
  {
   "cell_type": "code",
   "execution_count": 42,
   "id": "efac27bb",
   "metadata": {},
   "outputs": [
    {
     "data": {
      "text/plain": [
       "{'emp_1_detail': {'Name': 'Rajesh',\n",
       "  'age': 32,\n",
       "  'ID': 101,\n",
       "  'salary': 45000,\n",
       "  'city': 'Cochin'},\n",
       " 'emp_2_detail': {'Name': 'Pooja', 'age': 26, 'ID': 102, 'salary': 48000},\n",
       " 'emp_3_detail': {'Name': 'Nishi', 'age': 26, 'ID': 103, 'salary': 50000}}"
      ]
     },
     "execution_count": 42,
     "metadata": {},
     "output_type": "execute_result"
    }
   ],
   "source": [
    "emp_detail"
   ]
  },
  {
   "cell_type": "code",
   "execution_count": 43,
   "id": "ca1773f4",
   "metadata": {},
   "outputs": [],
   "source": [
    "emp_1 = {'Name':'Rajesh', 'age':32, 'ID':101, 'salary':45000,'city':'Cochin'}\n",
    "emp_2 = {'Name':'Pooja', 'age':26, 'ID':102, 'salary':48000,'city':None }\n",
    "emp_3 = {'Name':'Nishi', 'age':26, 'ID':103, 'salary':50000,'city':'Goa'}"
   ]
  },
  {
   "cell_type": "code",
   "execution_count": 44,
   "id": "83273951",
   "metadata": {},
   "outputs": [],
   "source": [
    "emp_detail = {'emp_1_detail':emp_1, 'emp_2_detail':emp_2, 'emp_3_detail':emp_3}"
   ]
  },
  {
   "cell_type": "code",
   "execution_count": 45,
   "id": "1ba0fd53",
   "metadata": {},
   "outputs": [
    {
     "data": {
      "text/plain": [
       "{'emp_1_detail': {'Name': 'Rajesh',\n",
       "  'age': 32,\n",
       "  'ID': 101,\n",
       "  'salary': 45000,\n",
       "  'city': 'Cochin'},\n",
       " 'emp_2_detail': {'Name': 'Pooja',\n",
       "  'age': 26,\n",
       "  'ID': 102,\n",
       "  'salary': 48000,\n",
       "  'city': None},\n",
       " 'emp_3_detail': {'Name': 'Nishi',\n",
       "  'age': 26,\n",
       "  'ID': 103,\n",
       "  'salary': 50000,\n",
       "  'city': 'Goa'}}"
      ]
     },
     "execution_count": 45,
     "metadata": {},
     "output_type": "execute_result"
    }
   ],
   "source": [
    "emp_detail"
   ]
  },
  {
   "cell_type": "code",
   "execution_count": 48,
   "id": "ceba75e7",
   "metadata": {},
   "outputs": [],
   "source": [
    "for i in emp_detail:\n",
    "    if emp_detail[i]['Name'] == 'Rajesh' and emp_detail[i]['ID'] == 101:\n",
    "        emp_detail[i]['city'] = 'Bengaluru'"
   ]
  },
  {
   "cell_type": "code",
   "execution_count": 49,
   "id": "4aec6b47",
   "metadata": {},
   "outputs": [
    {
     "data": {
      "text/plain": [
       "{'emp_1_detail': {'Name': 'Rajesh',\n",
       "  'age': 32,\n",
       "  'ID': 101,\n",
       "  'salary': 45000,\n",
       "  'city': 'Bengaluru'},\n",
       " 'emp_2_detail': {'Name': 'Pooja',\n",
       "  'age': 26,\n",
       "  'ID': 102,\n",
       "  'salary': 48000,\n",
       "  'city': None},\n",
       " 'emp_3_detail': {'Name': 'Nishi',\n",
       "  'age': 26,\n",
       "  'ID': 103,\n",
       "  'salary': 50000,\n",
       "  'city': 'Goa'}}"
      ]
     },
     "execution_count": 49,
     "metadata": {},
     "output_type": "execute_result"
    }
   ],
   "source": [
    "emp_detail"
   ]
  },
  {
   "cell_type": "code",
   "execution_count": 50,
   "id": "7f6eff37",
   "metadata": {},
   "outputs": [],
   "source": [
    "for i in emp_detail:\n",
    "    if emp_detail[i]['Name'] == 'Pooja' and emp_detail[i]['ID'] == 101:\n",
    "        emp_detail[i]['city'] = 'Noida'"
   ]
  },
  {
   "cell_type": "code",
   "execution_count": 51,
   "id": "eb16fb3a",
   "metadata": {},
   "outputs": [
    {
     "data": {
      "text/plain": [
       "{'emp_1_detail': {'Name': 'Rajesh',\n",
       "  'age': 32,\n",
       "  'ID': 101,\n",
       "  'salary': 45000,\n",
       "  'city': 'Bengaluru'},\n",
       " 'emp_2_detail': {'Name': 'Pooja',\n",
       "  'age': 26,\n",
       "  'ID': 102,\n",
       "  'salary': 48000,\n",
       "  'city': None},\n",
       " 'emp_3_detail': {'Name': 'Nishi',\n",
       "  'age': 26,\n",
       "  'ID': 103,\n",
       "  'salary': 50000,\n",
       "  'city': 'Goa'}}"
      ]
     },
     "execution_count": 51,
     "metadata": {},
     "output_type": "execute_result"
    }
   ],
   "source": [
    "emp_detail"
   ]
  },
  {
   "cell_type": "markdown",
   "id": "94b58073",
   "metadata": {},
   "source": [
    "### Methods"
   ]
  },
  {
   "cell_type": "code",
   "execution_count": 52,
   "id": "bf7587f9",
   "metadata": {},
   "outputs": [
    {
     "name": "stdout",
     "output_type": "stream",
     "text": [
      "['__class__', '__class_getitem__', '__contains__', '__delattr__', '__delitem__', '__dir__', '__doc__', '__eq__', '__format__', '__ge__', '__getattribute__', '__getitem__', '__getstate__', '__gt__', '__hash__', '__init__', '__init_subclass__', '__ior__', '__iter__', '__le__', '__len__', '__lt__', '__ne__', '__new__', '__or__', '__reduce__', '__reduce_ex__', '__repr__', '__reversed__', '__ror__', '__setattr__', '__setitem__', '__sizeof__', '__str__', '__subclasshook__', 'clear', 'copy', 'fromkeys', 'get', 'items', 'keys', 'pop', 'popitem', 'setdefault', 'update', 'values']\n"
     ]
    }
   ],
   "source": [
    "print(dir(dict))"
   ]
  },
  {
   "cell_type": "markdown",
   "id": "927c354e",
   "metadata": {},
   "source": [
    "### keys()\n",
    "\n",
    "- It returns a dictionary object, the dictionary key object contains a list of keys from the dictionary"
   ]
  },
  {
   "cell_type": "code",
   "execution_count": 54,
   "id": "4c0e0ee5",
   "metadata": {},
   "outputs": [
    {
     "data": {
      "text/plain": [
       "{1: 1, 2: 4, 3: 9, 4: 16, 5: 25, 6: 36, 7: 49, 8: 64, 9: 81, 10: 100}"
      ]
     },
     "execution_count": 54,
     "metadata": {},
     "output_type": "execute_result"
    }
   ],
   "source": [
    "d = {i:i**2 for i in range(1,11)}\n",
    "d"
   ]
  },
  {
   "cell_type": "code",
   "execution_count": 55,
   "id": "b3515b64",
   "metadata": {},
   "outputs": [
    {
     "name": "stdout",
     "output_type": "stream",
     "text": [
      "dict_keys([1, 2, 3, 4, 5, 6, 7, 8, 9, 10]) <class 'dict_keys'>\n"
     ]
    }
   ],
   "source": [
    "a = d.keys()\n",
    "print(a, type(a))"
   ]
  },
  {
   "cell_type": "code",
   "execution_count": 56,
   "id": "ac3891c8",
   "metadata": {},
   "outputs": [
    {
     "data": {
      "text/plain": [
       "{'emp_1_detail': {'Name': 'Rajesh',\n",
       "  'age': 32,\n",
       "  'ID': 101,\n",
       "  'salary': 45000,\n",
       "  'city': 'Bengaluru'},\n",
       " 'emp_2_detail': {'Name': 'Pooja',\n",
       "  'age': 26,\n",
       "  'ID': 102,\n",
       "  'salary': 48000,\n",
       "  'city': None},\n",
       " 'emp_3_detail': {'Name': 'Nishi',\n",
       "  'age': 26,\n",
       "  'ID': 103,\n",
       "  'salary': 50000,\n",
       "  'city': 'Goa'}}"
      ]
     },
     "execution_count": 56,
     "metadata": {},
     "output_type": "execute_result"
    }
   ],
   "source": [
    "emp_detail"
   ]
  },
  {
   "cell_type": "code",
   "execution_count": 57,
   "id": "ca5c6d47",
   "metadata": {},
   "outputs": [
    {
     "data": {
      "text/plain": [
       "dict_keys(['emp_1_detail', 'emp_2_detail', 'emp_3_detail'])"
      ]
     },
     "execution_count": 57,
     "metadata": {},
     "output_type": "execute_result"
    }
   ],
   "source": [
    "emp_detail.keys()"
   ]
  },
  {
   "cell_type": "markdown",
   "id": "98cb6863",
   "metadata": {},
   "source": [
    "#### Inner Keys"
   ]
  },
  {
   "cell_type": "code",
   "execution_count": 58,
   "id": "7a6a4ca3",
   "metadata": {
    "scrolled": true
   },
   "outputs": [
    {
     "name": "stdout",
     "output_type": "stream",
     "text": [
      "dict_keys(['Name', 'age', 'ID', 'salary', 'city'])\n",
      "dict_keys(['Name', 'age', 'ID', 'salary', 'city'])\n",
      "dict_keys(['Name', 'age', 'ID', 'salary', 'city'])\n"
     ]
    }
   ],
   "source": [
    "for i in emp_detail:\n",
    "    print(emp_detail[i].keys())"
   ]
  },
  {
   "cell_type": "markdown",
   "id": "b70c37d8",
   "metadata": {},
   "source": [
    "### values()\n",
    "\n",
    "- It returns a dictionary value object, the dictionary value object contains a list of the values from the dictionary"
   ]
  },
  {
   "cell_type": "code",
   "execution_count": 59,
   "id": "428190ba",
   "metadata": {},
   "outputs": [
    {
     "data": {
      "text/plain": [
       "{1: 1, 2: 4, 3: 9, 4: 16, 5: 25, 6: 36, 7: 49, 8: 64, 9: 81, 10: 100}"
      ]
     },
     "execution_count": 59,
     "metadata": {},
     "output_type": "execute_result"
    }
   ],
   "source": [
    "d"
   ]
  },
  {
   "cell_type": "code",
   "execution_count": 60,
   "id": "19bc1fa9",
   "metadata": {},
   "outputs": [
    {
     "data": {
      "text/plain": [
       "dict_values([1, 4, 9, 16, 25, 36, 49, 64, 81, 100])"
      ]
     },
     "execution_count": 60,
     "metadata": {},
     "output_type": "execute_result"
    }
   ],
   "source": [
    "d.values()"
   ]
  },
  {
   "cell_type": "code",
   "execution_count": 61,
   "id": "26364d93",
   "metadata": {},
   "outputs": [
    {
     "data": {
      "text/plain": [
       "dict_values([{'Name': 'Rajesh', 'age': 32, 'ID': 101, 'salary': 45000, 'city': 'Bengaluru'}, {'Name': 'Pooja', 'age': 26, 'ID': 102, 'salary': 48000, 'city': None}, {'Name': 'Nishi', 'age': 26, 'ID': 103, 'salary': 50000, 'city': 'Goa'}])"
      ]
     },
     "execution_count": 61,
     "metadata": {},
     "output_type": "execute_result"
    }
   ],
   "source": [
    "emp_detail.values()"
   ]
  },
  {
   "cell_type": "markdown",
   "id": "e5c16183",
   "metadata": {},
   "source": [
    "#### Inner values \n"
   ]
  },
  {
   "cell_type": "code",
   "execution_count": 62,
   "id": "a9de9e2e",
   "metadata": {},
   "outputs": [
    {
     "name": "stdout",
     "output_type": "stream",
     "text": [
      "dict_values(['Rajesh', 32, 101, 45000, 'Bengaluru'])\n",
      "dict_values(['Pooja', 26, 102, 48000, None])\n",
      "dict_values(['Nishi', 26, 103, 50000, 'Goa'])\n"
     ]
    }
   ],
   "source": [
    "for i in emp_detail:\n",
    "    print(emp_detail[i].values())"
   ]
  },
  {
   "cell_type": "markdown",
   "id": "69c3bd0b",
   "metadata": {},
   "source": [
    "### items()\n",
    "\n",
    "- It returns a dictionary item object, that contains a list of tuples, and the tuple will have two elements in it\n",
    "- The first element of the tuple is the keys and the second element of the tuple is the values associated to that key"
   ]
  },
  {
   "cell_type": "code",
   "execution_count": 63,
   "id": "db10f576",
   "metadata": {},
   "outputs": [
    {
     "data": {
      "text/plain": [
       "{1: 1, 2: 4, 3: 9, 4: 16, 5: 25, 6: 36, 7: 49, 8: 64, 9: 81, 10: 100}"
      ]
     },
     "execution_count": 63,
     "metadata": {},
     "output_type": "execute_result"
    }
   ],
   "source": [
    "d"
   ]
  },
  {
   "cell_type": "code",
   "execution_count": 64,
   "id": "c57a09a9",
   "metadata": {},
   "outputs": [
    {
     "data": {
      "text/plain": [
       "dict_items([(1, 1), (2, 4), (3, 9), (4, 16), (5, 25), (6, 36), (7, 49), (8, 64), (9, 81), (10, 100)])"
      ]
     },
     "execution_count": 64,
     "metadata": {},
     "output_type": "execute_result"
    }
   ],
   "source": [
    "d.items()"
   ]
  },
  {
   "cell_type": "markdown",
   "id": "30ac22e4",
   "metadata": {},
   "source": [
    "#### Inner items "
   ]
  },
  {
   "cell_type": "code",
   "execution_count": 65,
   "id": "fe46636b",
   "metadata": {},
   "outputs": [
    {
     "name": "stdout",
     "output_type": "stream",
     "text": [
      "dict_items([('Name', 'Rajesh'), ('age', 32), ('ID', 101), ('salary', 45000), ('city', 'Bengaluru')])\n",
      "dict_items([('Name', 'Pooja'), ('age', 26), ('ID', 102), ('salary', 48000), ('city', None)])\n",
      "dict_items([('Name', 'Nishi'), ('age', 26), ('ID', 103), ('salary', 50000), ('city', 'Goa')])\n"
     ]
    }
   ],
   "source": [
    "for i in emp_detail:\n",
    "    print(emp_detail[i].items())"
   ]
  },
  {
   "cell_type": "code",
   "execution_count": 66,
   "id": "5a21c92b",
   "metadata": {},
   "outputs": [
    {
     "data": {
      "text/plain": [
       "{'emp_1_detail': {'Name': 'Rajesh',\n",
       "  'age': 32,\n",
       "  'ID': 101,\n",
       "  'salary': 45000,\n",
       "  'city': 'Bengaluru'},\n",
       " 'emp_2_detail': {'Name': 'Pooja',\n",
       "  'age': 26,\n",
       "  'ID': 102,\n",
       "  'salary': 48000,\n",
       "  'city': None},\n",
       " 'emp_3_detail': {'Name': 'Nishi',\n",
       "  'age': 26,\n",
       "  'ID': 103,\n",
       "  'salary': 50000,\n",
       "  'city': 'Goa'}}"
      ]
     },
     "execution_count": 66,
     "metadata": {},
     "output_type": "execute_result"
    }
   ],
   "source": [
    "emp_detail"
   ]
  },
  {
   "cell_type": "code",
   "execution_count": 67,
   "id": "f39347a0",
   "metadata": {},
   "outputs": [
    {
     "name": "stdout",
     "output_type": "stream",
     "text": [
      "emp_1_detail\n",
      "{'Name': 'Rajesh', 'age': 32, 'ID': 101, 'salary': 45000, 'city': 'Bengaluru'}\n",
      "------------------\n",
      "emp_2_detail\n",
      "{'Name': 'Pooja', 'age': 26, 'ID': 102, 'salary': 48000, 'city': None}\n",
      "------------------\n",
      "emp_3_detail\n",
      "{'Name': 'Nishi', 'age': 26, 'ID': 103, 'salary': 50000, 'city': 'Goa'}\n",
      "------------------\n"
     ]
    }
   ],
   "source": [
    "for i, j in emp_detail.items():\n",
    "    print(i)\n",
    "    print(j)\n",
    "    print('------------------')"
   ]
  },
  {
   "cell_type": "code",
   "execution_count": 73,
   "id": "eb266ff8",
   "metadata": {},
   "outputs": [
    {
     "name": "stdout",
     "output_type": "stream",
     "text": [
      "emp_1_detail\n",
      "{'Name': 'Rajesh', 'age': 32, 'ID': 101, 'salary': 45000, 'city': 'Bengaluru'}\n",
      "------------------\n",
      "('Name', 'Rajesh')\n",
      "('age', 32)\n",
      "('ID', 101)\n",
      "('salary', 45000)\n",
      "('city', 'Bengaluru')\n",
      "--------------------------------------------------\n",
      "emp_2_detail\n",
      "{'Name': 'Pooja', 'age': 26, 'ID': 102, 'salary': 48000, 'city': None}\n",
      "------------------\n",
      "('Name', 'Pooja')\n",
      "('age', 26)\n",
      "('ID', 102)\n",
      "('salary', 48000)\n",
      "('city', None)\n",
      "--------------------------------------------------\n",
      "emp_3_detail\n",
      "{'Name': 'Nishi', 'age': 26, 'ID': 103, 'salary': 50000, 'city': 'Goa'}\n",
      "------------------\n",
      "('Name', 'Nishi')\n",
      "('age', 26)\n",
      "('ID', 103)\n",
      "('salary', 50000)\n",
      "('city', 'Goa')\n",
      "--------------------------------------------------\n"
     ]
    }
   ],
   "source": [
    "for i, j in emp_detail.items(): # fetching the values from the outer dictionary \n",
    "    print(i)\n",
    "    print(j)\n",
    "    print('------------------')\n",
    "    for x in j.items(): # fetching the values from the inner dictionary\n",
    "        print(x)\n",
    "    print('--------------------------------------------------')"
   ]
  },
  {
   "cell_type": "markdown",
   "id": "f8a57c90",
   "metadata": {},
   "source": [
    "### update()\n",
    "\n",
    "- It is used to update the elements of one dictioanry to another dictionary \n",
    "- It is used to combine two dictionary\n",
    "    \n",
    "    Syntax:\n",
    "        \n",
    "        dict_1.update(dict_2)\n",
    "        \n",
    "__Note:__ \n",
    "\n",
    "   - update() method takes a dictionary as an argument\n",
    "   - The elements of dictionary_2 will be added or updated to the dictionary_1"
   ]
  },
  {
   "cell_type": "code",
   "execution_count": 82,
   "id": "d73f049a",
   "metadata": {},
   "outputs": [
    {
     "data": {
      "text/plain": [
       "{2: 4, 4: 16, 6: 36, 8: 64, 10: 100}"
      ]
     },
     "execution_count": 82,
     "metadata": {},
     "output_type": "execute_result"
    }
   ],
   "source": [
    "d = {i:i**2 for i in range(1,11) if i %2 == 0}\n",
    "d"
   ]
  },
  {
   "cell_type": "code",
   "execution_count": 83,
   "id": "dfd5d6f9",
   "metadata": {},
   "outputs": [
    {
     "data": {
      "text/plain": [
       "{1: 1, 3: 27, 5: 125, 7: 343, 9: 729}"
      ]
     },
     "execution_count": 83,
     "metadata": {},
     "output_type": "execute_result"
    }
   ],
   "source": [
    "d_1 = {i:i**3 for i in range(1,11) if i %2 != 0}\n",
    "d_1"
   ]
  },
  {
   "cell_type": "code",
   "execution_count": 84,
   "id": "f22df04f",
   "metadata": {},
   "outputs": [],
   "source": [
    "d.update(d_1)"
   ]
  },
  {
   "cell_type": "code",
   "execution_count": 85,
   "id": "d211e053",
   "metadata": {},
   "outputs": [
    {
     "data": {
      "text/plain": [
       "{2: 4, 4: 16, 6: 36, 8: 64, 10: 100, 1: 1, 3: 27, 5: 125, 7: 343, 9: 729}"
      ]
     },
     "execution_count": 85,
     "metadata": {},
     "output_type": "execute_result"
    }
   ],
   "source": [
    "d"
   ]
  },
  {
   "cell_type": "code",
   "execution_count": 87,
   "id": "1976ca9e",
   "metadata": {
    "scrolled": true
   },
   "outputs": [
    {
     "data": {
      "text/plain": [
       "{1: 1, 3: 27, 5: 125, 7: 343, 9: 729, 2: 4, 4: 16, 6: 36, 8: 64, 10: 100}"
      ]
     },
     "execution_count": 87,
     "metadata": {},
     "output_type": "execute_result"
    }
   ],
   "source": [
    "d_1.update(d)\n",
    "d_1"
   ]
  },
  {
   "cell_type": "code",
   "execution_count": 88,
   "id": "1eefd135",
   "metadata": {},
   "outputs": [
    {
     "data": {
      "text/plain": [
       "{'name': 'ram', 'age': 26, 'salary': 20600, 'isworking': False}"
      ]
     },
     "execution_count": 88,
     "metadata": {},
     "output_type": "execute_result"
    }
   ],
   "source": [
    "dict_a = {'name':'shyam', 'age':25, 'salary':24000, 'isworking':True}\n",
    "dict_b = {'name':'ram', 'age':26, 'salary':20600, 'isworking':False}\n",
    "\n",
    "dict_a.update(dict_b)\n",
    "dict_a"
   ]
  },
  {
   "cell_type": "code",
   "execution_count": 89,
   "id": "1e06fc81",
   "metadata": {},
   "outputs": [
    {
     "data": {
      "text/plain": [
       "{'name': 'shyam', 'age': 25, 'salary': 24000, 'isworking': True}"
      ]
     },
     "execution_count": 89,
     "metadata": {},
     "output_type": "execute_result"
    }
   ],
   "source": [
    "dict_a = {'name':'shyam', 'age':25, 'salary':24000, 'isworking':True}\n",
    "dict_b = {'name':'ram', 'age':26, 'salary':20600, 'isworking':False}\n",
    "\n",
    "dict_b.update(dict_a)\n",
    "dict_b"
   ]
  },
  {
   "cell_type": "markdown",
   "id": "a5d6cbf1",
   "metadata": {},
   "source": [
    "### pop()\n",
    "\n",
    "- It returns the value at a specified key from the dictionary and it will remove the item at that particular key from the dictionary\n",
    "- For all the invalid key, it will raise an error\n",
    "\n",
    "    Syntax:\n",
    "        \n",
    "        dictionary_name.pop(key)"
   ]
  },
  {
   "cell_type": "code",
   "execution_count": 90,
   "id": "9f599b64",
   "metadata": {},
   "outputs": [
    {
     "data": {
      "text/plain": [
       "{2: 4, 4: 16, 6: 36, 8: 64, 10: 100, 1: 1, 3: 27, 5: 125, 7: 343, 9: 729}"
      ]
     },
     "execution_count": 90,
     "metadata": {},
     "output_type": "execute_result"
    }
   ],
   "source": [
    "d"
   ]
  },
  {
   "cell_type": "code",
   "execution_count": 91,
   "id": "ea71e7fe",
   "metadata": {},
   "outputs": [
    {
     "data": {
      "text/plain": [
       "343"
      ]
     },
     "execution_count": 91,
     "metadata": {},
     "output_type": "execute_result"
    }
   ],
   "source": [
    "d.pop(7)"
   ]
  },
  {
   "cell_type": "code",
   "execution_count": 92,
   "id": "f616b6c9",
   "metadata": {},
   "outputs": [
    {
     "data": {
      "text/plain": [
       "{2: 4, 4: 16, 6: 36, 8: 64, 10: 100, 1: 1, 3: 27, 5: 125, 9: 729}"
      ]
     },
     "execution_count": 92,
     "metadata": {},
     "output_type": "execute_result"
    }
   ],
   "source": [
    "d"
   ]
  },
  {
   "cell_type": "code",
   "execution_count": 93,
   "id": "87ce07df",
   "metadata": {},
   "outputs": [
    {
     "ename": "TypeError",
     "evalue": "pop expected at least 1 argument, got 0",
     "output_type": "error",
     "traceback": [
      "\u001b[1;31m---------------------------------------------------------------------------\u001b[0m",
      "\u001b[1;31mTypeError\u001b[0m                                 Traceback (most recent call last)",
      "Cell \u001b[1;32mIn[93], line 1\u001b[0m\n\u001b[1;32m----> 1\u001b[0m d\u001b[38;5;241m.\u001b[39mpop()\n",
      "\u001b[1;31mTypeError\u001b[0m: pop expected at least 1 argument, got 0"
     ]
    }
   ],
   "source": [
    "d.pop()"
   ]
  },
  {
   "cell_type": "code",
   "execution_count": 94,
   "id": "8323dc00",
   "metadata": {},
   "outputs": [
    {
     "data": {
      "text/plain": [
       "{2: 4, 4: 16, 6: 36, 8: 64, 10: 100, 1: 1, 3: 27, 5: 125, 9: 729}"
      ]
     },
     "execution_count": 94,
     "metadata": {},
     "output_type": "execute_result"
    }
   ],
   "source": [
    "d"
   ]
  },
  {
   "cell_type": "code",
   "execution_count": 95,
   "id": "449e401e",
   "metadata": {},
   "outputs": [
    {
     "ename": "KeyError",
     "evalue": "7",
     "output_type": "error",
     "traceback": [
      "\u001b[1;31m---------------------------------------------------------------------------\u001b[0m",
      "\u001b[1;31mKeyError\u001b[0m                                  Traceback (most recent call last)",
      "Cell \u001b[1;32mIn[95], line 1\u001b[0m\n\u001b[1;32m----> 1\u001b[0m d\u001b[38;5;241m.\u001b[39mpop(\u001b[38;5;241m7\u001b[39m)\n",
      "\u001b[1;31mKeyError\u001b[0m: 7"
     ]
    }
   ],
   "source": [
    "d.pop(7)"
   ]
  },
  {
   "cell_type": "markdown",
   "id": "8e5c651f",
   "metadata": {},
   "source": [
    "### popitem()\n",
    "\n",
    "- It returns the last element  and removes it from the dictionary"
   ]
  },
  {
   "cell_type": "code",
   "execution_count": 96,
   "id": "2d12c9b3",
   "metadata": {},
   "outputs": [
    {
     "data": {
      "text/plain": [
       "{1: 1, 2: 8, 3: 27, 4: 64, 5: 125, 6: 216, 7: 343, 8: 512, 9: 729, 10: 1000}"
      ]
     },
     "execution_count": 96,
     "metadata": {},
     "output_type": "execute_result"
    }
   ],
   "source": [
    "d = {i:i**3 for i in range(1,11)}\n",
    "d"
   ]
  },
  {
   "cell_type": "code",
   "execution_count": 97,
   "id": "14673458",
   "metadata": {},
   "outputs": [
    {
     "data": {
      "text/plain": [
       "(10, 1000)"
      ]
     },
     "execution_count": 97,
     "metadata": {},
     "output_type": "execute_result"
    }
   ],
   "source": [
    "d.popitem()"
   ]
  },
  {
   "cell_type": "code",
   "execution_count": 98,
   "id": "4a4a6d81",
   "metadata": {},
   "outputs": [
    {
     "data": {
      "text/plain": [
       "{1: 1, 2: 8, 3: 27, 4: 64, 5: 125, 6: 216, 7: 343, 8: 512, 9: 729}"
      ]
     },
     "execution_count": 98,
     "metadata": {},
     "output_type": "execute_result"
    }
   ],
   "source": [
    "d"
   ]
  },
  {
   "cell_type": "code",
   "execution_count": 99,
   "id": "7e39dfb0",
   "metadata": {},
   "outputs": [
    {
     "ename": "TypeError",
     "evalue": "dict.popitem() takes no arguments (1 given)",
     "output_type": "error",
     "traceback": [
      "\u001b[1;31m---------------------------------------------------------------------------\u001b[0m",
      "\u001b[1;31mTypeError\u001b[0m                                 Traceback (most recent call last)",
      "Cell \u001b[1;32mIn[99], line 1\u001b[0m\n\u001b[1;32m----> 1\u001b[0m d\u001b[38;5;241m.\u001b[39mpopitem(\u001b[38;5;241m7\u001b[39m)\n",
      "\u001b[1;31mTypeError\u001b[0m: dict.popitem() takes no arguments (1 given)"
     ]
    }
   ],
   "source": [
    "d.popitem(7)"
   ]
  },
  {
   "cell_type": "markdown",
   "id": "74fac5b6",
   "metadata": {},
   "source": [
    "### fromkeys()\n",
    "\n",
    "- It is used to assign a same value to multiple keys\n",
    "\n",
    "    Syntax:\n",
    "        \n",
    "        dict.fromkeys(iterable, value)\n",
    "        \n",
    "    __Note:__ \n",
    "        \n",
    "        - The iterable should be considered as keys"
   ]
  },
  {
   "cell_type": "code",
   "execution_count": 104,
   "id": "81b287da",
   "metadata": {},
   "outputs": [],
   "source": [
    "names = {'Rajesh', 'karan', 'aman', 'priya', 'abha', 'Rajesh'} # they will act as keys\n",
    "# {'Rajesh':'Learnbay', 'Karan':'Learnbay',.........}"
   ]
  },
  {
   "cell_type": "code",
   "execution_count": 105,
   "id": "3f9c789a",
   "metadata": {},
   "outputs": [
    {
     "data": {
      "text/plain": [
       "{'abha': 'Learnaby',\n",
       " 'karan': 'Learnaby',\n",
       " 'aman': 'Learnaby',\n",
       " 'priya': 'Learnaby',\n",
       " 'Rajesh': 'Learnaby'}"
      ]
     },
     "execution_count": 105,
     "metadata": {},
     "output_type": "execute_result"
    }
   ],
   "source": [
    "comp = dict.fromkeys(names, 'Learnaby')\n",
    "comp"
   ]
  },
  {
   "cell_type": "code",
   "execution_count": 102,
   "id": "0bdce7bf",
   "metadata": {},
   "outputs": [],
   "source": [
    "number = [1,2,3,4,5]"
   ]
  },
  {
   "cell_type": "code",
   "execution_count": 103,
   "id": "9bf25186",
   "metadata": {},
   "outputs": [
    {
     "data": {
      "text/plain": [
       "{1: '2', 2: '2', 3: '2', 4: '2', 5: '2'}"
      ]
     },
     "execution_count": 103,
     "metadata": {},
     "output_type": "execute_result"
    }
   ],
   "source": [
    "a = dict.fromkeys(number, '2')\n",
    "a"
   ]
  },
  {
   "cell_type": "markdown",
   "id": "def77afe",
   "metadata": {},
   "source": [
    "### get()\n",
    "\n",
    "- It takes a key as an argument and returns the value at that key\n",
    "- For an invalid key, it will return None\n",
    "\n",
    "    Syntax:\n",
    "    \n",
    "        dict_name.get(key)"
   ]
  },
  {
   "cell_type": "code",
   "execution_count": 106,
   "id": "f1a5131d",
   "metadata": {},
   "outputs": [
    {
     "data": {
      "text/plain": [
       "{'abha': 'Learnaby',\n",
       " 'karan': 'Learnaby',\n",
       " 'aman': 'Learnaby',\n",
       " 'priya': 'Learnaby',\n",
       " 'Rajesh': 'Learnaby'}"
      ]
     },
     "execution_count": 106,
     "metadata": {},
     "output_type": "execute_result"
    }
   ],
   "source": [
    "comp"
   ]
  },
  {
   "cell_type": "code",
   "execution_count": 107,
   "id": "506c3071",
   "metadata": {},
   "outputs": [
    {
     "data": {
      "text/plain": [
       "'Learnaby'"
      ]
     },
     "execution_count": 107,
     "metadata": {},
     "output_type": "execute_result"
    }
   ],
   "source": [
    "comp.get('abha')"
   ]
  },
  {
   "cell_type": "code",
   "execution_count": 108,
   "id": "10f57e22",
   "metadata": {},
   "outputs": [
    {
     "data": {
      "text/plain": [
       "{1: 1, 2: 8, 3: 27, 4: 64, 5: 125, 6: 216, 7: 343, 8: 512, 9: 729}"
      ]
     },
     "execution_count": 108,
     "metadata": {},
     "output_type": "execute_result"
    }
   ],
   "source": [
    "d"
   ]
  },
  {
   "cell_type": "code",
   "execution_count": 109,
   "id": "a3bc1626",
   "metadata": {},
   "outputs": [
    {
     "data": {
      "text/plain": [
       "512"
      ]
     },
     "execution_count": 109,
     "metadata": {},
     "output_type": "execute_result"
    }
   ],
   "source": [
    "d.get(8)"
   ]
  },
  {
   "cell_type": "code",
   "execution_count": 111,
   "id": "673ded7d",
   "metadata": {},
   "outputs": [
    {
     "name": "stdout",
     "output_type": "stream",
     "text": [
      "None\n"
     ]
    }
   ],
   "source": [
    "print(d.get(11))"
   ]
  },
  {
   "cell_type": "markdown",
   "id": "20e61449",
   "metadata": {},
   "source": [
    "### setdefaults()\n",
    "\n",
    "- It takes a key as an argument\n",
    "- If the key is already there, then it will return the value at that particular key\n",
    "- If the key is not there, then it creates one and assign None to that key\n",
    "- We can pass both the key and the value as well in the method and it will update the dictionary with the newly assigned values"
   ]
  },
  {
   "cell_type": "code",
   "execution_count": 112,
   "id": "4b4d5269",
   "metadata": {},
   "outputs": [
    {
     "data": {
      "text/plain": [
       "{'Rajesh', 'abha', 'aman', 'karan', 'priya'}"
      ]
     },
     "execution_count": 112,
     "metadata": {},
     "output_type": "execute_result"
    }
   ],
   "source": [
    "names"
   ]
  },
  {
   "cell_type": "code",
   "execution_count": 114,
   "id": "30de5581",
   "metadata": {},
   "outputs": [
    {
     "data": {
      "text/plain": [
       "['abha', 'karan', 'aman', 'priya', 'Rajesh']"
      ]
     },
     "execution_count": 114,
     "metadata": {},
     "output_type": "execute_result"
    }
   ],
   "source": [
    "names = list(names)\n",
    "names"
   ]
  },
  {
   "cell_type": "code",
   "execution_count": 115,
   "id": "f1ece9a3",
   "metadata": {},
   "outputs": [],
   "source": [
    "cities = ['Chennai', 'Goa', 'Pune', 'Noida', 'Mumbai']"
   ]
  },
  {
   "cell_type": "code",
   "execution_count": 116,
   "id": "ece982a0",
   "metadata": {},
   "outputs": [
    {
     "data": {
      "text/plain": [
       "{'abha': 'Chennai',\n",
       " 'karan': 'Goa',\n",
       " 'aman': 'Pune',\n",
       " 'priya': 'Noida',\n",
       " 'Rajesh': 'Mumbai'}"
      ]
     },
     "execution_count": 116,
     "metadata": {},
     "output_type": "execute_result"
    }
   ],
   "source": [
    "emp = dict(zip(names, cities))\n",
    "emp"
   ]
  },
  {
   "cell_type": "code",
   "execution_count": 117,
   "id": "594b61d2",
   "metadata": {},
   "outputs": [
    {
     "data": {
      "text/plain": [
       "'Chennai'"
      ]
     },
     "execution_count": 117,
     "metadata": {},
     "output_type": "execute_result"
    }
   ],
   "source": [
    "emp.setdefault('abha')"
   ]
  },
  {
   "cell_type": "code",
   "execution_count": 118,
   "id": "8df8039e",
   "metadata": {},
   "outputs": [
    {
     "data": {
      "text/plain": [
       "'Noida'"
      ]
     },
     "execution_count": 118,
     "metadata": {},
     "output_type": "execute_result"
    }
   ],
   "source": [
    "emp.setdefault('priya')"
   ]
  },
  {
   "cell_type": "code",
   "execution_count": 119,
   "id": "e1585c54",
   "metadata": {},
   "outputs": [],
   "source": [
    "emp.setdefault('mayank')"
   ]
  },
  {
   "cell_type": "code",
   "execution_count": 120,
   "id": "4a252c25",
   "metadata": {},
   "outputs": [
    {
     "data": {
      "text/plain": [
       "{'abha': 'Chennai',\n",
       " 'karan': 'Goa',\n",
       " 'aman': 'Pune',\n",
       " 'priya': 'Noida',\n",
       " 'Rajesh': 'Mumbai',\n",
       " 'mayank': None}"
      ]
     },
     "execution_count": 120,
     "metadata": {},
     "output_type": "execute_result"
    }
   ],
   "source": [
    "emp"
   ]
  },
  {
   "cell_type": "code",
   "execution_count": 121,
   "id": "80eb45e0",
   "metadata": {},
   "outputs": [
    {
     "data": {
      "text/plain": [
       "'Jalandhar'"
      ]
     },
     "execution_count": 121,
     "metadata": {},
     "output_type": "execute_result"
    }
   ],
   "source": [
    "emp.setdefault('Chandni', 'Jalandhar')"
   ]
  },
  {
   "cell_type": "code",
   "execution_count": 122,
   "id": "8b04dc1e",
   "metadata": {},
   "outputs": [
    {
     "data": {
      "text/plain": [
       "{'abha': 'Chennai',\n",
       " 'karan': 'Goa',\n",
       " 'aman': 'Pune',\n",
       " 'priya': 'Noida',\n",
       " 'Rajesh': 'Mumbai',\n",
       " 'mayank': None,\n",
       " 'Chandni': 'Jalandhar'}"
      ]
     },
     "execution_count": 122,
     "metadata": {},
     "output_type": "execute_result"
    }
   ],
   "source": [
    "emp"
   ]
  },
  {
   "cell_type": "markdown",
   "id": "cc271e1e",
   "metadata": {},
   "source": [
    "### clear()\n",
    "\n",
    "- It removes all the elements or items from the dictionary and makes the dictionary empty"
   ]
  },
  {
   "cell_type": "code",
   "execution_count": 123,
   "id": "6bf226c6",
   "metadata": {},
   "outputs": [
    {
     "data": {
      "text/plain": [
       "{'abha': 'Chennai',\n",
       " 'karan': 'Goa',\n",
       " 'aman': 'Pune',\n",
       " 'priya': 'Noida',\n",
       " 'Rajesh': 'Mumbai',\n",
       " 'mayank': None,\n",
       " 'Chandni': 'Jalandhar'}"
      ]
     },
     "execution_count": 123,
     "metadata": {},
     "output_type": "execute_result"
    }
   ],
   "source": [
    "emp"
   ]
  },
  {
   "cell_type": "code",
   "execution_count": 124,
   "id": "19f70361",
   "metadata": {},
   "outputs": [],
   "source": [
    "emp.clear()"
   ]
  },
  {
   "cell_type": "code",
   "execution_count": 125,
   "id": "2510a85f",
   "metadata": {},
   "outputs": [
    {
     "data": {
      "text/plain": [
       "{}"
      ]
     },
     "execution_count": 125,
     "metadata": {},
     "output_type": "execute_result"
    }
   ],
   "source": [
    "emp"
   ]
  },
  {
   "cell_type": "markdown",
   "id": "7278ea56",
   "metadata": {},
   "source": [
    "### copy()\n",
    "\n",
    "- It copies all the elements or items of a dictionary and creates a new dictionary "
   ]
  },
  {
   "cell_type": "code",
   "execution_count": 127,
   "id": "04c06420",
   "metadata": {},
   "outputs": [
    {
     "name": "stdout",
     "output_type": "stream",
     "text": [
      "{1: 1, 2: 4, 3: 9, 4: 16, 5: 25, 6: 36, 7: 49, 8: 64, 9: 81, 10: 100} 1600644329664\n"
     ]
    }
   ],
   "source": [
    "d = {i:i**2 for i in range(1,11)}\n",
    "print(d, id(d))"
   ]
  },
  {
   "cell_type": "code",
   "execution_count": 129,
   "id": "58b6fcfb",
   "metadata": {},
   "outputs": [
    {
     "name": "stdout",
     "output_type": "stream",
     "text": [
      "{1: 1, 2: 4, 3: 9, 4: 16, 5: 25, 6: 36, 7: 49, 8: 64, 9: 81, 10: 100} 1600644322176\n"
     ]
    }
   ],
   "source": [
    "d2 = d.copy()\n",
    "print(d2, id(d2))"
   ]
  },
  {
   "cell_type": "code",
   "execution_count": null,
   "id": "5272e966",
   "metadata": {},
   "outputs": [],
   "source": []
  }
 ],
 "metadata": {
  "kernelspec": {
   "display_name": "Python 3 (ipykernel)",
   "language": "python",
   "name": "python3"
  },
  "language_info": {
   "codemirror_mode": {
    "name": "ipython",
    "version": 3
   },
   "file_extension": ".py",
   "mimetype": "text/x-python",
   "name": "python",
   "nbconvert_exporter": "python",
   "pygments_lexer": "ipython3",
   "version": "3.11.5"
  }
 },
 "nbformat": 4,
 "nbformat_minor": 5
}
