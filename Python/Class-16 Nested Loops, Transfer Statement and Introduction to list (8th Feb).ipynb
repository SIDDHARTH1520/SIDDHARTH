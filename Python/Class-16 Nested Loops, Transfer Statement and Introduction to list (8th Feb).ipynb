{
 "cells": [
  {
   "cell_type": "markdown",
   "id": "2a0d2ef3",
   "metadata": {},
   "source": [
    "### Nested loops \n",
    "\n",
    "- A loop within a loop is known as a nested loop\n",
    "- When Inner loop completes all its iteration, then the outer loop iterates over to the next element\n",
    "\n",
    "\n",
    "    Syntax:\n",
    "    \n",
    "        for loop: # Outer loop\n",
    "            for loop: # Inner loop \n",
    "                code-1 \n",
    "                code-2 \n",
    "                code-3"
   ]
  },
  {
   "cell_type": "code",
   "execution_count": 1,
   "id": "ab3848b2",
   "metadata": {},
   "outputs": [
    {
     "name": "stdout",
     "output_type": "stream",
     "text": [
      "The value of i is 0 and the value of j is 0\n",
      "Hello\n",
      "-------------------------\n",
      "The value of i is 0 and the value of j is 1\n",
      "Hello\n",
      "-------------------------\n",
      "The value of i is 1 and the value of j is 0\n",
      "Hello\n",
      "-------------------------\n",
      "The value of i is 1 and the value of j is 1\n",
      "Hello\n",
      "-------------------------\n",
      "The value of i is 2 and the value of j is 0\n",
      "Hello\n",
      "-------------------------\n",
      "The value of i is 2 and the value of j is 1\n",
      "Hello\n",
      "-------------------------\n"
     ]
    }
   ],
   "source": [
    "for i in range(3): #(0,1,2)\n",
    "    for j in range(2): # (0,1)\n",
    "        print(f'The value of i is {i} and the value of j is {j}')\n",
    "        print('Hello')\n",
    "        print('-------------------------')"
   ]
  },
  {
   "cell_type": "code",
   "execution_count": 3,
   "id": "411b391f",
   "metadata": {},
   "outputs": [
    {
     "name": "stdout",
     "output_type": "stream",
     "text": [
      "The value of i is 0 and the value of j is 0\n",
      "Hello\n",
      "The value of i is 0 and the value of j is 1\n",
      "Hello\n",
      "The value of i is 0 and the value of j is 2\n",
      "Hello\n",
      "The value of i is 0 and the value of j is 3\n",
      "Hello\n",
      "The value of i is 0 and the value of j is 4\n",
      "Hello\n",
      "-------------------------\n",
      "The value of i is 1 and the value of j is 0\n",
      "Hello\n",
      "The value of i is 1 and the value of j is 1\n",
      "Hello\n",
      "The value of i is 1 and the value of j is 2\n",
      "Hello\n",
      "The value of i is 1 and the value of j is 3\n",
      "Hello\n",
      "The value of i is 1 and the value of j is 4\n",
      "Hello\n",
      "-------------------------\n",
      "The value of i is 2 and the value of j is 0\n",
      "Hello\n",
      "The value of i is 2 and the value of j is 1\n",
      "Hello\n",
      "The value of i is 2 and the value of j is 2\n",
      "Hello\n",
      "The value of i is 2 and the value of j is 3\n",
      "Hello\n",
      "The value of i is 2 and the value of j is 4\n",
      "Hello\n",
      "-------------------------\n"
     ]
    }
   ],
   "source": [
    "for i in range(3): #(0,1,2) \n",
    "    for j in range(5): # (0,1,2,3,4)\n",
    "        print(f'The value of i is {i} and the value of j is {j}')\n",
    "        print('Hello')\n",
    "    print('-------------------------')"
   ]
  },
  {
   "cell_type": "code",
   "execution_count": 6,
   "id": "2c0ba96b",
   "metadata": {},
   "outputs": [
    {
     "name": "stdout",
     "output_type": "stream",
     "text": [
      "The value of i is 0, the value of j is 0 and the value of k is 0\n",
      "The value of i is 0, the value of j is 0 and the value of k is 1\n",
      "The value of i is 0, the value of j is 0 and the value of k is 2\n",
      "The value of i is 0, the value of j is 0 and the value of k is 3\n",
      "--------------\n",
      "The value of i is 0, the value of j is 1 and the value of k is 0\n",
      "The value of i is 0, the value of j is 1 and the value of k is 1\n",
      "The value of i is 0, the value of j is 1 and the value of k is 2\n",
      "The value of i is 0, the value of j is 1 and the value of k is 3\n",
      "--------------\n",
      "The value of i is 0, the value of j is 2 and the value of k is 0\n",
      "The value of i is 0, the value of j is 2 and the value of k is 1\n",
      "The value of i is 0, the value of j is 2 and the value of k is 2\n",
      "The value of i is 0, the value of j is 2 and the value of k is 3\n",
      "--------------\n",
      "The value of i is 1, the value of j is 0 and the value of k is 0\n",
      "The value of i is 1, the value of j is 0 and the value of k is 1\n",
      "The value of i is 1, the value of j is 0 and the value of k is 2\n",
      "The value of i is 1, the value of j is 0 and the value of k is 3\n",
      "--------------\n",
      "The value of i is 1, the value of j is 1 and the value of k is 0\n",
      "The value of i is 1, the value of j is 1 and the value of k is 1\n",
      "The value of i is 1, the value of j is 1 and the value of k is 2\n",
      "The value of i is 1, the value of j is 1 and the value of k is 3\n",
      "--------------\n",
      "The value of i is 1, the value of j is 2 and the value of k is 0\n",
      "The value of i is 1, the value of j is 2 and the value of k is 1\n",
      "The value of i is 1, the value of j is 2 and the value of k is 2\n",
      "The value of i is 1, the value of j is 2 and the value of k is 3\n",
      "--------------\n"
     ]
    }
   ],
   "source": [
    "for i in range(2):\n",
    "    for j in range(3):\n",
    "        for k in range(4):\n",
    "            print(f'The value of i is {i}, the value of j is {j} and the value of k is {k}')\n",
    "        print('--------------')"
   ]
  },
  {
   "cell_type": "code",
   "execution_count": 7,
   "id": "63a0525c",
   "metadata": {},
   "outputs": [
    {
     "name": "stdout",
     "output_type": "stream",
     "text": [
      "0\n",
      "1\n"
     ]
    }
   ],
   "source": [
    "for i in range(2):\n",
    "    print(i)"
   ]
  },
  {
   "cell_type": "code",
   "execution_count": null,
   "id": "4dc6744a",
   "metadata": {},
   "outputs": [],
   "source": [
    "2-D matrix\n",
    "\n",
    "[[2,3,4\n",
    "  4,5,6\n",
    "  6,7,8]]\n",
    "\n",
    "3-D matrix \n",
    "Patterns --- Triangle pattern, diamond shape patter, "
   ]
  },
  {
   "cell_type": "markdown",
   "id": "bf749ddb",
   "metadata": {},
   "source": [
    "### Transfer Statement\n",
    "\n",
    "- These statements will transfer the control in some other direction \n",
    "\n",
    "#### Types of Transfer Statement \n",
    "    \n",
    "    - break \n",
    "    - continue "
   ]
  },
  {
   "cell_type": "markdown",
   "id": "2ecaa7c7",
   "metadata": {},
   "source": [
    "### Break Statement \n",
    "\n",
    "- It is used to break or terminate a loop (for loop and while loop)\n",
    "- As soon as the break statement gets encountered the contol or the flow comes out of the loop "
   ]
  },
  {
   "cell_type": "code",
   "execution_count": 9,
   "id": "baf555a7",
   "metadata": {},
   "outputs": [
    {
     "name": "stdout",
     "output_type": "stream",
     "text": [
      "1\n",
      "2\n",
      "3\n",
      "4\n",
      "Bye\n",
      "for loop gets terminated\n"
     ]
    }
   ],
   "source": [
    "for i in range(1,11): #(1,2,3,4,5,6,7,8,9,10)\n",
    "    if i == 5:\n",
    "        print('Bye')\n",
    "        break\n",
    "    else:\n",
    "        print(i)\n",
    "print('for loop gets terminated')"
   ]
  },
  {
   "cell_type": "code",
   "execution_count": 10,
   "id": "870efc22",
   "metadata": {},
   "outputs": [
    {
     "name": "stdout",
     "output_type": "stream",
     "text": [
      "1\n",
      "2\n",
      "3\n",
      "4\n",
      "Bye\n",
      "6\n",
      "7\n",
      "8\n",
      "9\n",
      "10\n",
      "for loop gets terminated\n"
     ]
    }
   ],
   "source": [
    "for i in range(1,11): #(1,2,3,4,5,6,7,8,9,10)\n",
    "    if i == 5:\n",
    "        print('Bye')\n",
    "        \n",
    "    else:\n",
    "        print(i)\n",
    "print('for loop gets terminated')"
   ]
  },
  {
   "cell_type": "code",
   "execution_count": 15,
   "id": "dd386962",
   "metadata": {},
   "outputs": [
    {
     "name": "stdout",
     "output_type": "stream",
     "text": [
      "The value of i is 0 and the value of j is 0\n",
      "Python\n",
      "---------------------\n",
      "The value of i is 1 and the value of j is 0\n",
      "Python\n",
      "---------------------\n",
      "The value of i is 2 and the value of j is 0\n",
      "Python\n",
      "---------------------\n",
      "The value of i is 3 and the value of j is 0\n",
      "Python\n",
      "---------------------\n"
     ]
    }
   ],
   "source": [
    "for i in range(4): #(0,1,2,3)\n",
    "    for j in range(3): #(0,1,2)\n",
    "        print(f'The value of i is {i} and the value of j is {j}')\n",
    "        print('Python')\n",
    "        break\n",
    "    print('---------------------')"
   ]
  },
  {
   "cell_type": "code",
   "execution_count": 14,
   "id": "e967d0a6",
   "metadata": {},
   "outputs": [
    {
     "name": "stdout",
     "output_type": "stream",
     "text": [
      "The value of i is 0 and the value of j is 0\n",
      "Python\n",
      "The value of i is 0 and the value of j is 1\n",
      "Python\n",
      "---------------------\n",
      "The value of i is 1 and the value of j is 0\n",
      "Python\n",
      "The value of i is 1 and the value of j is 1\n",
      "Python\n",
      "---------------------\n",
      "The value of i is 2 and the value of j is 0\n",
      "Python\n",
      "The value of i is 2 and the value of j is 1\n",
      "Python\n",
      "---------------------\n",
      "The value of i is 3 and the value of j is 0\n",
      "Python\n",
      "The value of i is 3 and the value of j is 1\n",
      "Python\n",
      "---------------------\n"
     ]
    }
   ],
   "source": [
    "for i in range(4): #(0,1,2,3)\n",
    "    for j in range(3): #(0,1,2)\n",
    "        print(f'The value of i is {i} and the value of j is {j}')\n",
    "        print('Python')\n",
    "        if j == 1:\n",
    "            break\n",
    "    print('---------------------')"
   ]
  },
  {
   "cell_type": "markdown",
   "id": "ba5e3980",
   "metadata": {},
   "source": [
    "### While loop:\n",
    "    "
   ]
  },
  {
   "cell_type": "code",
   "execution_count": 18,
   "id": "788e8979",
   "metadata": {},
   "outputs": [
    {
     "name": "stdout",
     "output_type": "stream",
     "text": [
      "0\n",
      "1\n",
      "2\n",
      "3\n",
      "4\n",
      "Bye\n",
      "for loop gets terminated\n"
     ]
    }
   ],
   "source": [
    "i = 0 \n",
    "\n",
    "while i<= 10:\n",
    "    if i == 5:\n",
    "        print('Bye')\n",
    "        break\n",
    "    else:\n",
    "        print(i)\n",
    "        i += 1  \n",
    "\n",
    "print('for loop gets terminated')"
   ]
  },
  {
   "cell_type": "markdown",
   "id": "ba39047c",
   "metadata": {},
   "source": [
    "### Continue \n",
    "\n",
    "- It is used to skip the current iteration of a loop \n",
    "- It does not terminates the loop, it only skips the current iteration \n",
    "- As soon as the continue statement gets executed, the control or the flow goes to the next iteration"
   ]
  },
  {
   "cell_type": "markdown",
   "id": "60ea736f",
   "metadata": {},
   "source": [
    "### for Loop"
   ]
  },
  {
   "cell_type": "code",
   "execution_count": 20,
   "id": "328eee33",
   "metadata": {},
   "outputs": [
    {
     "name": "stdout",
     "output_type": "stream",
     "text": [
      "1\n",
      "2\n",
      "3\n",
      "4\n",
      "continue to the next iteration\n",
      "6\n",
      "7\n",
      "8\n",
      "9\n",
      "10\n"
     ]
    }
   ],
   "source": [
    "for i in range(1,11):\n",
    "    if i == 5:\n",
    "        print('continue to the next iteration')\n",
    "#         continue\n",
    "    else:\n",
    "        print(i)"
   ]
  },
  {
   "cell_type": "markdown",
   "id": "f702783c",
   "metadata": {},
   "source": [
    "### While Loop \n",
    "\n"
   ]
  },
  {
   "cell_type": "code",
   "execution_count": 30,
   "id": "88f54ec7",
   "metadata": {},
   "outputs": [
    {
     "name": "stdout",
     "output_type": "stream",
     "text": [
      "0\n",
      "1\n",
      "2\n",
      "3\n",
      "4\n",
      "5\n",
      "6\n",
      "7\n",
      "8\n",
      "9\n",
      "10\n"
     ]
    }
   ],
   "source": [
    "i = 0\n",
    "\n",
    "while i <=10:\n",
    "    print(i)\n",
    "    i += 1"
   ]
  },
  {
   "cell_type": "code",
   "execution_count": 27,
   "id": "1fde3773",
   "metadata": {},
   "outputs": [
    {
     "name": "stdout",
     "output_type": "stream",
     "text": [
      "1\n",
      "2\n",
      "3\n",
      "4\n",
      "6\n",
      "7\n",
      "8\n",
      "9\n",
      "10\n",
      "11\n"
     ]
    }
   ],
   "source": [
    "i = 0\n",
    "\n",
    "while i <= 10:\n",
    "    i = i +1\n",
    "    if i == 5:\n",
    "        continue\n",
    "    print(i)"
   ]
  },
  {
   "cell_type": "code",
   "execution_count": 32,
   "id": "ccb92b87",
   "metadata": {},
   "outputs": [
    {
     "name": "stdout",
     "output_type": "stream",
     "text": [
      "1\n",
      "2\n",
      "3\n",
      "4\n"
     ]
    },
    {
     "ename": "KeyboardInterrupt",
     "evalue": "",
     "output_type": "error",
     "traceback": [
      "\u001b[1;31m---------------------------------------------------------------------------\u001b[0m",
      "\u001b[1;31mKeyboardInterrupt\u001b[0m                         Traceback (most recent call last)",
      "Cell \u001b[1;32mIn[32], line 6\u001b[0m\n\u001b[0;32m      3\u001b[0m \u001b[38;5;28;01mwhile\u001b[39;00m i \u001b[38;5;241m<\u001b[39m\u001b[38;5;241m=\u001b[39m \u001b[38;5;241m10\u001b[39m:\n\u001b[0;32m      5\u001b[0m     \u001b[38;5;28;01mif\u001b[39;00m i \u001b[38;5;241m==\u001b[39m \u001b[38;5;241m5\u001b[39m:\n\u001b[1;32m----> 6\u001b[0m         \u001b[38;5;28;01mcontinue\u001b[39;00m\n\u001b[0;32m      7\u001b[0m     \u001b[38;5;28mprint\u001b[39m(i)\n\u001b[0;32m      8\u001b[0m     i \u001b[38;5;241m=\u001b[39m i \u001b[38;5;241m+\u001b[39m\u001b[38;5;241m1\u001b[39m\n",
      "\u001b[1;31mKeyboardInterrupt\u001b[0m: "
     ]
    }
   ],
   "source": [
    "i = 1\n",
    "\n",
    "while i <= 10:\n",
    "    \n",
    "    if i == 5:\n",
    "        continue\n",
    "    print(i)\n",
    "    i = i +1"
   ]
  },
  {
   "cell_type": "markdown",
   "id": "8e0d18d1",
   "metadata": {},
   "source": [
    "### pass \n",
    "\n",
    "- A pass statement is used as a place holder for a time being and is majorly used when we are not sure about the  functionality we are going to use but it can be added lately, \n",
    "- It is a place holder so that my code should become syntatically correct "
   ]
  },
  {
   "cell_type": "code",
   "execution_count": 41,
   "id": "a04777f3",
   "metadata": {},
   "outputs": [
    {
     "ename": "SyntaxError",
     "evalue": "incomplete input (2060523722.py, line 5)",
     "output_type": "error",
     "traceback": [
      "\u001b[1;36m  Cell \u001b[1;32mIn[41], line 5\u001b[1;36m\u001b[0m\n\u001b[1;33m    \u001b[0m\n\u001b[1;37m    ^\u001b[0m\n\u001b[1;31mSyntaxError\u001b[0m\u001b[1;31m:\u001b[0m incomplete input\n"
     ]
    }
   ],
   "source": [
    "for i in range(11):\n",
    "    if i %2 == 0:\n",
    "        print(i)\n",
    "    else:\n",
    "        "
   ]
  },
  {
   "cell_type": "code",
   "execution_count": 35,
   "id": "f9394f3b",
   "metadata": {},
   "outputs": [
    {
     "name": "stdout",
     "output_type": "stream",
     "text": [
      "0\n",
      "2\n",
      "4\n",
      "6\n",
      "8\n",
      "10\n"
     ]
    }
   ],
   "source": [
    "for i in range(11):\n",
    "    if i %2 == 0:\n",
    "        print(i)\n",
    "    else:\n",
    "        pass"
   ]
  },
  {
   "cell_type": "code",
   "execution_count": 37,
   "id": "5a35e692",
   "metadata": {},
   "outputs": [
    {
     "name": "stdout",
     "output_type": "stream",
     "text": [
      "0\n",
      "1\n",
      "2\n",
      "3\n",
      "4\n",
      "5\n",
      "6\n",
      "7\n",
      "8\n",
      "9\n",
      "10\n"
     ]
    }
   ],
   "source": [
    "for i in range(11):\n",
    "    \n",
    "    if i == 5:\n",
    "        pass\n",
    "    print(i)"
   ]
  },
  {
   "cell_type": "code",
   "execution_count": 38,
   "id": "cd2e2e50",
   "metadata": {},
   "outputs": [
    {
     "name": "stdout",
     "output_type": "stream",
     "text": [
      "0\n",
      "1\n",
      "2\n",
      "3\n",
      "4\n",
      "6\n",
      "7\n",
      "8\n",
      "9\n",
      "10\n"
     ]
    }
   ],
   "source": [
    "for i in range(11):\n",
    "    \n",
    "    if i == 5:\n",
    "        continue\n",
    "    print(i)"
   ]
  },
  {
   "cell_type": "code",
   "execution_count": 39,
   "id": "d4adde69",
   "metadata": {
    "scrolled": true
   },
   "outputs": [
    {
     "name": "stdout",
     "output_type": "stream",
     "text": [
      "0\n",
      "1\n",
      "2\n",
      "3\n",
      "4\n"
     ]
    }
   ],
   "source": [
    "for i in range(11):\n",
    "    \n",
    "    if i == 5:\n",
    "        break\n",
    "    print(i)"
   ]
  },
  {
   "cell_type": "code",
   "execution_count": 43,
   "id": "88211154",
   "metadata": {},
   "outputs": [
    {
     "name": "stdout",
     "output_type": "stream",
     "text": [
      "1\n",
      "4\n",
      "27\n",
      "16\n",
      "125\n",
      "36\n",
      "343\n",
      "64\n",
      "729\n",
      "100\n"
     ]
    }
   ],
   "source": [
    "for i in range(11):\n",
    "    if i == 0:\n",
    "        continue\n",
    "    elif i %2 == 0:\n",
    "        print(i**2)\n",
    "    else:\n",
    "        print(i**3)"
   ]
  },
  {
   "cell_type": "code",
   "execution_count": null,
   "id": "f0be7ed4",
   "metadata": {},
   "outputs": [],
   "source": [
    "Operators\n",
    "# Strings\n",
    "Conditional Statements \n",
    "loops "
   ]
  },
  {
   "cell_type": "markdown",
   "id": "9e5d3326",
   "metadata": {},
   "source": [
    "### List \n",
    "\n",
    "- Anything written inside the square paranthese [.....] is a list\n",
    "- A comma (,) is used to seperate the elements from one another\n",
    "- A list is a container datatype that can contain multiple elements (same type or different type)\n",
    "- A list can contain heterogenous element (different types) of elements\n",
    "- A list can have duplicate values in it \n",
    "- A list is a mutable datatype that means we can change or alter the elements inside the list"
   ]
  },
  {
   "cell_type": "code",
   "execution_count": 49,
   "id": "b10d8f80",
   "metadata": {},
   "outputs": [
    {
     "name": "stdout",
     "output_type": "stream",
     "text": [
      "[1, 2, 3, 4, 5, 1, 2, 3, 4] <class 'list'>\n"
     ]
    }
   ],
   "source": [
    "lst = [1,2,3,4,5,1,2,3,4] # homogenous values\n",
    "print(lst, type(lst))"
   ]
  },
  {
   "cell_type": "code",
   "execution_count": 50,
   "id": "ef3dfb84",
   "metadata": {},
   "outputs": [
    {
     "name": "stdout",
     "output_type": "stream",
     "text": [
      "1 <class 'int'>\n",
      "2 <class 'int'>\n",
      "3 <class 'int'>\n",
      "4 <class 'int'>\n",
      "5 <class 'int'>\n",
      "1 <class 'int'>\n",
      "2 <class 'int'>\n",
      "3 <class 'int'>\n",
      "4 <class 'int'>\n"
     ]
    }
   ],
   "source": [
    "for i in lst:\n",
    "    print(i ,type(i))"
   ]
  },
  {
   "cell_type": "code",
   "execution_count": 54,
   "id": "cd67101a",
   "metadata": {},
   "outputs": [
    {
     "name": "stdout",
     "output_type": "stream",
     "text": [
      "[1, 2.0, (3+3j), True, 'python', None, range(0, 5), [1, 2, 3], (1, 2, 3), {1: 100, 2: 200}, 'python', None, range(0, 5)] <class 'list'>\n",
      "1876973524032\n",
      "----------------------------------------------\n",
      "1 <class 'int'>\n",
      "2.0 <class 'float'>\n",
      "(3+3j) <class 'complex'>\n",
      "True <class 'bool'>\n",
      "python <class 'str'>\n",
      "None <class 'NoneType'>\n",
      "range(0, 5) <class 'range'>\n",
      "[1, 2, 3] <class 'list'>\n",
      "(1, 2, 3) <class 'tuple'>\n",
      "{1: 100, 2: 200} <class 'dict'>\n",
      "python <class 'str'>\n",
      "None <class 'NoneType'>\n",
      "range(0, 5) <class 'range'>\n"
     ]
    }
   ],
   "source": [
    "lst = [1,2.0, 3+3j, True, \"python\", None, range(5), [1,2,3], (1,2,3), {1:100, 2:200}, \"python\", None, range(5)]\n",
    "print(lst, type(lst))\n",
    "print(id(lst))\n",
    "\n",
    "print('----------------------------------------------')\n",
    "for i in lst:\n",
    "    print(i, type(i))"
   ]
  },
  {
   "cell_type": "code",
   "execution_count": 52,
   "id": "747d2865",
   "metadata": {},
   "outputs": [
    {
     "data": {
      "text/plain": [
       "[1,\n",
       " 2.0,\n",
       " (3+3j),\n",
       " True,\n",
       " 'python',\n",
       " None,\n",
       " range(0, 5),\n",
       " [1, 2, 3],\n",
       " (1, 2, 3),\n",
       " {1: 100, 2: 200},\n",
       " 'python',\n",
       " None,\n",
       " range(0, 5)]"
      ]
     },
     "execution_count": 52,
     "metadata": {},
     "output_type": "execute_result"
    }
   ],
   "source": [
    "lst"
   ]
  },
  {
   "cell_type": "code",
   "execution_count": 55,
   "id": "ef9d9edf",
   "metadata": {},
   "outputs": [
    {
     "name": "stdout",
     "output_type": "stream",
     "text": [
      "[100, 2.0, (3+3j), True, 'python', None, range(0, 5), [1, 2, 3], (1, 2, 3), {1: 100, 2: 200}, 'python', None, range(0, 5)]\n",
      "1876973524032\n"
     ]
    }
   ],
   "source": [
    "lst[0] = 100\n",
    "print(lst)\n",
    "print(id(lst))"
   ]
  },
  {
   "cell_type": "markdown",
   "id": "d4f7e73c",
   "metadata": {},
   "source": [
    "### Operations On List \n",
    "\n",
    "- Length\n",
    "- concatenation\n",
    "- repetition\n",
    "- Indexing and Slicing"
   ]
  },
  {
   "cell_type": "markdown",
   "id": "282a7837",
   "metadata": {},
   "source": [
    "### Length \n"
   ]
  },
  {
   "cell_type": "code",
   "execution_count": 56,
   "id": "baac6562",
   "metadata": {},
   "outputs": [
    {
     "data": {
      "text/plain": [
       "[100,\n",
       " 2.0,\n",
       " (3+3j),\n",
       " True,\n",
       " 'python',\n",
       " None,\n",
       " range(0, 5),\n",
       " [1, 2, 3],\n",
       " (1, 2, 3),\n",
       " {1: 100, 2: 200},\n",
       " 'python',\n",
       " None,\n",
       " range(0, 5)]"
      ]
     },
     "execution_count": 56,
     "metadata": {},
     "output_type": "execute_result"
    }
   ],
   "source": [
    "lst"
   ]
  },
  {
   "cell_type": "code",
   "execution_count": 57,
   "id": "a12f71e2",
   "metadata": {},
   "outputs": [
    {
     "data": {
      "text/plain": [
       "13"
      ]
     },
     "execution_count": 57,
     "metadata": {},
     "output_type": "execute_result"
    }
   ],
   "source": [
    "len(lst)"
   ]
  },
  {
   "cell_type": "markdown",
   "id": "111d00b1",
   "metadata": {},
   "source": [
    "### Concatenation \n",
    "\n",
    "- Joining two or more list together \n",
    "- (+) operator is used to concatenate the two list together \n",
    "- __Note:__ Only a list can be concatenated with another list"
   ]
  },
  {
   "cell_type": "code",
   "execution_count": 58,
   "id": "9501400d",
   "metadata": {},
   "outputs": [
    {
     "ename": "TypeError",
     "evalue": "can only concatenate list (not \"int\") to list",
     "output_type": "error",
     "traceback": [
      "\u001b[1;31m---------------------------------------------------------------------------\u001b[0m",
      "\u001b[1;31mTypeError\u001b[0m                                 Traceback (most recent call last)",
      "Cell \u001b[1;32mIn[58], line 1\u001b[0m\n\u001b[1;32m----> 1\u001b[0m lst \u001b[38;5;241m+\u001b[39m \u001b[38;5;241m1\u001b[39m\n",
      "\u001b[1;31mTypeError\u001b[0m: can only concatenate list (not \"int\") to list"
     ]
    }
   ],
   "source": [
    "lst + 1"
   ]
  },
  {
   "cell_type": "code",
   "execution_count": 59,
   "id": "8e42e484",
   "metadata": {},
   "outputs": [
    {
     "data": {
      "text/plain": [
       "[100,\n",
       " 2.0,\n",
       " (3+3j),\n",
       " True,\n",
       " 'python',\n",
       " None,\n",
       " range(0, 5),\n",
       " [1, 2, 3],\n",
       " (1, 2, 3),\n",
       " {1: 100, 2: 200},\n",
       " 'python',\n",
       " None,\n",
       " range(0, 5),\n",
       " 1,\n",
       " 2,\n",
       " 3,\n",
       " 4,\n",
       " 5]"
      ]
     },
     "execution_count": 59,
     "metadata": {},
     "output_type": "execute_result"
    }
   ],
   "source": [
    "lst + [1,2,3,4,5]"
   ]
  },
  {
   "cell_type": "markdown",
   "id": "c41c0dc2",
   "metadata": {},
   "source": [
    "### Repetition \n",
    "\n",
    "- (*) operator is to perform repetition of a list"
   ]
  },
  {
   "cell_type": "code",
   "execution_count": 60,
   "id": "11dd2a63",
   "metadata": {},
   "outputs": [
    {
     "data": {
      "text/plain": [
       "[1, 2, 3, 1, 2, 3, 1, 2, 3, 1, 2, 3]"
      ]
     },
     "execution_count": 60,
     "metadata": {},
     "output_type": "execute_result"
    }
   ],
   "source": [
    "lst = [1,2,3]\n",
    "lst*4"
   ]
  },
  {
   "cell_type": "markdown",
   "id": "6afc7567",
   "metadata": {},
   "source": [
    "### Indexing and Slicing\n",
    "\n",
    "#### Indexing\n",
    "\n",
    "- A list is an ordered collection of a datatype because each element in a list is stored at a particular index\n",
    "- A list is also known as a sequence datatype because it follows indexing\n",
    "- It follow both +ve as well -ve indexing"
   ]
  },
  {
   "cell_type": "code",
   "execution_count": 63,
   "id": "6aec1aba",
   "metadata": {},
   "outputs": [
    {
     "data": {
      "text/plain": [
       "[1, 2, 3, 4, 5]"
      ]
     },
     "execution_count": 63,
     "metadata": {},
     "output_type": "execute_result"
    }
   ],
   "source": [
    "lst = [1,2,3,4,5]\n",
    "lst"
   ]
  },
  {
   "cell_type": "code",
   "execution_count": 64,
   "id": "84dead7e",
   "metadata": {},
   "outputs": [
    {
     "data": {
      "text/plain": [
       "1"
      ]
     },
     "execution_count": 64,
     "metadata": {},
     "output_type": "execute_result"
    }
   ],
   "source": [
    "lst[0]"
   ]
  },
  {
   "cell_type": "code",
   "execution_count": 65,
   "id": "f5ba4740",
   "metadata": {},
   "outputs": [
    {
     "data": {
      "text/plain": [
       "5"
      ]
     },
     "execution_count": 65,
     "metadata": {},
     "output_type": "execute_result"
    }
   ],
   "source": [
    "lst[4]"
   ]
  },
  {
   "cell_type": "code",
   "execution_count": 66,
   "id": "019485ea",
   "metadata": {},
   "outputs": [
    {
     "ename": "IndexError",
     "evalue": "list index out of range",
     "output_type": "error",
     "traceback": [
      "\u001b[1;31m---------------------------------------------------------------------------\u001b[0m",
      "\u001b[1;31mIndexError\u001b[0m                                Traceback (most recent call last)",
      "Cell \u001b[1;32mIn[66], line 1\u001b[0m\n\u001b[1;32m----> 1\u001b[0m lst[\u001b[38;5;241m6\u001b[39m]\n",
      "\u001b[1;31mIndexError\u001b[0m: list index out of range"
     ]
    }
   ],
   "source": [
    "lst[6]"
   ]
  },
  {
   "cell_type": "markdown",
   "id": "938930d9",
   "metadata": {},
   "source": [
    "### Positive indexing (+ve)\n",
    "\n",
    "- It will start from left to right\n",
    "- By default, It will start from 0th index\n",
    "- The index of the last element will be len(lst)-1"
   ]
  },
  {
   "cell_type": "code",
   "execution_count": 67,
   "id": "9b2c014a",
   "metadata": {},
   "outputs": [
    {
     "data": {
      "text/plain": [
       "1"
      ]
     },
     "execution_count": 67,
     "metadata": {},
     "output_type": "execute_result"
    }
   ],
   "source": [
    "lst[0]"
   ]
  },
  {
   "cell_type": "code",
   "execution_count": 68,
   "id": "f875bed0",
   "metadata": {},
   "outputs": [
    {
     "data": {
      "text/plain": [
       "3"
      ]
     },
     "execution_count": 68,
     "metadata": {},
     "output_type": "execute_result"
    }
   ],
   "source": [
    "lst[2]"
   ]
  },
  {
   "cell_type": "markdown",
   "id": "1c327316",
   "metadata": {},
   "source": [
    "### Negative Indexing\n",
    "\n",
    "- It will start from right to left\n",
    "- By default, the index will start from -1\n",
    "- The index of the last element will be -len(lst)"
   ]
  },
  {
   "cell_type": "code",
   "execution_count": 69,
   "id": "a61846c3",
   "metadata": {},
   "outputs": [
    {
     "data": {
      "text/plain": [
       "[1, 2, 3, 4, 5]"
      ]
     },
     "execution_count": 69,
     "metadata": {},
     "output_type": "execute_result"
    }
   ],
   "source": [
    "lst"
   ]
  },
  {
   "cell_type": "code",
   "execution_count": 70,
   "id": "1a82d4c8",
   "metadata": {},
   "outputs": [
    {
     "data": {
      "text/plain": [
       "5"
      ]
     },
     "execution_count": 70,
     "metadata": {},
     "output_type": "execute_result"
    }
   ],
   "source": [
    "lst[-1]"
   ]
  },
  {
   "cell_type": "code",
   "execution_count": 71,
   "id": "63de97d8",
   "metadata": {},
   "outputs": [
    {
     "data": {
      "text/plain": [
       "1"
      ]
     },
     "execution_count": 71,
     "metadata": {},
     "output_type": "execute_result"
    }
   ],
   "source": [
    "lst[-5]"
   ]
  },
  {
   "cell_type": "code",
   "execution_count": 72,
   "id": "52ba2650",
   "metadata": {},
   "outputs": [
    {
     "ename": "IndexError",
     "evalue": "list index out of range",
     "output_type": "error",
     "traceback": [
      "\u001b[1;31m---------------------------------------------------------------------------\u001b[0m",
      "\u001b[1;31mIndexError\u001b[0m                                Traceback (most recent call last)",
      "Cell \u001b[1;32mIn[72], line 1\u001b[0m\n\u001b[1;32m----> 1\u001b[0m lst[\u001b[38;5;241m-\u001b[39m\u001b[38;5;241m6\u001b[39m]\n",
      "\u001b[1;31mIndexError\u001b[0m: list index out of range"
     ]
    }
   ],
   "source": [
    "lst[-6]"
   ]
  },
  {
   "cell_type": "code",
   "execution_count": null,
   "id": "526f85cf",
   "metadata": {},
   "outputs": [],
   "source": []
  }
 ],
 "metadata": {
  "kernelspec": {
   "display_name": "Python 3 (ipykernel)",
   "language": "python",
   "name": "python3"
  },
  "language_info": {
   "codemirror_mode": {
    "name": "ipython",
    "version": 3
   },
   "file_extension": ".py",
   "mimetype": "text/x-python",
   "name": "python",
   "nbconvert_exporter": "python",
   "pygments_lexer": "ipython3",
   "version": "3.11.5"
  }
 },
 "nbformat": 4,
 "nbformat_minor": 5
}
